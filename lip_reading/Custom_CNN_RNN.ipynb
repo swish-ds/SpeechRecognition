{
 "cells": [
  {
   "cell_type": "code",
   "execution_count": 1,
   "metadata": {},
   "outputs": [
    {
     "name": "stderr",
     "output_type": "stream",
     "text": [
      "Using TensorFlow backend.\n"
     ]
    }
   ],
   "source": [
    "from imutils.video import VideoStream\n",
    "from imutils import face_utils\n",
    "import datetime\n",
    "import argparse\n",
    "import imutils\n",
    "import time\n",
    "import dlib\n",
    "import cv2\n",
    "import glob\n",
    "import sys\n",
    "import os\n",
    "import shutil \n",
    "import math\n",
    "import numpy as np\n",
    "from tqdm import tqdm\n",
    "\n",
    "from skimage.transform import resize\n",
    "from sklearn.model_selection import train_test_split\n",
    "from scipy import stats as s\n",
    "\n",
    "import keras\n",
    "from keras.models import Sequential\n",
    "from keras.applications.vgg16 import VGG16, preprocess_input\n",
    "from keras.applications.mobilenet import MobileNet, preprocess_input\n",
    "from keras.applications.inception_v3 import InceptionV3, preprocess_input\n",
    "from keras.applications.resnet50 import ResNet50, preprocess_input\n",
    "from keras.applications.xception import Xception, preprocess_input\n",
    "from keras.applications.mobilenet_v2 import MobileNetV2, preprocess_input\n",
    "from keras.layers import Dense, InputLayer, Dropout, Flatten, Activation, GRU, Conv1D, Conv3D, MaxPooling3D\n",
    "from keras.layers import Conv2D, MaxPooling2D, MaxPooling1D, GlobalMaxPooling2D, Convolution2D, ZeroPadding2D, Bidirectional, TimeDistributed\n",
    "from keras.layers.recurrent import LSTM\n",
    "from keras.utils import np_utils\n",
    "from keras.preprocessing import image, sequence\n",
    "from keras.callbacks import ModelCheckpoint\n",
    "\n",
    "\n",
    "#from keras.preprocessing.image import ImageDataGenerator\n",
    "from keras.regularizers import l2\n",
    "from keras import optimizers\n",
    "\n",
    "import pandas as pd\n",
    "import matplotlib.pyplot as plt\n",
    "%matplotlib inline"
   ]
  },
  {
   "cell_type": "code",
   "execution_count": 2,
   "metadata": {},
   "outputs": [],
   "source": [
    "predictor_path = 'shape_predictor_68_face_landmarks.dat'\n",
    "\n",
    "detector = dlib.get_frontal_face_detector()\n",
    "predictor = dlib.shape_predictor(predictor_path)"
   ]
  },
  {
   "cell_type": "code",
   "execution_count": 3,
   "metadata": {},
   "outputs": [
    {
     "name": "stdout",
     "output_type": "stream",
     "text": [
      "['F01', 'F02', 'F04', 'F05', 'F06', 'F07', 'F08', 'F09', 'M01', 'M04']\n",
      "['F10', 'M07']\n",
      "['F11', 'M08']\n",
      "['01', '02', '03', '04', '05', '06', '07', '08', '09', '10']\n",
      "['01', '02', '03', '04', '05', '06', '07', '08', '09', '10']\n"
     ]
    }
   ],
   "source": [
    "train_people = 'F01, F02, F04, F05, F06, F07, F08, F09, M01, M04'.split(', ')\n",
    "val_people = 'F10, M07'.split(', ')\n",
    "test_people = 'F11, M08'.split(', ')\n",
    "print(train_people)\n",
    "print(val_people)\n",
    "print(test_people)\n",
    "\n",
    "classes = ['0'+str(i) if i < 10 else str(i) for i in range(1, 11) ]\n",
    "print(classes)\n",
    "word_ids = ['0'+str(i) if i < 10 else str(i) for i in range(1, 11) ]\n",
    "print(word_ids)"
   ]
  },
  {
   "cell_type": "code",
   "execution_count": 4,
   "metadata": {},
   "outputs": [
    {
     "name": "stderr",
     "output_type": "stream",
     "text": [
      "100%|██████████| 10/10 [00:56<00:00,  5.62s/it]\n",
      "100%|██████████| 10/10 [00:54<00:00,  5.49s/it]\n",
      "100%|██████████| 10/10 [00:57<00:00,  5.76s/it]\n",
      "100%|██████████| 10/10 [01:04<00:00,  6.46s/it]\n",
      "100%|██████████| 10/10 [00:48<00:00,  4.83s/it]\n",
      "100%|██████████| 10/10 [00:58<00:00,  5.88s/it]\n",
      "100%|██████████| 10/10 [00:53<00:00,  5.31s/it]\n",
      "100%|██████████| 10/10 [00:52<00:00,  5.29s/it]\n",
      "100%|██████████| 10/10 [00:59<00:00,  5.97s/it]\n",
      "100%|██████████| 10/10 [00:57<00:00,  5.79s/it]\n"
     ]
    }
   ],
   "source": [
    "files = glob.glob('train_MIRACL/*')\n",
    "for file_rem in files:\n",
    "    os.remove(file_rem)\n",
    "\n",
    "counter = 0\n",
    "for classi in classes:\n",
    "    for person in tqdm(train_people):\n",
    "        for word_id in word_ids:\n",
    "            for f in sorted(glob.glob(os.path.join('MIRACL/'+person+'/words/'+classi+'/'+ word_id, \"*.jpg\"))):\n",
    "                img = cv2.imread(f, 1)\n",
    "                gray = cv2.cvtColor(img, cv2.COLOR_BGR2GRAY)\n",
    "                rects = detector(gray, 0)\n",
    "                \n",
    "                for k, rect in enumerate(rects):\n",
    "                    x1 = rect.left()\n",
    "                    y1 = rect.top()\n",
    "                    x2 = rect.right()\n",
    "                    y2 = rect.bottom()\n",
    "                    \n",
    "                    offset_x = (128-(abs(x1-x2)))/2\n",
    "                    offset_y = (128-(abs(y1-y2)))/2\n",
    "                    \n",
    "                    img = img[int(y1-offset_y):int(y2+offset_y), int(x1-offset_x):int(x2+offset_x)]\n",
    "                \n",
    "                counter += 1\n",
    "                \n",
    "                cv2.imwrite('train_MIRACL/' + classi + '_' \n",
    "                            + person + '_' \n",
    "                            + word_id + '_' \n",
    "                            + 'frame' + f[29:-4] + '.jpg', img)"
   ]
  },
  {
   "cell_type": "code",
   "execution_count": 5,
   "metadata": {},
   "outputs": [
    {
     "name": "stderr",
     "output_type": "stream",
     "text": [
      "100%|██████████| 2/2 [00:12<00:00,  6.25s/it]\n",
      "100%|██████████| 2/2 [00:16<00:00,  8.26s/it]\n",
      "100%|██████████| 2/2 [00:16<00:00,  8.19s/it]\n",
      "100%|██████████| 2/2 [00:14<00:00,  7.04s/it]\n",
      "100%|██████████| 2/2 [00:08<00:00,  4.09s/it]\n",
      "100%|██████████| 2/2 [00:10<00:00,  5.27s/it]\n",
      "100%|██████████| 2/2 [00:07<00:00,  3.93s/it]\n",
      "100%|██████████| 2/2 [00:08<00:00,  4.13s/it]\n",
      "100%|██████████| 2/2 [00:08<00:00,  4.23s/it]\n",
      "100%|██████████| 2/2 [00:07<00:00,  3.78s/it]\n"
     ]
    }
   ],
   "source": [
    "files = glob.glob('val_MIRACL/*')\n",
    "for file_rem in files:\n",
    "    os.remove(file_rem)\n",
    "\n",
    "counter = 0\n",
    "for classi in classes:\n",
    "    for person in tqdm(val_people):\n",
    "        for word_id in word_ids:\n",
    "            for f in sorted(glob.glob(os.path.join('MIRACL/'+person+'/words/'+classi+'/'+ word_id, \"*.jpg\"))):\n",
    "                img = cv2.imread(f, 1)\n",
    "                gray = cv2.cvtColor(img, cv2.COLOR_BGR2GRAY)\n",
    "                rects = detector(gray, 0)\n",
    "                \n",
    "                for k, rect in enumerate(rects):\n",
    "                    x1 = rect.left()\n",
    "                    y1 = rect.top()\n",
    "                    x2 = rect.right()\n",
    "                    y2 = rect.bottom()\n",
    "                    \n",
    "                    offset_x = (128-(abs(x1-x2)))/2\n",
    "                    offset_y = (128-(abs(y1-y2)))/2\n",
    "                    \n",
    "                    img = img[int(y1-offset_y):int(y2+offset_y), int(x1-offset_x):int(x2+offset_x)]\n",
    "                \n",
    "                counter += 1\n",
    "                \n",
    "                cv2.imwrite('val_MIRACL/' + classi + '_' \n",
    "                            + person + '_' \n",
    "                            + word_id + '_' \n",
    "                            + 'frame' + f[29:-4] + '.jpg', img)"
   ]
  },
  {
   "cell_type": "code",
   "execution_count": 4,
   "metadata": {},
   "outputs": [
    {
     "name": "stderr",
     "output_type": "stream",
     "text": [
      "100%|██████████| 10952/10952 [00:00<00:00, 713746.60it/s]\n"
     ]
    }
   ],
   "source": [
    "images = sorted(glob.glob(\"train_MIRACL/*.jpg\"))\n",
    "train_image = []\n",
    "train_class = []\n",
    "for i in tqdm(range(len(images))):\n",
    "    train_image.append(images[i].split('/')[1])\n",
    "    train_class.append(images[i].split('/')[1][:2])\n",
    "    \n",
    "train_data = pd.DataFrame()\n",
    "train_data['image'] = train_image\n",
    "train_data['class'] = train_class\n",
    "\n",
    "train_data.to_csv('train_new.csv',header=True, index=False)"
   ]
  },
  {
   "cell_type": "code",
   "execution_count": 5,
   "metadata": {},
   "outputs": [
    {
     "data": {
      "text/html": [
       "<div>\n",
       "<style scoped>\n",
       "    .dataframe tbody tr th:only-of-type {\n",
       "        vertical-align: middle;\n",
       "    }\n",
       "\n",
       "    .dataframe tbody tr th {\n",
       "        vertical-align: top;\n",
       "    }\n",
       "\n",
       "    .dataframe thead th {\n",
       "        text-align: right;\n",
       "    }\n",
       "</style>\n",
       "<table border=\"1\" class=\"dataframe\">\n",
       "  <thead>\n",
       "    <tr style=\"text-align: right;\">\n",
       "      <th></th>\n",
       "      <th>image</th>\n",
       "      <th>class</th>\n",
       "    </tr>\n",
       "  </thead>\n",
       "  <tbody>\n",
       "    <tr>\n",
       "      <th>0</th>\n",
       "      <td>01_F01_01_frame001.jpg</td>\n",
       "      <td>1</td>\n",
       "    </tr>\n",
       "    <tr>\n",
       "      <th>1</th>\n",
       "      <td>01_F01_01_frame002.jpg</td>\n",
       "      <td>1</td>\n",
       "    </tr>\n",
       "    <tr>\n",
       "      <th>2</th>\n",
       "      <td>01_F01_01_frame003.jpg</td>\n",
       "      <td>1</td>\n",
       "    </tr>\n",
       "    <tr>\n",
       "      <th>3</th>\n",
       "      <td>01_F01_01_frame004.jpg</td>\n",
       "      <td>1</td>\n",
       "    </tr>\n",
       "    <tr>\n",
       "      <th>4</th>\n",
       "      <td>01_F01_01_frame005.jpg</td>\n",
       "      <td>1</td>\n",
       "    </tr>\n",
       "  </tbody>\n",
       "</table>\n",
       "</div>"
      ],
      "text/plain": [
       "                    image  class\n",
       "0  01_F01_01_frame001.jpg      1\n",
       "1  01_F01_01_frame002.jpg      1\n",
       "2  01_F01_01_frame003.jpg      1\n",
       "3  01_F01_01_frame004.jpg      1\n",
       "4  01_F01_01_frame005.jpg      1"
      ]
     },
     "execution_count": 5,
     "metadata": {},
     "output_type": "execute_result"
    }
   ],
   "source": [
    "train = pd.read_csv('train_new.csv')\n",
    "train.head()"
   ]
  },
  {
   "cell_type": "code",
   "execution_count": 6,
   "metadata": {},
   "outputs": [
    {
     "data": {
      "text/html": [
       "<div>\n",
       "<style scoped>\n",
       "    .dataframe tbody tr th:only-of-type {\n",
       "        vertical-align: middle;\n",
       "    }\n",
       "\n",
       "    .dataframe tbody tr th {\n",
       "        vertical-align: top;\n",
       "    }\n",
       "\n",
       "    .dataframe thead th {\n",
       "        text-align: right;\n",
       "    }\n",
       "</style>\n",
       "<table border=\"1\" class=\"dataframe\">\n",
       "  <thead>\n",
       "    <tr style=\"text-align: right;\">\n",
       "      <th></th>\n",
       "      <th>image</th>\n",
       "      <th>class</th>\n",
       "    </tr>\n",
       "  </thead>\n",
       "  <tbody>\n",
       "    <tr>\n",
       "      <th>10947</th>\n",
       "      <td>10_M04_10_frame007.jpg</td>\n",
       "      <td>10</td>\n",
       "    </tr>\n",
       "    <tr>\n",
       "      <th>10948</th>\n",
       "      <td>10_M04_10_frame008.jpg</td>\n",
       "      <td>10</td>\n",
       "    </tr>\n",
       "    <tr>\n",
       "      <th>10949</th>\n",
       "      <td>10_M04_10_frame009.jpg</td>\n",
       "      <td>10</td>\n",
       "    </tr>\n",
       "    <tr>\n",
       "      <th>10950</th>\n",
       "      <td>10_M04_10_frame010.jpg</td>\n",
       "      <td>10</td>\n",
       "    </tr>\n",
       "    <tr>\n",
       "      <th>10951</th>\n",
       "      <td>10_M04_10_frame011.jpg</td>\n",
       "      <td>10</td>\n",
       "    </tr>\n",
       "  </tbody>\n",
       "</table>\n",
       "</div>"
      ],
      "text/plain": [
       "                        image  class\n",
       "10947  10_M04_10_frame007.jpg     10\n",
       "10948  10_M04_10_frame008.jpg     10\n",
       "10949  10_M04_10_frame009.jpg     10\n",
       "10950  10_M04_10_frame010.jpg     10\n",
       "10951  10_M04_10_frame011.jpg     10"
      ]
     },
     "execution_count": 6,
     "metadata": {},
     "output_type": "execute_result"
    }
   ],
   "source": [
    "train.tail()"
   ]
  },
  {
   "cell_type": "code",
   "execution_count": 7,
   "metadata": {},
   "outputs": [
    {
     "name": "stderr",
     "output_type": "stream",
     "text": [
      "100%|██████████| 1746/1746 [00:00<00:00, 412415.09it/s]\n"
     ]
    }
   ],
   "source": [
    "images = sorted(glob.glob(\"val_MIRACL/*.jpg\"))\n",
    "val_image = []\n",
    "val_class = []\n",
    "for i in tqdm(range(len(images))):\n",
    "    val_image.append(images[i].split('/')[1])\n",
    "    val_class.append(images[i].split('/')[1][:2])\n",
    "    \n",
    "val_data = pd.DataFrame()\n",
    "val_data['image'] = val_image\n",
    "val_data['class'] = val_class\n",
    "\n",
    "val_data.to_csv('val_new.csv',header=True, index=False)"
   ]
  },
  {
   "cell_type": "code",
   "execution_count": 8,
   "metadata": {},
   "outputs": [
    {
     "data": {
      "text/html": [
       "<div>\n",
       "<style scoped>\n",
       "    .dataframe tbody tr th:only-of-type {\n",
       "        vertical-align: middle;\n",
       "    }\n",
       "\n",
       "    .dataframe tbody tr th {\n",
       "        vertical-align: top;\n",
       "    }\n",
       "\n",
       "    .dataframe thead th {\n",
       "        text-align: right;\n",
       "    }\n",
       "</style>\n",
       "<table border=\"1\" class=\"dataframe\">\n",
       "  <thead>\n",
       "    <tr style=\"text-align: right;\">\n",
       "      <th></th>\n",
       "      <th>image</th>\n",
       "      <th>class</th>\n",
       "    </tr>\n",
       "  </thead>\n",
       "  <tbody>\n",
       "    <tr>\n",
       "      <th>0</th>\n",
       "      <td>01_F10_01_frame001.jpg</td>\n",
       "      <td>1</td>\n",
       "    </tr>\n",
       "    <tr>\n",
       "      <th>1</th>\n",
       "      <td>01_F10_01_frame002.jpg</td>\n",
       "      <td>1</td>\n",
       "    </tr>\n",
       "    <tr>\n",
       "      <th>2</th>\n",
       "      <td>01_F10_01_frame003.jpg</td>\n",
       "      <td>1</td>\n",
       "    </tr>\n",
       "    <tr>\n",
       "      <th>3</th>\n",
       "      <td>01_F10_01_frame004.jpg</td>\n",
       "      <td>1</td>\n",
       "    </tr>\n",
       "    <tr>\n",
       "      <th>4</th>\n",
       "      <td>01_F10_01_frame005.jpg</td>\n",
       "      <td>1</td>\n",
       "    </tr>\n",
       "  </tbody>\n",
       "</table>\n",
       "</div>"
      ],
      "text/plain": [
       "                    image  class\n",
       "0  01_F10_01_frame001.jpg      1\n",
       "1  01_F10_01_frame002.jpg      1\n",
       "2  01_F10_01_frame003.jpg      1\n",
       "3  01_F10_01_frame004.jpg      1\n",
       "4  01_F10_01_frame005.jpg      1"
      ]
     },
     "execution_count": 8,
     "metadata": {},
     "output_type": "execute_result"
    }
   ],
   "source": [
    "val = pd.read_csv('val_new.csv')\n",
    "val.head()"
   ]
  },
  {
   "cell_type": "code",
   "execution_count": 9,
   "metadata": {},
   "outputs": [
    {
     "data": {
      "text/html": [
       "<div>\n",
       "<style scoped>\n",
       "    .dataframe tbody tr th:only-of-type {\n",
       "        vertical-align: middle;\n",
       "    }\n",
       "\n",
       "    .dataframe tbody tr th {\n",
       "        vertical-align: top;\n",
       "    }\n",
       "\n",
       "    .dataframe thead th {\n",
       "        text-align: right;\n",
       "    }\n",
       "</style>\n",
       "<table border=\"1\" class=\"dataframe\">\n",
       "  <thead>\n",
       "    <tr style=\"text-align: right;\">\n",
       "      <th></th>\n",
       "      <th>image</th>\n",
       "      <th>class</th>\n",
       "    </tr>\n",
       "  </thead>\n",
       "  <tbody>\n",
       "    <tr>\n",
       "      <th>1741</th>\n",
       "      <td>10_M07_10_frame004.jpg</td>\n",
       "      <td>10</td>\n",
       "    </tr>\n",
       "    <tr>\n",
       "      <th>1742</th>\n",
       "      <td>10_M07_10_frame005.jpg</td>\n",
       "      <td>10</td>\n",
       "    </tr>\n",
       "    <tr>\n",
       "      <th>1743</th>\n",
       "      <td>10_M07_10_frame006.jpg</td>\n",
       "      <td>10</td>\n",
       "    </tr>\n",
       "    <tr>\n",
       "      <th>1744</th>\n",
       "      <td>10_M07_10_frame007.jpg</td>\n",
       "      <td>10</td>\n",
       "    </tr>\n",
       "    <tr>\n",
       "      <th>1745</th>\n",
       "      <td>10_M07_10_frame008.jpg</td>\n",
       "      <td>10</td>\n",
       "    </tr>\n",
       "  </tbody>\n",
       "</table>\n",
       "</div>"
      ],
      "text/plain": [
       "                       image  class\n",
       "1741  10_M07_10_frame004.jpg     10\n",
       "1742  10_M07_10_frame005.jpg     10\n",
       "1743  10_M07_10_frame006.jpg     10\n",
       "1744  10_M07_10_frame007.jpg     10\n",
       "1745  10_M07_10_frame008.jpg     10"
      ]
     },
     "execution_count": 9,
     "metadata": {},
     "output_type": "execute_result"
    }
   ],
   "source": [
    "val.tail()"
   ]
  },
  {
   "cell_type": "code",
   "execution_count": 10,
   "metadata": {},
   "outputs": [
    {
     "name": "stderr",
     "output_type": "stream",
     "text": [
      "100%|██████████| 10952/10952 [00:13<00:00, 824.26it/s]\n"
     ]
    }
   ],
   "source": [
    "X_tr = []\n",
    "\n",
    "for i in tqdm(range(train.shape[0])):\n",
    "    img = image.load_img('train_MIRACL/'+train['image'][i], target_size=(128,128,3))\n",
    "    img = image.img_to_array(img)\n",
    "    img = keras.applications.mobilenet.preprocess_input(img)\n",
    "    \n",
    "    X_tr.append(img)"
   ]
  },
  {
   "cell_type": "code",
   "execution_count": 11,
   "metadata": {},
   "outputs": [
    {
     "name": "stdout",
     "output_type": "stream",
     "text": [
      "(10952, 128, 128, 3)\n"
     ]
    }
   ],
   "source": [
    "X_tr = np.array(X_tr)\n",
    "print(X_tr.shape)"
   ]
  },
  {
   "cell_type": "code",
   "execution_count": 12,
   "metadata": {},
   "outputs": [
    {
     "name": "stderr",
     "output_type": "stream",
     "text": [
      "100%|██████████| 1746/1746 [00:02<00:00, 862.93it/s]\n"
     ]
    }
   ],
   "source": [
    "X_vl = []\n",
    "\n",
    "for i in tqdm(range(val.shape[0])):\n",
    "    img = image.load_img('val_MIRACL/'+val['image'][i], target_size=(128,128,3))\n",
    "    img = image.img_to_array(img)\n",
    "    img = keras.applications.resnet50.preprocess_input(img)\n",
    "    \n",
    "    X_vl.append(img)"
   ]
  },
  {
   "cell_type": "code",
   "execution_count": 13,
   "metadata": {},
   "outputs": [
    {
     "name": "stdout",
     "output_type": "stream",
     "text": [
      "(1746, 128, 128, 3)\n"
     ]
    }
   ],
   "source": [
    "X_vl = np.array(X_vl)\n",
    "print(X_vl.shape)"
   ]
  },
  {
   "cell_type": "code",
   "execution_count": 14,
   "metadata": {},
   "outputs": [
    {
     "name": "stdout",
     "output_type": "stream",
     "text": [
      "2153.25096\n",
      "343.277712\n"
     ]
    }
   ],
   "source": [
    "import sys\n",
    "print(sys.getsizeof(X_tr)*1e-6)\n",
    "print(sys.getsizeof(X_vl)*1e-6)"
   ]
  },
  {
   "cell_type": "code",
   "execution_count": 15,
   "metadata": {},
   "outputs": [],
   "source": [
    "y_tr = train['class']\n",
    "y_vl = val['class']"
   ]
  },
  {
   "cell_type": "code",
   "execution_count": 16,
   "metadata": {},
   "outputs": [
    {
     "name": "stdout",
     "output_type": "stream",
     "text": [
      "(10952, 10)\n",
      "(1746, 10)\n"
     ]
    }
   ],
   "source": [
    "#X_tr_rnn = np.reshape(X_tr, (X_tr.shape[0], 1, X_tr.shape[1]))\n",
    "#X_vl_rnn = np.reshape(X_vl, (X_vl.shape[0], 1, X_vl.shape[1]))\n",
    "y_tr_rnn = pd.get_dummies(y_tr)\n",
    "y_vl_rnn = pd.get_dummies(y_vl)\n",
    "#print(X_tr_rnn.shape)\n",
    "#print(X_vl_rnn.shape)\n",
    "print(y_tr_rnn.shape)\n",
    "print(y_vl_rnn.shape)"
   ]
  },
  {
   "cell_type": "code",
   "execution_count": 20,
   "metadata": {},
   "outputs": [],
   "source": [
    "model = Sequential()\n",
    "\n",
    "model.add(\n",
    "    TimeDistributed(\n",
    "        Conv2D(filters=32, kernel_size=(3, 3), strides=(1,1), activation='relu'),\n",
    "        input_shape=(None, 128, 128, 3)\n",
    "    ))\n",
    "\n",
    "model.add(\n",
    "    TimeDistributed(\n",
    "        MaxPooling2D(pool_size=(2,2))\n",
    "    ))\n",
    "\n",
    "model.add(\n",
    "    TimeDistributed(\n",
    "        Conv2D(filters=32, kernel_size=(3, 3), strides=(1,1), activation='relu')\n",
    "    ))\n",
    "\n",
    "model.add(\n",
    "    TimeDistributed(\n",
    "        MaxPooling2D(pool_size=(2,2))\n",
    "    ))\n",
    "\n",
    "model.add(\n",
    "    TimeDistributed(\n",
    "        Flatten()\n",
    "    ))\n",
    "\n",
    "model.add(LSTM(100))\n",
    "\n",
    "model.add(Dense(10, activation='softmax'))"
   ]
  },
  {
   "cell_type": "code",
   "execution_count": 21,
   "metadata": {},
   "outputs": [
    {
     "name": "stdout",
     "output_type": "stream",
     "text": [
      "_________________________________________________________________\n",
      "Layer (type)                 Output Shape              Param #   \n",
      "=================================================================\n",
      "time_distributed_9 (TimeDist (None, None, 126, 126, 32 896       \n",
      "_________________________________________________________________\n",
      "time_distributed_10 (TimeDis (None, None, 63, 63, 32)  0         \n",
      "_________________________________________________________________\n",
      "time_distributed_11 (TimeDis (None, None, 61, 61, 32)  9248      \n",
      "_________________________________________________________________\n",
      "time_distributed_12 (TimeDis (None, None, 30, 30, 32)  0         \n",
      "_________________________________________________________________\n",
      "time_distributed_13 (TimeDis (None, None, 28800)       0         \n",
      "_________________________________________________________________\n",
      "lstm_2 (LSTM)                (None, 100)               11560400  \n",
      "_________________________________________________________________\n",
      "dense_3 (Dense)              (None, 10)                1010      \n",
      "=================================================================\n",
      "Total params: 11,571,554\n",
      "Trainable params: 11,571,554\n",
      "Non-trainable params: 0\n",
      "_________________________________________________________________\n"
     ]
    }
   ],
   "source": [
    "model.summary()"
   ]
  },
  {
   "cell_type": "code",
   "execution_count": 22,
   "metadata": {},
   "outputs": [],
   "source": [
    "save_weights = ModelCheckpoint('Custom_RNN_top_weights.hdf5', save_best_only=True, monitor='val_loss', mode='min')"
   ]
  },
  {
   "cell_type": "code",
   "execution_count": 23,
   "metadata": {},
   "outputs": [
    {
     "name": "stdout",
     "output_type": "stream",
     "text": [
      "WARNING:tensorflow:From /home/dmitrii/miniconda3/envs/lr2/lib/python3.7/site-packages/keras/optimizers.py:790: The name tf.train.Optimizer is deprecated. Please use tf.compat.v1.train.Optimizer instead.\n",
      "\n",
      "WARNING:tensorflow:From /home/dmitrii/miniconda3/envs/lr2/lib/python3.7/site-packages/keras/backend/tensorflow_backend.py:3295: The name tf.log is deprecated. Please use tf.math.log instead.\n",
      "\n"
     ]
    }
   ],
   "source": [
    "model.compile(loss=keras.losses.categorical_crossentropy, optimizer='Adam', metrics=['accuracy'])"
   ]
  },
  {
   "cell_type": "code",
   "execution_count": 24,
   "metadata": {},
   "outputs": [
    {
     "ename": "ValueError",
     "evalue": "Error when checking input: expected time_distributed_9_input to have 5 dimensions, but got array with shape (10952, 128, 128, 3)",
     "output_type": "error",
     "traceback": [
      "\u001b[0;31m---------------------------------------------------------------------------\u001b[0m",
      "\u001b[0;31mValueError\u001b[0m                                Traceback (most recent call last)",
      "\u001b[0;32m<ipython-input-24-83344042523c>\u001b[0m in \u001b[0;36m<module>\u001b[0;34m\u001b[0m\n\u001b[0;32m----> 1\u001b[0;31m \u001b[0mmodel\u001b[0m\u001b[0;34m.\u001b[0m\u001b[0mfit\u001b[0m\u001b[0;34m(\u001b[0m\u001b[0mX_tr\u001b[0m\u001b[0;34m,\u001b[0m \u001b[0my_tr_rnn\u001b[0m\u001b[0;34m,\u001b[0m \u001b[0mepochs\u001b[0m\u001b[0;34m=\u001b[0m\u001b[0;36m1\u001b[0m\u001b[0;34m,\u001b[0m \u001b[0mvalidation_data\u001b[0m\u001b[0;34m=\u001b[0m\u001b[0;34m(\u001b[0m\u001b[0mX_vl\u001b[0m\u001b[0;34m,\u001b[0m \u001b[0my_vl_rnn\u001b[0m\u001b[0;34m)\u001b[0m\u001b[0;34m,\u001b[0m \u001b[0mcallbacks\u001b[0m\u001b[0;34m=\u001b[0m\u001b[0;34m[\u001b[0m\u001b[0msave_weights\u001b[0m\u001b[0;34m]\u001b[0m\u001b[0;34m,\u001b[0m \u001b[0mbatch_size\u001b[0m\u001b[0;34m=\u001b[0m\u001b[0;36m128\u001b[0m\u001b[0;34m)\u001b[0m\u001b[0;34m\u001b[0m\u001b[0;34m\u001b[0m\u001b[0m\n\u001b[0m",
      "\u001b[0;32m~/miniconda3/envs/lr2/lib/python3.7/site-packages/keras/engine/training.py\u001b[0m in \u001b[0;36mfit\u001b[0;34m(self, x, y, batch_size, epochs, verbose, callbacks, validation_split, validation_data, shuffle, class_weight, sample_weight, initial_epoch, steps_per_epoch, validation_steps, **kwargs)\u001b[0m\n\u001b[1;32m    950\u001b[0m             \u001b[0msample_weight\u001b[0m\u001b[0;34m=\u001b[0m\u001b[0msample_weight\u001b[0m\u001b[0;34m,\u001b[0m\u001b[0;34m\u001b[0m\u001b[0;34m\u001b[0m\u001b[0m\n\u001b[1;32m    951\u001b[0m             \u001b[0mclass_weight\u001b[0m\u001b[0;34m=\u001b[0m\u001b[0mclass_weight\u001b[0m\u001b[0;34m,\u001b[0m\u001b[0;34m\u001b[0m\u001b[0;34m\u001b[0m\u001b[0m\n\u001b[0;32m--> 952\u001b[0;31m             batch_size=batch_size)\n\u001b[0m\u001b[1;32m    953\u001b[0m         \u001b[0;31m# Prepare validation data.\u001b[0m\u001b[0;34m\u001b[0m\u001b[0;34m\u001b[0m\u001b[0;34m\u001b[0m\u001b[0m\n\u001b[1;32m    954\u001b[0m         \u001b[0mdo_validation\u001b[0m \u001b[0;34m=\u001b[0m \u001b[0;32mFalse\u001b[0m\u001b[0;34m\u001b[0m\u001b[0;34m\u001b[0m\u001b[0m\n",
      "\u001b[0;32m~/miniconda3/envs/lr2/lib/python3.7/site-packages/keras/engine/training.py\u001b[0m in \u001b[0;36m_standardize_user_data\u001b[0;34m(self, x, y, sample_weight, class_weight, check_array_lengths, batch_size)\u001b[0m\n\u001b[1;32m    749\u001b[0m             \u001b[0mfeed_input_shapes\u001b[0m\u001b[0;34m,\u001b[0m\u001b[0;34m\u001b[0m\u001b[0;34m\u001b[0m\u001b[0m\n\u001b[1;32m    750\u001b[0m             \u001b[0mcheck_batch_axis\u001b[0m\u001b[0;34m=\u001b[0m\u001b[0;32mFalse\u001b[0m\u001b[0;34m,\u001b[0m  \u001b[0;31m# Don't enforce the batch size.\u001b[0m\u001b[0;34m\u001b[0m\u001b[0;34m\u001b[0m\u001b[0m\n\u001b[0;32m--> 751\u001b[0;31m             exception_prefix='input')\n\u001b[0m\u001b[1;32m    752\u001b[0m \u001b[0;34m\u001b[0m\u001b[0m\n\u001b[1;32m    753\u001b[0m         \u001b[0;32mif\u001b[0m \u001b[0my\u001b[0m \u001b[0;32mis\u001b[0m \u001b[0;32mnot\u001b[0m \u001b[0;32mNone\u001b[0m\u001b[0;34m:\u001b[0m\u001b[0;34m\u001b[0m\u001b[0;34m\u001b[0m\u001b[0m\n",
      "\u001b[0;32m~/miniconda3/envs/lr2/lib/python3.7/site-packages/keras/engine/training_utils.py\u001b[0m in \u001b[0;36mstandardize_input_data\u001b[0;34m(data, names, shapes, check_batch_axis, exception_prefix)\u001b[0m\n\u001b[1;32m    126\u001b[0m                         \u001b[0;34m': expected '\u001b[0m \u001b[0;34m+\u001b[0m \u001b[0mnames\u001b[0m\u001b[0;34m[\u001b[0m\u001b[0mi\u001b[0m\u001b[0;34m]\u001b[0m \u001b[0;34m+\u001b[0m \u001b[0;34m' to have '\u001b[0m \u001b[0;34m+\u001b[0m\u001b[0;34m\u001b[0m\u001b[0;34m\u001b[0m\u001b[0m\n\u001b[1;32m    127\u001b[0m                         \u001b[0mstr\u001b[0m\u001b[0;34m(\u001b[0m\u001b[0mlen\u001b[0m\u001b[0;34m(\u001b[0m\u001b[0mshape\u001b[0m\u001b[0;34m)\u001b[0m\u001b[0;34m)\u001b[0m \u001b[0;34m+\u001b[0m \u001b[0;34m' dimensions, but got array '\u001b[0m\u001b[0;34m\u001b[0m\u001b[0;34m\u001b[0m\u001b[0m\n\u001b[0;32m--> 128\u001b[0;31m                         'with shape ' + str(data_shape))\n\u001b[0m\u001b[1;32m    129\u001b[0m                 \u001b[0;32mif\u001b[0m \u001b[0;32mnot\u001b[0m \u001b[0mcheck_batch_axis\u001b[0m\u001b[0;34m:\u001b[0m\u001b[0;34m\u001b[0m\u001b[0;34m\u001b[0m\u001b[0m\n\u001b[1;32m    130\u001b[0m                     \u001b[0mdata_shape\u001b[0m \u001b[0;34m=\u001b[0m \u001b[0mdata_shape\u001b[0m\u001b[0;34m[\u001b[0m\u001b[0;36m1\u001b[0m\u001b[0;34m:\u001b[0m\u001b[0;34m]\u001b[0m\u001b[0;34m\u001b[0m\u001b[0;34m\u001b[0m\u001b[0m\n",
      "\u001b[0;31mValueError\u001b[0m: Error when checking input: expected time_distributed_9_input to have 5 dimensions, but got array with shape (10952, 128, 128, 3)"
     ]
    }
   ],
   "source": [
    "# got to train in batches every time step thus pass an input with shape (batch_size, frames, height, width, channels)\n",
    "# here i got the shape of (frames, height, width, channels)\n",
    "# TODO: generate batches somehow\n",
    "\n",
    "model.fit(X_tr, y_tr_rnn, epochs=1, validation_data=(X_vl, y_vl_rnn), callbacks=[save_weights], batch_size=128)"
   ]
  },
  {
   "cell_type": "code",
   "execution_count": null,
   "metadata": {},
   "outputs": [],
   "source": [
    "files = glob.glob('test_MIRACL/*')\n",
    "for file_rem in files:\n",
    "    os.remove(file_rem)\n",
    "\n",
    "counter = 0\n",
    "for classi in classes:\n",
    "    for person in tqdm(test_people):\n",
    "        for word_id in word_ids:\n",
    "            for f in sorted(glob.glob(os.path.join('MIRACL/'+person+'/words/'+classi+'/'+ word_id, \"*.jpg\"))):\n",
    "                img = cv2.imread(f, 1)\n",
    "                gray = cv2.cvtColor(img, cv2.COLOR_BGR2GRAY)\n",
    "                rects = detector(gray, 0)\n",
    "                \n",
    "                for k, rect in enumerate(rects):\n",
    "                    x1 = rect.left()\n",
    "                    y1 = rect.top()\n",
    "                    x2 = rect.right()\n",
    "                    y2 = rect.bottom()\n",
    "                    \n",
    "                    offset_x = (128-(abs(x1-x2)))/2\n",
    "                    offset_y = (128-(abs(y1-y2)))/2\n",
    "                    \n",
    "                    img = img[int(y1-offset_y):int(y2+offset_y), int(x1-offset_x):int(x2+offset_x)]\n",
    "                \n",
    "                counter += 1\n",
    "                \n",
    "                cv2.imwrite('test_MIRACL/' + classi + '_' \n",
    "                            + person + '_' \n",
    "                            + word_id + '_' \n",
    "                            + 'frame' + f[29:-4] + '.jpg', img)"
   ]
  },
  {
   "cell_type": "code",
   "execution_count": null,
   "metadata": {},
   "outputs": [],
   "source": [
    "images = glob.glob(\"test_MIRACL/*.jpg\")\n",
    "test_image = []\n",
    "test_class = []\n",
    "for i in tqdm(range(len(images))):\n",
    "    test_image.append(sorted(images)[i].split('/')[1])\n",
    "    test_class.append(sorted(images)[i].split('/')[1][:2])\n",
    "\n",
    "\n",
    "test_data = pd.DataFrame()\n",
    "test_data['image'] = test_image\n",
    "test_data['class'] = test_class\n",
    "test_images = test_data['image']\n",
    "\n",
    "test_data.to_csv('test_new.csv',header=True, index=False)"
   ]
  },
  {
   "cell_type": "code",
   "execution_count": null,
   "metadata": {},
   "outputs": [],
   "source": [
    "test = pd.read_csv('test_new.csv')\n",
    "y_test = test['class']\n",
    "y_test = pd.get_dummies(y_test)\n",
    "\n",
    "test.head()"
   ]
  },
  {
   "cell_type": "code",
   "execution_count": null,
   "metadata": {},
   "outputs": [],
   "source": [
    "video_names = sorted(list(set([test_images[i].split('.')[0][0:9] for i in range(len(test_images))])))\n",
    "test_videos = pd.DataFrame(video_names)\n",
    "\n",
    "test_videos.columns = ['dummy']\n",
    "test_videos = test_videos['dummy']\n",
    "\n",
    "print(test_videos.shape[0])\n",
    "test_videos.head()"
   ]
  },
  {
   "cell_type": "code",
   "execution_count": null,
   "metadata": {},
   "outputs": [],
   "source": [
    "print(test_images.shape[0])\n",
    "test_images.tail()"
   ]
  },
  {
   "cell_type": "code",
   "execution_count": null,
   "metadata": {},
   "outputs": [],
   "source": [
    "predict = []\n",
    "actual = []\n",
    "\n",
    "for video_id in tqdm(range(test_videos.shape[0])):\n",
    "    videoFile = test_videos[video_id]\n",
    "    \n",
    "    files = glob.glob('temp/*')\n",
    "    for f in files:\n",
    "        os.remove(f)\n",
    "    \n",
    "    for frame_id in range(test_images.shape[0]):\n",
    "        frame = test_images[frame_id]\n",
    "        if test_images[frame_id].split('.')[0][0:9] == videoFile:\n",
    "            img = shutil.copyfile('test_MIRACL/'+test_images[frame_id], 'temp/'+test_images[frame_id]) \n",
    "    \n",
    "    images = glob.glob(\"temp/*.jpg\")\n",
    "    \n",
    "    prediction_images = []\n",
    "    for i in range(len(images)):\n",
    "        img = image.load_img(images[i], target_size=(128,128,3))\n",
    "        img = image.img_to_array(img)\n",
    "        img = keras.applications.mobilenet.preprocess_input(img)\n",
    "        \n",
    "        prediction_images.append(img)\n",
    "        \n",
    "    prediction_images = np.array(prediction_images)\n",
    "    \n",
    "    # TODO: fix the code below to apply for the new model\n",
    "    \n",
    "    prediction_images = base_model.predict(prediction_images)\n",
    "    \n",
    "    prediction_images = np.reshape(prediction_images, \n",
    "                                   (prediction_images.shape[0], 1, prediction_images.shape[1])) #(x, 1, 1024)\n",
    "    \n",
    "    prediction = model.predict_classes(prediction_images)\n",
    "    predict.append(y_test.columns.values[s.mode(prediction)[0][0]])\n",
    "    \n",
    "    actual.append(int(videoFile.split('_')[0].lstrip('0')))"
   ]
  },
  {
   "cell_type": "code",
   "execution_count": null,
   "metadata": {},
   "outputs": [],
   "source": [
    "from sklearn.metrics import accuracy_score\n",
    "accuracy_score(predict, actual)*100"
   ]
  },
  {
   "cell_type": "code",
   "execution_count": null,
   "metadata": {},
   "outputs": [],
   "source": []
  }
 ],
 "metadata": {
  "kernelspec": {
   "display_name": "Python 3",
   "language": "python",
   "name": "python3"
  },
  "language_info": {
   "codemirror_mode": {
    "name": "ipython",
    "version": 3
   },
   "file_extension": ".py",
   "mimetype": "text/x-python",
   "name": "python",
   "nbconvert_exporter": "python",
   "pygments_lexer": "ipython3",
   "version": "3.6.10"
  }
 },
 "nbformat": 4,
 "nbformat_minor": 2
}
