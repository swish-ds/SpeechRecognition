{
 "cells": [
  {
   "cell_type": "code",
   "execution_count": null,
   "metadata": {},
   "outputs": [],
   "source": [
    "import os\n",
    "import dlib\n",
    "import glob\n",
    "\n",
    "import matplotlib.pyplot as plt\n",
    "import pandas as pd\n",
    "from tqdm import tqdm\n",
    "\n",
    "import numpy as np\n",
    "%matplotlib inline"
   ]
  },
  {
   "cell_type": "code",
   "execution_count": null,
   "metadata": {
    "colab": {
     "base_uri": "https://localhost:8080/",
     "height": 119
    },
    "colab_type": "code",
    "id": "1YB5Ncrrm_fp",
    "outputId": "47569714-6425-4923-bd09-ec4904eb22ba"
   },
   "outputs": [],
   "source": [
    "img_black = np.zeros((70,140,3))\n",
    "\n",
    "base_dir = 'data'\n",
    "train_dir = os.path.join(base_dir, 'train')\n",
    "val_dir = os.path.join(base_dir, 'validation')\n",
    "test_dir = os.path.join(base_dir, 'test')\n",
    "\n",
    "classes = 'Begin, Choose, Connection, Navigation, Next, Previous, Start, Stop, Hello, Web'\n",
    "classes = classes.split(', ')\n",
    "\n",
    "predictor_path = 'assests/predictors/shape_predictor_68_face_landmarks.dat'\n",
    "\n",
    "detector = dlib.get_frontal_face_detector()\n",
    "predictor = dlib.shape_predictor(predictor_path)\n",
    "\n",
    "train_people = 'F01, F02, F04, F05, F06, F07, F08, F09, M01, M02, M04'.split(', ')\n",
    "val_people = 'F10, M07'.split(', ')\n",
    "test_people = 'F11, M08'.split(', ')\n",
    "print(train_people)\n",
    "print(val_people)\n",
    "print(test_people)\n",
    "\n",
    "classes_num = ['0'+str(i) if i < 10 else str(i) for i in range(1, 11) ]\n",
    "word_ids = ['0'+str(i) if i < 10 else str(i) for i in range(1, 11) ]\n",
    "classes_dict = dict(zip(classes_num, classes))\n",
    "print(classes_num)\n",
    "print(word_ids)\n",
    "print(classes_dict)"
   ]
  },
  {
   "cell_type": "code",
   "execution_count": null,
   "metadata": {
    "colab": {},
    "colab_type": "code",
    "id": "77gkkUZbomTp"
   },
   "outputs": [],
   "source": [
    "def show_img(img, figsize=(8, 8)):\n",
    "    fig, ax = plt.subplots(figsize=figsize)\n",
    "    ax.grid(False)\n",
    "    ax.set_yticklabels([])\n",
    "    ax.set_xticklabels([])\n",
    "    ax.imshow(img)\n",
    "    plt.imshow(img)"
   ]
  },
  {
   "cell_type": "code",
   "execution_count": null,
   "metadata": {},
   "outputs": [],
   "source": []
  },
  {
   "cell_type": "code",
   "execution_count": null,
   "metadata": {
    "colab": {
     "base_uri": "https://localhost:8080/",
     "height": 68
    },
    "colab_type": "code",
    "id": "FGrPaqrOZ7hb",
    "outputId": "cbb3cc72-8479-467a-e045-ca579589d9cd"
   },
   "outputs": [],
   "source": [
    "train_image = []\n",
    "train_class = []\n",
    "\n",
    "for class_id in tqdm(range(len(classes))):\n",
    "    images = sorted(glob.glob('data/train/' + classes[class_id] + '/*.jpg'))\n",
    "    for i in range(len(images)):\n",
    "        if ('noised' in images[i] or 'rand_contr' in images[i]\n",
    "        or 'vert_flip' in images[i] or 'hor_flip' in images[i]):\n",
    "            train_image.append(images[i].split('/')[3])\n",
    "            train_class.append(classes_dict[images[i].split('/')[3].split(']')[-1][:2]])\n",
    "        else:\n",
    "            train_image.append(images[i].split('/')[3])\n",
    "            train_class.append(classes_dict[images[i].split('/')[3].split('_')[1]])\n",
    "        \n",
    "train_data = pd.DataFrame()\n",
    "train_data['image'] = train_image\n",
    "train_data['class'] = train_class\n",
    "\n",
    "train_data.to_csv('data/miracl/train_new.csv',header=True, index=False)\n",
    "\n",
    "\n",
    "val_image = []\n",
    "val_class = []\n",
    "\n",
    "for class_id in tqdm(range(len(classes))):\n",
    "    images = sorted(glob.glob('data/validation/' + classes[class_id] + '/*.jpg'))\n",
    "    for i in range(len(images)):\n",
    "        val_image.append(images[i].split('/')[3])\n",
    "        val_class.append(classes_dict[images[i].split('/')[3].split('_')[0]])\n",
    "val_data = pd.DataFrame()\n",
    "val_data['image'] = val_image\n",
    "val_data['class'] = val_class\n",
    "\n",
    "val_data.to_csv('data/miracl/val_new.csv',header=True, index=False)"
   ]
  },
  {
   "cell_type": "code",
   "execution_count": null,
   "metadata": {
    "colab": {
     "base_uri": "https://localhost:8080/",
     "height": 204
    },
    "colab_type": "code",
    "id": "dEBkyBHYb8WQ",
    "outputId": "bdf53482-dbe9-4694-9185-88fc91a11121"
   },
   "outputs": [],
   "source": [
    "train = pd.read_csv('data/miracl/train_new.csv')\n",
    "val = pd.read_csv('data/miracl/val_new.csv')\n",
    "\n",
    "y_tr = train['class']\n",
    "y_tr_dummy = pd.get_dummies(y_tr)\n",
    "\n",
    "y_val = val['class']\n",
    "y_val_dummy = pd.get_dummies(y_val)"
   ]
  },
  {
   "cell_type": "code",
   "execution_count": null,
   "metadata": {},
   "outputs": [],
   "source": [
    "train.head()"
   ]
  },
  {
   "cell_type": "code",
   "execution_count": null,
   "metadata": {
    "colab": {
     "base_uri": "https://localhost:8080/",
     "height": 204
    },
    "colab_type": "code",
    "id": "f-j1ZKowb8T0",
    "outputId": "51fea31a-d028-4d4a-a64a-09f351289c9f"
   },
   "outputs": [],
   "source": [
    "train.tail()"
   ]
  },
  {
   "cell_type": "code",
   "execution_count": null,
   "metadata": {},
   "outputs": [],
   "source": [
    "val.head()"
   ]
  },
  {
   "cell_type": "code",
   "execution_count": null,
   "metadata": {},
   "outputs": [],
   "source": [
    "val.tail()"
   ]
  },
  {
   "cell_type": "code",
   "execution_count": null,
   "metadata": {},
   "outputs": [],
   "source": [
    "print(len(train))\n",
    "print(len(val))"
   ]
  },
  {
   "cell_type": "code",
   "execution_count": null,
   "metadata": {},
   "outputs": [],
   "source": []
  },
  {
   "cell_type": "code",
   "execution_count": 1,
   "metadata": {
    "colab": {},
    "colab_type": "code",
    "id": "hIW47_R04n7t"
   },
   "outputs": [
    {
     "name": "stdout",
     "output_type": "stream",
     "text": [
      "1.15.0\n",
      "2.2.4-tf\n"
     ]
    }
   ],
   "source": [
    "import tensorflow as tf\n",
    "from tensorflow import keras\n",
    "\n",
    "print(tf.__version__)\n",
    "print(keras.__version__)"
   ]
  },
  {
   "cell_type": "code",
   "execution_count": 2,
   "metadata": {},
   "outputs": [
    {
     "data": {
      "text/plain": [
       "[PhysicalDevice(name='/physical_device:CPU:0', device_type='CPU'),\n",
       " PhysicalDevice(name='/physical_device:XLA_CPU:0', device_type='XLA_CPU'),\n",
       " PhysicalDevice(name='/physical_device:XLA_GPU:0', device_type='XLA_GPU')]"
      ]
     },
     "execution_count": 2,
     "metadata": {},
     "output_type": "execute_result"
    }
   ],
   "source": [
    "tf.config.experimental.list_physical_devices()"
   ]
  },
  {
   "cell_type": "code",
   "execution_count": null,
   "metadata": {},
   "outputs": [],
   "source": []
  },
  {
   "cell_type": "code",
   "execution_count": null,
   "metadata": {
    "colab": {},
    "colab_type": "code",
    "id": "zCqXixXFeIh7"
   },
   "outputs": [],
   "source": [
    "from tweaked_ImageGenerator_v2 import ImageDataGenerator"
   ]
  },
  {
   "cell_type": "code",
   "execution_count": null,
   "metadata": {
    "colab": {
     "base_uri": "https://localhost:8080/",
     "height": 34
    },
    "colab_type": "code",
    "id": "KhtRO0CReLe8",
    "outputId": "cbd80526-2e04-42d1-fa6d-f27266ac5715"
   },
   "outputs": [],
   "source": [
    "datagen = ImageDataGenerator()\n",
    "train_data = datagen.flow_from_directory('data/train', target_size=(70, 140), batch_size=2, frames_per_step=22, shuffle=False)"
   ]
  },
  {
   "cell_type": "code",
   "execution_count": null,
   "metadata": {
    "colab": {
     "base_uri": "https://localhost:8080/",
     "height": 34
    },
    "colab_type": "code",
    "id": "z2QC30TSeuvW",
    "outputId": "e3018997-b701-4cfd-c11d-b68d65a99c5d"
   },
   "outputs": [],
   "source": [
    "val_data = datagen.flow_from_directory('data/validation', target_size=(70, 140), batch_size=2, frames_per_step=22, shuffle=False)"
   ]
  },
  {
   "cell_type": "code",
   "execution_count": null,
   "metadata": {
    "colab": {
     "base_uri": "https://localhost:8080/",
     "height": 51
    },
    "colab_type": "code",
    "id": "AazSdZV0-wIF",
    "outputId": "0d129998-0128-47d8-e99a-3dfe752c1638"
   },
   "outputs": [],
   "source": [
    "import math\n",
    "\n",
    "print(math.ceil(8520/(2*22)))\n",
    "print(math.ceil((1510/(2*22))))"
   ]
  },
  {
   "cell_type": "code",
   "execution_count": null,
   "metadata": {},
   "outputs": [],
   "source": []
  },
  {
   "cell_type": "code",
   "execution_count": null,
   "metadata": {
    "colab": {},
    "colab_type": "code",
    "id": "7DKx0y7NcrVE"
   },
   "outputs": [],
   "source": [
    "model_small = keras.models.Sequential()\n",
    "\n",
    "model_small.add(keras.layers.ZeroPadding3D(padding=(1, 2, 2), input_shape=(22, 50, 100, 3)))\n",
    "model_small.add(keras.layers.Conv3D(32, (3, 5, 5), strides=(1, 2, 2), activation='relu'))\n",
    "model_small.add(keras.layers.MaxPooling3D(pool_size=(1, 2, 2), strides=(1, 2, 2)))\n",
    "model_small.add(keras.layers.Dropout(.3))\n",
    "\n",
    "model_small.add(keras.layers.ZeroPadding3D(padding=(1, 2, 2)))\n",
    "model_small.add(keras.layers.Conv3D(64, (3, 5, 5), strides=(1, 1, 1), activation='relu'))\n",
    "model_small.add(keras.layers.MaxPooling3D(pool_size=(1, 2, 2), strides=(1, 2, 2)))\n",
    "model_small.add(keras.layers.Dropout(.3))\n",
    "\n",
    "model_small.add(keras.layers.ZeroPadding3D(padding=(1, 1, 1)))\n",
    "model_small.add(keras.layers.Conv3D(96, (3, 3, 3), strides=(1, 2, 2), activation='relu'))\n",
    "model_small.add(keras.layers.MaxPooling3D(pool_size=(1, 2, 2), strides=(1, 2, 2)))\n",
    "model_small.add(keras.layers.Dropout(.3))\n",
    "\n",
    "model_small.add(keras.layers.TimeDistributed(keras.layers.Flatten()))\n",
    "\n",
    "model_small.add(keras.layers.Bidirectional(keras.layers.LSTM(256, activation='relu', return_sequences=False)))\n",
    "\n",
    "model_small.add(keras.layers.Dense(10, activation='softmax'))"
   ]
  },
  {
   "cell_type": "code",
   "execution_count": null,
   "metadata": {
    "colab": {
     "base_uri": "https://localhost:8080/",
     "height": 527
    },
    "colab_type": "code",
    "id": "1qndgrgBe5M6",
    "outputId": "3cbf7252-14a6-4b7b-f748-a66e78ab8487"
   },
   "outputs": [],
   "source": [
    "adam2 = keras.optimizers.Adam(lr=0.0001)\n",
    "save_weights = keras.callbacks.ModelCheckpoint('weight.hdf5', save_best_only=True, monitor='val_loss', mode='min')\n",
    "model_small.compile(loss='categorical_crossentropy',optimizer=adam2,metrics=['accuracy'])\n",
    "model_small.summary()"
   ]
  },
  {
   "cell_type": "code",
   "execution_count": null,
   "metadata": {
    "colab": {
     "base_uri": "https://localhost:8080/",
     "height": 697
    },
    "colab_type": "code",
    "id": "KrMsW0yiOBJR",
    "outputId": "6e6ca653-87b4-4b0a-97ad-ce15e24b4a2d"
   },
   "outputs": [],
   "source": [
    "history = model_small.fit(train_data, epochs=20, steps_per_epoch=130, \n",
    "                              validation_data=val_data, validation_steps=23, \n",
    "                              callbacks=[save_weights], shuffle=True)"
   ]
  }
 ],
 "metadata": {
  "accelerator": "GPU",
  "colab": {
   "collapsed_sections": [],
   "name": "lr.ipynb",
   "provenance": []
  },
  "kernelspec": {
   "display_name": "Python 3",
   "language": "python",
   "name": "python3"
  },
  "language_info": {
   "codemirror_mode": {
    "name": "ipython",
    "version": 3
   },
   "file_extension": ".py",
   "mimetype": "text/x-python",
   "name": "python",
   "nbconvert_exporter": "python",
   "pygments_lexer": "ipython3",
   "version": "3.6.10"
  }
 },
 "nbformat": 4,
 "nbformat_minor": 1
}
