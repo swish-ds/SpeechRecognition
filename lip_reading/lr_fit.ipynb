{
 "cells": [
  {
   "cell_type": "code",
   "execution_count": null,
   "metadata": {},
   "outputs": [],
   "source": [
    "import os\n",
    "import dlib\n",
    "import glob\n",
    "\n",
    "import matplotlib.pyplot as plt\n",
    "import pandas as pd\n",
    "from tqdm import tqdm\n",
    "\n",
    "import numpy as np\n",
    "%matplotlib inline"
   ]
  },
  {
   "cell_type": "code",
   "execution_count": null,
   "metadata": {},
   "outputs": [],
   "source": [
    "def show_img(img, figsize=(8, 8)):\n",
    "    fig, ax = plt.subplots(figsize=figsize)\n",
    "    ax.grid(False)\n",
    "    ax.set_yticklabels([])\n",
    "    ax.set_xticklabels([])\n",
    "    ax.imshow(img)\n",
    "    plt.imshow(img)"
   ]
  },
  {
   "cell_type": "code",
   "execution_count": null,
   "metadata": {},
   "outputs": [],
   "source": [
    "import tensorflow as tf\n",
    "config = tf.compat.v1.ConfigProto()\n",
    "config.gpu_options.allow_growth = True\n",
    "session = tf.compat.v1.Session(config=config)"
   ]
  },
  {
   "cell_type": "code",
   "execution_count": null,
   "metadata": {},
   "outputs": [],
   "source": [
    "import keras\n",
    "#from tensorflow import keras\n",
    "\n",
    "print(tf.__version__)\n",
    "print(keras.__version__)\n",
    "print(tf.config.experimental.list_physical_devices())"
   ]
  },
  {
   "cell_type": "code",
   "execution_count": null,
   "metadata": {},
   "outputs": [],
   "source": [
    "from keras_video_datagen import ImageDataGenerator"
   ]
  },
  {
   "cell_type": "code",
   "execution_count": null,
   "metadata": {},
   "outputs": [],
   "source": [
    "datagen = ImageDataGenerator()\n",
    "\n",
    "train_data = datagen.flow_from_directory('data/train', \n",
    "                                         target_size=(70, 140), \n",
    "                                         batch_size=5, \n",
    "                                         frames_per_step=13, \n",
    "                                         shuffle=False, \n",
    "                                         color_mode='rgb')\n",
    "\n",
    "val_data = datagen.flow_from_directory('data/validation', \n",
    "                                       target_size=(70, 140), \n",
    "                                       batch_size=5, \n",
    "                                       frames_per_step=13, \n",
    "                                       shuffle=False, \n",
    "                                       color_mode='rgb')"
   ]
  },
  {
   "cell_type": "code",
   "execution_count": null,
   "metadata": {},
   "outputs": [],
   "source": [
    "x, y = train_data.next()\n",
    "\n",
    "print(x.shape)\n",
    "print(y.shape)\n",
    "\n",
    "print(y[0])"
   ]
  },
  {
   "cell_type": "code",
   "execution_count": null,
   "metadata": {},
   "outputs": [],
   "source": [
    "import math\n",
    "\n",
    "print(math.ceil(13559/(5*13)))\n",
    "print(math.ceil((2366/(5*13))))"
   ]
  },
  {
   "cell_type": "code",
   "execution_count": null,
   "metadata": {},
   "outputs": [],
   "source": [
    "from keras.layers import *\n",
    "from keras.regularizers import *\n",
    "from keras.constraints import *"
   ]
  },
  {
   "cell_type": "code",
   "execution_count": null,
   "metadata": {},
   "outputs": [],
   "source": [
    "model_small = keras.models.Sequential()\n",
    "\n",
    "model_small.add(ZeroPadding3D(padding=(1, 2, 2), input_shape=(13, 70, 140, 3)))\n",
    "model_small.add(Conv3D(32, (3, 5, 5), strides=(1, 2, 2), use_bias=False))\n",
    "model_small.add(BatchNormalization(momentum=0.99))\n",
    "model_small.add(Activation('relu'))\n",
    "model_small.add(MaxPooling3D(pool_size=(1, 2, 2), strides=(1, 2, 2)))\n",
    "\n",
    "model_small.add(ZeroPadding3D(padding=(1, 2, 2)))\n",
    "model_small.add(Conv3D(64, (3, 5, 5), strides=(1, 1, 1), use_bias=False))\n",
    "model_small.add(BatchNormalization(momentum=0.99))\n",
    "model_small.add(Activation('relu'))\n",
    "model_small.add(MaxPooling3D(pool_size=(1, 2, 2), strides=(1, 2, 2)))\n",
    "\n",
    "model_small.add(ZeroPadding3D(padding=(1, 1, 1)))\n",
    "model_small.add(Conv3D(96, (3, 3, 3), strides=(1, 2, 2), use_bias=False))\n",
    "model_small.add(BatchNormalization(momentum=0.99))\n",
    "model_small.add(Activation('relu'))\n",
    "model_small.add(MaxPooling3D(pool_size=(1, 2, 2), strides=(1, 2, 2)))\n",
    "\n",
    "model_small.add(TimeDistributed(Flatten()))\n",
    "\n",
    "model_small.add(Bidirectional(GRU(65, return_sequences=False, activation='tanh')))\n",
    "\n",
    "model_small.add(Dense(10, activation='softmax'))"
   ]
  },
  {
   "cell_type": "code",
   "execution_count": null,
   "metadata": {},
   "outputs": [],
   "source": [
    "# adam = keras.optimizers.Adam(lr=1e-4)\n",
    "sgd = keras.optimizers.SGD(lr=4e-5, momentum=0.9, nesterov=True)\n",
    "save_weights = keras.callbacks.ModelCheckpoint('model_small.hdf5', save_best_only=True, monitor='loss', mode='min')\n",
    "model_small.compile(loss='categorical_crossentropy', optimizer=sgd, metrics=['accuracy'])\n",
    "# model_small.summary()"
   ]
  },
  {
   "cell_type": "code",
   "execution_count": null,
   "metadata": {},
   "outputs": [],
   "source": [
    "import os\n",
    "try:\n",
    "    os.remove('model_small.hdf5')\n",
    "    print('file removed')\n",
    "except:\n",
    "    print('file is not there')"
   ]
  },
  {
   "cell_type": "code",
   "execution_count": null,
   "metadata": {},
   "outputs": [],
   "source": [
    "history = model_small.fit_generator(train_data, epochs=100, steps_per_epoch=209, \n",
    "                                    validation_data=val_data, validation_steps=37, callbacks=[save_weights], shuffle=False)"
   ]
  },
  {
   "cell_type": "markdown",
   "execution_count": null,
   "metadata": {},
   "outputs": [],
   "source": [
    "## Plot results"
   ]
  },
  {
   "cell_type": "code",
   "execution_count": null,
   "metadata": {},
   "outputs": [],
   "source": [
    "# !pip install seaborn\n",
    "\n",
    "import matplotlib.pyplot as plt\n",
    "import seaborn as sn\n",
    "import pandas as pd\n",
    "import matplotlib.pyplot as plt\n",
    "from sklearn.metrics import classification_report, confusion_matrix, plot_confusion_matrix\n",
    "\n",
    "fig, (ax1, ax2) = plt.subplots(1, 2, figsize=(18,7))\n",
    "\n",
    "fig.set_facecolor(\"white\")\n",
    "fig.suptitle((\n",
    "    'SGD(lr=4e-5, momentum=0.9, nesterov=True)\\n\\\n",
    "    loss: 0.3538 - accuracy: 0.9664 - val_loss: 1.4803 - val_accuracy: 0.2747'), fontsize=16, color='black', backgroundcolor='white')\n",
    "\n",
    "ax1.plot(history.history['accuracy'])\n",
    "ax1.plot(history.history['val_accuracy'])\n",
    "ax1.set_xticks(np.arange(0, len(history.history['accuracy']) + 10, 10))\n",
    "ax1.set_yticks(np.arange(0, 1.1, 0.1))\n",
    "ax1.tick_params(axis='both', colors='black')\n",
    "\n",
    "ax1.set_ylabel('Acuracy')\n",
    "ax1.set_xlabel('Epochs')\n",
    "ax1.yaxis.label.set_color('black')\n",
    "ax1.yaxis.label.set_fontsize(14)\n",
    "ax1.xaxis.label.set_color('black')\n",
    "ax1.xaxis.label.set_fontsize(14)\n",
    "\n",
    "ax1.grid(axis = 'both')\n",
    "ax1.legend(['train', 'test'], loc='upper left')\n",
    "\n",
    "ax2.plot(history.history['loss'])\n",
    "ax2.plot(history.history['val_loss'])\n",
    "ax2.set_xticks(np.arange(0, len(history.history['loss']) + 10, 10))\n",
    "ax2.set_yticks(np.arange(0, max(history.history['loss']) + 0.5, 0.3))\n",
    "ax2.tick_params(axis='both', colors='black')\n",
    "\n",
    "ax2.set_ylabel('Loss')\n",
    "ax2.set_xlabel('Epochs')\n",
    "ax2.yaxis.label.set_color('black')\n",
    "ax2.yaxis.label.set_fontsize(14)\n",
    "ax2.xaxis.label.set_color('black')\n",
    "ax2.xaxis.label.set_fontsize(14)\n",
    "\n",
    "ax2.grid(axis = 'both')\n",
    "ax2.legend(['train', 'test'], loc='upper left')\n",
    "\n",
    "fig.show()"
   ]
  },
  {
   "cell_type": "code",
   "execution_count": null,
   "metadata": {},
   "outputs": [],
   "source": [
    "val_data2 = datagen.flow_from_directory('data/validation', \n",
    "                                       target_size=(70, 140), \n",
    "                                       batch_size=1, \n",
    "                                       frames_per_step=13, \n",
    "                                       shuffle=False, \n",
    "                                       color_mode='rgb')\n",
    "\n",
    "val_classes = []\n",
    "\n",
    "for i in list(range(0, int(len(val_data2.classes)), 13)):\n",
    "    val_classes.append(int(np.mean(np.array(val_data2.classes[i:i+13]))))"
   ]
  },
  {
   "cell_type": "code",
   "execution_count": null,
   "metadata": {},
   "outputs": [],
   "source": [
    "print(math.ceil((2366/(1*13))))"
   ]
  },
  {
   "cell_type": "code",
   "execution_count": null,
   "metadata": {},
   "outputs": [],
   "source": [
    "Y_pred = model_small.predict_generator(val_data2, 182)\n",
    "y_pred = np.rint(np.argmax(Y_pred, axis=1))"
   ]
  },
  {
   "cell_type": "code",
   "execution_count": null,
   "metadata": {},
   "outputs": [],
   "source": [
    "target_names = 'Begin, Choose, Connection, Navigation, Next, Previous, Start, Stop, Hello, Web'\n",
    "target_names = target_names.split(', ')\n",
    "\n",
    "fig, ax1 = plt.subplots(1, 1, figsize=(10, 8))\n",
    "\n",
    "array = confusion_matrix(val_classes, y_pred)\n",
    "\n",
    "df_cm = pd.DataFrame(array, index = [i for i in target_names],\n",
    "                  columns = [i for i in target_names])\n",
    "\n",
    "ax1 = sn.heatmap(df_cm, annot=True)\n",
    "fig.set_facecolor(\"white\")\n",
    "fig.suptitle((\n",
    "    'SGD(lr=4e-5, momentum=0.9, nesterov=True)\\n\\\n",
    "    loss: 0.3538 - accuracy: 0.9664 - val_loss: 1.4803 - val_accuracy: 0.2747'), fontsize=16, color='Black')\n",
    "fig.show()"
   ]
  },
  {
   "cell_type": "code",
   "execution_count": null,
   "metadata": {},
   "outputs": [],
   "source": [
    "print(classification_report(val_classes, y_pred, target_names=target_names))"
   ]
  },
  {
   "cell_type": "code",
   "execution_count": null,
   "metadata": {},
   "outputs": [],
   "source": []
  }
 ],
 "metadata": {
  "accelerator": "GPU",
  "colab": {
   "collapsed_sections": [],
   "name": "lr.ipynb",
   "provenance": []
  },
  "kernelspec": {
   "display_name": "Python 3",
   "language": "python",
   "name": "python3"
  },
  "language_info": {
   "codemirror_mode": {
    "name": "ipython",
    "version": 3
   },
   "file_extension": ".py",
   "mimetype": "text/x-python",
   "name": "python",
   "nbconvert_exporter": "python",
   "pygments_lexer": "ipython3",
   "version": "3.6.10-final"
  }
 },
 "nbformat": 4,
 "nbformat_minor": 1
}