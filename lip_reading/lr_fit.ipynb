{
 "cells": [
  {
   "cell_type": "code",
   "execution_count": 1,
   "metadata": {},
   "outputs": [],
   "source": [
    "import os\n",
    "import dlib\n",
    "import glob\n",
    "\n",
    "import matplotlib.pyplot as plt\n",
    "import pandas as pd\n",
    "from tqdm import tqdm\n",
    "\n",
    "import numpy as np\n",
    "%matplotlib inline"
   ]
  },
  {
   "cell_type": "code",
   "execution_count": 2,
   "metadata": {},
   "outputs": [],
   "source": [
    "def show_img(img, figsize=(8, 8)):\n",
    "    fig, ax = plt.subplots(figsize=figsize)\n",
    "    ax.grid(False)\n",
    "    ax.set_yticklabels([])\n",
    "    ax.set_xticklabels([])\n",
    "    ax.imshow(img)\n",
    "    plt.imshow(img)"
   ]
  },
  {
   "cell_type": "code",
   "execution_count": 3,
   "metadata": {},
   "outputs": [],
   "source": [
    "import tensorflow as tf\n",
    "config = tf.compat.v1.ConfigProto()\n",
    "config.gpu_options.allow_growth = True\n",
    "session = tf.compat.v1.Session(config=config)"
   ]
  },
  {
   "cell_type": "code",
   "execution_count": 4,
   "metadata": {},
   "outputs": [
    {
     "name": "stdout",
     "output_type": "stream",
     "text": "2.1.0\n2.3.1\n[PhysicalDevice(name='/physical_device:CPU:0', device_type='CPU'), PhysicalDevice(name='/physical_device:XLA_CPU:0', device_type='XLA_CPU'), PhysicalDevice(name='/physical_device:XLA_GPU:0', device_type='XLA_GPU'), PhysicalDevice(name='/physical_device:GPU:0', device_type='GPU')]\nUsing TensorFlow backend.\n"
    }
   ],
   "source": [
    "import keras\n",
    "#from tensorflow import keras\n",
    "\n",
    "print(tf.__version__)\n",
    "print(keras.__version__)\n",
    "print(tf.config.experimental.list_physical_devices())"
   ]
  },
  {
   "cell_type": "code",
   "execution_count": 5,
   "metadata": {},
   "outputs": [],
   "source": [
    "from keras_video_datagen import ImageDataGenerator"
   ]
  },
  {
   "cell_type": "code",
   "execution_count": 6,
   "metadata": {},
   "outputs": [
    {
     "name": "stdout",
     "output_type": "stream",
     "text": "Found 13559 images belonging to 10 classes.\nFound 2366 images belonging to 10 classes.\n"
    }
   ],
   "source": [
    "datagen = ImageDataGenerator()\n",
    "\n",
    "train_data = datagen.flow_from_directory('data/train', \n",
    "                                         target_size=(70, 140), \n",
    "                                         batch_size=5, \n",
    "                                         frames_per_step=13, \n",
    "                                         shuffle=False, \n",
    "                                         color_mode='rgb')\n",
    "\n",
    "val_data = datagen.flow_from_directory('data/validation', \n",
    "                                       target_size=(70, 140), \n",
    "                                       batch_size=5, \n",
    "                                       frames_per_step=13, \n",
    "                                       shuffle=False, \n",
    "                                       color_mode='rgb')"
   ]
  },
  {
   "cell_type": "code",
   "execution_count": 7,
   "metadata": {},
   "outputs": [
    {
     "name": "stdout",
     "output_type": "stream",
     "text": "(5, 13, 70, 140, 3)\n(5, 10)\n[1. 0. 0. 0. 0. 0. 0. 0. 0. 0.]\n"
    }
   ],
   "source": [
    "x, y = train_data.next()\n",
    "\n",
    "print(x.shape)\n",
    "print(y.shape)\n",
    "\n",
    "print(y[0])"
   ]
  },
  {
   "cell_type": "code",
   "execution_count": 8,
   "metadata": {},
   "outputs": [
    {
     "name": "stdout",
     "output_type": "stream",
     "text": "209\n37\n"
    }
   ],
   "source": [
    "import math\n",
    "\n",
    "print(math.ceil(13559/(5*13)))\n",
    "print(math.ceil((2366/(5*13))))"
   ]
  },
  {
   "cell_type": "code",
   "execution_count": 9,
   "metadata": {},
   "outputs": [],
   "source": [
    "from keras.layers import *\n",
    "from keras.regularizers import *\n",
    "from keras.constraints import *"
   ]
  },
  {
   "cell_type": "code",
   "execution_count": 10,
   "metadata": {},
   "outputs": [],
   "source": [
    "model_small = keras.models.Sequential()\n",
    "\n",
    "model_small.add(ZeroPadding3D(padding=(1, 2, 2), input_shape=(13, 70, 140, 3)))\n",
    "model_small.add(Conv3D(32, (3, 5, 5), strides=(1, 2, 2), use_bias=False))\n",
    "model_small.add(BatchNormalization(momentum=0.99))\n",
    "model_small.add(Activation('relu'))\n",
    "model_small.add(MaxPooling3D(pool_size=(1, 2, 2), strides=(1, 2, 2)))\n",
    "\n",
    "model_small.add(ZeroPadding3D(padding=(1, 2, 2)))\n",
    "model_small.add(Conv3D(64, (3, 5, 5), strides=(1, 1, 1), use_bias=False))\n",
    "model_small.add(BatchNormalization(momentum=0.99))\n",
    "model_small.add(Activation('relu'))\n",
    "model_small.add(MaxPooling3D(pool_size=(1, 2, 2), strides=(1, 2, 2)))\n",
    "\n",
    "model_small.add(ZeroPadding3D(padding=(1, 1, 1)))\n",
    "model_small.add(Conv3D(96, (3, 3, 3), strides=(1, 2, 2), use_bias=False))\n",
    "model_small.add(BatchNormalization(momentum=0.99))\n",
    "model_small.add(Activation('relu'))\n",
    "model_small.add(MaxPooling3D(pool_size=(1, 2, 2), strides=(1, 2, 2)))\n",
    "\n",
    "model_small.add(TimeDistributed(Flatten()))\n",
    "\n",
    "model_small.add(Bidirectional(GRU(65, return_sequences=False, activation='tanh')))\n",
    "\n",
    "model_small.add(Dense(10, activation='softmax'))"
   ]
  },
  {
   "cell_type": "code",
   "execution_count": 11,
   "metadata": {},
   "outputs": [],
   "source": [
    "adam = keras.optimizers.Adam(lr=0.001)\n",
    "sgd = keras.optimizers.SGD(lr=1e-4, momentum=0.95, nesterov=True)\n",
    "save_weights = keras.callbacks.ModelCheckpoint('model_small.hdf5', save_best_only=True, monitor='loss', mode='min')\n",
    "model_small.compile(loss='categorical_crossentropy', optimizer=sgd, metrics=['accuracy'])\n",
    "# model_small.summary()"
   ]
  },
  {
   "cell_type": "code",
   "execution_count": 12,
   "metadata": {},
   "outputs": [
    {
     "name": "stdout",
     "output_type": "stream",
     "text": "file removed\n"
    }
   ],
   "source": [
    "import os\n",
    "try:\n",
    "    os.remove('model_small.hdf5')\n",
    "    print('file removed')\n",
    "except:\n",
    "    print('file is not there')"
   ]
  },
  {
   "cell_type": "code",
   "execution_count": 13,
   "metadata": {},
   "outputs": [
    {
     "name": "stdout",
     "output_type": "stream",
     "text": "Epoch 1/100\n209/209 [==============================] - 44s 210ms/step - loss: 2.7073 - accuracy: 0.3001 - val_loss: 0.1462 - val_accuracy: 0.0714\nEpoch 2/100\n209/209 [==============================] - 39s 188ms/step - loss: 3.4448 - accuracy: 0.0000e+00 - val_loss: 1.8821 - val_accuracy: 0.1044\nEpoch 3/100\n209/209 [==============================] - 39s 188ms/step - loss: 3.2235 - accuracy: 0.0000e+00 - val_loss: 1.7996 - val_accuracy: 0.1099\nEpoch 4/100\n209/209 [==============================] - 40s 192ms/step - loss: 3.0678 - accuracy: 9.5877e-04 - val_loss: 1.8889 - val_accuracy: 0.1099\nEpoch 5/100\n209/209 [==============================] - 40s 190ms/step - loss: 2.9452 - accuracy: 0.0038 - val_loss: 1.9845 - val_accuracy: 0.1264\nEpoch 6/100\n209/209 [==============================] - 40s 189ms/step - loss: 2.8209 - accuracy: 0.0086 - val_loss: 2.2438 - val_accuracy: 0.1099\nEpoch 7/100\n209/209 [==============================] - 40s 192ms/step - loss: 2.6235 - accuracy: 0.0153 - val_loss: 2.2496 - val_accuracy: 0.0769\nEpoch 8/100\n106/209 [==============>...............] - ETA: 19s - loss: 2.5747 - accuracy: 0.0075"
    }
   ],
   "source": [
    "history = model_small.fit_generator(train_data, epochs=100, steps_per_epoch=209, \n",
    "                                    validation_data=val_data, validation_steps=37, callbacks=[save_weights], shuffle=False)"
   ]
  },
  {
   "cell_type": "markdown",
   "execution_count": null,
   "metadata": {},
   "outputs": [],
   "source": [
    "## Plot results"
   ]
  },
  {
   "cell_type": "code",
   "execution_count": null,
   "metadata": {},
   "outputs": [],
   "source": [
    "# !pip install seaborn\n",
    "\n",
    "import matplotlib.pyplot as plt\n",
    "import seaborn as sn\n",
    "import pandas as pd\n",
    "import matplotlib.pyplot as plt\n",
    "from sklearn.metrics import classification_report, confusion_matrix, plot_confusion_matrix\n",
    "\n",
    "fig, (ax1, ax2) = plt.subplots(1, 2, figsize=(18,7))\n",
    "\n",
    "fig.set_facecolor(\"white\")\n",
    "fig.suptitle((\n",
    "    'SGD(lr=5e-4, momentum=0.85, nesterov=True)\\n\\\n",
    "    loss: 0.0348 - accuracy: 1.0000 - val_loss: 3.7571 - val_accuracy: 0.3311'), fontsize=16, color='black', backgroundcolor='white')\n",
    "\n",
    "ax1.plot(history.history['accuracy'])\n",
    "ax1.plot(history.history['val_accuracy'])\n",
    "ax1.set_xticks(np.arange(0, len(history.history['accuracy']) + 10, 10))\n",
    "ax1.set_yticks(np.arange(0, 1.1, 0.1))\n",
    "ax1.tick_params(axis='both', colors='black')\n",
    "\n",
    "ax1.set_ylabel('Acuracy')\n",
    "ax1.set_xlabel('Epochs')\n",
    "ax1.yaxis.label.set_color('black')\n",
    "ax1.yaxis.label.set_fontsize(14)\n",
    "ax1.xaxis.label.set_color('black')\n",
    "ax1.xaxis.label.set_fontsize(14)\n",
    "\n",
    "ax1.grid(axis = 'both')\n",
    "ax1.legend(['train', 'test'], loc='upper left')\n",
    "\n",
    "ax2.plot(history.history['loss'])\n",
    "ax2.plot(history.history['val_loss'])\n",
    "ax2.set_xticks(np.arange(0, len(history.history['loss']) + 10, 10))\n",
    "ax2.set_yticks(np.arange(0, max(history.history['loss']) + 0.5, 0.3))\n",
    "ax2.tick_params(axis='both', colors='black')\n",
    "\n",
    "ax2.set_ylabel('Loss')\n",
    "ax2.set_xlabel('Epochs')\n",
    "ax2.yaxis.label.set_color('black')\n",
    "ax2.yaxis.label.set_fontsize(14)\n",
    "ax2.xaxis.label.set_color('black')\n",
    "ax2.xaxis.label.set_fontsize(14)\n",
    "\n",
    "ax2.grid(axis = 'both')\n",
    "ax2.legend(['train', 'test'], loc='upper left')\n",
    "\n",
    "fig.show()"
   ]
  },
  {
   "cell_type": "code",
   "execution_count": null,
   "metadata": {},
   "outputs": [],
   "source": [
    "val_data2 = datagen.flow_from_directory('data/validation', \n",
    "                                       target_size=(70, 140), \n",
    "                                       batch_size=1, \n",
    "                                       frames_per_step=13, \n",
    "                                       shuffle=False, \n",
    "                                       color_mode='rgb')\n",
    "\n",
    "val_classes = []\n",
    "\n",
    "for i in list(range(0, int(len(val_data2.classes)), 10)):\n",
    "    val_classes.append(int(np.mean(np.array(val_data2.classes[i:i+10]))))"
   ]
  },
  {
   "cell_type": "code",
   "execution_count": null,
   "metadata": {},
   "outputs": [],
   "source": [
    "Y_pred = model_small.predict_generator(val_data2, 151)\n",
    "y_pred = np.rint(np.argmax(Y_pred, axis=1))"
   ]
  },
  {
   "cell_type": "code",
   "execution_count": null,
   "metadata": {},
   "outputs": [],
   "source": []
  },
  {
   "cell_type": "code",
   "execution_count": null,
   "metadata": {},
   "outputs": [],
   "source": [
    "target_names = 'Begin, Choose, Connection, Navigation, Next, Previous, Start, Stop, Hello, Web'\n",
    "target_names = target_names.split(', ')\n",
    "\n",
    "fig, ax1 = plt.subplots(1, 1, figsize=(10, 8))\n",
    "\n",
    "array = confusion_matrix(val_classes, y_pred)\n",
    "\n",
    "df_cm = pd.DataFrame(array, index = [i for i in target_names],\n",
    "                  columns = [i for i in target_names])\n",
    "\n",
    "ax1 = sn.heatmap(df_cm, annot=True)\n",
    "fig.set_facecolor(\"white\")\n",
    "fig.suptitle((\n",
    "    'SGD(lr=5e-4, momentum=0.85, nesterov=True)\\n\\\n",
    "    loss: 0.0348 - accuracy: 1.0000 - val_loss: 3.7571 - val_accuracy: 0.3311'), fontsize=16, color='Black')\n",
    "fig.show()"
   ]
  },
  {
   "cell_type": "code",
   "execution_count": null,
   "metadata": {},
   "outputs": [],
   "source": [
    "print(classification_report(val_classes, y_pred, target_names=target_names))"
   ]
  },
  {
   "cell_type": "code",
   "execution_count": null,
   "metadata": {},
   "outputs": [],
   "source": []
  }
 ],
 "metadata": {
  "accelerator": "GPU",
  "colab": {
   "collapsed_sections": [],
   "name": "lr.ipynb",
   "provenance": []
  },
  "kernelspec": {
   "display_name": "Python 3",
   "language": "python",
   "name": "python3"
  },
  "language_info": {
   "codemirror_mode": {
    "name": "ipython",
    "version": 3
   },
   "file_extension": ".py",
   "mimetype": "text/x-python",
   "name": "python",
   "nbconvert_exporter": "python",
   "pygments_lexer": "ipython3",
   "version": "3.6.10-final"
  }
 },
 "nbformat": 4,
 "nbformat_minor": 1
}