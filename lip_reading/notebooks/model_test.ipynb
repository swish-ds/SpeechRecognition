{
 "cells": [
  {
   "cell_type": "code",
   "execution_count": 87,
   "metadata": {
    "collapsed": true
   },
   "outputs": [],
   "source": [
    "import glob\n",
    "import os\n",
    "import random as rn\n",
    "\n",
    "import cv2\n",
    "import numpy as np\n",
    "import tensorflow as tf\n",
    "from tqdm import tqdm\n",
    "\n",
    "%matplotlib inline"
   ]
  },
  {
   "cell_type": "code",
   "execution_count": 88,
   "outputs": [],
   "source": [
    "file = open('../utils/envs', 'r')\n",
    "lines = file.readlines()\n",
    "\n",
    "repo_dir = seed = None\n",
    "for line in lines:\n",
    "       if 'LRDIR' in line:\n",
    "           repo_dir = line.split('=')[-1]\n",
    "       elif 'PYTHONHASHSEED' in line:\n",
    "           seed = line.split('=')[-1]\n",
    "\n",
    "os.environ['LRDIR'] = repo_dir\n",
    "os.environ['PYTHONHASHSEED'] = seed\n",
    "\n",
    "from utils import global_params\n",
    "\n",
    "rn.seed(global_params.rn_seed)\n",
    "np.random.seed(global_params.np_random_seed)\n",
    "tf.random.set_seed(global_params.tf_random)"
   ],
   "metadata": {
    "collapsed": false,
    "pycharm": {
     "name": "#%%\n"
    }
   }
  },
  {
   "cell_type": "code",
   "execution_count": 89,
   "outputs": [
    {
     "name": "stdout",
     "output_type": "stream",
     "text": [
      "1 Physical GPUs, 1 Logical GPUs\n"
     ]
    }
   ],
   "source": [
    "gpus = tf.config.experimental.list_physical_devices('GPU')\n",
    "\n",
    "if gpus:\n",
    "    try:\n",
    "        for gpu in gpus:\n",
    "            tf.config.experimental.set_memory_growth(gpu, True)\n",
    "            logical_gpus = tf.config.experimental.list_logical_devices('GPU')\n",
    "            print(len(gpus), \"Physical GPUs,\", len(logical_gpus), \"Logical GPUs\")\n",
    "    except RuntimeError as e:\n",
    "        print(e)"
   ],
   "metadata": {
    "collapsed": false,
    "pycharm": {
     "name": "#%%\n"
    }
   }
  },
  {
   "cell_type": "code",
   "execution_count": 90,
   "outputs": [
    {
     "name": "stdout",
     "output_type": "stream",
     "text": [
      "Classes: ['Begin', 'Choose', 'Connection', 'Navigation', 'Next', 'Previous', 'Start', 'Stop', 'Hello', 'Web']\n",
      "Classes dict: {'01': 'Begin', '02': 'Choose', '03': 'Connection', '04': 'Navigation', '05': 'Next', '06': 'Previous', '07': 'Start', '08': 'Stop', '09': 'Hello', '10': 'Web'}\n"
     ]
    }
   ],
   "source": [
    "classes = global_params.classes\n",
    "print('Classes:', classes)\n",
    "classes_num = ['0' + str(i) if i < 10 else str(i) for i in range(1, len(classes) + 1)]\n",
    "word_ids = ['0' + str(i) if i < 10 else str(i) for i in range(1, 11)]\n",
    "classes_dict = dict(zip(classes_num, classes))\n",
    "print('Classes dict:', classes_dict)"
   ],
   "metadata": {
    "collapsed": false,
    "pycharm": {
     "name": "#%%\n"
    }
   }
  },
  {
   "cell_type": "code",
   "execution_count": 91,
   "outputs": [
    {
     "name": "stdout",
     "output_type": "stream",
     "text": [
      "Test directory cleared\n",
      "Test directory filled\n",
      "Test directory filled\n"
     ]
    }
   ],
   "source": [
    "repo_dir = os.environ['LRDIR'][:-1]\n",
    "base_dir = os.path.join(os.environ['LRDIR'][:-1], 'lip_reading/data/')\n",
    "test_dir = os.path.join(base_dir[:-1], 'test/')\n",
    "\n",
    "def remove_dirs():\n",
    "    try:\n",
    "        for root, dirs, files in os.walk(test_dir, topdown=False):\n",
    "            # for name in files:\n",
    "            #     os.remove(os.path.join(root, name))\n",
    "            for name in dirs:\n",
    "                os.rmdir(os.path.join(root, name))\n",
    "        # os.rmdir(test_dir)\n",
    "        print('Test directory cleared')\n",
    "    except IOError as e:\n",
    "        print('Error: ', e)\n",
    "\n",
    "\n",
    "def create_dirs(prefix):\n",
    "    for class_name in classes:\n",
    "        test_vids_dir = os.path.join(test_dir, prefix + class_name)\n",
    "        try:\n",
    "            os.makedirs(test_vids_dir)\n",
    "        except IOError as e:\n",
    "            print('Error: ', e)\n",
    "    print('Test directory filled')\n",
    "\n",
    "remove_dirs()\n",
    "create_dirs('')\n",
    "create_dirs('_')"
   ],
   "metadata": {
    "collapsed": false,
    "pycharm": {
     "name": "#%%\n"
    }
   }
  },
  {
   "cell_type": "code",
   "execution_count": 92,
   "outputs": [
    {
     "name": "stdout",
     "output_type": "stream",
     "text": [
      "../data/test/01_M01_01.mov\n"
     ]
    }
   ],
   "source": [
    "filenames = sorted(glob.glob(\"../data/test/*.mov\"))\n",
    "print(filenames[0])"
   ],
   "metadata": {
    "collapsed": false,
    "pycharm": {
     "name": "#%%\n"
    }
   }
  },
  {
   "cell_type": "code",
   "execution_count": 93,
   "outputs": [
    {
     "name": "stderr",
     "output_type": "stream",
     "text": [
      "100%|██████████| 10/10 [00:08<00:00,  1.17it/s]\n"
     ]
    }
   ],
   "source": [
    "# 01_F05_01_color_001\n",
    "for id in tqdm(range(len(filenames))):\n",
    "    count = 1\n",
    "    video_file = filenames[id]\n",
    "    class_id = video_file.split('/')[-1].split('_')[0]\n",
    "    video_name = video_file.split('/')[-1].split('.')[0]\n",
    "    cap = cv2.VideoCapture(video_file)\n",
    "    frameRate = cap.get(cv2.CAP_PROP_FPS)\n",
    "    frame_count = int(cap.get(cv2.CAP_PROP_FRAME_COUNT))\n",
    "\n",
    "    while cap.isOpened():\n",
    "        frame_id = cap.get(1) #current frame number\n",
    "        success, frame = cap.read()\n",
    "        if not success:\n",
    "            break\n",
    "        if not frame_id % 2:\n",
    "            filename = '../data/test/' + '_' + classes_dict[class_id] + '/'\\\n",
    "                       + video_name + '_color_%s.jpg' % str(count).zfill(3)\n",
    "            cv2.imwrite(filename, frame)\n",
    "            count += 1\n",
    "\n",
    "    cap.release()"
   ],
   "metadata": {
    "collapsed": false,
    "pycharm": {
     "name": "#%%\n"
    }
   }
  },
  {
   "cell_type": "code",
   "execution_count": 94,
   "outputs": [],
   "source": [
    "predictor_path = global_params.predictor_path\n",
    "detector = global_params.detector\n",
    "predictor = global_params.predictor\n",
    "\n",
    "size_x = 140\n",
    "size_y = 70\n",
    "scale = 100"
   ],
   "metadata": {
    "collapsed": false,
    "pycharm": {
     "name": "#%%\n"
    }
   }
  },
  {
   "cell_type": "code",
   "execution_count": 95,
   "outputs": [
    {
     "name": "stderr",
     "output_type": "stream",
     "text": [
      "100%|██████████| 10/10 [00:33<00:00,  3.30s/it]\n"
     ]
    }
   ],
   "source": [
    "# 001_01_F05_01_color_001\n",
    "def extract_crop():\n",
    "    for classi in tqdm(classes_num[:]):\n",
    "        for f in sorted(glob.glob(os.path.join('../data/test/' + '_' + classes_dict[classi], '*.jpg'))):\n",
    "            img = cv2.imread(f, 1)\n",
    "            gray = cv2.cvtColor(img, cv2.COLOR_BGR2GRAY)\n",
    "            rects = detector(gray)\n",
    "\n",
    "            for k, rect in enumerate(rects):\n",
    "                shape = predictor(gray, rect)\n",
    "\n",
    "                x_51 = shape.part(51).x\n",
    "                y_51 = shape.part(51).y\n",
    "                x_57 = shape.part(57).x\n",
    "                y_57 = shape.part(57).y\n",
    "\n",
    "                x1_m = x_51 - 18\n",
    "                y1_m = y_51 - 7\n",
    "                x2_m = x_57 + 18\n",
    "                y2_m = y_57 + 9\n",
    "\n",
    "                offset_x_m = (size_x - (abs(x1_m - x2_m))) / 2\n",
    "                offset_y_m = (size_y - (abs(y1_m - y2_m))) / 2\n",
    "\n",
    "                img = img[int(y1_m - offset_y_m):int(y2_m + offset_y_m),\n",
    "                      int(x1_m - offset_x_m):int(x2_m + offset_x_m)]\n",
    "\n",
    "            savename = '../data/test/' + classes_dict[classi] + '/' + f.split('/')[-1]\n",
    "            cv2.imwrite(savename, img)\n",
    "\n",
    "extract_crop()"
   ],
   "metadata": {
    "collapsed": false,
    "pycharm": {
     "name": "#%%\n"
    }
   }
  },
  {
   "cell_type": "code",
   "execution_count": 0,
   "outputs": [],
   "source": [],
   "metadata": {
    "collapsed": false,
    "pycharm": {
     "name": "#%%\n"
    }
   }
  },
  {
   "cell_type": "code",
   "execution_count": 0,
   "outputs": [],
   "source": [],
   "metadata": {
    "collapsed": false,
    "pycharm": {
     "name": "#%%\n"
    }
   }
  },
  {
   "cell_type": "code",
   "execution_count": 0,
   "outputs": [],
   "source": [],
   "metadata": {
    "collapsed": false,
    "pycharm": {
     "name": "#%%\n"
    }
   }
  },
  {
   "cell_type": "code",
   "execution_count": 0,
   "outputs": [],
   "source": [],
   "metadata": {
    "collapsed": false,
    "pycharm": {
     "name": "#%%\n"
    }
   }
  },
  {
   "cell_type": "code",
   "execution_count": null,
   "outputs": [],
   "source": [
    "\n"
   ],
   "metadata": {
    "collapsed": false,
    "pycharm": {
     "name": "#%%\n"
    }
   }
  }
 ],
 "metadata": {
  "kernelspec": {
   "display_name": "Python 3",
   "language": "python",
   "name": "python3"
  },
  "language_info": {
   "codemirror_mode": {
    "name": "ipython",
    "version": 2
   },
   "file_extension": ".py",
   "mimetype": "text/x-python",
   "name": "python",
   "nbconvert_exporter": "python",
   "pygments_lexer": "ipython2",
   "version": "2.7.6"
  }
 },
 "nbformat": 4,
 "nbformat_minor": 0
}