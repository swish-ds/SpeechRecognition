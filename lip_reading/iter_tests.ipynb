{
 "cells": [
  {
   "cell_type": "code",
   "execution_count": 1,
   "metadata": {
    "collapsed": true
   },
   "outputs": [],
   "source": [
    "import os\n",
    "import multiprocessing\n",
    "from functools import partial\n",
    "import numpy as np\n",
    "\n",
    "from keras_video_datagen import ImageDataGenerator"
   ]
  },
  {
   "cell_type": "code",
   "execution_count": 2,
   "outputs": [
    {
     "name": "stdout",
     "output_type": "stream",
     "text": [
      "Found 480 images belonging to 2 classes.\n",
      "Found 480 images belonging to 2 classes.\n"
     ]
    }
   ],
   "source": [
    "datagen = ImageDataGenerator()\n",
    "\n",
    "train_data = datagen.flow_from_directory('data/train',\n",
    "                                         target_size=(70, 140),\n",
    "                                         batch_size=2,\n",
    "                                         frames_per_step=12,\n",
    "                                         shuffle=False,\n",
    "                                         color_mode='rgb')\n",
    "\n",
    "val_data = datagen.flow_from_directory('data/validation',\n",
    "                                       target_size=(1, 140),\n",
    "                                       batch_size=2,\n",
    "                                       frames_per_step=12,\n",
    "                                       shuffle=False,\n",
    "                                       color_mode='rgb')"
   ],
   "metadata": {
    "collapsed": false,
    "pycharm": {
     "name": "#%%\n"
    }
   }
  },
  {
   "cell_type": "code",
   "execution_count": 3,
   "outputs": [
    {
     "name": "stdout",
     "output_type": "stream",
     "text": [
      "n: 480\n",
      "self.batch_index: 0\n",
      "index_array: [0, 1, 2, 3 ... 476, 477, 478, 479]\n",
      "++current_index = (0 * 2 * 12) % 480 = 0\n",
      "current_index + batch_size * frames_per_step = 0 + 2 * 12 = 24\n",
      "n > 24\n",
      "++current_batch_size =  2\n",
      "++index_array[0:0+12*2]: [0, 1, 2, 3 ... 20, 21, 22, 23]\n",
      "\n",
      "\n",
      "index_array: [0, 1, 2, 3 ... 20, 21, 22, 23]\n",
      "current_index: 0\n",
      "current_batch_size: 2\n",
      "batch_x.shape:  (2, 12, 70, 140, 3)\n"
     ]
    }
   ],
   "source": [
    "x, y, kek = train_data.next()\n",
    "\n",
    "# print(x.shape)\n",
    "# print(y.shape)\n",
    "#\n",
    "# print(y, end='\\n\\n')\n",
    "\n",
    "# x, y, kek = val_data.next()\n",
    "#\n",
    "# print(x.shape)\n",
    "# print(y.shape)\n",
    "#\n",
    "# print(y)"
   ],
   "metadata": {
    "collapsed": false,
    "pycharm": {
     "name": "#%%\n"
    }
   }
  },
  {
   "cell_type": "code",
   "execution_count": 3,
   "outputs": [],
   "source": [],
   "metadata": {
    "collapsed": false,
    "pycharm": {
     "name": "#%%\n"
    }
   }
  },
  {
   "cell_type": "code",
   "execution_count": 3,
   "outputs": [],
   "source": [],
   "metadata": {
    "collapsed": false,
    "pycharm": {
     "name": "#%%\n"
    }
   }
  },
  {
   "cell_type": "code",
   "execution_count": 3,
   "outputs": [],
   "source": [],
   "metadata": {
    "collapsed": false,
    "pycharm": {
     "name": "#%%\n"
    }
   }
  },
  {
   "cell_type": "code",
   "execution_count": 4,
   "outputs": [
    {
     "name": "stdout",
     "output_type": "stream",
     "text": [
      "['Begin', 'Web']\n",
      "{'Begin': 0, 'Web': 1}\n"
     ]
    }
   ],
   "source": [
    "directory = 'data/train/'\n",
    "\n",
    "classes = []\n",
    "\n",
    "for subdir in sorted(os.listdir(directory)):\n",
    "    if os.path.isdir(os.path.join(directory, subdir)):\n",
    "        classes.append(subdir)\n",
    "print(classes)\n",
    "\n",
    "class_indices = dict(zip(classes, range(len(classes))))\n",
    "print(class_indices)\n"
   ],
   "metadata": {
    "collapsed": false,
    "pycharm": {
     "name": "#%%\n"
    }
   }
  },
  {
   "cell_type": "code",
   "execution_count": 5,
   "outputs": [],
   "source": [
    "def _count_valid_files_in_directory(directory, white_list_formats, follow_links):\n",
    "    def _recursive_list(subpath):\n",
    "        return sorted(os.walk(subpath, followlinks=follow_links), key=lambda tpl: tpl[0])\n",
    "\n",
    "    samples = 0\n",
    "    for _, _, files in _recursive_list(directory):\n",
    "        for fname in sorted(files):\n",
    "            is_valid = False\n",
    "            for extension in white_list_formats:\n",
    "                if fname.lower().endswith('.' + extension):\n",
    "                    is_valid = True\n",
    "                    break\n",
    "            if is_valid:\n",
    "                samples += 1\n",
    "    return samples\n",
    "\n",
    "white_list_formats = {'png', 'jpg', 'jpeg', 'bmp', 'ppm'}\n",
    "follow_links=False"
   ],
   "metadata": {
    "collapsed": false,
    "pycharm": {
     "name": "#%%\n"
    }
   }
  },
  {
   "cell_type": "code",
   "execution_count": 6,
   "outputs": [],
   "source": [
    "def _list_valid_filenames_in_directory(directory, white_list_formats,\n",
    "                                       class_indices, follow_links):\n",
    "\n",
    "    def _recursive_list(subpath):\n",
    "        return sorted(os.walk(subpath, followlinks=follow_links), key=lambda tpl: tpl[0])\n",
    "\n",
    "    classes = []\n",
    "    filenames = []\n",
    "    subdir = os.path.basename(directory)\n",
    "    basedir = os.path.dirname(directory)\n",
    "\n",
    "    for root, _, files in _recursive_list(directory):\n",
    "        for fname in sorted(files):\n",
    "            is_valid = False\n",
    "            for extension in white_list_formats:\n",
    "                if fname.lower().endswith('.' + extension):\n",
    "                    is_valid = True\n",
    "                    break\n",
    "            if is_valid:\n",
    "                classes.append(class_indices[subdir])\n",
    "                # add filename relative to directory\n",
    "                absolute_path = os.path.join(root, fname)\n",
    "                filenames.append(os.path.relpath(absolute_path, basedir))\n",
    "\n",
    "    return classes, filenames"
   ],
   "metadata": {
    "collapsed": false,
    "pycharm": {
     "name": "#%%\n"
    }
   }
  },
  {
   "cell_type": "code",
   "execution_count": 7,
   "outputs": [
    {
     "name": "stdout",
     "output_type": "stream",
     "text": [
      "480\n"
     ]
    }
   ],
   "source": [
    "pool = multiprocessing.pool.ThreadPool()\n",
    "function_partial = partial(_count_valid_files_in_directory,\n",
    "                           white_list_formats=white_list_formats,\n",
    "                           follow_links=follow_links)\n",
    "samples = sum(pool.map(function_partial,\n",
    "                       (os.path.join(directory, subdir)\n",
    "                        for subdir in classes)))\n",
    "\n",
    "print(int(samples))"
   ],
   "metadata": {
    "collapsed": false,
    "pycharm": {
     "name": "#%%\n"
    }
   }
  },
  {
   "cell_type": "code",
   "execution_count": 8,
   "outputs": [
    {
     "name": "stdout",
     "output_type": "stream",
     "text": [
      "self_classes[0:0 + 240]: [0 0 0 0 0 0 0 0 0 0 0 0 0 0 0 0 0 0 0 0 0 0 0 0 0 0 0 0 0 0 0 0 0 0 0 0 0\n",
      " 0 0 0 0 0 0 0 0 0 0 0 0 0 0 0 0 0 0 0 0 0 0 0 0 0 0 0 0 0 0 0 0 0 0 0 0 0\n",
      " 0 0 0 0 0 0 0 0 0 0 0 0 0 0 0 0 0 0 0 0 0 0 0 0 0 0 0 0 0 0 0 0 0 0 0 0 0\n",
      " 0 0 0 0 0 0 0 0 0 0 0 0 0 0 0 0 0 0 0 0 0 0 0 0 0 0 0 0 0 0 0 0 0 0 0 0 0\n",
      " 0 0 0 0 0 0 0 0 0 0 0 0 0 0 0 0 0 0 0 0 0 0 0 0 0 0 0 0 0 0 0 0 0 0 0 0 0\n",
      " 0 0 0 0 0 0 0 0 0 0 0 0 0 0 0 0 0 0 0 0 0 0 0 0 0 0 0 0 0 0 0 0 0 0 0 0 0\n",
      " 0 0 0 0 0 0 0 0 0 0 0 0 0 0 0 0 0 0]\n",
      "self_classes[240:240 + 240]: [1 1 1 1 1 1 1 1 1 1 1 1 1 1 1 1 1 1 1 1 1 1 1 1 1 1 1 1 1 1 1 1 1 1 1 1 1\n",
      " 1 1 1 1 1 1 1 1 1 1 1 1 1 1 1 1 1 1 1 1 1 1 1 1 1 1 1 1 1 1 1 1 1 1 1 1 1\n",
      " 1 1 1 1 1 1 1 1 1 1 1 1 1 1 1 1 1 1 1 1 1 1 1 1 1 1 1 1 1 1 1 1 1 1 1 1 1\n",
      " 1 1 1 1 1 1 1 1 1 1 1 1 1 1 1 1 1 1 1 1 1 1 1 1 1 1 1 1 1 1 1 1 1 1 1 1 1\n",
      " 1 1 1 1 1 1 1 1 1 1 1 1 1 1 1 1 1 1 1 1 1 1 1 1 1 1 1 1 1 1 1 1 1 1 1 1 1\n",
      " 1 1 1 1 1 1 1 1 1 1 1 1 1 1 1 1 1 1 1 1 1 1 1 1 1 1 1 1 1 1 1 1 1 1 1 1 1\n",
      " 1 1 1 1 1 1 1 1 1 1 1 1 1 1 1 1 1 1]\n",
      "\n",
      "\n",
      "len(results) 2\n",
      "len(results[0].get())): 2\n",
      "results[0].get(): ([0, 0, 0, 0, 0, 0, 0, 0, 0, 0, 0, 0, 0, 0, 0, 0, 0, 0, 0, 0, 0, 0, 0, 0, 0, 0, 0, 0, 0, 0, 0, 0, 0, 0, 0, 0, 0, 0, 0, 0, 0, 0, 0, 0, 0, 0, 0, 0, 0, 0, 0, 0, 0, 0, 0, 0, 0, 0, 0, 0, 0, 0, 0, 0, 0, 0, 0, 0, 0, 0, 0, 0, 0, 0, 0, 0, 0, 0, 0, 0, 0, 0, 0, 0, 0, 0, 0, 0, 0, 0, 0, 0, 0, 0, 0, 0, 0, 0, 0, 0, 0, 0, 0, 0, 0, 0, 0, 0, 0, 0, 0, 0, 0, 0, 0, 0, 0, 0, 0, 0, 0, 0, 0, 0, 0, 0, 0, 0, 0, 0, 0, 0, 0, 0, 0, 0, 0, 0, 0, 0, 0, 0, 0, 0, 0, 0, 0, 0, 0, 0, 0, 0, 0, 0, 0, 0, 0, 0, 0, 0, 0, 0, 0, 0, 0, 0, 0, 0, 0, 0, 0, 0, 0, 0, 0, 0, 0, 0, 0, 0, 0, 0, 0, 0, 0, 0, 0, 0, 0, 0, 0, 0, 0, 0, 0, 0, 0, 0, 0, 0, 0, 0, 0, 0, 0, 0, 0, 0, 0, 0, 0, 0, 0, 0, 0, 0, 0, 0, 0, 0, 0, 0, 0, 0, 0, 0, 0, 0, 0, 0, 0, 0, 0, 0, 0, 0, 0, 0, 0, 0], ['Begin/01_F01_01_color_001.jpg', 'Begin/01_F01_01_color_002.jpg', 'Begin/01_F01_01_color_003.jpg', 'Begin/01_F01_01_color_004.jpg', 'Begin/01_F01_01_color_005.jpg', 'Begin/01_F01_01_color_006.jpg', 'Begin/01_F01_01_color_007.jpg', 'Begin/01_F01_01_color_008.jpg', 'Begin/01_F01_01_color_009.jpg', 'Begin/01_F01_01_color_010.jpg', 'Begin/01_F01_01_color_011.jpg', 'Begin/01_F01_01_color_012.jpg', 'Begin/01_F01_02_color_001.jpg', 'Begin/01_F01_02_color_002.jpg', 'Begin/01_F01_02_color_003.jpg', 'Begin/01_F01_02_color_004.jpg', 'Begin/01_F01_02_color_005.jpg', 'Begin/01_F01_02_color_006.jpg', 'Begin/01_F01_02_color_007.jpg', 'Begin/01_F01_02_color_008.jpg', 'Begin/01_F01_02_color_009.jpg', 'Begin/01_F01_02_color_010.jpg', 'Begin/01_F01_02_color_011.jpg', 'Begin/01_F01_02_color_012.jpg', 'Begin/01_F01_03_color_001.jpg', 'Begin/01_F01_03_color_002.jpg', 'Begin/01_F01_03_color_003.jpg', 'Begin/01_F01_03_color_004.jpg', 'Begin/01_F01_03_color_005.jpg', 'Begin/01_F01_03_color_006.jpg', 'Begin/01_F01_03_color_007.jpg', 'Begin/01_F01_03_color_008.jpg', 'Begin/01_F01_03_color_009.jpg', 'Begin/01_F01_03_color_010.jpg', 'Begin/01_F01_03_color_011.jpg', 'Begin/01_F01_03_color_012.jpg', 'Begin/01_F01_04_color_001.jpg', 'Begin/01_F01_04_color_002.jpg', 'Begin/01_F01_04_color_003.jpg', 'Begin/01_F01_04_color_004.jpg', 'Begin/01_F01_04_color_005.jpg', 'Begin/01_F01_04_color_006.jpg', 'Begin/01_F01_04_color_007.jpg', 'Begin/01_F01_04_color_008.jpg', 'Begin/01_F01_04_color_009.jpg', 'Begin/01_F01_04_color_010.jpg', 'Begin/01_F01_04_color_011.jpg', 'Begin/01_F01_04_color_012.jpg', 'Begin/01_F01_05_color_001.jpg', 'Begin/01_F01_05_color_002.jpg', 'Begin/01_F01_05_color_003.jpg', 'Begin/01_F01_05_color_004.jpg', 'Begin/01_F01_05_color_005.jpg', 'Begin/01_F01_05_color_006.jpg', 'Begin/01_F01_05_color_007.jpg', 'Begin/01_F01_05_color_008.jpg', 'Begin/01_F01_05_color_009.jpg', 'Begin/01_F01_05_color_010.jpg', 'Begin/01_F01_05_color_011.jpg', 'Begin/01_F01_05_color_012.jpg', 'Begin/01_F01_06_color_001.jpg', 'Begin/01_F01_06_color_002.jpg', 'Begin/01_F01_06_color_003.jpg', 'Begin/01_F01_06_color_004.jpg', 'Begin/01_F01_06_color_005.jpg', 'Begin/01_F01_06_color_006.jpg', 'Begin/01_F01_06_color_007.jpg', 'Begin/01_F01_06_color_008.jpg', 'Begin/01_F01_06_color_009.jpg', 'Begin/01_F01_06_color_010.jpg', 'Begin/01_F01_06_color_011.jpg', 'Begin/01_F01_06_color_012.jpg', 'Begin/01_F01_07_color_001.jpg', 'Begin/01_F01_07_color_002.jpg', 'Begin/01_F01_07_color_003.jpg', 'Begin/01_F01_07_color_004.jpg', 'Begin/01_F01_07_color_005.jpg', 'Begin/01_F01_07_color_006.jpg', 'Begin/01_F01_07_color_007.jpg', 'Begin/01_F01_07_color_008.jpg', 'Begin/01_F01_07_color_009.jpg', 'Begin/01_F01_07_color_010.jpg', 'Begin/01_F01_07_color_011.jpg', 'Begin/01_F01_07_color_012.jpg', 'Begin/01_F01_08_color_001.jpg', 'Begin/01_F01_08_color_002.jpg', 'Begin/01_F01_08_color_003.jpg', 'Begin/01_F01_08_color_004.jpg', 'Begin/01_F01_08_color_005.jpg', 'Begin/01_F01_08_color_006.jpg', 'Begin/01_F01_08_color_007.jpg', 'Begin/01_F01_08_color_008.jpg', 'Begin/01_F01_08_color_009.jpg', 'Begin/01_F01_08_color_010.jpg', 'Begin/01_F01_08_color_011.jpg', 'Begin/01_F01_08_color_012.jpg', 'Begin/01_F01_09_color_001.jpg', 'Begin/01_F01_09_color_002.jpg', 'Begin/01_F01_09_color_003.jpg', 'Begin/01_F01_09_color_004.jpg', 'Begin/01_F01_09_color_005.jpg', 'Begin/01_F01_09_color_006.jpg', 'Begin/01_F01_09_color_007.jpg', 'Begin/01_F01_09_color_008.jpg', 'Begin/01_F01_09_color_009.jpg', 'Begin/01_F01_09_color_010.jpg', 'Begin/01_F01_09_color_011.jpg', 'Begin/01_F01_09_color_012.jpg', 'Begin/01_F01_10_color_001.jpg', 'Begin/01_F01_10_color_002.jpg', 'Begin/01_F01_10_color_003.jpg', 'Begin/01_F01_10_color_004.jpg', 'Begin/01_F01_10_color_005.jpg', 'Begin/01_F01_10_color_006.jpg', 'Begin/01_F01_10_color_007.jpg', 'Begin/01_F01_10_color_008.jpg', 'Begin/01_F01_10_color_009.jpg', 'Begin/01_F01_10_color_010.jpg', 'Begin/01_F01_10_color_011.jpg', 'Begin/01_F01_10_color_012.jpg', 'Begin/01_M01_01_color_001.jpg', 'Begin/01_M01_01_color_002.jpg', 'Begin/01_M01_01_color_003.jpg', 'Begin/01_M01_01_color_004.jpg', 'Begin/01_M01_01_color_005.jpg', 'Begin/01_M01_01_color_006.jpg', 'Begin/01_M01_01_color_007.jpg', 'Begin/01_M01_01_color_008.jpg', 'Begin/01_M01_01_color_009.jpg', 'Begin/01_M01_01_color_010.jpg', 'Begin/01_M01_01_color_011.jpg', 'Begin/01_M01_01_color_012.jpg', 'Begin/01_M01_02_color_001.jpg', 'Begin/01_M01_02_color_002.jpg', 'Begin/01_M01_02_color_003.jpg', 'Begin/01_M01_02_color_004.jpg', 'Begin/01_M01_02_color_005.jpg', 'Begin/01_M01_02_color_006.jpg', 'Begin/01_M01_02_color_007.jpg', 'Begin/01_M01_02_color_008.jpg', 'Begin/01_M01_02_color_009.jpg', 'Begin/01_M01_02_color_010.jpg', 'Begin/01_M01_02_color_011.jpg', 'Begin/01_M01_02_color_012.jpg', 'Begin/01_M01_03_color_001.jpg', 'Begin/01_M01_03_color_002.jpg', 'Begin/01_M01_03_color_003.jpg', 'Begin/01_M01_03_color_004.jpg', 'Begin/01_M01_03_color_005.jpg', 'Begin/01_M01_03_color_006.jpg', 'Begin/01_M01_03_color_007.jpg', 'Begin/01_M01_03_color_008.jpg', 'Begin/01_M01_03_color_009.jpg', 'Begin/01_M01_03_color_010.jpg', 'Begin/01_M01_03_color_011.jpg', 'Begin/01_M01_03_color_012.jpg', 'Begin/01_M01_04_color_001.jpg', 'Begin/01_M01_04_color_002.jpg', 'Begin/01_M01_04_color_003.jpg', 'Begin/01_M01_04_color_004.jpg', 'Begin/01_M01_04_color_005.jpg', 'Begin/01_M01_04_color_006.jpg', 'Begin/01_M01_04_color_007.jpg', 'Begin/01_M01_04_color_008.jpg', 'Begin/01_M01_04_color_009.jpg', 'Begin/01_M01_04_color_010.jpg', 'Begin/01_M01_04_color_011.jpg', 'Begin/01_M01_04_color_012.jpg', 'Begin/01_M01_05_color_001.jpg', 'Begin/01_M01_05_color_002.jpg', 'Begin/01_M01_05_color_003.jpg', 'Begin/01_M01_05_color_004.jpg', 'Begin/01_M01_05_color_005.jpg', 'Begin/01_M01_05_color_006.jpg', 'Begin/01_M01_05_color_007.jpg', 'Begin/01_M01_05_color_008.jpg', 'Begin/01_M01_05_color_009.jpg', 'Begin/01_M01_05_color_010.jpg', 'Begin/01_M01_05_color_011.jpg', 'Begin/01_M01_05_color_012.jpg', 'Begin/01_M01_06_color_001.jpg', 'Begin/01_M01_06_color_002.jpg', 'Begin/01_M01_06_color_003.jpg', 'Begin/01_M01_06_color_004.jpg', 'Begin/01_M01_06_color_005.jpg', 'Begin/01_M01_06_color_006.jpg', 'Begin/01_M01_06_color_007.jpg', 'Begin/01_M01_06_color_008.jpg', 'Begin/01_M01_06_color_009.jpg', 'Begin/01_M01_06_color_010.jpg', 'Begin/01_M01_06_color_011.jpg', 'Begin/01_M01_06_color_012.jpg', 'Begin/01_M01_07_color_001.jpg', 'Begin/01_M01_07_color_002.jpg', 'Begin/01_M01_07_color_003.jpg', 'Begin/01_M01_07_color_004.jpg', 'Begin/01_M01_07_color_005.jpg', 'Begin/01_M01_07_color_006.jpg', 'Begin/01_M01_07_color_007.jpg', 'Begin/01_M01_07_color_008.jpg', 'Begin/01_M01_07_color_009.jpg', 'Begin/01_M01_07_color_010.jpg', 'Begin/01_M01_07_color_011.jpg', 'Begin/01_M01_07_color_012.jpg', 'Begin/01_M01_08_color_001.jpg', 'Begin/01_M01_08_color_002.jpg', 'Begin/01_M01_08_color_003.jpg', 'Begin/01_M01_08_color_004.jpg', 'Begin/01_M01_08_color_005.jpg', 'Begin/01_M01_08_color_006.jpg', 'Begin/01_M01_08_color_007.jpg', 'Begin/01_M01_08_color_008.jpg', 'Begin/01_M01_08_color_009.jpg', 'Begin/01_M01_08_color_010.jpg', 'Begin/01_M01_08_color_011.jpg', 'Begin/01_M01_08_color_012.jpg', 'Begin/01_M01_09_color_001.jpg', 'Begin/01_M01_09_color_002.jpg', 'Begin/01_M01_09_color_003.jpg', 'Begin/01_M01_09_color_004.jpg', 'Begin/01_M01_09_color_005.jpg', 'Begin/01_M01_09_color_006.jpg', 'Begin/01_M01_09_color_007.jpg', 'Begin/01_M01_09_color_008.jpg', 'Begin/01_M01_09_color_009.jpg', 'Begin/01_M01_09_color_010.jpg', 'Begin/01_M01_09_color_011.jpg', 'Begin/01_M01_09_color_012.jpg', 'Begin/01_M01_10_color_001.jpg', 'Begin/01_M01_10_color_002.jpg', 'Begin/01_M01_10_color_003.jpg', 'Begin/01_M01_10_color_004.jpg', 'Begin/01_M01_10_color_005.jpg', 'Begin/01_M01_10_color_006.jpg', 'Begin/01_M01_10_color_007.jpg', 'Begin/01_M01_10_color_008.jpg', 'Begin/01_M01_10_color_009.jpg', 'Begin/01_M01_10_color_010.jpg', 'Begin/01_M01_10_color_011.jpg', 'Begin/01_M01_10_color_012.jpg', 'Begin/01_F01_01_color_001.jpg', 'Begin/01_F01_01_color_002.jpg', 'Begin/01_F01_01_color_003.jpg', 'Begin/01_F01_01_color_004.jpg', 'Begin/01_F01_01_color_005.jpg', 'Begin/01_F01_01_color_006.jpg', 'Begin/01_F01_01_color_007.jpg', 'Begin/01_F01_01_color_008.jpg', 'Begin/01_F01_01_color_009.jpg', 'Begin/01_F01_01_color_010.jpg', 'Begin/01_F01_01_color_011.jpg', 'Begin/01_F01_01_color_012.jpg', 'Begin/01_F01_02_color_001.jpg', 'Begin/01_F01_02_color_002.jpg', 'Begin/01_F01_02_color_003.jpg', 'Begin/01_F01_02_color_004.jpg', 'Begin/01_F01_02_color_005.jpg', 'Begin/01_F01_02_color_006.jpg', 'Begin/01_F01_02_color_007.jpg', 'Begin/01_F01_02_color_008.jpg', 'Begin/01_F01_02_color_009.jpg', 'Begin/01_F01_02_color_010.jpg', 'Begin/01_F01_02_color_011.jpg', 'Begin/01_F01_02_color_012.jpg', 'Begin/01_F01_03_color_001.jpg', 'Begin/01_F01_03_color_002.jpg', 'Begin/01_F01_03_color_003.jpg', 'Begin/01_F01_03_color_004.jpg', 'Begin/01_F01_03_color_005.jpg', 'Begin/01_F01_03_color_006.jpg', 'Begin/01_F01_03_color_007.jpg', 'Begin/01_F01_03_color_008.jpg', 'Begin/01_F01_03_color_009.jpg', 'Begin/01_F01_03_color_010.jpg', 'Begin/01_F01_03_color_011.jpg', 'Begin/01_F01_03_color_012.jpg', 'Begin/01_F01_04_color_001.jpg', 'Begin/01_F01_04_color_002.jpg', 'Begin/01_F01_04_color_003.jpg', 'Begin/01_F01_04_color_004.jpg', 'Begin/01_F01_04_color_005.jpg', 'Begin/01_F01_04_color_006.jpg', 'Begin/01_F01_04_color_007.jpg', 'Begin/01_F01_04_color_008.jpg', 'Begin/01_F01_04_color_009.jpg', 'Begin/01_F01_04_color_010.jpg', 'Begin/01_F01_04_color_011.jpg', 'Begin/01_F01_04_color_012.jpg', 'Begin/01_F01_05_color_001.jpg', 'Begin/01_F01_05_color_002.jpg', 'Begin/01_F01_05_color_003.jpg', 'Begin/01_F01_05_color_004.jpg', 'Begin/01_F01_05_color_005.jpg', 'Begin/01_F01_05_color_006.jpg', 'Begin/01_F01_05_color_007.jpg', 'Begin/01_F01_05_color_008.jpg', 'Begin/01_F01_05_color_009.jpg', 'Begin/01_F01_05_color_010.jpg', 'Begin/01_F01_05_color_011.jpg', 'Begin/01_F01_05_color_012.jpg', 'Begin/01_F01_06_color_001.jpg', 'Begin/01_F01_06_color_002.jpg', 'Begin/01_F01_06_color_003.jpg', 'Begin/01_F01_06_color_004.jpg', 'Begin/01_F01_06_color_005.jpg', 'Begin/01_F01_06_color_006.jpg', 'Begin/01_F01_06_color_007.jpg', 'Begin/01_F01_06_color_008.jpg', 'Begin/01_F01_06_color_009.jpg', 'Begin/01_F01_06_color_010.jpg', 'Begin/01_F01_06_color_011.jpg', 'Begin/01_F01_06_color_012.jpg', 'Begin/01_F01_07_color_001.jpg', 'Begin/01_F01_07_color_002.jpg', 'Begin/01_F01_07_color_003.jpg', 'Begin/01_F01_07_color_004.jpg', 'Begin/01_F01_07_color_005.jpg', 'Begin/01_F01_07_color_006.jpg', 'Begin/01_F01_07_color_007.jpg', 'Begin/01_F01_07_color_008.jpg', 'Begin/01_F01_07_color_009.jpg', 'Begin/01_F01_07_color_010.jpg', 'Begin/01_F01_07_color_011.jpg', 'Begin/01_F01_07_color_012.jpg', 'Begin/01_F01_08_color_001.jpg', 'Begin/01_F01_08_color_002.jpg', 'Begin/01_F01_08_color_003.jpg', 'Begin/01_F01_08_color_004.jpg', 'Begin/01_F01_08_color_005.jpg', 'Begin/01_F01_08_color_006.jpg', 'Begin/01_F01_08_color_007.jpg', 'Begin/01_F01_08_color_008.jpg', 'Begin/01_F01_08_color_009.jpg', 'Begin/01_F01_08_color_010.jpg', 'Begin/01_F01_08_color_011.jpg', 'Begin/01_F01_08_color_012.jpg', 'Begin/01_F01_09_color_001.jpg', 'Begin/01_F01_09_color_002.jpg', 'Begin/01_F01_09_color_003.jpg', 'Begin/01_F01_09_color_004.jpg', 'Begin/01_F01_09_color_005.jpg', 'Begin/01_F01_09_color_006.jpg', 'Begin/01_F01_09_color_007.jpg', 'Begin/01_F01_09_color_008.jpg', 'Begin/01_F01_09_color_009.jpg', 'Begin/01_F01_09_color_010.jpg', 'Begin/01_F01_09_color_011.jpg', 'Begin/01_F01_09_color_012.jpg', 'Begin/01_F01_10_color_001.jpg', 'Begin/01_F01_10_color_002.jpg', 'Begin/01_F01_10_color_003.jpg', 'Begin/01_F01_10_color_004.jpg', 'Begin/01_F01_10_color_005.jpg', 'Begin/01_F01_10_color_006.jpg', 'Begin/01_F01_10_color_007.jpg', 'Begin/01_F01_10_color_008.jpg', 'Begin/01_F01_10_color_009.jpg', 'Begin/01_F01_10_color_010.jpg', 'Begin/01_F01_10_color_011.jpg', 'Begin/01_F01_10_color_012.jpg', 'Begin/01_M01_01_color_001.jpg', 'Begin/01_M01_01_color_002.jpg', 'Begin/01_M01_01_color_003.jpg', 'Begin/01_M01_01_color_004.jpg', 'Begin/01_M01_01_color_005.jpg', 'Begin/01_M01_01_color_006.jpg', 'Begin/01_M01_01_color_007.jpg', 'Begin/01_M01_01_color_008.jpg', 'Begin/01_M01_01_color_009.jpg', 'Begin/01_M01_01_color_010.jpg', 'Begin/01_M01_01_color_011.jpg', 'Begin/01_M01_01_color_012.jpg', 'Begin/01_M01_02_color_001.jpg', 'Begin/01_M01_02_color_002.jpg', 'Begin/01_M01_02_color_003.jpg', 'Begin/01_M01_02_color_004.jpg', 'Begin/01_M01_02_color_005.jpg', 'Begin/01_M01_02_color_006.jpg', 'Begin/01_M01_02_color_007.jpg', 'Begin/01_M01_02_color_008.jpg', 'Begin/01_M01_02_color_009.jpg', 'Begin/01_M01_02_color_010.jpg', 'Begin/01_M01_02_color_011.jpg', 'Begin/01_M01_02_color_012.jpg', 'Begin/01_M01_03_color_001.jpg', 'Begin/01_M01_03_color_002.jpg', 'Begin/01_M01_03_color_003.jpg', 'Begin/01_M01_03_color_004.jpg', 'Begin/01_M01_03_color_005.jpg', 'Begin/01_M01_03_color_006.jpg', 'Begin/01_M01_03_color_007.jpg', 'Begin/01_M01_03_color_008.jpg', 'Begin/01_M01_03_color_009.jpg', 'Begin/01_M01_03_color_010.jpg', 'Begin/01_M01_03_color_011.jpg', 'Begin/01_M01_03_color_012.jpg', 'Begin/01_M01_04_color_001.jpg', 'Begin/01_M01_04_color_002.jpg', 'Begin/01_M01_04_color_003.jpg', 'Begin/01_M01_04_color_004.jpg', 'Begin/01_M01_04_color_005.jpg', 'Begin/01_M01_04_color_006.jpg', 'Begin/01_M01_04_color_007.jpg', 'Begin/01_M01_04_color_008.jpg', 'Begin/01_M01_04_color_009.jpg', 'Begin/01_M01_04_color_010.jpg', 'Begin/01_M01_04_color_011.jpg', 'Begin/01_M01_04_color_012.jpg', 'Begin/01_M01_05_color_001.jpg', 'Begin/01_M01_05_color_002.jpg', 'Begin/01_M01_05_color_003.jpg', 'Begin/01_M01_05_color_004.jpg', 'Begin/01_M01_05_color_005.jpg', 'Begin/01_M01_05_color_006.jpg', 'Begin/01_M01_05_color_007.jpg', 'Begin/01_M01_05_color_008.jpg', 'Begin/01_M01_05_color_009.jpg', 'Begin/01_M01_05_color_010.jpg', 'Begin/01_M01_05_color_011.jpg', 'Begin/01_M01_05_color_012.jpg', 'Begin/01_M01_06_color_001.jpg', 'Begin/01_M01_06_color_002.jpg', 'Begin/01_M01_06_color_003.jpg', 'Begin/01_M01_06_color_004.jpg', 'Begin/01_M01_06_color_005.jpg', 'Begin/01_M01_06_color_006.jpg', 'Begin/01_M01_06_color_007.jpg', 'Begin/01_M01_06_color_008.jpg', 'Begin/01_M01_06_color_009.jpg', 'Begin/01_M01_06_color_010.jpg', 'Begin/01_M01_06_color_011.jpg', 'Begin/01_M01_06_color_012.jpg', 'Begin/01_M01_07_color_001.jpg', 'Begin/01_M01_07_color_002.jpg', 'Begin/01_M01_07_color_003.jpg', 'Begin/01_M01_07_color_004.jpg', 'Begin/01_M01_07_color_005.jpg', 'Begin/01_M01_07_color_006.jpg', 'Begin/01_M01_07_color_007.jpg', 'Begin/01_M01_07_color_008.jpg', 'Begin/01_M01_07_color_009.jpg', 'Begin/01_M01_07_color_010.jpg', 'Begin/01_M01_07_color_011.jpg', 'Begin/01_M01_07_color_012.jpg', 'Begin/01_M01_08_color_001.jpg', 'Begin/01_M01_08_color_002.jpg', 'Begin/01_M01_08_color_003.jpg', 'Begin/01_M01_08_color_004.jpg', 'Begin/01_M01_08_color_005.jpg', 'Begin/01_M01_08_color_006.jpg', 'Begin/01_M01_08_color_007.jpg', 'Begin/01_M01_08_color_008.jpg', 'Begin/01_M01_08_color_009.jpg', 'Begin/01_M01_08_color_010.jpg', 'Begin/01_M01_08_color_011.jpg', 'Begin/01_M01_08_color_012.jpg', 'Begin/01_M01_09_color_001.jpg', 'Begin/01_M01_09_color_002.jpg', 'Begin/01_M01_09_color_003.jpg', 'Begin/01_M01_09_color_004.jpg', 'Begin/01_M01_09_color_005.jpg', 'Begin/01_M01_09_color_006.jpg', 'Begin/01_M01_09_color_007.jpg', 'Begin/01_M01_09_color_008.jpg', 'Begin/01_M01_09_color_009.jpg', 'Begin/01_M01_09_color_010.jpg', 'Begin/01_M01_09_color_011.jpg', 'Begin/01_M01_09_color_012.jpg', 'Begin/01_M01_10_color_001.jpg', 'Begin/01_M01_10_color_002.jpg', 'Begin/01_M01_10_color_003.jpg', 'Begin/01_M01_10_color_004.jpg', 'Begin/01_M01_10_color_005.jpg', 'Begin/01_M01_10_color_006.jpg', 'Begin/01_M01_10_color_007.jpg', 'Begin/01_M01_10_color_008.jpg', 'Begin/01_M01_10_color_009.jpg', 'Begin/01_M01_10_color_010.jpg', 'Begin/01_M01_10_color_011.jpg', 'Begin/01_M01_10_color_012.jpg'])\n",
      "len(results[0].get())): 2\n",
      "results[1].get(): ([1, 1, 1, 1, 1, 1, 1, 1, 1, 1, 1, 1, 1, 1, 1, 1, 1, 1, 1, 1, 1, 1, 1, 1, 1, 1, 1, 1, 1, 1, 1, 1, 1, 1, 1, 1, 1, 1, 1, 1, 1, 1, 1, 1, 1, 1, 1, 1, 1, 1, 1, 1, 1, 1, 1, 1, 1, 1, 1, 1, 1, 1, 1, 1, 1, 1, 1, 1, 1, 1, 1, 1, 1, 1, 1, 1, 1, 1, 1, 1, 1, 1, 1, 1, 1, 1, 1, 1, 1, 1, 1, 1, 1, 1, 1, 1, 1, 1, 1, 1, 1, 1, 1, 1, 1, 1, 1, 1, 1, 1, 1, 1, 1, 1, 1, 1, 1, 1, 1, 1, 1, 1, 1, 1, 1, 1, 1, 1, 1, 1, 1, 1, 1, 1, 1, 1, 1, 1, 1, 1, 1, 1, 1, 1, 1, 1, 1, 1, 1, 1, 1, 1, 1, 1, 1, 1, 1, 1, 1, 1, 1, 1, 1, 1, 1, 1, 1, 1, 1, 1, 1, 1, 1, 1, 1, 1, 1, 1, 1, 1, 1, 1, 1, 1, 1, 1, 1, 1, 1, 1, 1, 1, 1, 1, 1, 1, 1, 1, 1, 1, 1, 1, 1, 1, 1, 1, 1, 1, 1, 1, 1, 1, 1, 1, 1, 1, 1, 1, 1, 1, 1, 1, 1, 1, 1, 1, 1, 1, 1, 1, 1, 1, 1, 1, 1, 1, 1, 1, 1, 1], ['Web/02_F01_01_color_001.jpg', 'Web/02_F01_01_color_002.jpg', 'Web/02_F01_01_color_003.jpg', 'Web/02_F01_01_color_004.jpg', 'Web/02_F01_01_color_005.jpg', 'Web/02_F01_01_color_006.jpg', 'Web/02_F01_01_color_007.jpg', 'Web/02_F01_01_color_008.jpg', 'Web/02_F01_01_color_009.jpg', 'Web/02_F01_01_color_010.jpg', 'Web/02_F01_01_color_011.jpg', 'Web/02_F01_01_color_012.jpg', 'Web/02_F01_02_color_001.jpg', 'Web/02_F01_02_color_002.jpg', 'Web/02_F01_02_color_003.jpg', 'Web/02_F01_02_color_004.jpg', 'Web/02_F01_02_color_005.jpg', 'Web/02_F01_02_color_006.jpg', 'Web/02_F01_02_color_007.jpg', 'Web/02_F01_02_color_008.jpg', 'Web/02_F01_02_color_009.jpg', 'Web/02_F01_02_color_010.jpg', 'Web/02_F01_02_color_011.jpg', 'Web/02_F01_02_color_012.jpg', 'Web/02_F01_03_color_001.jpg', 'Web/02_F01_03_color_002.jpg', 'Web/02_F01_03_color_003.jpg', 'Web/02_F01_03_color_004.jpg', 'Web/02_F01_03_color_005.jpg', 'Web/02_F01_03_color_006.jpg', 'Web/02_F01_03_color_007.jpg', 'Web/02_F01_03_color_008.jpg', 'Web/02_F01_03_color_009.jpg', 'Web/02_F01_03_color_010.jpg', 'Web/02_F01_03_color_011.jpg', 'Web/02_F01_03_color_012.jpg', 'Web/02_F01_04_color_001.jpg', 'Web/02_F01_04_color_002.jpg', 'Web/02_F01_04_color_003.jpg', 'Web/02_F01_04_color_004.jpg', 'Web/02_F01_04_color_005.jpg', 'Web/02_F01_04_color_006.jpg', 'Web/02_F01_04_color_007.jpg', 'Web/02_F01_04_color_008.jpg', 'Web/02_F01_04_color_009.jpg', 'Web/02_F01_04_color_010.jpg', 'Web/02_F01_04_color_011.jpg', 'Web/02_F01_04_color_012.jpg', 'Web/02_F01_05_color_001.jpg', 'Web/02_F01_05_color_002.jpg', 'Web/02_F01_05_color_003.jpg', 'Web/02_F01_05_color_004.jpg', 'Web/02_F01_05_color_005.jpg', 'Web/02_F01_05_color_006.jpg', 'Web/02_F01_05_color_007.jpg', 'Web/02_F01_05_color_008.jpg', 'Web/02_F01_05_color_009.jpg', 'Web/02_F01_05_color_010.jpg', 'Web/02_F01_05_color_011.jpg', 'Web/02_F01_05_color_012.jpg', 'Web/02_F01_06_color_001.jpg', 'Web/02_F01_06_color_002.jpg', 'Web/02_F01_06_color_003.jpg', 'Web/02_F01_06_color_004.jpg', 'Web/02_F01_06_color_005.jpg', 'Web/02_F01_06_color_006.jpg', 'Web/02_F01_06_color_007.jpg', 'Web/02_F01_06_color_008.jpg', 'Web/02_F01_06_color_009.jpg', 'Web/02_F01_06_color_010.jpg', 'Web/02_F01_06_color_011.jpg', 'Web/02_F01_06_color_012.jpg', 'Web/02_F01_07_color_001.jpg', 'Web/02_F01_07_color_002.jpg', 'Web/02_F01_07_color_003.jpg', 'Web/02_F01_07_color_004.jpg', 'Web/02_F01_07_color_005.jpg', 'Web/02_F01_07_color_006.jpg', 'Web/02_F01_07_color_007.jpg', 'Web/02_F01_07_color_008.jpg', 'Web/02_F01_07_color_009.jpg', 'Web/02_F01_07_color_010.jpg', 'Web/02_F01_07_color_011.jpg', 'Web/02_F01_07_color_012.jpg', 'Web/02_F01_08_color_001.jpg', 'Web/02_F01_08_color_002.jpg', 'Web/02_F01_08_color_003.jpg', 'Web/02_F01_08_color_004.jpg', 'Web/02_F01_08_color_005.jpg', 'Web/02_F01_08_color_006.jpg', 'Web/02_F01_08_color_007.jpg', 'Web/02_F01_08_color_008.jpg', 'Web/02_F01_08_color_009.jpg', 'Web/02_F01_08_color_010.jpg', 'Web/02_F01_08_color_011.jpg', 'Web/02_F01_08_color_012.jpg', 'Web/02_F01_09_color_001.jpg', 'Web/02_F01_09_color_002.jpg', 'Web/02_F01_09_color_003.jpg', 'Web/02_F01_09_color_004.jpg', 'Web/02_F01_09_color_005.jpg', 'Web/02_F01_09_color_006.jpg', 'Web/02_F01_09_color_007.jpg', 'Web/02_F01_09_color_008.jpg', 'Web/02_F01_09_color_009.jpg', 'Web/02_F01_09_color_010.jpg', 'Web/02_F01_09_color_011.jpg', 'Web/02_F01_09_color_012.jpg', 'Web/02_F01_10_color_001.jpg', 'Web/02_F01_10_color_002.jpg', 'Web/02_F01_10_color_003.jpg', 'Web/02_F01_10_color_004.jpg', 'Web/02_F01_10_color_005.jpg', 'Web/02_F01_10_color_006.jpg', 'Web/02_F01_10_color_007.jpg', 'Web/02_F01_10_color_008.jpg', 'Web/02_F01_10_color_009.jpg', 'Web/02_F01_10_color_010.jpg', 'Web/02_F01_10_color_011.jpg', 'Web/02_F01_10_color_012.jpg', 'Web/02_M01_01_color_001.jpg', 'Web/02_M01_01_color_002.jpg', 'Web/02_M01_01_color_003.jpg', 'Web/02_M01_01_color_004.jpg', 'Web/02_M01_01_color_005.jpg', 'Web/02_M01_01_color_006.jpg', 'Web/02_M01_01_color_007.jpg', 'Web/02_M01_01_color_008.jpg', 'Web/02_M01_01_color_009.jpg', 'Web/02_M01_01_color_010.jpg', 'Web/02_M01_01_color_011.jpg', 'Web/02_M01_01_color_012.jpg', 'Web/02_M01_02_color_001.jpg', 'Web/02_M01_02_color_002.jpg', 'Web/02_M01_02_color_003.jpg', 'Web/02_M01_02_color_004.jpg', 'Web/02_M01_02_color_005.jpg', 'Web/02_M01_02_color_006.jpg', 'Web/02_M01_02_color_007.jpg', 'Web/02_M01_02_color_008.jpg', 'Web/02_M01_02_color_009.jpg', 'Web/02_M01_02_color_010.jpg', 'Web/02_M01_02_color_011.jpg', 'Web/02_M01_02_color_012.jpg', 'Web/02_M01_03_color_001.jpg', 'Web/02_M01_03_color_002.jpg', 'Web/02_M01_03_color_003.jpg', 'Web/02_M01_03_color_004.jpg', 'Web/02_M01_03_color_005.jpg', 'Web/02_M01_03_color_006.jpg', 'Web/02_M01_03_color_007.jpg', 'Web/02_M01_03_color_008.jpg', 'Web/02_M01_03_color_009.jpg', 'Web/02_M01_03_color_010.jpg', 'Web/02_M01_03_color_011.jpg', 'Web/02_M01_03_color_012.jpg', 'Web/02_M01_04_color_001.jpg', 'Web/02_M01_04_color_002.jpg', 'Web/02_M01_04_color_003.jpg', 'Web/02_M01_04_color_004.jpg', 'Web/02_M01_04_color_005.jpg', 'Web/02_M01_04_color_006.jpg', 'Web/02_M01_04_color_007.jpg', 'Web/02_M01_04_color_008.jpg', 'Web/02_M01_04_color_009.jpg', 'Web/02_M01_04_color_010.jpg', 'Web/02_M01_04_color_011.jpg', 'Web/02_M01_04_color_012.jpg', 'Web/02_M01_05_color_001.jpg', 'Web/02_M01_05_color_002.jpg', 'Web/02_M01_05_color_003.jpg', 'Web/02_M01_05_color_004.jpg', 'Web/02_M01_05_color_005.jpg', 'Web/02_M01_05_color_006.jpg', 'Web/02_M01_05_color_007.jpg', 'Web/02_M01_05_color_008.jpg', 'Web/02_M01_05_color_009.jpg', 'Web/02_M01_05_color_010.jpg', 'Web/02_M01_05_color_011.jpg', 'Web/02_M01_05_color_012.jpg', 'Web/02_M01_06_color_001.jpg', 'Web/02_M01_06_color_002.jpg', 'Web/02_M01_06_color_003.jpg', 'Web/02_M01_06_color_004.jpg', 'Web/02_M01_06_color_005.jpg', 'Web/02_M01_06_color_006.jpg', 'Web/02_M01_06_color_007.jpg', 'Web/02_M01_06_color_008.jpg', 'Web/02_M01_06_color_009.jpg', 'Web/02_M01_06_color_010.jpg', 'Web/02_M01_06_color_011.jpg', 'Web/02_M01_06_color_012.jpg', 'Web/02_M01_07_color_001.jpg', 'Web/02_M01_07_color_002.jpg', 'Web/02_M01_07_color_003.jpg', 'Web/02_M01_07_color_004.jpg', 'Web/02_M01_07_color_005.jpg', 'Web/02_M01_07_color_006.jpg', 'Web/02_M01_07_color_007.jpg', 'Web/02_M01_07_color_008.jpg', 'Web/02_M01_07_color_009.jpg', 'Web/02_M01_07_color_010.jpg', 'Web/02_M01_07_color_011.jpg', 'Web/02_M01_07_color_012.jpg', 'Web/02_M01_08_color_001.jpg', 'Web/02_M01_08_color_002.jpg', 'Web/02_M01_08_color_003.jpg', 'Web/02_M01_08_color_004.jpg', 'Web/02_M01_08_color_005.jpg', 'Web/02_M01_08_color_006.jpg', 'Web/02_M01_08_color_007.jpg', 'Web/02_M01_08_color_008.jpg', 'Web/02_M01_08_color_009.jpg', 'Web/02_M01_08_color_010.jpg', 'Web/02_M01_08_color_011.jpg', 'Web/02_M01_08_color_012.jpg', 'Web/02_M01_09_color_001.jpg', 'Web/02_M01_09_color_002.jpg', 'Web/02_M01_09_color_003.jpg', 'Web/02_M01_09_color_004.jpg', 'Web/02_M01_09_color_005.jpg', 'Web/02_M01_09_color_006.jpg', 'Web/02_M01_09_color_007.jpg', 'Web/02_M01_09_color_008.jpg', 'Web/02_M01_09_color_009.jpg', 'Web/02_M01_09_color_010.jpg', 'Web/02_M01_09_color_011.jpg', 'Web/02_M01_09_color_012.jpg', 'Web/02_M01_10_color_001.jpg', 'Web/02_M01_10_color_002.jpg', 'Web/02_M01_10_color_003.jpg', 'Web/02_M01_10_color_004.jpg', 'Web/02_M01_10_color_005.jpg', 'Web/02_M01_10_color_006.jpg', 'Web/02_M01_10_color_007.jpg', 'Web/02_M01_10_color_008.jpg', 'Web/02_M01_10_color_009.jpg', 'Web/02_M01_10_color_010.jpg', 'Web/02_M01_10_color_011.jpg', 'Web/02_M01_10_color_012.jpg', 'Web/02_F01_01_color_001.jpg', 'Web/02_F01_01_color_002.jpg', 'Web/02_F01_01_color_003.jpg', 'Web/02_F01_01_color_004.jpg', 'Web/02_F01_01_color_005.jpg', 'Web/02_F01_01_color_006.jpg', 'Web/02_F01_01_color_007.jpg', 'Web/02_F01_01_color_008.jpg', 'Web/02_F01_01_color_009.jpg', 'Web/02_F01_01_color_010.jpg', 'Web/02_F01_01_color_011.jpg', 'Web/02_F01_01_color_012.jpg', 'Web/02_F01_02_color_001.jpg', 'Web/02_F01_02_color_002.jpg', 'Web/02_F01_02_color_003.jpg', 'Web/02_F01_02_color_004.jpg', 'Web/02_F01_02_color_005.jpg', 'Web/02_F01_02_color_006.jpg', 'Web/02_F01_02_color_007.jpg', 'Web/02_F01_02_color_008.jpg', 'Web/02_F01_02_color_009.jpg', 'Web/02_F01_02_color_010.jpg', 'Web/02_F01_02_color_011.jpg', 'Web/02_F01_02_color_012.jpg', 'Web/02_F01_03_color_001.jpg', 'Web/02_F01_03_color_002.jpg', 'Web/02_F01_03_color_003.jpg', 'Web/02_F01_03_color_004.jpg', 'Web/02_F01_03_color_005.jpg', 'Web/02_F01_03_color_006.jpg', 'Web/02_F01_03_color_007.jpg', 'Web/02_F01_03_color_008.jpg', 'Web/02_F01_03_color_009.jpg', 'Web/02_F01_03_color_010.jpg', 'Web/02_F01_03_color_011.jpg', 'Web/02_F01_03_color_012.jpg', 'Web/02_F01_04_color_001.jpg', 'Web/02_F01_04_color_002.jpg', 'Web/02_F01_04_color_003.jpg', 'Web/02_F01_04_color_004.jpg', 'Web/02_F01_04_color_005.jpg', 'Web/02_F01_04_color_006.jpg', 'Web/02_F01_04_color_007.jpg', 'Web/02_F01_04_color_008.jpg', 'Web/02_F01_04_color_009.jpg', 'Web/02_F01_04_color_010.jpg', 'Web/02_F01_04_color_011.jpg', 'Web/02_F01_04_color_012.jpg', 'Web/02_F01_05_color_001.jpg', 'Web/02_F01_05_color_002.jpg', 'Web/02_F01_05_color_003.jpg', 'Web/02_F01_05_color_004.jpg', 'Web/02_F01_05_color_005.jpg', 'Web/02_F01_05_color_006.jpg', 'Web/02_F01_05_color_007.jpg', 'Web/02_F01_05_color_008.jpg', 'Web/02_F01_05_color_009.jpg', 'Web/02_F01_05_color_010.jpg', 'Web/02_F01_05_color_011.jpg', 'Web/02_F01_05_color_012.jpg', 'Web/02_F01_06_color_001.jpg', 'Web/02_F01_06_color_002.jpg', 'Web/02_F01_06_color_003.jpg', 'Web/02_F01_06_color_004.jpg', 'Web/02_F01_06_color_005.jpg', 'Web/02_F01_06_color_006.jpg', 'Web/02_F01_06_color_007.jpg', 'Web/02_F01_06_color_008.jpg', 'Web/02_F01_06_color_009.jpg', 'Web/02_F01_06_color_010.jpg', 'Web/02_F01_06_color_011.jpg', 'Web/02_F01_06_color_012.jpg', 'Web/02_F01_07_color_001.jpg', 'Web/02_F01_07_color_002.jpg', 'Web/02_F01_07_color_003.jpg', 'Web/02_F01_07_color_004.jpg', 'Web/02_F01_07_color_005.jpg', 'Web/02_F01_07_color_006.jpg', 'Web/02_F01_07_color_007.jpg', 'Web/02_F01_07_color_008.jpg', 'Web/02_F01_07_color_009.jpg', 'Web/02_F01_07_color_010.jpg', 'Web/02_F01_07_color_011.jpg', 'Web/02_F01_07_color_012.jpg', 'Web/02_F01_08_color_001.jpg', 'Web/02_F01_08_color_002.jpg', 'Web/02_F01_08_color_003.jpg', 'Web/02_F01_08_color_004.jpg', 'Web/02_F01_08_color_005.jpg', 'Web/02_F01_08_color_006.jpg', 'Web/02_F01_08_color_007.jpg', 'Web/02_F01_08_color_008.jpg', 'Web/02_F01_08_color_009.jpg', 'Web/02_F01_08_color_010.jpg', 'Web/02_F01_08_color_011.jpg', 'Web/02_F01_08_color_012.jpg', 'Web/02_F01_09_color_001.jpg', 'Web/02_F01_09_color_002.jpg', 'Web/02_F01_09_color_003.jpg', 'Web/02_F01_09_color_004.jpg', 'Web/02_F01_09_color_005.jpg', 'Web/02_F01_09_color_006.jpg', 'Web/02_F01_09_color_007.jpg', 'Web/02_F01_09_color_008.jpg', 'Web/02_F01_09_color_009.jpg', 'Web/02_F01_09_color_010.jpg', 'Web/02_F01_09_color_011.jpg', 'Web/02_F01_09_color_012.jpg', 'Web/02_F01_10_color_001.jpg', 'Web/02_F01_10_color_002.jpg', 'Web/02_F01_10_color_003.jpg', 'Web/02_F01_10_color_004.jpg', 'Web/02_F01_10_color_005.jpg', 'Web/02_F01_10_color_006.jpg', 'Web/02_F01_10_color_007.jpg', 'Web/02_F01_10_color_008.jpg', 'Web/02_F01_10_color_009.jpg', 'Web/02_F01_10_color_010.jpg', 'Web/02_F01_10_color_011.jpg', 'Web/02_F01_10_color_012.jpg', 'Web/02_M01_01_color_001.jpg', 'Web/02_M01_01_color_002.jpg', 'Web/02_M01_01_color_003.jpg', 'Web/02_M01_01_color_004.jpg', 'Web/02_M01_01_color_005.jpg', 'Web/02_M01_01_color_006.jpg', 'Web/02_M01_01_color_007.jpg', 'Web/02_M01_01_color_008.jpg', 'Web/02_M01_01_color_009.jpg', 'Web/02_M01_01_color_010.jpg', 'Web/02_M01_01_color_011.jpg', 'Web/02_M01_01_color_012.jpg', 'Web/02_M01_02_color_001.jpg', 'Web/02_M01_02_color_002.jpg', 'Web/02_M01_02_color_003.jpg', 'Web/02_M01_02_color_004.jpg', 'Web/02_M01_02_color_005.jpg', 'Web/02_M01_02_color_006.jpg', 'Web/02_M01_02_color_007.jpg', 'Web/02_M01_02_color_008.jpg', 'Web/02_M01_02_color_009.jpg', 'Web/02_M01_02_color_010.jpg', 'Web/02_M01_02_color_011.jpg', 'Web/02_M01_02_color_012.jpg', 'Web/02_M01_03_color_001.jpg', 'Web/02_M01_03_color_002.jpg', 'Web/02_M01_03_color_003.jpg', 'Web/02_M01_03_color_004.jpg', 'Web/02_M01_03_color_005.jpg', 'Web/02_M01_03_color_006.jpg', 'Web/02_M01_03_color_007.jpg', 'Web/02_M01_03_color_008.jpg', 'Web/02_M01_03_color_009.jpg', 'Web/02_M01_03_color_010.jpg', 'Web/02_M01_03_color_011.jpg', 'Web/02_M01_03_color_012.jpg', 'Web/02_M01_04_color_001.jpg', 'Web/02_M01_04_color_002.jpg', 'Web/02_M01_04_color_003.jpg', 'Web/02_M01_04_color_004.jpg', 'Web/02_M01_04_color_005.jpg', 'Web/02_M01_04_color_006.jpg', 'Web/02_M01_04_color_007.jpg', 'Web/02_M01_04_color_008.jpg', 'Web/02_M01_04_color_009.jpg', 'Web/02_M01_04_color_010.jpg', 'Web/02_M01_04_color_011.jpg', 'Web/02_M01_04_color_012.jpg', 'Web/02_M01_05_color_001.jpg', 'Web/02_M01_05_color_002.jpg', 'Web/02_M01_05_color_003.jpg', 'Web/02_M01_05_color_004.jpg', 'Web/02_M01_05_color_005.jpg', 'Web/02_M01_05_color_006.jpg', 'Web/02_M01_05_color_007.jpg', 'Web/02_M01_05_color_008.jpg', 'Web/02_M01_05_color_009.jpg', 'Web/02_M01_05_color_010.jpg', 'Web/02_M01_05_color_011.jpg', 'Web/02_M01_05_color_012.jpg', 'Web/02_M01_06_color_001.jpg', 'Web/02_M01_06_color_002.jpg', 'Web/02_M01_06_color_003.jpg', 'Web/02_M01_06_color_004.jpg', 'Web/02_M01_06_color_005.jpg', 'Web/02_M01_06_color_006.jpg', 'Web/02_M01_06_color_007.jpg', 'Web/02_M01_06_color_008.jpg', 'Web/02_M01_06_color_009.jpg', 'Web/02_M01_06_color_010.jpg', 'Web/02_M01_06_color_011.jpg', 'Web/02_M01_06_color_012.jpg', 'Web/02_M01_07_color_001.jpg', 'Web/02_M01_07_color_002.jpg', 'Web/02_M01_07_color_003.jpg', 'Web/02_M01_07_color_004.jpg', 'Web/02_M01_07_color_005.jpg', 'Web/02_M01_07_color_006.jpg', 'Web/02_M01_07_color_007.jpg', 'Web/02_M01_07_color_008.jpg', 'Web/02_M01_07_color_009.jpg', 'Web/02_M01_07_color_010.jpg', 'Web/02_M01_07_color_011.jpg', 'Web/02_M01_07_color_012.jpg', 'Web/02_M01_08_color_001.jpg', 'Web/02_M01_08_color_002.jpg', 'Web/02_M01_08_color_003.jpg', 'Web/02_M01_08_color_004.jpg', 'Web/02_M01_08_color_005.jpg', 'Web/02_M01_08_color_006.jpg', 'Web/02_M01_08_color_007.jpg', 'Web/02_M01_08_color_008.jpg', 'Web/02_M01_08_color_009.jpg', 'Web/02_M01_08_color_010.jpg', 'Web/02_M01_08_color_011.jpg', 'Web/02_M01_08_color_012.jpg', 'Web/02_M01_09_color_001.jpg', 'Web/02_M01_09_color_002.jpg', 'Web/02_M01_09_color_003.jpg', 'Web/02_M01_09_color_004.jpg', 'Web/02_M01_09_color_005.jpg', 'Web/02_M01_09_color_006.jpg', 'Web/02_M01_09_color_007.jpg', 'Web/02_M01_09_color_008.jpg', 'Web/02_M01_09_color_009.jpg', 'Web/02_M01_09_color_010.jpg', 'Web/02_M01_09_color_011.jpg', 'Web/02_M01_09_color_012.jpg', 'Web/02_M01_10_color_001.jpg', 'Web/02_M01_10_color_002.jpg', 'Web/02_M01_10_color_003.jpg', 'Web/02_M01_10_color_004.jpg', 'Web/02_M01_10_color_005.jpg', 'Web/02_M01_10_color_006.jpg', 'Web/02_M01_10_color_007.jpg', 'Web/02_M01_10_color_008.jpg', 'Web/02_M01_10_color_009.jpg', 'Web/02_M01_10_color_010.jpg', 'Web/02_M01_10_color_011.jpg', 'Web/02_M01_10_color_012.jpg'])\n",
      "\n",
      "len(self_classes): 480\n",
      "self_classes: [0 0 0 0 0 0 0 0 0 0 0 0 0 0 0 0 0 0 0 0 0 0 0 0 0 0 0 0 0 0 0 0 0 0 0 0 0\n",
      " 0 0 0 0 0 0 0 0 0 0 0 0 0 0 0 0 0 0 0 0 0 0 0 0 0 0 0 0 0 0 0 0 0 0 0 0 0\n",
      " 0 0 0 0 0 0 0 0 0 0 0 0 0 0 0 0 0 0 0 0 0 0 0 0 0 0 0 0 0 0 0 0 0 0 0 0 0\n",
      " 0 0 0 0 0 0 0 0 0 0 0 0 0 0 0 0 0 0 0 0 0 0 0 0 0 0 0 0 0 0 0 0 0 0 0 0 0\n",
      " 0 0 0 0 0 0 0 0 0 0 0 0 0 0 0 0 0 0 0 0 0 0 0 0 0 0 0 0 0 0 0 0 0 0 0 0 0\n",
      " 0 0 0 0 0 0 0 0 0 0 0 0 0 0 0 0 0 0 0 0 0 0 0 0 0 0 0 0 0 0 0 0 0 0 0 0 0\n",
      " 0 0 0 0 0 0 0 0 0 0 0 0 0 0 0 0 0 0 1 1 1 1 1 1 1 1 1 1 1 1 1 1 1 1 1 1 1\n",
      " 1 1 1 1 1 1 1 1 1 1 1 1 1 1 1 1 1 1 1 1 1 1 1 1 1 1 1 1 1 1 1 1 1 1 1 1 1\n",
      " 1 1 1 1 1 1 1 1 1 1 1 1 1 1 1 1 1 1 1 1 1 1 1 1 1 1 1 1 1 1 1 1 1 1 1 1 1\n",
      " 1 1 1 1 1 1 1 1 1 1 1 1 1 1 1 1 1 1 1 1 1 1 1 1 1 1 1 1 1 1 1 1 1 1 1 1 1\n",
      " 1 1 1 1 1 1 1 1 1 1 1 1 1 1 1 1 1 1 1 1 1 1 1 1 1 1 1 1 1 1 1 1 1 1 1 1 1\n",
      " 1 1 1 1 1 1 1 1 1 1 1 1 1 1 1 1 1 1 1 1 1 1 1 1 1 1 1 1 1 1 1 1 1 1 1 1 1\n",
      " 1 1 1 1 1 1 1 1 1 1 1 1 1 1 1 1 1 1 1 1 1 1 1 1 1 1 1 1 1 1 1 1 1 1 1 1]\n",
      "\n"
     ]
    }
   ],
   "source": [
    "# second, build an index of the images in the different class subfolders\n",
    "results = []\n",
    "\n",
    "filenames = []\n",
    "self_classes = np.zeros((samples,), dtype='int32')\n",
    "i = 0\n",
    "k = 0\n",
    "for dirpath in (os.path.join(directory, subdir) for subdir in classes):\n",
    "    # print(dirpath)\n",
    "    results.append(pool.apply_async(_list_valid_filenames_in_directory,\n",
    "                                    (dirpath, white_list_formats,\n",
    "                                     class_indices, follow_links)))\n",
    "\n",
    "for res in results:\n",
    "    classes, filenames = res.get()\n",
    "    self_classes[i:i + len(classes)] = classes\n",
    "    filenames += filenames\n",
    "    print('self_classes[%d:%d + %d]: %s' % (i, i, len(classes), self_classes[i:i + len(classes)]))\n",
    "    i += len(classes)\n",
    "pool.close()\n",
    "pool.join()\n",
    "\n",
    "print('\\n\\nlen(results)', len(results))\n",
    "print('len(results[0].get())):', len(results[0].get()))\n",
    "print('results[0].get():', results[0].get())\n",
    "print('len(results[0].get())):', len(results[0].get()))\n",
    "print('results[1].get():', results[1].get(), end='\\n\\n')\n",
    "\n",
    "# print('len classes:', len(classes))\n",
    "# print('classes:', classes, end='\\n\\n')\n",
    "# print('len(filenames)', len(filenames))\n",
    "# print('filenames:', filenames, end='\\n\\n')\n",
    "\n",
    "print('len(self_classes):', len(self_classes))\n",
    "print('self_classes:', self_classes, end='\\n\\n')\n"
   ],
   "metadata": {
    "collapsed": false,
    "pycharm": {
     "name": "#%%\n"
    }
   }
  },
  {
   "cell_type": "code",
   "execution_count": 8,
   "outputs": [],
   "source": [],
   "metadata": {
    "collapsed": false,
    "pycharm": {
     "name": "#%%\n"
    }
   }
  },
  {
   "cell_type": "code",
   "execution_count": 8,
   "outputs": [],
   "source": [],
   "metadata": {
    "collapsed": false,
    "pycharm": {
     "name": "#%%\n"
    }
   }
  },
  {
   "cell_type": "code",
   "execution_count": 8,
   "outputs": [],
   "source": [],
   "metadata": {
    "collapsed": false,
    "pycharm": {
     "name": "#%%\n"
    }
   }
  },
  {
   "cell_type": "code",
   "execution_count": 8,
   "outputs": [],
   "source": [],
   "metadata": {
    "collapsed": false,
    "pycharm": {
     "name": "#%%\n"
    }
   }
  },
  {
   "cell_type": "code",
   "execution_count": 8,
   "outputs": [],
   "source": [],
   "metadata": {
    "collapsed": false,
    "pycharm": {
     "name": "#%%\n"
    }
   }
  },
  {
   "cell_type": "code",
   "execution_count": 8,
   "outputs": [],
   "source": [
    "\n"
   ],
   "metadata": {
    "collapsed": false,
    "pycharm": {
     "name": "#%%\n"
    }
   }
  }
 ],
 "metadata": {
  "kernelspec": {
   "name": "python361064bitlr136venv6187ed1749474d16a65bfa786fe4d443",
   "language": "python",
   "display_name": "Python 3.6.10 64-bit ('lr1_36': venv)"
  },
  "language_info": {
   "codemirror_mode": {
    "name": "ipython",
    "version": 2
   },
   "file_extension": ".py",
   "mimetype": "text/x-python",
   "name": "python",
   "nbconvert_exporter": "python",
   "pygments_lexer": "ipython2",
   "version": "2.7.6"
  }
 },
 "nbformat": 4,
 "nbformat_minor": 0
}