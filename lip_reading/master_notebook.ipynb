{
  "nbformat": 4,
  "nbformat_minor": 0,
  "metadata": {
    "accelerator": "GPU",
    "colab": {
      "name": "master_notebook.ipynb",
      "provenance": [],
      "collapsed_sections": [
        "OFUdPMpq-bWR",
        "n-1z7YV8-nh4",
        "GtTNdaei-Sua",
        "wkiSwKjkGugn",
        "ZGO1WZN4LsZ-",
        "tnS97OtiWdHM",
        "vgsim5KYZ8WA",
        "9ODHlUJzbKnc",
        "kdG0RgmccPSd",
        "5Gy0vLERf_VM",
        "yNdmLVBLnO18"
      ]
    },
    "kernelspec": {
      "display_name": "Python 3",
      "language": "python",
      "name": "python3"
    },
    "language_info": {
      "codemirror_mode": {
        "name": "ipython",
        "version": 3
      },
      "file_extension": ".py",
      "mimetype": "text/x-python",
      "name": "python",
      "nbconvert_exporter": "python",
      "pygments_lexer": "ipython3",
      "version": "3.6.10-final"
    }
  },
  "cells": [
    {
      "cell_type": "markdown",
      "execution_count": null,
      "metadata": {
        "colab_type": "text",
        "id": "OFUdPMpq-bWR"
      },
      "outputs": [],
      "source": [
        "### Download Data"
      ]
    },
    {
      "cell_type": "code",
      "execution_count": null,
      "metadata": {
        "colab": {},
        "colab_type": "code",
        "id": "lfytUYAj4rMB"
      },
      "outputs": [],
      "source": [
        "# import gdown\n",
        "\n",
        "# files = {\n",
        "#     'F01.7z': \"https://drive.google.com/uc?id=0B4PVUqnGmrJsMXJIekMzMm1ZTzg&export=download\",\n",
        "#     \"F02.7z\": \"https://drive.google.com/uc?id=0B4PVUqnGmrJsWnFvZkp5dm5jRTQ&export=download\",\n",
        "#     \"F04.7z\": \"https://drive.google.com/u/0/uc?id=0B4PVUqnGmrJsZ1N3azVMa2hFdVE&export=download\",\n",
        "#     \"F05.7z\": \"https://drive.google.com/uc?id=0B4PVUqnGmrJsRnN0ZTBGYm91dk0&export=download\",\n",
        "#     \"F06.7z\": \"https://drive.google.com/u/0/uc?id=0B4PVUqnGmrJsTHZhS0RubnRmRXc&export=download\",\n",
        "#     \"F07.7z\": \"https://drive.google.com/uc?id=0B4PVUqnGmrJsdzBVWUwyLU1fNFE&export=download\",\n",
        "#     \"F08.7z\": \"https://drive.google.com/u/0/uc?id=0B4PVUqnGmrJsQVN5ZUpvbkRjRE0&export=download\",\n",
        "#     \"F09.7z\": \"https://drive.google.com/u/0/uc?id=0B4PVUqnGmrJscU5nT2otMjdpbTQ&export=download\",\n",
        "#     \"F10.7z\": \"https://drive.google.com/uc?id=0B4PVUqnGmrJsM0tHdi10azVvNDQ&export=download\",\n",
        "#     \"F11.7z\": \"https://drive.google.com/u/0/uc?id=0B4PVUqnGmrJsaGtldzY4aWFJOGs&export=download\",\n",
        "#     \"M01.7z\": \"https://drive.google.com/uc?id=0B4PVUqnGmrJsZHhNZ09UbmE2Rm8&export=download\",\n",
        "#     \"M02.7z\": \"https://drive.google.com/uc?id=0B4PVUqnGmrJsM18tOGVEV1d3b00&export=download\",\n",
        "#     \"M04.7z\": \"https://drive.google.com/uc?id=0B4PVUqnGmrJsdGQyaGRkb0E2UXM&export=download\",\n",
        "#     \"M07.7z\": \"https://drive.google.com/uc?id=0B4PVUqnGmrJsc204ak0yMVBTUkU&export=download\",\n",
        "#     \"M08.7z\": \"https://drive.google.com/uc?id=0B4PVUqnGmrJsc2Fyb3BiMm9Rd2c&export=download\"\n",
        "#   }\n",
        "\n",
        "# for key in files:\n",
        "#     gdown.download(files[key], key, quiet=False)"
      ]
    },
    {
      "cell_type": "code",
      "execution_count": null,
      "metadata": {
        "colab": {},
        "colab_type": "code",
        "id": "e04cIknA430K"
      },
      "outputs": [],
      "source": [
        "# !mkdir -p data/miracl\n",
        "\n",
        "# for key in files:\n",
        "#     file = key\n",
        "#     dest = 'data/miracl/' + key.split('.')[0]\n",
        "#     !7z x $key -o$dest"
      ]
    },
    {
      "cell_type": "markdown",
      "execution_count": null,
      "metadata": {
        "colab_type": "text",
        "id": "n-1z7YV8-nh4"
      },
      "outputs": [],
      "source": [
        "### Import. Setup dirs, classes and speakers"
      ]
    },
    {
      "cell_type": "code",
      "execution_count": 1,
      "metadata": {},
      "outputs": [],
      "source": [
        "from imutils.video import VideoStream\n",
        "from imutils import face_utils\n",
        "import datetime\n",
        "import argparse\n",
        "import imutils\n",
        "import time\n",
        "import dlib\n",
        "import cv2\n",
        "import glob\n",
        "import sys\n",
        "import os\n",
        "import shutil \n",
        "import math\n",
        "import numpy as np\n",
        "from albumentations.augmentations import transforms\n",
        "import skimage\n",
        "from tqdm import tqdm\n",
        "\n",
        "from skimage.transform import resize\n",
        "from sklearn.model_selection import train_test_split\n",
        "from scipy import stats as s\n",
        "import scipy.misc\n",
        "from PIL import Image\n",
        "\n",
        "import pandas as pd\n",
        "import matplotlib.pyplot as plt\n",
        "%matplotlib inline"
      ]
    },
    {
      "cell_type": "code",
      "execution_count": 7,
      "metadata": {},
      "outputs": [
        {
          "name": "stdout",
          "output_type": "stream",
          "text": "['F01', 'F02', 'F04', 'F05', 'F06', 'F07', 'F08', 'F09', 'M01', 'M02', 'M04', 'F11', 'M08']\n['F10', 'M07']\n['01', '02', '03', '04', '05', '06', '07', '08', '09', '10']\n['01', '02', '03', '04', '05', '06', '07', '08', '09', '10']\n{'01': 'Begin', '02': 'Choose', '03': 'Connection', '04': 'Navigation', '05': 'Next', '06': 'Previous', '07': 'Start', '08': 'Stop', '09': 'Hello', '10': 'Web'}\n"
        }
      ],
      "source": [
        "img_black = np.zeros((70, 140, 3))\n",
        "\n",
        "base_dir = 'data'\n",
        "train_dir = os.path.join(base_dir, 'train')\n",
        "val_dir = os.path.join(base_dir, 'validation')\n",
        "test_dir = os.path.join(base_dir, 'test')\n",
        "\n",
        "classes = 'Begin, Choose, Connection, Navigation, Next, Previous, Start, Stop, Hello, Web'\n",
        "classes = classes.split(', ')\n",
        "\n",
        "#predictor_path = 'assests/predictors/shape_predictor_68_face_landmarks.dat'\n",
        "predictor_path = 'shape_predictor_68_face_landmarks.dat'\n",
        "\n",
        "detector = dlib.get_frontal_face_detector()\n",
        "predictor = dlib.shape_predictor(predictor_path)\n",
        "\n",
        "#train_people = 'F01, F02, F04, F05, F06, F07, F08, F09, M01, M02, M04'.split(', ')\n",
        "train_people = 'F01, F02, F04, F05, F06, F07, F08, F09, M01, M02, M04, F11, M08'.split(', ')\n",
        "val_people = 'F10, M07'.split(', ')\n",
        "#test_people = 'F11, M08'.split(', ')\n",
        "print(train_people)\n",
        "print(val_people)\n",
        "#print(test_people)\n",
        "\n",
        "classes_num = ['0'+str(i) if i < 10 else str(i) for i in range(1, 11) ]\n",
        "word_ids = ['0'+str(i) if i < 10 else str(i) for i in range(1, 11) ]\n",
        "classes_dict = dict(zip(classes_num, classes))\n",
        "print(classes_num)\n",
        "print(word_ids)\n",
        "print(classes_dict)"
      ]
    },
    {
      "cell_type": "code",
      "execution_count": 8,
      "metadata": {},
      "outputs": [],
      "source": [
        "!rm -rf data/train\n",
        "!rm -rf data/validation\n",
        "!rm -rf data/test"
      ]
    },
    {
      "cell_type": "code",
      "execution_count": 9,
      "metadata": {},
      "outputs": [],
      "source": [
        "for class_name in classes:\n",
        "    train_vids_dir = os.path.join(train_dir, class_name)\n",
        "    val_vids_dir = os.path.join(val_dir, class_name)\n",
        "    test_vids_dir = os.path.join(test_dir, class_name)\n",
        "    \n",
        "    os.makedirs(train_vids_dir)\n",
        "    os.makedirs(val_vids_dir)\n",
        "    os.makedirs(test_vids_dir)"
      ]
    },
    {
      "cell_type": "markdown",
      "execution_count": null,
      "metadata": {
        "colab_type": "text",
        "id": "GtTNdaei-Sua"
      },
      "outputs": [],
      "source": [
        "### Extract frames, crop around mouth (train and val)"
      ]
    },
    {
      "cell_type": "code",
      "execution_count": 10,
      "metadata": {},
      "outputs": [
        {
          "name": "stderr",
          "output_type": "stream",
          "text": "100%|██████████| 10/10 [25:57<00:00, 155.72s/it]\n"
        }
      ],
      "source": [
        "counter = 0\n",
        "for classi in tqdm(classes_num[:]):\n",
        "    for person in train_people[:]:\n",
        "        for word_id in word_ids[:]:\n",
        "            for f in sorted(glob.glob(os.path.join('data/miracl/'+person+'/words/'+classi+'/'+ word_id, \"*.jpg\"))):\n",
        "                img = cv2.imread(f, 1)\n",
        "                gray = cv2.cvtColor(img, cv2.COLOR_BGR2GRAY)\n",
        "                rects = detector(gray)\n",
        "                \n",
        "                for k, rect in enumerate(rects):\n",
        "                    shape = predictor(gray, rect)\n",
        "                    \n",
        "                    x_51 = shape.part(51).x\n",
        "                    y_51 = shape.part(51).y\n",
        "                    x_57 = shape.part(57).x\n",
        "                    y_57 = shape.part(57).y\n",
        "\n",
        "                    x1_m = x_51 - 18\n",
        "                    y1_m = y_51 - 7\n",
        "                    x2_m = x_57 + 18\n",
        "                    y2_m = y_57 + 9\n",
        "\n",
        "                    offset_x_m = (70-(abs(x1_m-x2_m)))/2\n",
        "                    offset_y_m = (35-(abs(y1_m-y2_m)))/2\n",
        "\n",
        "                    img = img[int(y1_m-offset_y_m):int(y2_m+offset_y_m), int(x1_m-offset_x_m):int(x2_m+offset_x_m)]\n",
        "                    \n",
        "                    scale_percent = 200\n",
        "                    width = int(img.shape[1] * scale_percent / 100)\n",
        "                    height = int(img.shape[0] * scale_percent / 100)\n",
        "                    dim = (width, height)\n",
        "                    img = cv2.resize(img, (int(img.shape[1]*200/100), int(img.shape[0]*200/100)), interpolation=cv2.INTER_AREA) \n",
        "                    \n",
        "                counter += 1\n",
        "                \n",
        "                cv2.imwrite('data/train/' + classes_dict[classi] + '/' + classi  + '_' + person  + '_' + word_id + '_' + f[28:-4] + '.jpg', img)"
      ]
    },
    {
      "cell_type": "code",
      "execution_count": 11,
      "metadata": {},
      "outputs": [
        {
          "name": "stderr",
          "output_type": "stream",
          "text": "100%|██████████| 10/10 [03:14<00:00, 19.43s/it]\n"
        }
      ],
      "source": [
        "counter = 0\n",
        "for classi in tqdm(classes_num[:]):\n",
        "    for person in val_people[:]:\n",
        "        for word_id in word_ids[:]:\n",
        "            for f in sorted(glob.glob(os.path.join('data/miracl/'+person+'/words/'+classi+'/'+ word_id, \"*.jpg\"))):\n",
        "                img = cv2.imread(f, 1)\n",
        "                gray = cv2.cvtColor(img, cv2.COLOR_BGR2GRAY)\n",
        "                rects = detector(gray)\n",
        "                \n",
        "                for k, rect in enumerate(rects):\n",
        "                    shape = predictor(gray, rect)\n",
        "                    \n",
        "                    x_51 = shape.part(51).x\n",
        "                    y_51 = shape.part(51).y\n",
        "                    x_57 = shape.part(57).x\n",
        "                    y_57 = shape.part(57).y\n",
        "\n",
        "                    x1_m = x_51 - 18\n",
        "                    y1_m = y_51 - 7\n",
        "                    x2_m = x_57 + 18\n",
        "                    y2_m = y_57 + 9\n",
        "\n",
        "                    offset_x_m = (70-(abs(x1_m-x2_m)))/2\n",
        "                    offset_y_m = (35-(abs(y1_m-y2_m)))/2\n",
        "\n",
        "                    img = img[int(y1_m-offset_y_m):int(y2_m+offset_y_m), int(x1_m-offset_x_m):int(x2_m+offset_x_m)]\n",
        "                    \n",
        "                    scale_percent = 200\n",
        "                    width = int(img.shape[1] * scale_percent / 100)\n",
        "                    height = int(img.shape[0] * scale_percent / 100)\n",
        "                    dim = (width, height)\n",
        "                    img = cv2.resize(img, (int(img.shape[1]*200/100), int(img.shape[0]*200/100)), interpolation=cv2.INTER_AREA) \n",
        "                    \n",
        "                counter += 1\n",
        "                \n",
        "                cv2.imwrite('data/validation/' + classes_dict[classi] + '/' + classi  + '_' + person  + '_' + word_id + '_' + f[28:-4] + '.jpg', img)"
      ]
    },
    {
      "cell_type": "markdown",
      "execution_count": null,
      "metadata": {
        "colab_type": "text",
        "id": "wkiSwKjkGugn"
      },
      "outputs": [],
      "source": [
        "## Get distribution of numbers of frames across videos"
      ]
    },
    {
      "cell_type": "markdown",
      "execution_count": null,
      "metadata": {
        "colab_type": "text",
        "id": "AnopPrpIG65W"
      },
      "outputs": [],
      "source": [
        "**Train**"
      ]
    },
    {
      "cell_type": "code",
      "execution_count": 12,
      "metadata": {},
      "outputs": [],
      "source": [
        "all_images = [] # ['data/train/Begin/01_F01_01_color_001.jpg', 'data/train/Begin/01_F01_01_color_002.jpg', 'data/train/Begin/01_F01_01_color_003.jpg' ... ]             12109\n",
        "video_names = [] # ['01_F01_01', '01_F01_01', '01_F01_01' ... ]             12109\n",
        "frame_nums = [] # ['001', '002', '003' ... ]            12109\n",
        "video_names_uniq = [] # ['01_F01_01', '01_F01_02', '01_F01_03' ... ]            1100\n",
        "frame_nums_uniq = [] # ['010', '007', '010' ... ]           1100\n",
        "vids_and_frames = {} # {'01_F01_01': '010', '01_F01_02': '007', '01_F01_03': '010' ... }            1100\n",
        "frames_distribution = {} # {'005': 3, '006': 20, '007': 69 ... '022': 1}            18"
      ]
    },
    {
      "cell_type": "code",
      "execution_count": 13,
      "metadata": {},
      "outputs": [],
      "source": [
        "for classi in classes_dict.values():\n",
        "    for i in sorted(glob.glob('data/train/' + classi + '/*.jpg')):\n",
        "        all_images.append(i)\n",
        "        \n",
        "for img in all_images:\n",
        "    img_name = img.split('/')[-1].split('.')[0]\n",
        "    video_name = img_name[:9]\n",
        "    video_names.append(video_name)\n",
        "    frame_num = img_name[-3:]\n",
        "    frame_nums.append(frame_num)\n",
        "    \n",
        "video_names_uniq = list(sorted(set(video_names)))\n",
        "\n",
        "for i in range(len(video_names)):\n",
        "    if i < len(video_names)-1:\n",
        "        if video_names[i] == video_names[i+1]:\n",
        "            pass\n",
        "        else:\n",
        "            frame_nums_uniq.append(frame_nums[i])\n",
        "    else:\n",
        "        frame_nums_uniq.append(frame_nums[-1])\n",
        "        \n",
        "for i in range(len(video_names_uniq)):\n",
        "    vids_and_frames[video_names_uniq[i]] = frame_nums_uniq[i]\n",
        "    \n",
        "for frame_num_uniq in sorted(set(frame_nums_uniq)):\n",
        "    count_d = 0\n",
        "    for vid_name, frames_num in list(vids_and_frames.items()):\n",
        "        if frames_num == frame_num_uniq:\n",
        "            count_d += 1\n",
        "            frames_distribution[frame_num_uniq] = count_d"
      ]
    },
    {
      "cell_type": "markdown",
      "execution_count": null,
      "metadata": {
        "colab_type": "text",
        "id": "35sUrHQjI4mX"
      },
      "outputs": [],
      "source": [
        "**Val**"
      ]
    },
    {
      "cell_type": "code",
      "execution_count": 14,
      "metadata": {},
      "outputs": [],
      "source": [
        "all_images_val = [] # 1746\n",
        "video_names_val = [] # 1746\n",
        "frame_nums_val = [] # 1746\n",
        "video_names_uniq_val = [] # 200\n",
        "frame_nums_uniq_val = [] # 200\n",
        "vids_and_frames_val = {} # 200\n",
        "frames_distribution_val = {} # 9"
      ]
    },
    {
      "cell_type": "code",
      "execution_count": 15,
      "metadata": {},
      "outputs": [],
      "source": [
        "for classi in classes_dict.values():\n",
        "    for i in sorted(glob.glob('data/validation/' + classi + '/*.jpg')):\n",
        "        all_images_val.append(i)\n",
        "        \n",
        "for img in all_images_val:\n",
        "    img_name = img.split('/')[-1].split('.')[0]\n",
        "    video_name = img_name[:9]\n",
        "    video_names_val.append(video_name)\n",
        "    frame_num = img_name[-3:]\n",
        "    frame_nums_val.append(frame_num)\n",
        "    \n",
        "video_names_uniq_val = list(sorted(set(video_names_val)))\n",
        "\n",
        "for i in range(len(video_names_val)):\n",
        "    if i < len(video_names_val)-1:\n",
        "        if video_names_val[i] == video_names_val[i+1]:\n",
        "            pass\n",
        "        else:\n",
        "            frame_nums_uniq_val.append(frame_nums_val[i])\n",
        "    else:\n",
        "        frame_nums_uniq_val.append(frame_nums_val[-1])\n",
        "        \n",
        "for i in range(len(frame_nums_uniq_val)):\n",
        "        vids_and_frames_val[video_names_uniq_val[i]] = frame_nums_uniq_val[i]\n",
        "        \n",
        "for frame_num_uniq_val in sorted(set(frame_nums_uniq_val)):\n",
        "    count_d = 0\n",
        "    for vid_name_val, frames_num_val in list(vids_and_frames_val.items()):\n",
        "        if frames_num_val == frame_num_uniq_val:\n",
        "            count_d += 1\n",
        "            frames_distribution_val[frame_num_uniq_val] = count_d"
      ]
    },
    {
      "cell_type": "markdown",
      "execution_count": null,
      "metadata": {
        "colab_type": "text",
        "id": "Ip7S1zh_KsQX"
      },
      "outputs": [],
      "source": [
        "**Plot distribution**"
      ]
    },
    {
      "cell_type": "code",
      "execution_count": 16,
      "metadata": {},
      "outputs": [
        {
          "name": "stdout",
          "output_type": "stream",
          "text": "Train max frames: 22\nTrain min frames: 4\nTrain mean frames: 10.575384615384616\n\nVal max frames: 13\nVal min frames: 5\nVal mean frames: 8.73\n"
        }
      ],
      "source": [
        "print('Train max frames:', int(max(vids_and_frames.values())))\n",
        "print('Train min frames:', int(min(vids_and_frames.values())))\n",
        "print('Train mean frames:', (np.array(list(vids_and_frames.values())).astype(np.float).mean()), end = '\\n\\n')\n",
        "\n",
        "print('Val max frames:', int(max(vids_and_frames_val.values())))\n",
        "print('Val min frames:', int(min(vids_and_frames_val.values())))\n",
        "print('Val mean frames:', (np.array(list(vids_and_frames_val.values())).astype(np.float).mean()))"
      ]
    },
    {
      "cell_type": "code",
      "execution_count": 17,
      "metadata": {},
      "outputs": [
        {
          "data": {
            "image/png": "[encoded data removed]",
            "image/svg+xml": "<?xml version=\"1.0\" encoding=\"utf-8\" standalone=\"no\"?>\n<!DOCTYPE svg PUBLIC \"-//W3C//DTD SVG 1.1//EN\"\n  \"http://www.w3.org/Graphics/SVG/1.1/DTD/svg11.dtd\">\n<!-- Created with matplotlib (https://matplotlib.org/) -->\n<svg height=\"465.958125pt\" version=\"1.1\" viewBox=\"0 0 1714.4875 465.958125\" width=\"1714.4875pt\" xmlns=\"http://www.w3.org/2000/svg\" xmlns:xlink=\"http://www.w3.org/1999/xlink\">\n <defs>\n  <style type=\"text/css\">\n*{stroke-linecap:butt;stroke-linejoin:round;}\n  </style>\n </defs>\n <g id=\"figure_1\">\n  <g id=\"patch_1\">\n   <path d=\"M 0 465.958125 \nL 1714.4875 465.958125 \nL 1714.4875 0 \nL 0 0 \nz\n\" style=\"fill:none;\"/>\n  </g>\n  <g id=\"axes_1\">\n   <g id=\"patch_2\">\n    <path d=\"M 33.2875 442.08 \nL 794.196591 442.08 \nL 794.196591 7.2 \nL 33.2875 7.2 \nz\n\" style=\"fill:#ffffff;\"/>\n   </g>\n   <g id=\"patch_3\">\n    <path clip-path=\"url(#pdd2d8003a4)\" d=\"M 67.874277 442.08 \nL 93.76812 442.08 \nL 93.76812 440.088791 \nL 67.874277 440.088791 \nz\n\" style=\"fill:#1f77b4;\"/>\n   </g>\n   <g id=\"patch_4\">\n    <path clip-path=\"url(#pdd2d8003a4)\" d=\"M 104.865482 442.08 \nL 130.759326 442.08 \nL 130.759326 434.115165 \nL 104.865482 434.115165 \nz\n\" style=\"fill:#1f77b4;\"/>\n   </g>\n   <g id=\"patch_5\">\n    <path clip-path=\"url(#pdd2d8003a4)\" d=\"M 141.856687 442.08 \nL 167.750531 442.08 \nL 167.750531 358.449231 \nL 141.856687 358.449231 \nz\n\" style=\"fill:#1f77b4;\"/>\n   </g>\n   <g id=\"patch_6\">\n    <path clip-path=\"url(#pdd2d8003a4)\" d=\"M 178.847892 442.08 \nL 204.741736 442.08 \nL 204.741736 205.126154 \nL 178.847892 205.126154 \nz\n\" style=\"fill:#1f77b4;\"/>\n   </g>\n   <g id=\"patch_7\">\n    <path clip-path=\"url(#pdd2d8003a4)\" d=\"M 215.839098 442.08 \nL 241.732941 442.08 \nL 241.732941 127.469011 \nL 215.839098 127.469011 \nz\n\" style=\"fill:#1f77b4;\"/>\n   </g>\n   <g id=\"patch_8\">\n    <path clip-path=\"url(#pdd2d8003a4)\" d=\"M 252.830303 442.08 \nL 278.724146 442.08 \nL 278.724146 29.89978 \nL 252.830303 29.89978 \nz\n\" style=\"fill:#1f77b4;\"/>\n   </g>\n   <g id=\"patch_9\">\n    <path clip-path=\"url(#pdd2d8003a4)\" d=\"M 289.821508 442.08 \nL 315.715352 442.08 \nL 315.715352 27.908571 \nL 289.821508 27.908571 \nz\n\" style=\"fill:#1f77b4;\"/>\n   </g>\n   <g id=\"patch_10\">\n    <path clip-path=\"url(#pdd2d8003a4)\" d=\"M 326.812713 442.08 \nL 352.706557 442.08 \nL 352.706557 153.354725 \nL 326.812713 153.354725 \nz\n\" style=\"fill:#1f77b4;\"/>\n   </g>\n   <g id=\"patch_11\">\n    <path clip-path=\"url(#pdd2d8003a4)\" d=\"M 363.803918 442.08 \nL 389.697762 442.08 \nL 389.697762 211.09978 \nL 363.803918 211.09978 \nz\n\" style=\"fill:#1f77b4;\"/>\n   </g>\n   <g id=\"patch_12\">\n    <path clip-path=\"url(#pdd2d8003a4)\" d=\"M 400.795124 442.08 \nL 426.688967 442.08 \nL 426.688967 262.871209 \nL 400.795124 262.871209 \nz\n\" style=\"fill:#1f77b4;\"/>\n   </g>\n   <g id=\"patch_13\">\n    <path clip-path=\"url(#pdd2d8003a4)\" d=\"M 437.786329 442.08 \nL 463.680172 442.08 \nL 463.680172 314.642637 \nL 437.786329 314.642637 \nz\n\" style=\"fill:#1f77b4;\"/>\n   </g>\n   <g id=\"patch_14\">\n    <path clip-path=\"url(#pdd2d8003a4)\" d=\"M 474.777534 442.08 \nL 500.671378 442.08 \nL 500.671378 334.554725 \nL 474.777534 334.554725 \nz\n\" style=\"fill:#1f77b4;\"/>\n   </g>\n   <g id=\"patch_15\">\n    <path clip-path=\"url(#pdd2d8003a4)\" d=\"M 511.768739 442.08 \nL 537.662583 442.08 \nL 537.662583 354.466813 \nL 511.768739 354.466813 \nz\n\" style=\"fill:#1f77b4;\"/>\n   </g>\n   <g id=\"patch_16\">\n    <path clip-path=\"url(#pdd2d8003a4)\" d=\"M 548.759944 442.08 \nL 574.653788 442.08 \nL 574.653788 394.290989 \nL 548.759944 394.290989 \nz\n\" style=\"fill:#1f77b4;\"/>\n   </g>\n   <g id=\"patch_17\">\n    <path clip-path=\"url(#pdd2d8003a4)\" d=\"M 585.75115 442.08 \nL 611.644993 442.08 \nL 611.644993 424.159121 \nL 585.75115 424.159121 \nz\n\" style=\"fill:#1f77b4;\"/>\n   </g>\n   <g id=\"patch_18\">\n    <path clip-path=\"url(#pdd2d8003a4)\" d=\"M 622.742355 442.08 \nL 648.636198 442.08 \nL 648.636198 426.15033 \nL 622.742355 426.15033 \nz\n\" style=\"fill:#1f77b4;\"/>\n   </g>\n   <g id=\"patch_19\">\n    <path clip-path=\"url(#pdd2d8003a4)\" d=\"M 659.73356 442.08 \nL 685.627404 442.08 \nL 685.627404 432.123956 \nL 659.73356 432.123956 \nz\n\" style=\"fill:#1f77b4;\"/>\n   </g>\n   <g id=\"patch_20\">\n    <path clip-path=\"url(#pdd2d8003a4)\" d=\"M 696.724765 442.08 \nL 722.618609 442.08 \nL 722.618609 440.088791 \nL 696.724765 440.088791 \nz\n\" style=\"fill:#1f77b4;\"/>\n   </g>\n   <g id=\"patch_21\">\n    <path clip-path=\"url(#pdd2d8003a4)\" d=\"M 733.71597 442.08 \nL 759.609814 442.08 \nL 759.609814 440.088791 \nL 733.71597 440.088791 \nz\n\" style=\"fill:#1f77b4;\"/>\n   </g>\n   <g id=\"matplotlib.axis_1\">\n    <g id=\"xtick_1\">\n     <g id=\"line2d_1\">\n      <defs>\n       <path d=\"M 0 0 \nL 0 3.5 \n\" id=\"m375b71ff7a\" style=\"stroke:#000000;stroke-width:0.8;\"/>\n      </defs>\n      <g>\n       <use style=\"stroke:#000000;stroke-width:0.8;\" x=\"80.821199\" xlink:href=\"#m375b71ff7a\" y=\"442.08\"/>\n      </g>\n     </g>\n     <g id=\"text_1\">\n      <!-- 004 -->\n      <defs>\n       <path d=\"M 31.78125 66.40625 \nQ 24.171875 66.40625 20.328125 58.90625 \nQ 16.5 51.421875 16.5 36.375 \nQ 16.5 21.390625 20.328125 13.890625 \nQ 24.171875 6.390625 31.78125 6.390625 \nQ 39.453125 6.390625 43.28125 13.890625 \nQ 47.125 21.390625 47.125 36.375 \nQ 47.125 51.421875 43.28125 58.90625 \nQ 39.453125 66.40625 31.78125 66.40625 \nz\nM 31.78125 74.21875 \nQ 44.046875 74.21875 50.515625 64.515625 \nQ 56.984375 54.828125 56.984375 36.375 \nQ 56.984375 17.96875 50.515625 8.265625 \nQ 44.046875 -1.421875 31.78125 -1.421875 \nQ 19.53125 -1.421875 13.0625 8.265625 \nQ 6.59375 17.96875 6.59375 36.375 \nQ 6.59375 54.828125 13.0625 64.515625 \nQ 19.53125 74.21875 31.78125 74.21875 \nz\n\" id=\"DejaVuSans-48\"/>\n       <path d=\"M 37.796875 64.3125 \nL 12.890625 25.390625 \nL 37.796875 25.390625 \nz\nM 35.203125 72.90625 \nL 47.609375 72.90625 \nL 47.609375 25.390625 \nL 58.015625 25.390625 \nL 58.015625 17.1875 \nL 47.609375 17.1875 \nL 47.609375 0 \nL 37.796875 0 \nL 37.796875 17.1875 \nL 4.890625 17.1875 \nL 4.890625 26.703125 \nz\n\" id=\"DejaVuSans-52\"/>\n      </defs>\n      <g transform=\"translate(71.277449 456.678437)scale(0.1 -0.1)\">\n       <use xlink:href=\"#DejaVuSans-48\"/>\n       <use x=\"63.623047\" xlink:href=\"#DejaVuSans-48\"/>\n       <use x=\"127.246094\" xlink:href=\"#DejaVuSans-52\"/>\n      </g>\n     </g>\n    </g>\n    <g id=\"xtick_2\">\n     <g id=\"line2d_2\">\n      <g>\n       <use style=\"stroke:#000000;stroke-width:0.8;\" x=\"117.812404\" xlink:href=\"#m375b71ff7a\" y=\"442.08\"/>\n      </g>\n     </g>\n     <g id=\"text_2\">\n      <!-- 005 -->\n      <defs>\n       <path d=\"M 10.796875 72.90625 \nL 49.515625 72.90625 \nL 49.515625 64.59375 \nL 19.828125 64.59375 \nL 19.828125 46.734375 \nQ 21.96875 47.46875 24.109375 47.828125 \nQ 26.265625 48.1875 28.421875 48.1875 \nQ 40.625 48.1875 47.75 41.5 \nQ 54.890625 34.8125 54.890625 23.390625 \nQ 54.890625 11.625 47.5625 5.09375 \nQ 40.234375 -1.421875 26.90625 -1.421875 \nQ 22.3125 -1.421875 17.546875 -0.640625 \nQ 12.796875 0.140625 7.71875 1.703125 \nL 7.71875 11.625 \nQ 12.109375 9.234375 16.796875 8.0625 \nQ 21.484375 6.890625 26.703125 6.890625 \nQ 35.15625 6.890625 40.078125 11.328125 \nQ 45.015625 15.765625 45.015625 23.390625 \nQ 45.015625 31 40.078125 35.4375 \nQ 35.15625 39.890625 26.703125 39.890625 \nQ 22.75 39.890625 18.8125 39.015625 \nQ 14.890625 38.140625 10.796875 36.28125 \nz\n\" id=\"DejaVuSans-53\"/>\n      </defs>\n      <g transform=\"translate(108.268654 456.678437)scale(0.1 -0.1)\">\n       <use xlink:href=\"#DejaVuSans-48\"/>\n       <use x=\"63.623047\" xlink:href=\"#DejaVuSans-48\"/>\n       <use x=\"127.246094\" xlink:href=\"#DejaVuSans-53\"/>\n      </g>\n     </g>\n    </g>\n    <g id=\"xtick_3\">\n     <g id=\"line2d_3\">\n      <g>\n       <use style=\"stroke:#000000;stroke-width:0.8;\" x=\"154.803609\" xlink:href=\"#m375b71ff7a\" y=\"442.08\"/>\n      </g>\n     </g>\n     <g id=\"text_3\">\n      <!-- 006 -->\n      <defs>\n       <path d=\"M 33.015625 40.375 \nQ 26.375 40.375 22.484375 35.828125 \nQ 18.609375 31.296875 18.609375 23.390625 \nQ 18.609375 15.53125 22.484375 10.953125 \nQ 26.375 6.390625 33.015625 6.390625 \nQ 39.65625 6.390625 43.53125 10.953125 \nQ 47.40625 15.53125 47.40625 23.390625 \nQ 47.40625 31.296875 43.53125 35.828125 \nQ 39.65625 40.375 33.015625 40.375 \nz\nM 52.59375 71.296875 \nL 52.59375 62.3125 \nQ 48.875 64.0625 45.09375 64.984375 \nQ 41.3125 65.921875 37.59375 65.921875 \nQ 27.828125 65.921875 22.671875 59.328125 \nQ 17.53125 52.734375 16.796875 39.40625 \nQ 19.671875 43.65625 24.015625 45.921875 \nQ 28.375 48.1875 33.59375 48.1875 \nQ 44.578125 48.1875 50.953125 41.515625 \nQ 57.328125 34.859375 57.328125 23.390625 \nQ 57.328125 12.15625 50.6875 5.359375 \nQ 44.046875 -1.421875 33.015625 -1.421875 \nQ 20.359375 -1.421875 13.671875 8.265625 \nQ 6.984375 17.96875 6.984375 36.375 \nQ 6.984375 53.65625 15.1875 63.9375 \nQ 23.390625 74.21875 37.203125 74.21875 \nQ 40.921875 74.21875 44.703125 73.484375 \nQ 48.484375 72.75 52.59375 71.296875 \nz\n\" id=\"DejaVuSans-54\"/>\n      </defs>\n      <g transform=\"translate(145.259859 456.678437)scale(0.1 -0.1)\">\n       <use xlink:href=\"#DejaVuSans-48\"/>\n       <use x=\"63.623047\" xlink:href=\"#DejaVuSans-48\"/>\n       <use x=\"127.246094\" xlink:href=\"#DejaVuSans-54\"/>\n      </g>\n     </g>\n    </g>\n    <g id=\"xtick_4\">\n     <g id=\"line2d_4\">\n      <g>\n       <use style=\"stroke:#000000;stroke-width:0.8;\" x=\"191.794814\" xlink:href=\"#m375b71ff7a\" y=\"442.08\"/>\n      </g>\n     </g>\n     <g id=\"text_4\">\n      <!-- 007 -->\n      <defs>\n       <path d=\"M 8.203125 72.90625 \nL 55.078125 72.90625 \nL 55.078125 68.703125 \nL 28.609375 0 \nL 18.3125 0 \nL 43.21875 64.59375 \nL 8.203125 64.59375 \nz\n\" id=\"DejaVuSans-55\"/>\n      </defs>\n      <g transform=\"translate(182.251064 456.678437)scale(0.1 -0.1)\">\n       <use xlink:href=\"#DejaVuSans-48\"/>\n       <use x=\"63.623047\" xlink:href=\"#DejaVuSans-48\"/>\n       <use x=\"127.246094\" xlink:href=\"#DejaVuSans-55\"/>\n      </g>\n     </g>\n    </g>\n    <g id=\"xtick_5\">\n     <g id=\"line2d_5\">\n      <g>\n       <use style=\"stroke:#000000;stroke-width:0.8;\" x=\"228.786019\" xlink:href=\"#m375b71ff7a\" y=\"442.08\"/>\n      </g>\n     </g>\n     <g id=\"text_5\">\n      <!-- 008 -->\n      <defs>\n       <path d=\"M 31.78125 34.625 \nQ 24.75 34.625 20.71875 30.859375 \nQ 16.703125 27.09375 16.703125 20.515625 \nQ 16.703125 13.921875 20.71875 10.15625 \nQ 24.75 6.390625 31.78125 6.390625 \nQ 38.8125 6.390625 42.859375 10.171875 \nQ 46.921875 13.96875 46.921875 20.515625 \nQ 46.921875 27.09375 42.890625 30.859375 \nQ 38.875 34.625 31.78125 34.625 \nz\nM 21.921875 38.8125 \nQ 15.578125 40.375 12.03125 44.71875 \nQ 8.5 49.078125 8.5 55.328125 \nQ 8.5 64.0625 14.71875 69.140625 \nQ 20.953125 74.21875 31.78125 74.21875 \nQ 42.671875 74.21875 48.875 69.140625 \nQ 55.078125 64.0625 55.078125 55.328125 \nQ 55.078125 49.078125 51.53125 44.71875 \nQ 48 40.375 41.703125 38.8125 \nQ 48.828125 37.15625 52.796875 32.3125 \nQ 56.78125 27.484375 56.78125 20.515625 \nQ 56.78125 9.90625 50.3125 4.234375 \nQ 43.84375 -1.421875 31.78125 -1.421875 \nQ 19.734375 -1.421875 13.25 4.234375 \nQ 6.78125 9.90625 6.78125 20.515625 \nQ 6.78125 27.484375 10.78125 32.3125 \nQ 14.796875 37.15625 21.921875 38.8125 \nz\nM 18.3125 54.390625 \nQ 18.3125 48.734375 21.84375 45.5625 \nQ 25.390625 42.390625 31.78125 42.390625 \nQ 38.140625 42.390625 41.71875 45.5625 \nQ 45.3125 48.734375 45.3125 54.390625 \nQ 45.3125 60.0625 41.71875 63.234375 \nQ 38.140625 66.40625 31.78125 66.40625 \nQ 25.390625 66.40625 21.84375 63.234375 \nQ 18.3125 60.0625 18.3125 54.390625 \nz\n\" id=\"DejaVuSans-56\"/>\n      </defs>\n      <g transform=\"translate(219.242269 456.678437)scale(0.1 -0.1)\">\n       <use xlink:href=\"#DejaVuSans-48\"/>\n       <use x=\"63.623047\" xlink:href=\"#DejaVuSans-48\"/>\n       <use x=\"127.246094\" xlink:href=\"#DejaVuSans-56\"/>\n      </g>\n     </g>\n    </g>\n    <g id=\"xtick_6\">\n     <g id=\"line2d_6\">\n      <g>\n       <use style=\"stroke:#000000;stroke-width:0.8;\" x=\"265.777225\" xlink:href=\"#m375b71ff7a\" y=\"442.08\"/>\n      </g>\n     </g>\n     <g id=\"text_6\">\n      <!-- 009 -->\n      <defs>\n       <path d=\"M 10.984375 1.515625 \nL 10.984375 10.5 \nQ 14.703125 8.734375 18.5 7.8125 \nQ 22.3125 6.890625 25.984375 6.890625 \nQ 35.75 6.890625 40.890625 13.453125 \nQ 46.046875 20.015625 46.78125 33.40625 \nQ 43.953125 29.203125 39.59375 26.953125 \nQ 35.25 24.703125 29.984375 24.703125 \nQ 19.046875 24.703125 12.671875 31.3125 \nQ 6.296875 37.9375 6.296875 49.421875 \nQ 6.296875 60.640625 12.9375 67.421875 \nQ 19.578125 74.21875 30.609375 74.21875 \nQ 43.265625 74.21875 49.921875 64.515625 \nQ 56.59375 54.828125 56.59375 36.375 \nQ 56.59375 19.140625 48.40625 8.859375 \nQ 40.234375 -1.421875 26.421875 -1.421875 \nQ 22.703125 -1.421875 18.890625 -0.6875 \nQ 15.09375 0.046875 10.984375 1.515625 \nz\nM 30.609375 32.421875 \nQ 37.25 32.421875 41.125 36.953125 \nQ 45.015625 41.5 45.015625 49.421875 \nQ 45.015625 57.28125 41.125 61.84375 \nQ 37.25 66.40625 30.609375 66.40625 \nQ 23.96875 66.40625 20.09375 61.84375 \nQ 16.21875 57.28125 16.21875 49.421875 \nQ 16.21875 41.5 20.09375 36.953125 \nQ 23.96875 32.421875 30.609375 32.421875 \nz\n\" id=\"DejaVuSans-57\"/>\n      </defs>\n      <g transform=\"translate(256.233475 456.678437)scale(0.1 -0.1)\">\n       <use xlink:href=\"#DejaVuSans-48\"/>\n       <use x=\"63.623047\" xlink:href=\"#DejaVuSans-48\"/>\n       <use x=\"127.246094\" xlink:href=\"#DejaVuSans-57\"/>\n      </g>\n     </g>\n    </g>\n    <g id=\"xtick_7\">\n     <g id=\"line2d_7\">\n      <g>\n       <use style=\"stroke:#000000;stroke-width:0.8;\" x=\"302.76843\" xlink:href=\"#m375b71ff7a\" y=\"442.08\"/>\n      </g>\n     </g>\n     <g id=\"text_7\">\n      <!-- 010 -->\n      <defs>\n       <path d=\"M 12.40625 8.296875 \nL 28.515625 8.296875 \nL 28.515625 63.921875 \nL 10.984375 60.40625 \nL 10.984375 69.390625 \nL 28.421875 72.90625 \nL 38.28125 72.90625 \nL 38.28125 8.296875 \nL 54.390625 8.296875 \nL 54.390625 0 \nL 12.40625 0 \nz\n\" id=\"DejaVuSans-49\"/>\n      </defs>\n      <g transform=\"translate(293.22468 456.678437)scale(0.1 -0.1)\">\n       <use xlink:href=\"#DejaVuSans-48\"/>\n       <use x=\"63.623047\" xlink:href=\"#DejaVuSans-49\"/>\n       <use x=\"127.246094\" xlink:href=\"#DejaVuSans-48\"/>\n      </g>\n     </g>\n    </g>\n    <g id=\"xtick_8\">\n     <g id=\"line2d_8\">\n      <g>\n       <use style=\"stroke:#000000;stroke-width:0.8;\" x=\"339.759635\" xlink:href=\"#m375b71ff7a\" y=\"442.08\"/>\n      </g>\n     </g>\n     <g id=\"text_8\">\n      <!-- 011 -->\n      <g transform=\"translate(330.215885 456.678437)scale(0.1 -0.1)\">\n       <use xlink:href=\"#DejaVuSans-48\"/>\n       <use x=\"63.623047\" xlink:href=\"#DejaVuSans-49\"/>\n       <use x=\"127.246094\" xlink:href=\"#DejaVuSans-49\"/>\n      </g>\n     </g>\n    </g>\n    <g id=\"xtick_9\">\n     <g id=\"line2d_9\">\n      <g>\n       <use style=\"stroke:#000000;stroke-width:0.8;\" x=\"376.75084\" xlink:href=\"#m375b71ff7a\" y=\"442.08\"/>\n      </g>\n     </g>\n     <g id=\"text_9\">\n      <!-- 012 -->\n      <defs>\n       <path d=\"M 19.1875 8.296875 \nL 53.609375 8.296875 \nL 53.609375 0 \nL 7.328125 0 \nL 7.328125 8.296875 \nQ 12.9375 14.109375 22.625 23.890625 \nQ 32.328125 33.6875 34.8125 36.53125 \nQ 39.546875 41.84375 41.421875 45.53125 \nQ 43.3125 49.21875 43.3125 52.78125 \nQ 43.3125 58.59375 39.234375 62.25 \nQ 35.15625 65.921875 28.609375 65.921875 \nQ 23.96875 65.921875 18.8125 64.3125 \nQ 13.671875 62.703125 7.8125 59.421875 \nL 7.8125 69.390625 \nQ 13.765625 71.78125 18.9375 73 \nQ 24.125 74.21875 28.421875 74.21875 \nQ 39.75 74.21875 46.484375 68.546875 \nQ 53.21875 62.890625 53.21875 53.421875 \nQ 53.21875 48.921875 51.53125 44.890625 \nQ 49.859375 40.875 45.40625 35.40625 \nQ 44.1875 33.984375 37.640625 27.21875 \nQ 31.109375 20.453125 19.1875 8.296875 \nz\n\" id=\"DejaVuSans-50\"/>\n      </defs>\n      <g transform=\"translate(367.20709 456.678437)scale(0.1 -0.1)\">\n       <use xlink:href=\"#DejaVuSans-48\"/>\n       <use x=\"63.623047\" xlink:href=\"#DejaVuSans-49\"/>\n       <use x=\"127.246094\" xlink:href=\"#DejaVuSans-50\"/>\n      </g>\n     </g>\n    </g>\n    <g id=\"xtick_10\">\n     <g id=\"line2d_10\">\n      <g>\n       <use style=\"stroke:#000000;stroke-width:0.8;\" x=\"413.742045\" xlink:href=\"#m375b71ff7a\" y=\"442.08\"/>\n      </g>\n     </g>\n     <g id=\"text_10\">\n      <!-- 013 -->\n      <defs>\n       <path d=\"M 40.578125 39.3125 \nQ 47.65625 37.796875 51.625 33 \nQ 55.609375 28.21875 55.609375 21.1875 \nQ 55.609375 10.40625 48.1875 4.484375 \nQ 40.765625 -1.421875 27.09375 -1.421875 \nQ 22.515625 -1.421875 17.65625 -0.515625 \nQ 12.796875 0.390625 7.625 2.203125 \nL 7.625 11.71875 \nQ 11.71875 9.328125 16.59375 8.109375 \nQ 21.484375 6.890625 26.8125 6.890625 \nQ 36.078125 6.890625 40.9375 10.546875 \nQ 45.796875 14.203125 45.796875 21.1875 \nQ 45.796875 27.640625 41.28125 31.265625 \nQ 36.765625 34.90625 28.71875 34.90625 \nL 20.21875 34.90625 \nL 20.21875 43.015625 \nL 29.109375 43.015625 \nQ 36.375 43.015625 40.234375 45.921875 \nQ 44.09375 48.828125 44.09375 54.296875 \nQ 44.09375 59.90625 40.109375 62.90625 \nQ 36.140625 65.921875 28.71875 65.921875 \nQ 24.65625 65.921875 20.015625 65.03125 \nQ 15.375 64.15625 9.8125 62.3125 \nL 9.8125 71.09375 \nQ 15.4375 72.65625 20.34375 73.4375 \nQ 25.25 74.21875 29.59375 74.21875 \nQ 40.828125 74.21875 47.359375 69.109375 \nQ 53.90625 64.015625 53.90625 55.328125 \nQ 53.90625 49.265625 50.4375 45.09375 \nQ 46.96875 40.921875 40.578125 39.3125 \nz\n\" id=\"DejaVuSans-51\"/>\n      </defs>\n      <g transform=\"translate(404.198295 456.678437)scale(0.1 -0.1)\">\n       <use xlink:href=\"#DejaVuSans-48\"/>\n       <use x=\"63.623047\" xlink:href=\"#DejaVuSans-49\"/>\n       <use x=\"127.246094\" xlink:href=\"#DejaVuSans-51\"/>\n      </g>\n     </g>\n    </g>\n    <g id=\"xtick_11\">\n     <g id=\"line2d_11\">\n      <g>\n       <use style=\"stroke:#000000;stroke-width:0.8;\" x=\"450.733251\" xlink:href=\"#m375b71ff7a\" y=\"442.08\"/>\n      </g>\n     </g>\n     <g id=\"text_11\">\n      <!-- 014 -->\n      <g transform=\"translate(441.189501 456.678437)scale(0.1 -0.1)\">\n       <use xlink:href=\"#DejaVuSans-48\"/>\n       <use x=\"63.623047\" xlink:href=\"#DejaVuSans-49\"/>\n       <use x=\"127.246094\" xlink:href=\"#DejaVuSans-52\"/>\n      </g>\n     </g>\n    </g>\n    <g id=\"xtick_12\">\n     <g id=\"line2d_12\">\n      <g>\n       <use style=\"stroke:#000000;stroke-width:0.8;\" x=\"487.724456\" xlink:href=\"#m375b71ff7a\" y=\"442.08\"/>\n      </g>\n     </g>\n     <g id=\"text_12\">\n      <!-- 015 -->\n      <g transform=\"translate(478.180706 456.678437)scale(0.1 -0.1)\">\n       <use xlink:href=\"#DejaVuSans-48\"/>\n       <use x=\"63.623047\" xlink:href=\"#DejaVuSans-49\"/>\n       <use x=\"127.246094\" xlink:href=\"#DejaVuSans-53\"/>\n      </g>\n     </g>\n    </g>\n    <g id=\"xtick_13\">\n     <g id=\"line2d_13\">\n      <g>\n       <use style=\"stroke:#000000;stroke-width:0.8;\" x=\"524.715661\" xlink:href=\"#m375b71ff7a\" y=\"442.08\"/>\n      </g>\n     </g>\n     <g id=\"text_13\">\n      <!-- 016 -->\n      <g transform=\"translate(515.171911 456.678437)scale(0.1 -0.1)\">\n       <use xlink:href=\"#DejaVuSans-48\"/>\n       <use x=\"63.623047\" xlink:href=\"#DejaVuSans-49\"/>\n       <use x=\"127.246094\" xlink:href=\"#DejaVuSans-54\"/>\n      </g>\n     </g>\n    </g>\n    <g id=\"xtick_14\">\n     <g id=\"line2d_14\">\n      <g>\n       <use style=\"stroke:#000000;stroke-width:0.8;\" x=\"561.706866\" xlink:href=\"#m375b71ff7a\" y=\"442.08\"/>\n      </g>\n     </g>\n     <g id=\"text_14\">\n      <!-- 017 -->\n      <g transform=\"translate(552.163116 456.678437)scale(0.1 -0.1)\">\n       <use xlink:href=\"#DejaVuSans-48\"/>\n       <use x=\"63.623047\" xlink:href=\"#DejaVuSans-49\"/>\n       <use x=\"127.246094\" xlink:href=\"#DejaVuSans-55\"/>\n      </g>\n     </g>\n    </g>\n    <g id=\"xtick_15\">\n     <g id=\"line2d_15\">\n      <g>\n       <use style=\"stroke:#000000;stroke-width:0.8;\" x=\"598.698071\" xlink:href=\"#m375b71ff7a\" y=\"442.08\"/>\n      </g>\n     </g>\n     <g id=\"text_15\">\n      <!-- 018 -->\n      <g transform=\"translate(589.154321 456.678437)scale(0.1 -0.1)\">\n       <use xlink:href=\"#DejaVuSans-48\"/>\n       <use x=\"63.623047\" xlink:href=\"#DejaVuSans-49\"/>\n       <use x=\"127.246094\" xlink:href=\"#DejaVuSans-56\"/>\n      </g>\n     </g>\n    </g>\n    <g id=\"xtick_16\">\n     <g id=\"line2d_16\">\n      <g>\n       <use style=\"stroke:#000000;stroke-width:0.8;\" x=\"635.689277\" xlink:href=\"#m375b71ff7a\" y=\"442.08\"/>\n      </g>\n     </g>\n     <g id=\"text_16\">\n      <!-- 019 -->\n      <g transform=\"translate(626.145527 456.678437)scale(0.1 -0.1)\">\n       <use xlink:href=\"#DejaVuSans-48\"/>\n       <use x=\"63.623047\" xlink:href=\"#DejaVuSans-49\"/>\n       <use x=\"127.246094\" xlink:href=\"#DejaVuSans-57\"/>\n      </g>\n     </g>\n    </g>\n    <g id=\"xtick_17\">\n     <g id=\"line2d_17\">\n      <g>\n       <use style=\"stroke:#000000;stroke-width:0.8;\" x=\"672.680482\" xlink:href=\"#m375b71ff7a\" y=\"442.08\"/>\n      </g>\n     </g>\n     <g id=\"text_17\">\n      <!-- 020 -->\n      <g transform=\"translate(663.136732 456.678437)scale(0.1 -0.1)\">\n       <use xlink:href=\"#DejaVuSans-48\"/>\n       <use x=\"63.623047\" xlink:href=\"#DejaVuSans-50\"/>\n       <use x=\"127.246094\" xlink:href=\"#DejaVuSans-48\"/>\n      </g>\n     </g>\n    </g>\n    <g id=\"xtick_18\">\n     <g id=\"line2d_18\">\n      <g>\n       <use style=\"stroke:#000000;stroke-width:0.8;\" x=\"709.671687\" xlink:href=\"#m375b71ff7a\" y=\"442.08\"/>\n      </g>\n     </g>\n     <g id=\"text_18\">\n      <!-- 021 -->\n      <g transform=\"translate(700.127937 456.678437)scale(0.1 -0.1)\">\n       <use xlink:href=\"#DejaVuSans-48\"/>\n       <use x=\"63.623047\" xlink:href=\"#DejaVuSans-50\"/>\n       <use x=\"127.246094\" xlink:href=\"#DejaVuSans-49\"/>\n      </g>\n     </g>\n    </g>\n    <g id=\"xtick_19\">\n     <g id=\"line2d_19\">\n      <g>\n       <use style=\"stroke:#000000;stroke-width:0.8;\" x=\"746.662892\" xlink:href=\"#m375b71ff7a\" y=\"442.08\"/>\n      </g>\n     </g>\n     <g id=\"text_19\">\n      <!-- 022 -->\n      <g transform=\"translate(737.119142 456.678437)scale(0.1 -0.1)\">\n       <use xlink:href=\"#DejaVuSans-48\"/>\n       <use x=\"63.623047\" xlink:href=\"#DejaVuSans-50\"/>\n       <use x=\"127.246094\" xlink:href=\"#DejaVuSans-50\"/>\n      </g>\n     </g>\n    </g>\n   </g>\n   <g id=\"matplotlib.axis_2\">\n    <g id=\"ytick_1\">\n     <g id=\"line2d_20\">\n      <path clip-path=\"url(#pdd2d8003a4)\" d=\"M 33.2875 442.08 \nL 794.196591 442.08 \n\" style=\"fill:none;stroke:#b0b0b0;stroke-linecap:square;stroke-width:0.8;\"/>\n     </g>\n     <g id=\"line2d_21\">\n      <defs>\n       <path d=\"M 0 0 \nL -3.5 0 \n\" id=\"ma48a459415\" style=\"stroke:#000000;stroke-width:0.8;\"/>\n      </defs>\n      <g>\n       <use style=\"stroke:#000000;stroke-width:0.8;\" x=\"33.2875\" xlink:href=\"#ma48a459415\" y=\"442.08\"/>\n      </g>\n     </g>\n     <g id=\"text_20\">\n      <!-- 0 -->\n      <g transform=\"translate(19.925 445.879219)scale(0.1 -0.1)\">\n       <use xlink:href=\"#DejaVuSans-48\"/>\n      </g>\n     </g>\n    </g>\n    <g id=\"ytick_2\">\n     <g id=\"line2d_22\">\n      <path clip-path=\"url(#pdd2d8003a4)\" d=\"M 33.2875 422.167912 \nL 794.196591 422.167912 \n\" style=\"fill:none;stroke:#b0b0b0;stroke-linecap:square;stroke-width:0.8;\"/>\n     </g>\n     <g id=\"line2d_23\">\n      <g>\n       <use style=\"stroke:#000000;stroke-width:0.8;\" x=\"33.2875\" xlink:href=\"#ma48a459415\" y=\"422.167912\"/>\n      </g>\n     </g>\n     <g id=\"text_21\">\n      <!-- 10 -->\n      <g transform=\"translate(13.5625 425.967131)scale(0.1 -0.1)\">\n       <use xlink:href=\"#DejaVuSans-49\"/>\n       <use x=\"63.623047\" xlink:href=\"#DejaVuSans-48\"/>\n      </g>\n     </g>\n    </g>\n    <g id=\"ytick_3\">\n     <g id=\"line2d_24\">\n      <path clip-path=\"url(#pdd2d8003a4)\" d=\"M 33.2875 402.255824 \nL 794.196591 402.255824 \n\" style=\"fill:none;stroke:#b0b0b0;stroke-linecap:square;stroke-width:0.8;\"/>\n     </g>\n     <g id=\"line2d_25\">\n      <g>\n       <use style=\"stroke:#000000;stroke-width:0.8;\" x=\"33.2875\" xlink:href=\"#ma48a459415\" y=\"402.255824\"/>\n      </g>\n     </g>\n     <g id=\"text_22\">\n      <!-- 20 -->\n      <g transform=\"translate(13.5625 406.055043)scale(0.1 -0.1)\">\n       <use xlink:href=\"#DejaVuSans-50\"/>\n       <use x=\"63.623047\" xlink:href=\"#DejaVuSans-48\"/>\n      </g>\n     </g>\n    </g>\n    <g id=\"ytick_4\">\n     <g id=\"line2d_26\">\n      <path clip-path=\"url(#pdd2d8003a4)\" d=\"M 33.2875 382.343736 \nL 794.196591 382.343736 \n\" style=\"fill:none;stroke:#b0b0b0;stroke-linecap:square;stroke-width:0.8;\"/>\n     </g>\n     <g id=\"line2d_27\">\n      <g>\n       <use style=\"stroke:#000000;stroke-width:0.8;\" x=\"33.2875\" xlink:href=\"#ma48a459415\" y=\"382.343736\"/>\n      </g>\n     </g>\n     <g id=\"text_23\">\n      <!-- 30 -->\n      <g transform=\"translate(13.5625 386.142955)scale(0.1 -0.1)\">\n       <use xlink:href=\"#DejaVuSans-51\"/>\n       <use x=\"63.623047\" xlink:href=\"#DejaVuSans-48\"/>\n      </g>\n     </g>\n    </g>\n    <g id=\"ytick_5\">\n     <g id=\"line2d_28\">\n      <path clip-path=\"url(#pdd2d8003a4)\" d=\"M 33.2875 362.431648 \nL 794.196591 362.431648 \n\" style=\"fill:none;stroke:#b0b0b0;stroke-linecap:square;stroke-width:0.8;\"/>\n     </g>\n     <g id=\"line2d_29\">\n      <g>\n       <use style=\"stroke:#000000;stroke-width:0.8;\" x=\"33.2875\" xlink:href=\"#ma48a459415\" y=\"362.431648\"/>\n      </g>\n     </g>\n     <g id=\"text_24\">\n      <!-- 40 -->\n      <g transform=\"translate(13.5625 366.230867)scale(0.1 -0.1)\">\n       <use xlink:href=\"#DejaVuSans-52\"/>\n       <use x=\"63.623047\" xlink:href=\"#DejaVuSans-48\"/>\n      </g>\n     </g>\n    </g>\n    <g id=\"ytick_6\">\n     <g id=\"line2d_30\">\n      <path clip-path=\"url(#pdd2d8003a4)\" d=\"M 33.2875 342.51956 \nL 794.196591 342.51956 \n\" style=\"fill:none;stroke:#b0b0b0;stroke-linecap:square;stroke-width:0.8;\"/>\n     </g>\n     <g id=\"line2d_31\">\n      <g>\n       <use style=\"stroke:#000000;stroke-width:0.8;\" x=\"33.2875\" xlink:href=\"#ma48a459415\" y=\"342.51956\"/>\n      </g>\n     </g>\n     <g id=\"text_25\">\n      <!-- 50 -->\n      <g transform=\"translate(13.5625 346.318779)scale(0.1 -0.1)\">\n       <use xlink:href=\"#DejaVuSans-53\"/>\n       <use x=\"63.623047\" xlink:href=\"#DejaVuSans-48\"/>\n      </g>\n     </g>\n    </g>\n    <g id=\"ytick_7\">\n     <g id=\"line2d_32\">\n      <path clip-path=\"url(#pdd2d8003a4)\" d=\"M 33.2875 322.607473 \nL 794.196591 322.607473 \n\" style=\"fill:none;stroke:#b0b0b0;stroke-linecap:square;stroke-width:0.8;\"/>\n     </g>\n     <g id=\"line2d_33\">\n      <g>\n       <use style=\"stroke:#000000;stroke-width:0.8;\" x=\"33.2875\" xlink:href=\"#ma48a459415\" y=\"322.607473\"/>\n      </g>\n     </g>\n     <g id=\"text_26\">\n      <!-- 60 -->\n      <g transform=\"translate(13.5625 326.406691)scale(0.1 -0.1)\">\n       <use xlink:href=\"#DejaVuSans-54\"/>\n       <use x=\"63.623047\" xlink:href=\"#DejaVuSans-48\"/>\n      </g>\n     </g>\n    </g>\n    <g id=\"ytick_8\">\n     <g id=\"line2d_34\">\n      <path clip-path=\"url(#pdd2d8003a4)\" d=\"M 33.2875 302.695385 \nL 794.196591 302.695385 \n\" style=\"fill:none;stroke:#b0b0b0;stroke-linecap:square;stroke-width:0.8;\"/>\n     </g>\n     <g id=\"line2d_35\">\n      <g>\n       <use style=\"stroke:#000000;stroke-width:0.8;\" x=\"33.2875\" xlink:href=\"#ma48a459415\" y=\"302.695385\"/>\n      </g>\n     </g>\n     <g id=\"text_27\">\n      <!-- 70 -->\n      <g transform=\"translate(13.5625 306.494603)scale(0.1 -0.1)\">\n       <use xlink:href=\"#DejaVuSans-55\"/>\n       <use x=\"63.623047\" xlink:href=\"#DejaVuSans-48\"/>\n      </g>\n     </g>\n    </g>\n    <g id=\"ytick_9\">\n     <g id=\"line2d_36\">\n      <path clip-path=\"url(#pdd2d8003a4)\" d=\"M 33.2875 282.783297 \nL 794.196591 282.783297 \n\" style=\"fill:none;stroke:#b0b0b0;stroke-linecap:square;stroke-width:0.8;\"/>\n     </g>\n     <g id=\"line2d_37\">\n      <g>\n       <use style=\"stroke:#000000;stroke-width:0.8;\" x=\"33.2875\" xlink:href=\"#ma48a459415\" y=\"282.783297\"/>\n      </g>\n     </g>\n     <g id=\"text_28\">\n      <!-- 80 -->\n      <g transform=\"translate(13.5625 286.582515)scale(0.1 -0.1)\">\n       <use xlink:href=\"#DejaVuSans-56\"/>\n       <use x=\"63.623047\" xlink:href=\"#DejaVuSans-48\"/>\n      </g>\n     </g>\n    </g>\n    <g id=\"ytick_10\">\n     <g id=\"line2d_38\">\n      <path clip-path=\"url(#pdd2d8003a4)\" d=\"M 33.2875 262.871209 \nL 794.196591 262.871209 \n\" style=\"fill:none;stroke:#b0b0b0;stroke-linecap:square;stroke-width:0.8;\"/>\n     </g>\n     <g id=\"line2d_39\">\n      <g>\n       <use style=\"stroke:#000000;stroke-width:0.8;\" x=\"33.2875\" xlink:href=\"#ma48a459415\" y=\"262.871209\"/>\n      </g>\n     </g>\n     <g id=\"text_29\">\n      <!-- 90 -->\n      <g transform=\"translate(13.5625 266.670428)scale(0.1 -0.1)\">\n       <use xlink:href=\"#DejaVuSans-57\"/>\n       <use x=\"63.623047\" xlink:href=\"#DejaVuSans-48\"/>\n      </g>\n     </g>\n    </g>\n    <g id=\"ytick_11\">\n     <g id=\"line2d_40\">\n      <path clip-path=\"url(#pdd2d8003a4)\" d=\"M 33.2875 242.959121 \nL 794.196591 242.959121 \n\" style=\"fill:none;stroke:#b0b0b0;stroke-linecap:square;stroke-width:0.8;\"/>\n     </g>\n     <g id=\"line2d_41\">\n      <g>\n       <use style=\"stroke:#000000;stroke-width:0.8;\" x=\"33.2875\" xlink:href=\"#ma48a459415\" y=\"242.959121\"/>\n      </g>\n     </g>\n     <g id=\"text_30\">\n      <!-- 100 -->\n      <g transform=\"translate(7.2 246.75834)scale(0.1 -0.1)\">\n       <use xlink:href=\"#DejaVuSans-49\"/>\n       <use x=\"63.623047\" xlink:href=\"#DejaVuSans-48\"/>\n       <use x=\"127.246094\" xlink:href=\"#DejaVuSans-48\"/>\n      </g>\n     </g>\n    </g>\n    <g id=\"ytick_12\">\n     <g id=\"line2d_42\">\n      <path clip-path=\"url(#pdd2d8003a4)\" d=\"M 33.2875 223.047033 \nL 794.196591 223.047033 \n\" style=\"fill:none;stroke:#b0b0b0;stroke-linecap:square;stroke-width:0.8;\"/>\n     </g>\n     <g id=\"line2d_43\">\n      <g>\n       <use style=\"stroke:#000000;stroke-width:0.8;\" x=\"33.2875\" xlink:href=\"#ma48a459415\" y=\"223.047033\"/>\n      </g>\n     </g>\n     <g id=\"text_31\">\n      <!-- 110 -->\n      <g transform=\"translate(7.2 226.846252)scale(0.1 -0.1)\">\n       <use xlink:href=\"#DejaVuSans-49\"/>\n       <use x=\"63.623047\" xlink:href=\"#DejaVuSans-49\"/>\n       <use x=\"127.246094\" xlink:href=\"#DejaVuSans-48\"/>\n      </g>\n     </g>\n    </g>\n    <g id=\"ytick_13\">\n     <g id=\"line2d_44\">\n      <path clip-path=\"url(#pdd2d8003a4)\" d=\"M 33.2875 203.134945 \nL 794.196591 203.134945 \n\" style=\"fill:none;stroke:#b0b0b0;stroke-linecap:square;stroke-width:0.8;\"/>\n     </g>\n     <g id=\"line2d_45\">\n      <g>\n       <use style=\"stroke:#000000;stroke-width:0.8;\" x=\"33.2875\" xlink:href=\"#ma48a459415\" y=\"203.134945\"/>\n      </g>\n     </g>\n     <g id=\"text_32\">\n      <!-- 120 -->\n      <g transform=\"translate(7.2 206.934164)scale(0.1 -0.1)\">\n       <use xlink:href=\"#DejaVuSans-49\"/>\n       <use x=\"63.623047\" xlink:href=\"#DejaVuSans-50\"/>\n       <use x=\"127.246094\" xlink:href=\"#DejaVuSans-48\"/>\n      </g>\n     </g>\n    </g>\n    <g id=\"ytick_14\">\n     <g id=\"line2d_46\">\n      <path clip-path=\"url(#pdd2d8003a4)\" d=\"M 33.2875 183.222857 \nL 794.196591 183.222857 \n\" style=\"fill:none;stroke:#b0b0b0;stroke-linecap:square;stroke-width:0.8;\"/>\n     </g>\n     <g id=\"line2d_47\">\n      <g>\n       <use style=\"stroke:#000000;stroke-width:0.8;\" x=\"33.2875\" xlink:href=\"#ma48a459415\" y=\"183.222857\"/>\n      </g>\n     </g>\n     <g id=\"text_33\">\n      <!-- 130 -->\n      <g transform=\"translate(7.2 187.022076)scale(0.1 -0.1)\">\n       <use xlink:href=\"#DejaVuSans-49\"/>\n       <use x=\"63.623047\" xlink:href=\"#DejaVuSans-51\"/>\n       <use x=\"127.246094\" xlink:href=\"#DejaVuSans-48\"/>\n      </g>\n     </g>\n    </g>\n    <g id=\"ytick_15\">\n     <g id=\"line2d_48\">\n      <path clip-path=\"url(#pdd2d8003a4)\" d=\"M 33.2875 163.310769 \nL 794.196591 163.310769 \n\" style=\"fill:none;stroke:#b0b0b0;stroke-linecap:square;stroke-width:0.8;\"/>\n     </g>\n     <g id=\"line2d_49\">\n      <g>\n       <use style=\"stroke:#000000;stroke-width:0.8;\" x=\"33.2875\" xlink:href=\"#ma48a459415\" y=\"163.310769\"/>\n      </g>\n     </g>\n     <g id=\"text_34\">\n      <!-- 140 -->\n      <g transform=\"translate(7.2 167.109988)scale(0.1 -0.1)\">\n       <use xlink:href=\"#DejaVuSans-49\"/>\n       <use x=\"63.623047\" xlink:href=\"#DejaVuSans-52\"/>\n       <use x=\"127.246094\" xlink:href=\"#DejaVuSans-48\"/>\n      </g>\n     </g>\n    </g>\n    <g id=\"ytick_16\">\n     <g id=\"line2d_50\">\n      <path clip-path=\"url(#pdd2d8003a4)\" d=\"M 33.2875 143.398681 \nL 794.196591 143.398681 \n\" style=\"fill:none;stroke:#b0b0b0;stroke-linecap:square;stroke-width:0.8;\"/>\n     </g>\n     <g id=\"line2d_51\">\n      <g>\n       <use style=\"stroke:#000000;stroke-width:0.8;\" x=\"33.2875\" xlink:href=\"#ma48a459415\" y=\"143.398681\"/>\n      </g>\n     </g>\n     <g id=\"text_35\">\n      <!-- 150 -->\n      <g transform=\"translate(7.2 147.1979)scale(0.1 -0.1)\">\n       <use xlink:href=\"#DejaVuSans-49\"/>\n       <use x=\"63.623047\" xlink:href=\"#DejaVuSans-53\"/>\n       <use x=\"127.246094\" xlink:href=\"#DejaVuSans-48\"/>\n      </g>\n     </g>\n    </g>\n    <g id=\"ytick_17\">\n     <g id=\"line2d_52\">\n      <path clip-path=\"url(#pdd2d8003a4)\" d=\"M 33.2875 123.486593 \nL 794.196591 123.486593 \n\" style=\"fill:none;stroke:#b0b0b0;stroke-linecap:square;stroke-width:0.8;\"/>\n     </g>\n     <g id=\"line2d_53\">\n      <g>\n       <use style=\"stroke:#000000;stroke-width:0.8;\" x=\"33.2875\" xlink:href=\"#ma48a459415\" y=\"123.486593\"/>\n      </g>\n     </g>\n     <g id=\"text_36\">\n      <!-- 160 -->\n      <g transform=\"translate(7.2 127.285812)scale(0.1 -0.1)\">\n       <use xlink:href=\"#DejaVuSans-49\"/>\n       <use x=\"63.623047\" xlink:href=\"#DejaVuSans-54\"/>\n       <use x=\"127.246094\" xlink:href=\"#DejaVuSans-48\"/>\n      </g>\n     </g>\n    </g>\n    <g id=\"ytick_18\">\n     <g id=\"line2d_54\">\n      <path clip-path=\"url(#pdd2d8003a4)\" d=\"M 33.2875 103.574505 \nL 794.196591 103.574505 \n\" style=\"fill:none;stroke:#b0b0b0;stroke-linecap:square;stroke-width:0.8;\"/>\n     </g>\n     <g id=\"line2d_55\">\n      <g>\n       <use style=\"stroke:#000000;stroke-width:0.8;\" x=\"33.2875\" xlink:href=\"#ma48a459415\" y=\"103.574505\"/>\n      </g>\n     </g>\n     <g id=\"text_37\">\n      <!-- 170 -->\n      <g transform=\"translate(7.2 107.373724)scale(0.1 -0.1)\">\n       <use xlink:href=\"#DejaVuSans-49\"/>\n       <use x=\"63.623047\" xlink:href=\"#DejaVuSans-55\"/>\n       <use x=\"127.246094\" xlink:href=\"#DejaVuSans-48\"/>\n      </g>\n     </g>\n    </g>\n    <g id=\"ytick_19\">\n     <g id=\"line2d_56\">\n      <path clip-path=\"url(#pdd2d8003a4)\" d=\"M 33.2875 83.662418 \nL 794.196591 83.662418 \n\" style=\"fill:none;stroke:#b0b0b0;stroke-linecap:square;stroke-width:0.8;\"/>\n     </g>\n     <g id=\"line2d_57\">\n      <g>\n       <use style=\"stroke:#000000;stroke-width:0.8;\" x=\"33.2875\" xlink:href=\"#ma48a459415\" y=\"83.662418\"/>\n      </g>\n     </g>\n     <g id=\"text_38\">\n      <!-- 180 -->\n      <g transform=\"translate(7.2 87.461636)scale(0.1 -0.1)\">\n       <use xlink:href=\"#DejaVuSans-49\"/>\n       <use x=\"63.623047\" xlink:href=\"#DejaVuSans-56\"/>\n       <use x=\"127.246094\" xlink:href=\"#DejaVuSans-48\"/>\n      </g>\n     </g>\n    </g>\n    <g id=\"ytick_20\">\n     <g id=\"line2d_58\">\n      <path clip-path=\"url(#pdd2d8003a4)\" d=\"M 33.2875 63.75033 \nL 794.196591 63.75033 \n\" style=\"fill:none;stroke:#b0b0b0;stroke-linecap:square;stroke-width:0.8;\"/>\n     </g>\n     <g id=\"line2d_59\">\n      <g>\n       <use style=\"stroke:#000000;stroke-width:0.8;\" x=\"33.2875\" xlink:href=\"#ma48a459415\" y=\"63.75033\"/>\n      </g>\n     </g>\n     <g id=\"text_39\">\n      <!-- 190 -->\n      <g transform=\"translate(7.2 67.549548)scale(0.1 -0.1)\">\n       <use xlink:href=\"#DejaVuSans-49\"/>\n       <use x=\"63.623047\" xlink:href=\"#DejaVuSans-57\"/>\n       <use x=\"127.246094\" xlink:href=\"#DejaVuSans-48\"/>\n      </g>\n     </g>\n    </g>\n    <g id=\"ytick_21\">\n     <g id=\"line2d_60\">\n      <path clip-path=\"url(#pdd2d8003a4)\" d=\"M 33.2875 43.838242 \nL 794.196591 43.838242 \n\" style=\"fill:none;stroke:#b0b0b0;stroke-linecap:square;stroke-width:0.8;\"/>\n     </g>\n     <g id=\"line2d_61\">\n      <g>\n       <use style=\"stroke:#000000;stroke-width:0.8;\" x=\"33.2875\" xlink:href=\"#ma48a459415\" y=\"43.838242\"/>\n      </g>\n     </g>\n     <g id=\"text_40\">\n      <!-- 200 -->\n      <g transform=\"translate(7.2 47.637461)scale(0.1 -0.1)\">\n       <use xlink:href=\"#DejaVuSans-50\"/>\n       <use x=\"63.623047\" xlink:href=\"#DejaVuSans-48\"/>\n       <use x=\"127.246094\" xlink:href=\"#DejaVuSans-48\"/>\n      </g>\n     </g>\n    </g>\n   </g>\n   <g id=\"patch_22\">\n    <path d=\"M 33.2875 442.08 \nL 33.2875 7.2 \n\" style=\"fill:none;stroke:#000000;stroke-linecap:square;stroke-linejoin:miter;stroke-width:0.8;\"/>\n   </g>\n   <g id=\"patch_23\">\n    <path d=\"M 794.196591 442.08 \nL 794.196591 7.2 \n\" style=\"fill:none;stroke:#000000;stroke-linecap:square;stroke-linejoin:miter;stroke-width:0.8;\"/>\n   </g>\n   <g id=\"patch_24\">\n    <path d=\"M 33.2875 442.08 \nL 794.196591 442.08 \n\" style=\"fill:none;stroke:#000000;stroke-linecap:square;stroke-linejoin:miter;stroke-width:0.8;\"/>\n   </g>\n   <g id=\"patch_25\">\n    <path d=\"M 33.2875 7.2 \nL 794.196591 7.2 \n\" style=\"fill:none;stroke:#000000;stroke-linecap:square;stroke-linejoin:miter;stroke-width:0.8;\"/>\n   </g>\n  </g>\n  <g id=\"axes_2\">\n   <g id=\"patch_26\">\n    <path d=\"M 946.378409 442.08 \nL 1707.2875 442.08 \nL 1707.2875 7.2 \nL 946.378409 7.2 \nz\n\" style=\"fill:#ffffff;\"/>\n   </g>\n   <g id=\"patch_27\">\n    <path clip-path=\"url(#pc455209a57)\" d=\"M 980.965186 442.08 \nL 1036.622068 442.08 \nL 1036.622068 408.946286 \nL 980.965186 408.946286 \nz\n\" style=\"fill:#1f77b4;\"/>\n   </g>\n   <g id=\"patch_28\">\n    <path clip-path=\"url(#pc455209a57)\" d=\"M 1060.475018 442.08 \nL 1116.1319 442.08 \nL 1116.1319 326.112 \nL 1060.475018 326.112 \nz\n\" style=\"fill:#1f77b4;\"/>\n   </g>\n   <g id=\"patch_29\">\n    <path clip-path=\"url(#pc455209a57)\" d=\"M 1139.98485 442.08 \nL 1195.641732 442.08 \nL 1195.641732 193.577143 \nL 1139.98485 193.577143 \nz\n\" style=\"fill:#1f77b4;\"/>\n   </g>\n   <g id=\"patch_30\">\n    <path clip-path=\"url(#pc455209a57)\" d=\"M 1219.494682 442.08 \nL 1275.151564 442.08 \nL 1275.151564 27.908571 \nL 1219.494682 27.908571 \nz\n\" style=\"fill:#1f77b4;\"/>\n   </g>\n   <g id=\"patch_31\">\n    <path clip-path=\"url(#pc455209a57)\" d=\"M 1299.004513 442.08 \nL 1354.661396 442.08 \nL 1354.661396 110.742857 \nL 1299.004513 110.742857 \nz\n\" style=\"fill:#1f77b4;\"/>\n   </g>\n   <g id=\"patch_32\">\n    <path clip-path=\"url(#pc455209a57)\" d=\"M 1378.514345 442.08 \nL 1434.171228 442.08 \nL 1434.171228 185.293714 \nL 1378.514345 185.293714 \nz\n\" style=\"fill:#1f77b4;\"/>\n   </g>\n   <g id=\"patch_33\">\n    <path clip-path=\"url(#pc455209a57)\" d=\"M 1458.024177 442.08 \nL 1513.681059 442.08 \nL 1513.681059 309.545143 \nL 1458.024177 309.545143 \nz\n\" style=\"fill:#1f77b4;\"/>\n   </g>\n   <g id=\"patch_34\">\n    <path clip-path=\"url(#pc455209a57)\" d=\"M 1537.534009 442.08 \nL 1593.190891 442.08 \nL 1593.190891 367.529143 \nL 1537.534009 367.529143 \nz\n\" style=\"fill:#1f77b4;\"/>\n   </g>\n   <g id=\"patch_35\">\n    <path clip-path=\"url(#pc455209a57)\" d=\"M 1617.043841 442.08 \nL 1672.700723 442.08 \nL 1672.700723 392.379429 \nL 1617.043841 392.379429 \nz\n\" style=\"fill:#1f77b4;\"/>\n   </g>\n   <g id=\"matplotlib.axis_3\">\n    <g id=\"xtick_20\">\n     <g id=\"line2d_62\">\n      <g>\n       <use style=\"stroke:#000000;stroke-width:0.8;\" x=\"1008.793627\" xlink:href=\"#m375b71ff7a\" y=\"442.08\"/>\n      </g>\n     </g>\n     <g id=\"text_41\">\n      <!-- 005 -->\n      <g transform=\"translate(999.249877 456.678437)scale(0.1 -0.1)\">\n       <use xlink:href=\"#DejaVuSans-48\"/>\n       <use x=\"63.623047\" xlink:href=\"#DejaVuSans-48\"/>\n       <use x=\"127.246094\" xlink:href=\"#DejaVuSans-53\"/>\n      </g>\n     </g>\n    </g>\n    <g id=\"xtick_21\">\n     <g id=\"line2d_63\">\n      <g>\n       <use style=\"stroke:#000000;stroke-width:0.8;\" x=\"1088.303459\" xlink:href=\"#m375b71ff7a\" y=\"442.08\"/>\n      </g>\n     </g>\n     <g id=\"text_42\">\n      <!-- 006 -->\n      <g transform=\"translate(1078.759709 456.678437)scale(0.1 -0.1)\">\n       <use xlink:href=\"#DejaVuSans-48\"/>\n       <use x=\"63.623047\" xlink:href=\"#DejaVuSans-48\"/>\n       <use x=\"127.246094\" xlink:href=\"#DejaVuSans-54\"/>\n      </g>\n     </g>\n    </g>\n    <g id=\"xtick_22\">\n     <g id=\"line2d_64\">\n      <g>\n       <use style=\"stroke:#000000;stroke-width:0.8;\" x=\"1167.813291\" xlink:href=\"#m375b71ff7a\" y=\"442.08\"/>\n      </g>\n     </g>\n     <g id=\"text_43\">\n      <!-- 007 -->\n      <g transform=\"translate(1158.269541 456.678437)scale(0.1 -0.1)\">\n       <use xlink:href=\"#DejaVuSans-48\"/>\n       <use x=\"63.623047\" xlink:href=\"#DejaVuSans-48\"/>\n       <use x=\"127.246094\" xlink:href=\"#DejaVuSans-55\"/>\n      </g>\n     </g>\n    </g>\n    <g id=\"xtick_23\">\n     <g id=\"line2d_65\">\n      <g>\n       <use style=\"stroke:#000000;stroke-width:0.8;\" x=\"1247.323123\" xlink:href=\"#m375b71ff7a\" y=\"442.08\"/>\n      </g>\n     </g>\n     <g id=\"text_44\">\n      <!-- 008 -->\n      <g transform=\"translate(1237.779373 456.678437)scale(0.1 -0.1)\">\n       <use xlink:href=\"#DejaVuSans-48\"/>\n       <use x=\"63.623047\" xlink:href=\"#DejaVuSans-48\"/>\n       <use x=\"127.246094\" xlink:href=\"#DejaVuSans-56\"/>\n      </g>\n     </g>\n    </g>\n    <g id=\"xtick_24\">\n     <g id=\"line2d_66\">\n      <g>\n       <use style=\"stroke:#000000;stroke-width:0.8;\" x=\"1326.832955\" xlink:href=\"#m375b71ff7a\" y=\"442.08\"/>\n      </g>\n     </g>\n     <g id=\"text_45\">\n      <!-- 009 -->\n      <g transform=\"translate(1317.289205 456.678437)scale(0.1 -0.1)\">\n       <use xlink:href=\"#DejaVuSans-48\"/>\n       <use x=\"63.623047\" xlink:href=\"#DejaVuSans-48\"/>\n       <use x=\"127.246094\" xlink:href=\"#DejaVuSans-57\"/>\n      </g>\n     </g>\n    </g>\n    <g id=\"xtick_25\">\n     <g id=\"line2d_67\">\n      <g>\n       <use style=\"stroke:#000000;stroke-width:0.8;\" x=\"1406.342786\" xlink:href=\"#m375b71ff7a\" y=\"442.08\"/>\n      </g>\n     </g>\n     <g id=\"text_46\">\n      <!-- 010 -->\n      <g transform=\"translate(1396.799036 456.678437)scale(0.1 -0.1)\">\n       <use xlink:href=\"#DejaVuSans-48\"/>\n       <use x=\"63.623047\" xlink:href=\"#DejaVuSans-49\"/>\n       <use x=\"127.246094\" xlink:href=\"#DejaVuSans-48\"/>\n      </g>\n     </g>\n    </g>\n    <g id=\"xtick_26\">\n     <g id=\"line2d_68\">\n      <g>\n       <use style=\"stroke:#000000;stroke-width:0.8;\" x=\"1485.852618\" xlink:href=\"#m375b71ff7a\" y=\"442.08\"/>\n      </g>\n     </g>\n     <g id=\"text_47\">\n      <!-- 011 -->\n      <g transform=\"translate(1476.308868 456.678437)scale(0.1 -0.1)\">\n       <use xlink:href=\"#DejaVuSans-48\"/>\n       <use x=\"63.623047\" xlink:href=\"#DejaVuSans-49\"/>\n       <use x=\"127.246094\" xlink:href=\"#DejaVuSans-49\"/>\n      </g>\n     </g>\n    </g>\n    <g id=\"xtick_27\">\n     <g id=\"line2d_69\">\n      <g>\n       <use style=\"stroke:#000000;stroke-width:0.8;\" x=\"1565.36245\" xlink:href=\"#m375b71ff7a\" y=\"442.08\"/>\n      </g>\n     </g>\n     <g id=\"text_48\">\n      <!-- 012 -->\n      <g transform=\"translate(1555.8187 456.678437)scale(0.1 -0.1)\">\n       <use xlink:href=\"#DejaVuSans-48\"/>\n       <use x=\"63.623047\" xlink:href=\"#DejaVuSans-49\"/>\n       <use x=\"127.246094\" xlink:href=\"#DejaVuSans-50\"/>\n      </g>\n     </g>\n    </g>\n    <g id=\"xtick_28\">\n     <g id=\"line2d_70\">\n      <g>\n       <use style=\"stroke:#000000;stroke-width:0.8;\" x=\"1644.872282\" xlink:href=\"#m375b71ff7a\" y=\"442.08\"/>\n      </g>\n     </g>\n     <g id=\"text_49\">\n      <!-- 013 -->\n      <g transform=\"translate(1635.328532 456.678437)scale(0.1 -0.1)\">\n       <use xlink:href=\"#DejaVuSans-48\"/>\n       <use x=\"63.623047\" xlink:href=\"#DejaVuSans-49\"/>\n       <use x=\"127.246094\" xlink:href=\"#DejaVuSans-51\"/>\n      </g>\n     </g>\n    </g>\n   </g>\n   <g id=\"matplotlib.axis_4\">\n    <g id=\"ytick_22\">\n     <g id=\"line2d_71\">\n      <path clip-path=\"url(#pc455209a57)\" d=\"M 946.378409 442.08 \nL 1707.2875 442.08 \n\" style=\"fill:none;stroke:#b0b0b0;stroke-linecap:square;stroke-width:0.8;\"/>\n     </g>\n     <g id=\"line2d_72\">\n      <g>\n       <use style=\"stroke:#000000;stroke-width:0.8;\" x=\"946.378409\" xlink:href=\"#ma48a459415\" y=\"442.08\"/>\n      </g>\n     </g>\n     <g id=\"text_50\">\n      <!-- 0 -->\n      <g transform=\"translate(933.015909 445.879219)scale(0.1 -0.1)\">\n       <use xlink:href=\"#DejaVuSans-48\"/>\n      </g>\n     </g>\n    </g>\n    <g id=\"ytick_23\">\n     <g id=\"line2d_73\">\n      <path clip-path=\"url(#pc455209a57)\" d=\"M 946.378409 359.245714 \nL 1707.2875 359.245714 \n\" style=\"fill:none;stroke:#b0b0b0;stroke-linecap:square;stroke-width:0.8;\"/>\n     </g>\n     <g id=\"line2d_74\">\n      <g>\n       <use style=\"stroke:#000000;stroke-width:0.8;\" x=\"946.378409\" xlink:href=\"#ma48a459415\" y=\"359.245714\"/>\n      </g>\n     </g>\n     <g id=\"text_51\">\n      <!-- 10 -->\n      <g transform=\"translate(926.653409 363.044933)scale(0.1 -0.1)\">\n       <use xlink:href=\"#DejaVuSans-49\"/>\n       <use x=\"63.623047\" xlink:href=\"#DejaVuSans-48\"/>\n      </g>\n     </g>\n    </g>\n    <g id=\"ytick_24\">\n     <g id=\"line2d_75\">\n      <path clip-path=\"url(#pc455209a57)\" d=\"M 946.378409 276.411429 \nL 1707.2875 276.411429 \n\" style=\"fill:none;stroke:#b0b0b0;stroke-linecap:square;stroke-width:0.8;\"/>\n     </g>\n     <g id=\"line2d_76\">\n      <g>\n       <use style=\"stroke:#000000;stroke-width:0.8;\" x=\"946.378409\" xlink:href=\"#ma48a459415\" y=\"276.411429\"/>\n      </g>\n     </g>\n     <g id=\"text_52\">\n      <!-- 20 -->\n      <g transform=\"translate(926.653409 280.210647)scale(0.1 -0.1)\">\n       <use xlink:href=\"#DejaVuSans-50\"/>\n       <use x=\"63.623047\" xlink:href=\"#DejaVuSans-48\"/>\n      </g>\n     </g>\n    </g>\n    <g id=\"ytick_25\">\n     <g id=\"line2d_77\">\n      <path clip-path=\"url(#pc455209a57)\" d=\"M 946.378409 193.577143 \nL 1707.2875 193.577143 \n\" style=\"fill:none;stroke:#b0b0b0;stroke-linecap:square;stroke-width:0.8;\"/>\n     </g>\n     <g id=\"line2d_78\">\n      <g>\n       <use style=\"stroke:#000000;stroke-width:0.8;\" x=\"946.378409\" xlink:href=\"#ma48a459415\" y=\"193.577143\"/>\n      </g>\n     </g>\n     <g id=\"text_53\">\n      <!-- 30 -->\n      <g transform=\"translate(926.653409 197.376362)scale(0.1 -0.1)\">\n       <use xlink:href=\"#DejaVuSans-51\"/>\n       <use x=\"63.623047\" xlink:href=\"#DejaVuSans-48\"/>\n      </g>\n     </g>\n    </g>\n    <g id=\"ytick_26\">\n     <g id=\"line2d_79\">\n      <path clip-path=\"url(#pc455209a57)\" d=\"M 946.378409 110.742857 \nL 1707.2875 110.742857 \n\" style=\"fill:none;stroke:#b0b0b0;stroke-linecap:square;stroke-width:0.8;\"/>\n     </g>\n     <g id=\"line2d_80\">\n      <g>\n       <use style=\"stroke:#000000;stroke-width:0.8;\" x=\"946.378409\" xlink:href=\"#ma48a459415\" y=\"110.742857\"/>\n      </g>\n     </g>\n     <g id=\"text_54\">\n      <!-- 40 -->\n      <g transform=\"translate(926.653409 114.542076)scale(0.1 -0.1)\">\n       <use xlink:href=\"#DejaVuSans-52\"/>\n       <use x=\"63.623047\" xlink:href=\"#DejaVuSans-48\"/>\n      </g>\n     </g>\n    </g>\n    <g id=\"ytick_27\">\n     <g id=\"line2d_81\">\n      <path clip-path=\"url(#pc455209a57)\" d=\"M 946.378409 27.908571 \nL 1707.2875 27.908571 \n\" style=\"fill:none;stroke:#b0b0b0;stroke-linecap:square;stroke-width:0.8;\"/>\n     </g>\n     <g id=\"line2d_82\">\n      <g>\n       <use style=\"stroke:#000000;stroke-width:0.8;\" x=\"946.378409\" xlink:href=\"#ma48a459415\" y=\"27.908571\"/>\n      </g>\n     </g>\n     <g id=\"text_55\">\n      <!-- 50 -->\n      <g transform=\"translate(926.653409 31.70779)scale(0.1 -0.1)\">\n       <use xlink:href=\"#DejaVuSans-53\"/>\n       <use x=\"63.623047\" xlink:href=\"#DejaVuSans-48\"/>\n      </g>\n     </g>\n    </g>\n   </g>\n   <g id=\"patch_36\">\n    <path d=\"M 946.378409 442.08 \nL 946.378409 7.2 \n\" style=\"fill:none;stroke:#000000;stroke-linecap:square;stroke-linejoin:miter;stroke-width:0.8;\"/>\n   </g>\n   <g id=\"patch_37\">\n    <path d=\"M 1707.2875 442.08 \nL 1707.2875 7.2 \n\" style=\"fill:none;stroke:#000000;stroke-linecap:square;stroke-linejoin:miter;stroke-width:0.8;\"/>\n   </g>\n   <g id=\"patch_38\">\n    <path d=\"M 946.378409 442.08 \nL 1707.2875 442.08 \n\" style=\"fill:none;stroke:#000000;stroke-linecap:square;stroke-linejoin:miter;stroke-width:0.8;\"/>\n   </g>\n   <g id=\"patch_39\">\n    <path d=\"M 946.378409 7.2 \nL 1707.2875 7.2 \n\" style=\"fill:none;stroke:#000000;stroke-linecap:square;stroke-linejoin:miter;stroke-width:0.8;\"/>\n   </g>\n  </g>\n </g>\n <defs>\n  <clipPath id=\"pdd2d8003a4\">\n   <rect height=\"434.88\" width=\"760.909091\" x=\"33.2875\" y=\"7.2\"/>\n  </clipPath>\n  <clipPath id=\"pc455209a57\">\n   <rect height=\"434.88\" width=\"760.909091\" x=\"946.378409\" y=\"7.2\"/>\n  </clipPath>\n </defs>\n</svg>\n",
            "text/plain": "<Figure size 2160x576 with 2 Axes>"
          },
          "metadata": {
            "needs_background": "light"
          },
          "output_type": "display_data"
        }
      ],
      "source": [
        "fig, (ax1, ax2) = plt.subplots(1, 2, figsize=(30,8))\n",
        "\n",
        "ax1.bar(list(frames_distribution.keys()), [int(f) for f in frames_distribution.values()], 0.7)\n",
        "ax1.grid(axis = 'y')\n",
        "ax1.set_yticks(np.arange(0, max(frames_distribution.values())+2, 10))\n",
        "\n",
        "ax2.bar(list(frames_distribution_val.keys()), [int(f) for f in frames_distribution_val.values()], 0.7)\n",
        "ax2.grid(axis = 'y')\n",
        "ax2.set_yticks(np.arange(0, max(frames_distribution_val.values())+2, 10)) \n",
        "\n",
        "fig.show()"
      ]
    },
    {
      "cell_type": "markdown",
      "execution_count": null,
      "metadata": {
        "colab_type": "text",
        "id": "Ry4GW-UcBjbY"
      },
      "outputs": [],
      "source": [
        "**Stats across classes**"
      ]
    },
    {
      "cell_type": "code",
      "execution_count": 18,
      "metadata": {},
      "outputs": [],
      "source": [
        "video_names_in_class_dict = {}\n",
        "idx = 0\n",
        "\n",
        "for classi in classes_dict.values():\n",
        "    video_names_in_class_dict[classi] = {}\n",
        "    video_names_in_class_dict[classi]['num of frames'] = 0\n",
        "    video_names_in_class_dict[classi]['num of vids'] = 0\n",
        "    video_names_in_class_dict[classi]['vids'] = []\n",
        "    video_names_in_class_dict[classi]['frames per vid'] = []\n",
        "    video_names_in_class_dict[classi]['mean frames per vid'] = 0\n",
        "\n",
        "    all_images_in_class = []\n",
        "    video_names = []\n",
        "    video_names_uniq_in_class = []\n",
        "    frame_nums_in_class = []\n",
        "    frame_nums_uniq_in_class = []\n",
        "    vids_and_frames_in_class = {}\n",
        "\n",
        "    counter = 0\n",
        "\n",
        "    for i in sorted(glob.glob('data/train/' + classi + '/*.jpg')):\n",
        "        all_images_in_class.append(i)\n",
        "        counter += 1\n",
        "\n",
        "    video_names_in_class_dict[classi]['num of frames'] = counter\n",
        "\n",
        "    for img in all_images_in_class:\n",
        "        img_name = img.split('/')[-1].split('.')[0]\n",
        "        video_name = img_name[:9]\n",
        "        video_names.append(video_name)\n",
        "        frame_num = img_name[-3:]\n",
        "        frame_nums_in_class.append(frame_num)\n",
        "\n",
        "    video_names_uniq_in_class = list(sorted(set(video_names)))\n",
        "\n",
        "    video_names_in_class_dict[classi]['vids'] = video_names_uniq_in_class\n",
        "    video_names_in_class_dict[classi]['num of vids'] = len(video_names_uniq_in_class)\n",
        "\n",
        "    for i in range(len(video_names)):\n",
        "        if i < len(video_names)-1:\n",
        "            if video_names[i] == video_names[i+1]:\n",
        "                pass\n",
        "            else:\n",
        "                frame_nums_uniq_in_class.append(frame_nums_in_class[i])\n",
        "        else:\n",
        "            frame_nums_uniq_in_class.append(frame_nums_in_class[-1])\n",
        "\n",
        "    for i in range(len(video_names_uniq_in_class)):\n",
        "        vids_and_frames_in_class[video_names_uniq_in_class[i]] = frame_nums_uniq_in_class[i]\n",
        "\n",
        "    video_names_in_class_dict[classi]['frames per vid'] = list(vids_and_frames_in_class.values())\n",
        "    video_names_in_class_dict[classi]['mean frames per vid'] = np.array(list(list(video_names_in_class_dict.values())[idx].values())[3]).astype(np.float).mean()\n",
        "\n",
        "    idx += 1"
      ]
    },
    {
      "cell_type": "code",
      "execution_count": 19,
      "metadata": {},
      "outputs": [
        {
          "data": {
            "text/plain": "[130, 130, 130, 130, 130, 130, 130, 130, 130, 130]"
          },
          "execution_count": 19,
          "metadata": {},
          "output_type": "execute_result"
        }
      ],
      "source": [
        "[list(list(video_names_in_class_dict.values())[f].values())[1] for f in range(len(classes))]"
      ]
    },
    {
      "cell_type": "code",
      "execution_count": 20,
      "metadata": {},
      "outputs": [
        {
          "data": {
            "image/png": "[encoded data removed]",
            "image/svg+xml": "<?xml version=\"1.0\" encoding=\"utf-8\" standalone=\"no\"?>\n<!DOCTYPE svg PUBLIC \"-//W3C//DTD SVG 1.1//EN\"\n  \"http://www.w3.org/Graphics/SVG/1.1/DTD/svg11.dtd\">\n<!-- Created with matplotlib (https://matplotlib.org/) -->\n<svg height=\"469.757344pt\" version=\"1.1\" viewBox=\"0 0 1720.85 469.757344\" width=\"1720.85pt\" xmlns=\"http://www.w3.org/2000/svg\" xmlns:xlink=\"http://www.w3.org/1999/xlink\">\n <defs>\n  <style type=\"text/css\">\n*{stroke-linecap:butt;stroke-linejoin:round;}\n  </style>\n </defs>\n <g id=\"figure_1\">\n  <g id=\"patch_1\">\n   <path d=\"M 0 469.757344 \nL 1720.85 469.757344 \nL 1720.85 0 \nL 0 0 \nz\n\" style=\"fill:none;\"/>\n  </g>\n  <g id=\"axes_1\">\n   <g id=\"patch_2\">\n    <path d=\"M 39.65 445.879219 \nL 800.559091 445.879219 \nL 800.559091 10.999219 \nL 39.65 10.999219 \nz\n\" style=\"fill:#ffffff;\"/>\n   </g>\n   <g id=\"patch_3\">\n    <path clip-path=\"url(#peec686c988)\" d=\"M 74.236777 445.879219 \nL 124.155836 445.879219 \nL 124.155836 91.175861 \nL 74.236777 91.175861 \nz\n\" style=\"fill:#1f77b4;\"/>\n   </g>\n   <g id=\"patch_4\">\n    <path clip-path=\"url(#peec686c988)\" d=\"M 145.549719 445.879219 \nL 195.468778 445.879219 \nL 195.468778 95.912256 \nL 145.549719 95.912256 \nz\n\" style=\"fill:#1f77b4;\"/>\n   </g>\n   <g id=\"patch_5\">\n    <path clip-path=\"url(#peec686c988)\" d=\"M 216.862661 445.879219 \nL 266.78172 445.879219 \nL 266.78172 66.17822 \nL 216.862661 66.17822 \nz\n\" style=\"fill:#1f77b4;\"/>\n   </g>\n   <g id=\"patch_6\">\n    <path clip-path=\"url(#peec686c988)\" d=\"M 288.175603 445.879219 \nL 338.094662 445.879219 \nL 338.094662 31.70779 \nL 288.175603 31.70779 \nz\n\" style=\"fill:#1f77b4;\"/>\n   </g>\n   <g id=\"patch_7\">\n    <path clip-path=\"url(#peec686c988)\" d=\"M 359.488545 445.879219 \nL 409.407604 445.879219 \nL 409.407604 130.119553 \nL 359.488545 130.119553 \nz\n\" style=\"fill:#1f77b4;\"/>\n   </g>\n   <g id=\"patch_8\">\n    <path clip-path=\"url(#peec686c988)\" d=\"M 430.801487 445.879219 \nL 480.720546 445.879219 \nL 480.720546 72.493414 \nL 430.801487 72.493414 \nz\n\" style=\"fill:#1f77b4;\"/>\n   </g>\n   <g id=\"patch_9\">\n    <path clip-path=\"url(#peec686c988)\" d=\"M 502.114429 445.879219 \nL 552.033488 445.879219 \nL 552.033488 102.227449 \nL 502.114429 102.227449 \nz\n\" style=\"fill:#1f77b4;\"/>\n   </g>\n   <g id=\"patch_10\">\n    <path clip-path=\"url(#peec686c988)\" d=\"M 573.427371 445.879219 \nL 623.34643 445.879219 \nL 623.34643 75.124744 \nL 573.427371 75.124744 \nz\n\" style=\"fill:#1f77b4;\"/>\n   </g>\n   <g id=\"patch_11\">\n    <path clip-path=\"url(#peec686c988)\" d=\"M 644.740313 445.879219 \nL 694.659372 445.879219 \nL 694.659372 50.390237 \nL 644.740313 50.390237 \nz\n\" style=\"fill:#1f77b4;\"/>\n   </g>\n   <g id=\"patch_12\">\n    <path clip-path=\"url(#peec686c988)\" d=\"M 716.053255 445.879219 \nL 765.972314 445.879219 \nL 765.972314 125.909424 \nL 716.053255 125.909424 \nz\n\" style=\"fill:#1f77b4;\"/>\n   </g>\n   <g id=\"patch_13\">\n    <path clip-path=\"url(#peec686c988)\" d=\"M 74.236777 445.879219 \nL 124.155836 445.879219 \nL 124.155836 411.671922 \nL 74.236777 411.671922 \nz\n\" style=\"fill:#ff7f0e;\"/>\n   </g>\n   <g id=\"patch_14\">\n    <path clip-path=\"url(#peec686c988)\" d=\"M 145.549719 445.879219 \nL 195.468778 445.879219 \nL 195.468778 411.671922 \nL 145.549719 411.671922 \nz\n\" style=\"fill:#ff7f0e;\"/>\n   </g>\n   <g id=\"patch_15\">\n    <path clip-path=\"url(#peec686c988)\" d=\"M 216.862661 445.879219 \nL 266.78172 445.879219 \nL 266.78172 411.671922 \nL 216.862661 411.671922 \nz\n\" style=\"fill:#ff7f0e;\"/>\n   </g>\n   <g id=\"patch_16\">\n    <path clip-path=\"url(#peec686c988)\" d=\"M 288.175603 445.879219 \nL 338.094662 445.879219 \nL 338.094662 411.671922 \nL 288.175603 411.671922 \nz\n\" style=\"fill:#ff7f0e;\"/>\n   </g>\n   <g id=\"patch_17\">\n    <path clip-path=\"url(#peec686c988)\" d=\"M 359.488545 445.879219 \nL 409.407604 445.879219 \nL 409.407604 411.671922 \nL 359.488545 411.671922 \nz\n\" style=\"fill:#ff7f0e;\"/>\n   </g>\n   <g id=\"patch_18\">\n    <path clip-path=\"url(#peec686c988)\" d=\"M 430.801487 445.879219 \nL 480.720546 445.879219 \nL 480.720546 411.671922 \nL 430.801487 411.671922 \nz\n\" style=\"fill:#ff7f0e;\"/>\n   </g>\n   <g id=\"patch_19\">\n    <path clip-path=\"url(#peec686c988)\" d=\"M 502.114429 445.879219 \nL 552.033488 445.879219 \nL 552.033488 411.671922 \nL 502.114429 411.671922 \nz\n\" style=\"fill:#ff7f0e;\"/>\n   </g>\n   <g id=\"patch_20\">\n    <path clip-path=\"url(#peec686c988)\" d=\"M 573.427371 445.879219 \nL 623.34643 445.879219 \nL 623.34643 411.671922 \nL 573.427371 411.671922 \nz\n\" style=\"fill:#ff7f0e;\"/>\n   </g>\n   <g id=\"patch_21\">\n    <path clip-path=\"url(#peec686c988)\" d=\"M 644.740313 445.879219 \nL 694.659372 445.879219 \nL 694.659372 411.671922 \nL 644.740313 411.671922 \nz\n\" style=\"fill:#ff7f0e;\"/>\n   </g>\n   <g id=\"patch_22\">\n    <path clip-path=\"url(#peec686c988)\" d=\"M 716.053255 445.879219 \nL 765.972314 445.879219 \nL 765.972314 411.671922 \nL 716.053255 411.671922 \nz\n\" style=\"fill:#ff7f0e;\"/>\n   </g>\n   <g id=\"matplotlib.axis_1\">\n    <g id=\"xtick_1\">\n     <g id=\"line2d_1\">\n      <defs>\n       <path d=\"M 0 0 \nL 0 3.5 \n\" id=\"m04726b7c24\" style=\"stroke:#000000;stroke-width:0.8;\"/>\n      </defs>\n      <g>\n       <use style=\"stroke:#000000;stroke-width:0.8;\" x=\"99.196307\" xlink:href=\"#m04726b7c24\" y=\"445.879219\"/>\n      </g>\n     </g>\n     <g id=\"text_1\">\n      <!-- Begin -->\n      <defs>\n       <path d=\"M 19.671875 34.8125 \nL 19.671875 8.109375 \nL 35.5 8.109375 \nQ 43.453125 8.109375 47.28125 11.40625 \nQ 51.125 14.703125 51.125 21.484375 \nQ 51.125 28.328125 47.28125 31.5625 \nQ 43.453125 34.8125 35.5 34.8125 \nz\nM 19.671875 64.796875 \nL 19.671875 42.828125 \nL 34.28125 42.828125 \nQ 41.5 42.828125 45.03125 45.53125 \nQ 48.578125 48.25 48.578125 53.8125 \nQ 48.578125 59.328125 45.03125 62.0625 \nQ 41.5 64.796875 34.28125 64.796875 \nz\nM 9.8125 72.90625 \nL 35.015625 72.90625 \nQ 46.296875 72.90625 52.390625 68.21875 \nQ 58.5 63.53125 58.5 54.890625 \nQ 58.5 48.1875 55.375 44.234375 \nQ 52.25 40.28125 46.1875 39.3125 \nQ 53.46875 37.75 57.5 32.78125 \nQ 61.53125 27.828125 61.53125 20.40625 \nQ 61.53125 10.640625 54.890625 5.3125 \nQ 48.25 0 35.984375 0 \nL 9.8125 0 \nz\n\" id=\"DejaVuSans-66\"/>\n       <path d=\"M 56.203125 29.59375 \nL 56.203125 25.203125 \nL 14.890625 25.203125 \nQ 15.484375 15.921875 20.484375 11.0625 \nQ 25.484375 6.203125 34.421875 6.203125 \nQ 39.59375 6.203125 44.453125 7.46875 \nQ 49.3125 8.734375 54.109375 11.28125 \nL 54.109375 2.78125 \nQ 49.265625 0.734375 44.1875 -0.34375 \nQ 39.109375 -1.421875 33.890625 -1.421875 \nQ 20.796875 -1.421875 13.15625 6.1875 \nQ 5.515625 13.8125 5.515625 26.8125 \nQ 5.515625 40.234375 12.765625 48.109375 \nQ 20.015625 56 32.328125 56 \nQ 43.359375 56 49.78125 48.890625 \nQ 56.203125 41.796875 56.203125 29.59375 \nz\nM 47.21875 32.234375 \nQ 47.125 39.59375 43.09375 43.984375 \nQ 39.0625 48.390625 32.421875 48.390625 \nQ 24.90625 48.390625 20.390625 44.140625 \nQ 15.875 39.890625 15.1875 32.171875 \nz\n\" id=\"DejaVuSans-101\"/>\n       <path d=\"M 45.40625 27.984375 \nQ 45.40625 37.75 41.375 43.109375 \nQ 37.359375 48.484375 30.078125 48.484375 \nQ 22.859375 48.484375 18.828125 43.109375 \nQ 14.796875 37.75 14.796875 27.984375 \nQ 14.796875 18.265625 18.828125 12.890625 \nQ 22.859375 7.515625 30.078125 7.515625 \nQ 37.359375 7.515625 41.375 12.890625 \nQ 45.40625 18.265625 45.40625 27.984375 \nz\nM 54.390625 6.78125 \nQ 54.390625 -7.171875 48.1875 -13.984375 \nQ 42 -20.796875 29.203125 -20.796875 \nQ 24.46875 -20.796875 20.265625 -20.09375 \nQ 16.0625 -19.390625 12.109375 -17.921875 \nL 12.109375 -9.1875 \nQ 16.0625 -11.328125 19.921875 -12.34375 \nQ 23.78125 -13.375 27.78125 -13.375 \nQ 36.625 -13.375 41.015625 -8.765625 \nQ 45.40625 -4.15625 45.40625 5.171875 \nL 45.40625 9.625 \nQ 42.625 4.78125 38.28125 2.390625 \nQ 33.9375 0 27.875 0 \nQ 17.828125 0 11.671875 7.65625 \nQ 5.515625 15.328125 5.515625 27.984375 \nQ 5.515625 40.671875 11.671875 48.328125 \nQ 17.828125 56 27.875 56 \nQ 33.9375 56 38.28125 53.609375 \nQ 42.625 51.21875 45.40625 46.390625 \nL 45.40625 54.6875 \nL 54.390625 54.6875 \nz\n\" id=\"DejaVuSans-103\"/>\n       <path d=\"M 9.421875 54.6875 \nL 18.40625 54.6875 \nL 18.40625 0 \nL 9.421875 0 \nz\nM 9.421875 75.984375 \nL 18.40625 75.984375 \nL 18.40625 64.59375 \nL 9.421875 64.59375 \nz\n\" id=\"DejaVuSans-105\"/>\n       <path d=\"M 54.890625 33.015625 \nL 54.890625 0 \nL 45.90625 0 \nL 45.90625 32.71875 \nQ 45.90625 40.484375 42.875 44.328125 \nQ 39.84375 48.1875 33.796875 48.1875 \nQ 26.515625 48.1875 22.3125 43.546875 \nQ 18.109375 38.921875 18.109375 30.90625 \nL 18.109375 0 \nL 9.078125 0 \nL 9.078125 54.6875 \nL 18.109375 54.6875 \nL 18.109375 46.1875 \nQ 21.34375 51.125 25.703125 53.5625 \nQ 30.078125 56 35.796875 56 \nQ 45.21875 56 50.046875 50.171875 \nQ 54.890625 44.34375 54.890625 33.015625 \nz\n\" id=\"DejaVuSans-110\"/>\n      </defs>\n      <g transform=\"translate(84.957244 460.477656)scale(0.1 -0.1)\">\n       <use xlink:href=\"#DejaVuSans-66\"/>\n       <use x=\"68.603516\" xlink:href=\"#DejaVuSans-101\"/>\n       <use x=\"130.126953\" xlink:href=\"#DejaVuSans-103\"/>\n       <use x=\"193.603516\" xlink:href=\"#DejaVuSans-105\"/>\n       <use x=\"221.386719\" xlink:href=\"#DejaVuSans-110\"/>\n      </g>\n     </g>\n    </g>\n    <g id=\"xtick_2\">\n     <g id=\"line2d_2\">\n      <g>\n       <use style=\"stroke:#000000;stroke-width:0.8;\" x=\"170.509249\" xlink:href=\"#m04726b7c24\" y=\"445.879219\"/>\n      </g>\n     </g>\n     <g id=\"text_2\">\n      <!-- Choose -->\n      <defs>\n       <path d=\"M 64.40625 67.28125 \nL 64.40625 56.890625 \nQ 59.421875 61.53125 53.78125 63.8125 \nQ 48.140625 66.109375 41.796875 66.109375 \nQ 29.296875 66.109375 22.65625 58.46875 \nQ 16.015625 50.828125 16.015625 36.375 \nQ 16.015625 21.96875 22.65625 14.328125 \nQ 29.296875 6.6875 41.796875 6.6875 \nQ 48.140625 6.6875 53.78125 8.984375 \nQ 59.421875 11.28125 64.40625 15.921875 \nL 64.40625 5.609375 \nQ 59.234375 2.09375 53.4375 0.328125 \nQ 47.65625 -1.421875 41.21875 -1.421875 \nQ 24.65625 -1.421875 15.125 8.703125 \nQ 5.609375 18.84375 5.609375 36.375 \nQ 5.609375 53.953125 15.125 64.078125 \nQ 24.65625 74.21875 41.21875 74.21875 \nQ 47.75 74.21875 53.53125 72.484375 \nQ 59.328125 70.75 64.40625 67.28125 \nz\n\" id=\"DejaVuSans-67\"/>\n       <path d=\"M 54.890625 33.015625 \nL 54.890625 0 \nL 45.90625 0 \nL 45.90625 32.71875 \nQ 45.90625 40.484375 42.875 44.328125 \nQ 39.84375 48.1875 33.796875 48.1875 \nQ 26.515625 48.1875 22.3125 43.546875 \nQ 18.109375 38.921875 18.109375 30.90625 \nL 18.109375 0 \nL 9.078125 0 \nL 9.078125 75.984375 \nL 18.109375 75.984375 \nL 18.109375 46.1875 \nQ 21.34375 51.125 25.703125 53.5625 \nQ 30.078125 56 35.796875 56 \nQ 45.21875 56 50.046875 50.171875 \nQ 54.890625 44.34375 54.890625 33.015625 \nz\n\" id=\"DejaVuSans-104\"/>\n       <path d=\"M 30.609375 48.390625 \nQ 23.390625 48.390625 19.1875 42.75 \nQ 14.984375 37.109375 14.984375 27.296875 \nQ 14.984375 17.484375 19.15625 11.84375 \nQ 23.34375 6.203125 30.609375 6.203125 \nQ 37.796875 6.203125 41.984375 11.859375 \nQ 46.1875 17.53125 46.1875 27.296875 \nQ 46.1875 37.015625 41.984375 42.703125 \nQ 37.796875 48.390625 30.609375 48.390625 \nz\nM 30.609375 56 \nQ 42.328125 56 49.015625 48.375 \nQ 55.71875 40.765625 55.71875 27.296875 \nQ 55.71875 13.875 49.015625 6.21875 \nQ 42.328125 -1.421875 30.609375 -1.421875 \nQ 18.84375 -1.421875 12.171875 6.21875 \nQ 5.515625 13.875 5.515625 27.296875 \nQ 5.515625 40.765625 12.171875 48.375 \nQ 18.84375 56 30.609375 56 \nz\n\" id=\"DejaVuSans-111\"/>\n       <path d=\"M 44.28125 53.078125 \nL 44.28125 44.578125 \nQ 40.484375 46.53125 36.375 47.5 \nQ 32.28125 48.484375 27.875 48.484375 \nQ 21.1875 48.484375 17.84375 46.4375 \nQ 14.5 44.390625 14.5 40.28125 \nQ 14.5 37.15625 16.890625 35.375 \nQ 19.28125 33.59375 26.515625 31.984375 \nL 29.59375 31.296875 \nQ 39.15625 29.25 43.1875 25.515625 \nQ 47.21875 21.78125 47.21875 15.09375 \nQ 47.21875 7.46875 41.1875 3.015625 \nQ 35.15625 -1.421875 24.609375 -1.421875 \nQ 20.21875 -1.421875 15.453125 -0.5625 \nQ 10.6875 0.296875 5.421875 2 \nL 5.421875 11.28125 \nQ 10.40625 8.6875 15.234375 7.390625 \nQ 20.0625 6.109375 24.8125 6.109375 \nQ 31.15625 6.109375 34.5625 8.28125 \nQ 37.984375 10.453125 37.984375 14.40625 \nQ 37.984375 18.0625 35.515625 20.015625 \nQ 33.0625 21.96875 24.703125 23.78125 \nL 21.578125 24.515625 \nQ 13.234375 26.265625 9.515625 29.90625 \nQ 5.8125 33.546875 5.8125 39.890625 \nQ 5.8125 47.609375 11.28125 51.796875 \nQ 16.75 56 26.8125 56 \nQ 31.78125 56 36.171875 55.265625 \nQ 40.578125 54.546875 44.28125 53.078125 \nz\n\" id=\"DejaVuSans-115\"/>\n      </defs>\n      <g transform=\"translate(152.049092 460.477656)scale(0.1 -0.1)\">\n       <use xlink:href=\"#DejaVuSans-67\"/>\n       <use x=\"69.824219\" xlink:href=\"#DejaVuSans-104\"/>\n       <use x=\"133.203125\" xlink:href=\"#DejaVuSans-111\"/>\n       <use x=\"194.384766\" xlink:href=\"#DejaVuSans-111\"/>\n       <use x=\"255.566406\" xlink:href=\"#DejaVuSans-115\"/>\n       <use x=\"307.666016\" xlink:href=\"#DejaVuSans-101\"/>\n      </g>\n     </g>\n    </g>\n    <g id=\"xtick_3\">\n     <g id=\"line2d_3\">\n      <g>\n       <use style=\"stroke:#000000;stroke-width:0.8;\" x=\"241.822191\" xlink:href=\"#m04726b7c24\" y=\"445.879219\"/>\n      </g>\n     </g>\n     <g id=\"text_3\">\n      <!-- Connection -->\n      <defs>\n       <path d=\"M 48.78125 52.59375 \nL 48.78125 44.1875 \nQ 44.96875 46.296875 41.140625 47.34375 \nQ 37.3125 48.390625 33.40625 48.390625 \nQ 24.65625 48.390625 19.8125 42.84375 \nQ 14.984375 37.3125 14.984375 27.296875 \nQ 14.984375 17.28125 19.8125 11.734375 \nQ 24.65625 6.203125 33.40625 6.203125 \nQ 37.3125 6.203125 41.140625 7.25 \nQ 44.96875 8.296875 48.78125 10.40625 \nL 48.78125 2.09375 \nQ 45.015625 0.34375 40.984375 -0.53125 \nQ 36.96875 -1.421875 32.421875 -1.421875 \nQ 20.0625 -1.421875 12.78125 6.34375 \nQ 5.515625 14.109375 5.515625 27.296875 \nQ 5.515625 40.671875 12.859375 48.328125 \nQ 20.21875 56 33.015625 56 \nQ 37.15625 56 41.109375 55.140625 \nQ 45.0625 54.296875 48.78125 52.59375 \nz\n\" id=\"DejaVuSans-99\"/>\n       <path d=\"M 18.3125 70.21875 \nL 18.3125 54.6875 \nL 36.8125 54.6875 \nL 36.8125 47.703125 \nL 18.3125 47.703125 \nL 18.3125 18.015625 \nQ 18.3125 11.328125 20.140625 9.421875 \nQ 21.96875 7.515625 27.59375 7.515625 \nL 36.8125 7.515625 \nL 36.8125 0 \nL 27.59375 0 \nQ 17.1875 0 13.234375 3.875 \nQ 9.28125 7.765625 9.28125 18.015625 \nL 9.28125 47.703125 \nL 2.6875 47.703125 \nL 2.6875 54.6875 \nL 9.28125 54.6875 \nL 9.28125 70.21875 \nz\n\" id=\"DejaVuSans-116\"/>\n      </defs>\n      <g transform=\"translate(213.530784 460.477656)scale(0.1 -0.1)\">\n       <use xlink:href=\"#DejaVuSans-67\"/>\n       <use x=\"69.824219\" xlink:href=\"#DejaVuSans-111\"/>\n       <use x=\"131.005859\" xlink:href=\"#DejaVuSans-110\"/>\n       <use x=\"194.384766\" xlink:href=\"#DejaVuSans-110\"/>\n       <use x=\"257.763672\" xlink:href=\"#DejaVuSans-101\"/>\n       <use x=\"319.287109\" xlink:href=\"#DejaVuSans-99\"/>\n       <use x=\"374.267578\" xlink:href=\"#DejaVuSans-116\"/>\n       <use x=\"413.476562\" xlink:href=\"#DejaVuSans-105\"/>\n       <use x=\"441.259766\" xlink:href=\"#DejaVuSans-111\"/>\n       <use x=\"502.441406\" xlink:href=\"#DejaVuSans-110\"/>\n      </g>\n     </g>\n    </g>\n    <g id=\"xtick_4\">\n     <g id=\"line2d_4\">\n      <g>\n       <use style=\"stroke:#000000;stroke-width:0.8;\" x=\"313.135132\" xlink:href=\"#m04726b7c24\" y=\"445.879219\"/>\n      </g>\n     </g>\n     <g id=\"text_4\">\n      <!-- Navigation -->\n      <defs>\n       <path d=\"M 9.8125 72.90625 \nL 23.09375 72.90625 \nL 55.421875 11.921875 \nL 55.421875 72.90625 \nL 64.984375 72.90625 \nL 64.984375 0 \nL 51.703125 0 \nL 19.390625 60.984375 \nL 19.390625 0 \nL 9.8125 0 \nz\n\" id=\"DejaVuSans-78\"/>\n       <path d=\"M 34.28125 27.484375 \nQ 23.390625 27.484375 19.1875 25 \nQ 14.984375 22.515625 14.984375 16.5 \nQ 14.984375 11.71875 18.140625 8.90625 \nQ 21.296875 6.109375 26.703125 6.109375 \nQ 34.1875 6.109375 38.703125 11.40625 \nQ 43.21875 16.703125 43.21875 25.484375 \nL 43.21875 27.484375 \nz\nM 52.203125 31.203125 \nL 52.203125 0 \nL 43.21875 0 \nL 43.21875 8.296875 \nQ 40.140625 3.328125 35.546875 0.953125 \nQ 30.953125 -1.421875 24.3125 -1.421875 \nQ 15.921875 -1.421875 10.953125 3.296875 \nQ 6 8.015625 6 15.921875 \nQ 6 25.140625 12.171875 29.828125 \nQ 18.359375 34.515625 30.609375 34.515625 \nL 43.21875 34.515625 \nL 43.21875 35.40625 \nQ 43.21875 41.609375 39.140625 45 \nQ 35.0625 48.390625 27.6875 48.390625 \nQ 23 48.390625 18.546875 47.265625 \nQ 14.109375 46.140625 10.015625 43.890625 \nL 10.015625 52.203125 \nQ 14.9375 54.109375 19.578125 55.046875 \nQ 24.21875 56 28.609375 56 \nQ 40.484375 56 46.34375 49.84375 \nQ 52.203125 43.703125 52.203125 31.203125 \nz\n\" id=\"DejaVuSans-97\"/>\n       <path d=\"M 2.984375 54.6875 \nL 12.5 54.6875 \nL 29.59375 8.796875 \nL 46.6875 54.6875 \nL 56.203125 54.6875 \nL 35.6875 0 \nL 23.484375 0 \nz\n\" id=\"DejaVuSans-118\"/>\n      </defs>\n      <g transform=\"translate(286.166382 460.477656)scale(0.1 -0.1)\">\n       <use xlink:href=\"#DejaVuSans-78\"/>\n       <use x=\"74.804688\" xlink:href=\"#DejaVuSans-97\"/>\n       <use x=\"136.083984\" xlink:href=\"#DejaVuSans-118\"/>\n       <use x=\"195.263672\" xlink:href=\"#DejaVuSans-105\"/>\n       <use x=\"223.046875\" xlink:href=\"#DejaVuSans-103\"/>\n       <use x=\"286.523438\" xlink:href=\"#DejaVuSans-97\"/>\n       <use x=\"347.802734\" xlink:href=\"#DejaVuSans-116\"/>\n       <use x=\"387.011719\" xlink:href=\"#DejaVuSans-105\"/>\n       <use x=\"414.794922\" xlink:href=\"#DejaVuSans-111\"/>\n       <use x=\"475.976562\" xlink:href=\"#DejaVuSans-110\"/>\n      </g>\n     </g>\n    </g>\n    <g id=\"xtick_5\">\n     <g id=\"line2d_5\">\n      <g>\n       <use style=\"stroke:#000000;stroke-width:0.8;\" x=\"384.448074\" xlink:href=\"#m04726b7c24\" y=\"445.879219\"/>\n      </g>\n     </g>\n     <g id=\"text_5\">\n      <!-- Next -->\n      <defs>\n       <path d=\"M 54.890625 54.6875 \nL 35.109375 28.078125 \nL 55.90625 0 \nL 45.3125 0 \nL 29.390625 21.484375 \nL 13.484375 0 \nL 2.875 0 \nL 24.125 28.609375 \nL 4.6875 54.6875 \nL 15.28125 54.6875 \nL 29.78125 35.203125 \nL 44.28125 54.6875 \nz\n\" id=\"DejaVuSans-120\"/>\n      </defs>\n      <g transform=\"translate(372.712137 460.477656)scale(0.1 -0.1)\">\n       <use xlink:href=\"#DejaVuSans-78\"/>\n       <use x=\"74.804688\" xlink:href=\"#DejaVuSans-101\"/>\n       <use x=\"136.3125\" xlink:href=\"#DejaVuSans-120\"/>\n       <use x=\"195.492188\" xlink:href=\"#DejaVuSans-116\"/>\n      </g>\n     </g>\n    </g>\n    <g id=\"xtick_6\">\n     <g id=\"line2d_6\">\n      <g>\n       <use style=\"stroke:#000000;stroke-width:0.8;\" x=\"455.761016\" xlink:href=\"#m04726b7c24\" y=\"445.879219\"/>\n      </g>\n     </g>\n     <g id=\"text_6\">\n      <!-- Previous -->\n      <defs>\n       <path d=\"M 19.671875 64.796875 \nL 19.671875 37.40625 \nL 32.078125 37.40625 \nQ 38.96875 37.40625 42.71875 40.96875 \nQ 46.484375 44.53125 46.484375 51.125 \nQ 46.484375 57.671875 42.71875 61.234375 \nQ 38.96875 64.796875 32.078125 64.796875 \nz\nM 9.8125 72.90625 \nL 32.078125 72.90625 \nQ 44.34375 72.90625 50.609375 67.359375 \nQ 56.890625 61.8125 56.890625 51.125 \nQ 56.890625 40.328125 50.609375 34.8125 \nQ 44.34375 29.296875 32.078125 29.296875 \nL 19.671875 29.296875 \nL 19.671875 0 \nL 9.8125 0 \nz\n\" id=\"DejaVuSans-80\"/>\n       <path d=\"M 41.109375 46.296875 \nQ 39.59375 47.171875 37.8125 47.578125 \nQ 36.03125 48 33.890625 48 \nQ 26.265625 48 22.1875 43.046875 \nQ 18.109375 38.09375 18.109375 28.8125 \nL 18.109375 0 \nL 9.078125 0 \nL 9.078125 54.6875 \nL 18.109375 54.6875 \nL 18.109375 46.1875 \nQ 20.953125 51.171875 25.484375 53.578125 \nQ 30.03125 56 36.53125 56 \nQ 37.453125 56 38.578125 55.875 \nQ 39.703125 55.765625 41.0625 55.515625 \nz\n\" id=\"DejaVuSans-114\"/>\n       <path d=\"M 8.5 21.578125 \nL 8.5 54.6875 \nL 17.484375 54.6875 \nL 17.484375 21.921875 \nQ 17.484375 14.15625 20.5 10.265625 \nQ 23.53125 6.390625 29.59375 6.390625 \nQ 36.859375 6.390625 41.078125 11.03125 \nQ 45.3125 15.671875 45.3125 23.6875 \nL 45.3125 54.6875 \nL 54.296875 54.6875 \nL 54.296875 0 \nL 45.3125 0 \nL 45.3125 8.40625 \nQ 42.046875 3.421875 37.71875 1 \nQ 33.40625 -1.421875 27.6875 -1.421875 \nQ 18.265625 -1.421875 13.375 4.4375 \nQ 8.5 10.296875 8.5 21.578125 \nz\nM 31.109375 56 \nz\n\" id=\"DejaVuSans-117\"/>\n      </defs>\n      <g transform=\"translate(434.435235 460.477656)scale(0.1 -0.1)\">\n       <use xlink:href=\"#DejaVuSans-80\"/>\n       <use x=\"60.287109\" xlink:href=\"#DejaVuSans-114\"/>\n       <use x=\"101.369141\" xlink:href=\"#DejaVuSans-101\"/>\n       <use x=\"162.892578\" xlink:href=\"#DejaVuSans-118\"/>\n       <use x=\"222.072266\" xlink:href=\"#DejaVuSans-105\"/>\n       <use x=\"249.855469\" xlink:href=\"#DejaVuSans-111\"/>\n       <use x=\"311.037109\" xlink:href=\"#DejaVuSans-117\"/>\n       <use x=\"374.416016\" xlink:href=\"#DejaVuSans-115\"/>\n      </g>\n     </g>\n    </g>\n    <g id=\"xtick_7\">\n     <g id=\"line2d_7\">\n      <g>\n       <use style=\"stroke:#000000;stroke-width:0.8;\" x=\"527.073958\" xlink:href=\"#m04726b7c24\" y=\"445.879219\"/>\n      </g>\n     </g>\n     <g id=\"text_7\">\n      <!-- Start -->\n      <defs>\n       <path d=\"M 53.515625 70.515625 \nL 53.515625 60.890625 \nQ 47.90625 63.578125 42.921875 64.890625 \nQ 37.9375 66.21875 33.296875 66.21875 \nQ 25.25 66.21875 20.875 63.09375 \nQ 16.5 59.96875 16.5 54.203125 \nQ 16.5 49.359375 19.40625 46.890625 \nQ 22.3125 44.4375 30.421875 42.921875 \nL 36.375 41.703125 \nQ 47.40625 39.59375 52.65625 34.296875 \nQ 57.90625 29 57.90625 20.125 \nQ 57.90625 9.515625 50.796875 4.046875 \nQ 43.703125 -1.421875 29.984375 -1.421875 \nQ 24.8125 -1.421875 18.96875 -0.25 \nQ 13.140625 0.921875 6.890625 3.21875 \nL 6.890625 13.375 \nQ 12.890625 10.015625 18.65625 8.296875 \nQ 24.421875 6.59375 29.984375 6.59375 \nQ 38.421875 6.59375 43.015625 9.90625 \nQ 47.609375 13.234375 47.609375 19.390625 \nQ 47.609375 24.75 44.3125 27.78125 \nQ 41.015625 30.8125 33.5 32.328125 \nL 27.484375 33.5 \nQ 16.453125 35.6875 11.515625 40.375 \nQ 6.59375 45.0625 6.59375 53.421875 \nQ 6.59375 63.09375 13.40625 68.65625 \nQ 20.21875 74.21875 32.171875 74.21875 \nQ 37.3125 74.21875 42.625 73.28125 \nQ 47.953125 72.359375 53.515625 70.515625 \nz\n\" id=\"DejaVuSans-83\"/>\n      </defs>\n      <g transform=\"translate(514.859896 460.477656)scale(0.1 -0.1)\">\n       <use xlink:href=\"#DejaVuSans-83\"/>\n       <use x=\"63.476562\" xlink:href=\"#DejaVuSans-116\"/>\n       <use x=\"102.685547\" xlink:href=\"#DejaVuSans-97\"/>\n       <use x=\"163.964844\" xlink:href=\"#DejaVuSans-114\"/>\n       <use x=\"205.078125\" xlink:href=\"#DejaVuSans-116\"/>\n      </g>\n     </g>\n    </g>\n    <g id=\"xtick_8\">\n     <g id=\"line2d_8\">\n      <g>\n       <use style=\"stroke:#000000;stroke-width:0.8;\" x=\"598.3869\" xlink:href=\"#m04726b7c24\" y=\"445.879219\"/>\n      </g>\n     </g>\n     <g id=\"text_8\">\n      <!-- Stop -->\n      <defs>\n       <path d=\"M 18.109375 8.203125 \nL 18.109375 -20.796875 \nL 9.078125 -20.796875 \nL 9.078125 54.6875 \nL 18.109375 54.6875 \nL 18.109375 46.390625 \nQ 20.953125 51.265625 25.265625 53.625 \nQ 29.59375 56 35.59375 56 \nQ 45.5625 56 51.78125 48.09375 \nQ 58.015625 40.1875 58.015625 27.296875 \nQ 58.015625 14.40625 51.78125 6.484375 \nQ 45.5625 -1.421875 35.59375 -1.421875 \nQ 29.59375 -1.421875 25.265625 0.953125 \nQ 20.953125 3.328125 18.109375 8.203125 \nz\nM 48.6875 27.296875 \nQ 48.6875 37.203125 44.609375 42.84375 \nQ 40.53125 48.484375 33.40625 48.484375 \nQ 26.265625 48.484375 22.1875 42.84375 \nQ 18.109375 37.203125 18.109375 27.296875 \nQ 18.109375 17.390625 22.1875 11.75 \nQ 26.265625 6.109375 33.40625 6.109375 \nQ 40.53125 6.109375 44.609375 11.75 \nQ 48.6875 17.390625 48.6875 27.296875 \nz\n\" id=\"DejaVuSans-112\"/>\n      </defs>\n      <g transform=\"translate(587.018932 460.477656)scale(0.1 -0.1)\">\n       <use xlink:href=\"#DejaVuSans-83\"/>\n       <use x=\"63.476562\" xlink:href=\"#DejaVuSans-116\"/>\n       <use x=\"102.685547\" xlink:href=\"#DejaVuSans-111\"/>\n       <use x=\"163.867188\" xlink:href=\"#DejaVuSans-112\"/>\n      </g>\n     </g>\n    </g>\n    <g id=\"xtick_9\">\n     <g id=\"line2d_9\">\n      <g>\n       <use style=\"stroke:#000000;stroke-width:0.8;\" x=\"669.699842\" xlink:href=\"#m04726b7c24\" y=\"445.879219\"/>\n      </g>\n     </g>\n     <g id=\"text_9\">\n      <!-- Hello -->\n      <defs>\n       <path d=\"M 9.8125 72.90625 \nL 19.671875 72.90625 \nL 19.671875 43.015625 \nL 55.515625 43.015625 \nL 55.515625 72.90625 \nL 65.375 72.90625 \nL 65.375 0 \nL 55.515625 0 \nL 55.515625 34.71875 \nL 19.671875 34.71875 \nL 19.671875 0 \nL 9.8125 0 \nz\n\" id=\"DejaVuSans-72\"/>\n       <path d=\"M 9.421875 75.984375 \nL 18.40625 75.984375 \nL 18.40625 0 \nL 9.421875 0 \nz\n\" id=\"DejaVuSans-108\"/>\n      </defs>\n      <g transform=\"translate(657.025624 460.477656)scale(0.1 -0.1)\">\n       <use xlink:href=\"#DejaVuSans-72\"/>\n       <use x=\"75.195312\" xlink:href=\"#DejaVuSans-101\"/>\n       <use x=\"136.71875\" xlink:href=\"#DejaVuSans-108\"/>\n       <use x=\"164.501953\" xlink:href=\"#DejaVuSans-108\"/>\n       <use x=\"192.285156\" xlink:href=\"#DejaVuSans-111\"/>\n      </g>\n     </g>\n    </g>\n    <g id=\"xtick_10\">\n     <g id=\"line2d_10\">\n      <g>\n       <use style=\"stroke:#000000;stroke-width:0.8;\" x=\"741.012784\" xlink:href=\"#m04726b7c24\" y=\"445.879219\"/>\n      </g>\n     </g>\n     <g id=\"text_10\">\n      <!-- Web -->\n      <defs>\n       <path d=\"M 3.328125 72.90625 \nL 13.28125 72.90625 \nL 28.609375 11.28125 \nL 43.890625 72.90625 \nL 54.984375 72.90625 \nL 70.3125 11.28125 \nL 85.59375 72.90625 \nL 95.609375 72.90625 \nL 77.296875 0 \nL 64.890625 0 \nL 49.515625 63.28125 \nL 33.984375 0 \nL 21.578125 0 \nz\n\" id=\"DejaVuSans-87\"/>\n       <path d=\"M 48.6875 27.296875 \nQ 48.6875 37.203125 44.609375 42.84375 \nQ 40.53125 48.484375 33.40625 48.484375 \nQ 26.265625 48.484375 22.1875 42.84375 \nQ 18.109375 37.203125 18.109375 27.296875 \nQ 18.109375 17.390625 22.1875 11.75 \nQ 26.265625 6.109375 33.40625 6.109375 \nQ 40.53125 6.109375 44.609375 11.75 \nQ 48.6875 17.390625 48.6875 27.296875 \nz\nM 18.109375 46.390625 \nQ 20.953125 51.265625 25.265625 53.625 \nQ 29.59375 56 35.59375 56 \nQ 45.5625 56 51.78125 48.09375 \nQ 58.015625 40.1875 58.015625 27.296875 \nQ 58.015625 14.40625 51.78125 6.484375 \nQ 45.5625 -1.421875 35.59375 -1.421875 \nQ 29.59375 -1.421875 25.265625 0.953125 \nQ 20.953125 3.328125 18.109375 8.203125 \nL 18.109375 0 \nL 9.078125 0 \nL 9.078125 75.984375 \nL 18.109375 75.984375 \nz\n\" id=\"DejaVuSans-98\"/>\n      </defs>\n      <g transform=\"translate(729.822159 460.477656)scale(0.1 -0.1)\">\n       <use xlink:href=\"#DejaVuSans-87\"/>\n       <use x=\"98.798828\" xlink:href=\"#DejaVuSans-101\"/>\n       <use x=\"160.322266\" xlink:href=\"#DejaVuSans-98\"/>\n      </g>\n     </g>\n    </g>\n   </g>\n   <g id=\"matplotlib.axis_2\">\n    <g id=\"ytick_1\">\n     <g id=\"line2d_11\">\n      <defs>\n       <path d=\"M 0 0 \nL -3.5 0 \n\" id=\"m4ece2d9539\" style=\"stroke:#000000;stroke-width:0.8;\"/>\n      </defs>\n      <g>\n       <use style=\"stroke:#000000;stroke-width:0.8;\" x=\"39.65\" xlink:href=\"#m4ece2d9539\" y=\"445.879219\"/>\n      </g>\n     </g>\n     <g id=\"text_11\">\n      <!-- 0 -->\n      <defs>\n       <path d=\"M 31.78125 66.40625 \nQ 24.171875 66.40625 20.328125 58.90625 \nQ 16.5 51.421875 16.5 36.375 \nQ 16.5 21.390625 20.328125 13.890625 \nQ 24.171875 6.390625 31.78125 6.390625 \nQ 39.453125 6.390625 43.28125 13.890625 \nQ 47.125 21.390625 47.125 36.375 \nQ 47.125 51.421875 43.28125 58.90625 \nQ 39.453125 66.40625 31.78125 66.40625 \nz\nM 31.78125 74.21875 \nQ 44.046875 74.21875 50.515625 64.515625 \nQ 56.984375 54.828125 56.984375 36.375 \nQ 56.984375 17.96875 50.515625 8.265625 \nQ 44.046875 -1.421875 31.78125 -1.421875 \nQ 19.53125 -1.421875 13.0625 8.265625 \nQ 6.59375 17.96875 6.59375 36.375 \nQ 6.59375 54.828125 13.0625 64.515625 \nQ 19.53125 74.21875 31.78125 74.21875 \nz\n\" id=\"DejaVuSans-48\"/>\n      </defs>\n      <g transform=\"translate(26.2875 449.678437)scale(0.1 -0.1)\">\n       <use xlink:href=\"#DejaVuSans-48\"/>\n      </g>\n     </g>\n    </g>\n    <g id=\"ytick_2\">\n     <g id=\"line2d_12\">\n      <g>\n       <use style=\"stroke:#000000;stroke-width:0.8;\" x=\"39.65\" xlink:href=\"#m4ece2d9539\" y=\"406.40926\"/>\n      </g>\n     </g>\n     <g id=\"text_12\">\n      <!-- 150 -->\n      <defs>\n       <path d=\"M 12.40625 8.296875 \nL 28.515625 8.296875 \nL 28.515625 63.921875 \nL 10.984375 60.40625 \nL 10.984375 69.390625 \nL 28.421875 72.90625 \nL 38.28125 72.90625 \nL 38.28125 8.296875 \nL 54.390625 8.296875 \nL 54.390625 0 \nL 12.40625 0 \nz\n\" id=\"DejaVuSans-49\"/>\n       <path d=\"M 10.796875 72.90625 \nL 49.515625 72.90625 \nL 49.515625 64.59375 \nL 19.828125 64.59375 \nL 19.828125 46.734375 \nQ 21.96875 47.46875 24.109375 47.828125 \nQ 26.265625 48.1875 28.421875 48.1875 \nQ 40.625 48.1875 47.75 41.5 \nQ 54.890625 34.8125 54.890625 23.390625 \nQ 54.890625 11.625 47.5625 5.09375 \nQ 40.234375 -1.421875 26.90625 -1.421875 \nQ 22.3125 -1.421875 17.546875 -0.640625 \nQ 12.796875 0.140625 7.71875 1.703125 \nL 7.71875 11.625 \nQ 12.109375 9.234375 16.796875 8.0625 \nQ 21.484375 6.890625 26.703125 6.890625 \nQ 35.15625 6.890625 40.078125 11.328125 \nQ 45.015625 15.765625 45.015625 23.390625 \nQ 45.015625 31 40.078125 35.4375 \nQ 35.15625 39.890625 26.703125 39.890625 \nQ 22.75 39.890625 18.8125 39.015625 \nQ 14.890625 38.140625 10.796875 36.28125 \nz\n\" id=\"DejaVuSans-53\"/>\n      </defs>\n      <g transform=\"translate(13.5625 410.208479)scale(0.1 -0.1)\">\n       <use xlink:href=\"#DejaVuSans-49\"/>\n       <use x=\"63.623047\" xlink:href=\"#DejaVuSans-53\"/>\n       <use x=\"127.246094\" xlink:href=\"#DejaVuSans-48\"/>\n      </g>\n     </g>\n    </g>\n    <g id=\"ytick_3\">\n     <g id=\"line2d_13\">\n      <g>\n       <use style=\"stroke:#000000;stroke-width:0.8;\" x=\"39.65\" xlink:href=\"#m4ece2d9539\" y=\"366.939302\"/>\n      </g>\n     </g>\n     <g id=\"text_13\">\n      <!-- 300 -->\n      <defs>\n       <path d=\"M 40.578125 39.3125 \nQ 47.65625 37.796875 51.625 33 \nQ 55.609375 28.21875 55.609375 21.1875 \nQ 55.609375 10.40625 48.1875 4.484375 \nQ 40.765625 -1.421875 27.09375 -1.421875 \nQ 22.515625 -1.421875 17.65625 -0.515625 \nQ 12.796875 0.390625 7.625 2.203125 \nL 7.625 11.71875 \nQ 11.71875 9.328125 16.59375 8.109375 \nQ 21.484375 6.890625 26.8125 6.890625 \nQ 36.078125 6.890625 40.9375 10.546875 \nQ 45.796875 14.203125 45.796875 21.1875 \nQ 45.796875 27.640625 41.28125 31.265625 \nQ 36.765625 34.90625 28.71875 34.90625 \nL 20.21875 34.90625 \nL 20.21875 43.015625 \nL 29.109375 43.015625 \nQ 36.375 43.015625 40.234375 45.921875 \nQ 44.09375 48.828125 44.09375 54.296875 \nQ 44.09375 59.90625 40.109375 62.90625 \nQ 36.140625 65.921875 28.71875 65.921875 \nQ 24.65625 65.921875 20.015625 65.03125 \nQ 15.375 64.15625 9.8125 62.3125 \nL 9.8125 71.09375 \nQ 15.4375 72.65625 20.34375 73.4375 \nQ 25.25 74.21875 29.59375 74.21875 \nQ 40.828125 74.21875 47.359375 69.109375 \nQ 53.90625 64.015625 53.90625 55.328125 \nQ 53.90625 49.265625 50.4375 45.09375 \nQ 46.96875 40.921875 40.578125 39.3125 \nz\n\" id=\"DejaVuSans-51\"/>\n      </defs>\n      <g transform=\"translate(13.5625 370.738521)scale(0.1 -0.1)\">\n       <use xlink:href=\"#DejaVuSans-51\"/>\n       <use x=\"63.623047\" xlink:href=\"#DejaVuSans-48\"/>\n       <use x=\"127.246094\" xlink:href=\"#DejaVuSans-48\"/>\n      </g>\n     </g>\n    </g>\n    <g id=\"ytick_4\">\n     <g id=\"line2d_14\">\n      <g>\n       <use style=\"stroke:#000000;stroke-width:0.8;\" x=\"39.65\" xlink:href=\"#m4ece2d9539\" y=\"327.469344\"/>\n      </g>\n     </g>\n     <g id=\"text_14\">\n      <!-- 450 -->\n      <defs>\n       <path d=\"M 37.796875 64.3125 \nL 12.890625 25.390625 \nL 37.796875 25.390625 \nz\nM 35.203125 72.90625 \nL 47.609375 72.90625 \nL 47.609375 25.390625 \nL 58.015625 25.390625 \nL 58.015625 17.1875 \nL 47.609375 17.1875 \nL 47.609375 0 \nL 37.796875 0 \nL 37.796875 17.1875 \nL 4.890625 17.1875 \nL 4.890625 26.703125 \nz\n\" id=\"DejaVuSans-52\"/>\n      </defs>\n      <g transform=\"translate(13.5625 331.268563)scale(0.1 -0.1)\">\n       <use xlink:href=\"#DejaVuSans-52\"/>\n       <use x=\"63.623047\" xlink:href=\"#DejaVuSans-53\"/>\n       <use x=\"127.246094\" xlink:href=\"#DejaVuSans-48\"/>\n      </g>\n     </g>\n    </g>\n    <g id=\"ytick_5\">\n     <g id=\"line2d_15\">\n      <g>\n       <use style=\"stroke:#000000;stroke-width:0.8;\" x=\"39.65\" xlink:href=\"#m4ece2d9539\" y=\"287.999386\"/>\n      </g>\n     </g>\n     <g id=\"text_15\">\n      <!-- 600 -->\n      <defs>\n       <path d=\"M 33.015625 40.375 \nQ 26.375 40.375 22.484375 35.828125 \nQ 18.609375 31.296875 18.609375 23.390625 \nQ 18.609375 15.53125 22.484375 10.953125 \nQ 26.375 6.390625 33.015625 6.390625 \nQ 39.65625 6.390625 43.53125 10.953125 \nQ 47.40625 15.53125 47.40625 23.390625 \nQ 47.40625 31.296875 43.53125 35.828125 \nQ 39.65625 40.375 33.015625 40.375 \nz\nM 52.59375 71.296875 \nL 52.59375 62.3125 \nQ 48.875 64.0625 45.09375 64.984375 \nQ 41.3125 65.921875 37.59375 65.921875 \nQ 27.828125 65.921875 22.671875 59.328125 \nQ 17.53125 52.734375 16.796875 39.40625 \nQ 19.671875 43.65625 24.015625 45.921875 \nQ 28.375 48.1875 33.59375 48.1875 \nQ 44.578125 48.1875 50.953125 41.515625 \nQ 57.328125 34.859375 57.328125 23.390625 \nQ 57.328125 12.15625 50.6875 5.359375 \nQ 44.046875 -1.421875 33.015625 -1.421875 \nQ 20.359375 -1.421875 13.671875 8.265625 \nQ 6.984375 17.96875 6.984375 36.375 \nQ 6.984375 53.65625 15.1875 63.9375 \nQ 23.390625 74.21875 37.203125 74.21875 \nQ 40.921875 74.21875 44.703125 73.484375 \nQ 48.484375 72.75 52.59375 71.296875 \nz\n\" id=\"DejaVuSans-54\"/>\n      </defs>\n      <g transform=\"translate(13.5625 291.798604)scale(0.1 -0.1)\">\n       <use xlink:href=\"#DejaVuSans-54\"/>\n       <use x=\"63.623047\" xlink:href=\"#DejaVuSans-48\"/>\n       <use x=\"127.246094\" xlink:href=\"#DejaVuSans-48\"/>\n      </g>\n     </g>\n    </g>\n    <g id=\"ytick_6\">\n     <g id=\"line2d_16\">\n      <g>\n       <use style=\"stroke:#000000;stroke-width:0.8;\" x=\"39.65\" xlink:href=\"#m4ece2d9539\" y=\"248.529427\"/>\n      </g>\n     </g>\n     <g id=\"text_16\">\n      <!-- 750 -->\n      <defs>\n       <path d=\"M 8.203125 72.90625 \nL 55.078125 72.90625 \nL 55.078125 68.703125 \nL 28.609375 0 \nL 18.3125 0 \nL 43.21875 64.59375 \nL 8.203125 64.59375 \nz\n\" id=\"DejaVuSans-55\"/>\n      </defs>\n      <g transform=\"translate(13.5625 252.328646)scale(0.1 -0.1)\">\n       <use xlink:href=\"#DejaVuSans-55\"/>\n       <use x=\"63.623047\" xlink:href=\"#DejaVuSans-53\"/>\n       <use x=\"127.246094\" xlink:href=\"#DejaVuSans-48\"/>\n      </g>\n     </g>\n    </g>\n    <g id=\"ytick_7\">\n     <g id=\"line2d_17\">\n      <g>\n       <use style=\"stroke:#000000;stroke-width:0.8;\" x=\"39.65\" xlink:href=\"#m4ece2d9539\" y=\"209.059469\"/>\n      </g>\n     </g>\n     <g id=\"text_17\">\n      <!-- 900 -->\n      <defs>\n       <path d=\"M 10.984375 1.515625 \nL 10.984375 10.5 \nQ 14.703125 8.734375 18.5 7.8125 \nQ 22.3125 6.890625 25.984375 6.890625 \nQ 35.75 6.890625 40.890625 13.453125 \nQ 46.046875 20.015625 46.78125 33.40625 \nQ 43.953125 29.203125 39.59375 26.953125 \nQ 35.25 24.703125 29.984375 24.703125 \nQ 19.046875 24.703125 12.671875 31.3125 \nQ 6.296875 37.9375 6.296875 49.421875 \nQ 6.296875 60.640625 12.9375 67.421875 \nQ 19.578125 74.21875 30.609375 74.21875 \nQ 43.265625 74.21875 49.921875 64.515625 \nQ 56.59375 54.828125 56.59375 36.375 \nQ 56.59375 19.140625 48.40625 8.859375 \nQ 40.234375 -1.421875 26.421875 -1.421875 \nQ 22.703125 -1.421875 18.890625 -0.6875 \nQ 15.09375 0.046875 10.984375 1.515625 \nz\nM 30.609375 32.421875 \nQ 37.25 32.421875 41.125 36.953125 \nQ 45.015625 41.5 45.015625 49.421875 \nQ 45.015625 57.28125 41.125 61.84375 \nQ 37.25 66.40625 30.609375 66.40625 \nQ 23.96875 66.40625 20.09375 61.84375 \nQ 16.21875 57.28125 16.21875 49.421875 \nQ 16.21875 41.5 20.09375 36.953125 \nQ 23.96875 32.421875 30.609375 32.421875 \nz\n\" id=\"DejaVuSans-57\"/>\n      </defs>\n      <g transform=\"translate(13.5625 212.858688)scale(0.1 -0.1)\">\n       <use xlink:href=\"#DejaVuSans-57\"/>\n       <use x=\"63.623047\" xlink:href=\"#DejaVuSans-48\"/>\n       <use x=\"127.246094\" xlink:href=\"#DejaVuSans-48\"/>\n      </g>\n     </g>\n    </g>\n    <g id=\"ytick_8\">\n     <g id=\"line2d_18\">\n      <g>\n       <use style=\"stroke:#000000;stroke-width:0.8;\" x=\"39.65\" xlink:href=\"#m4ece2d9539\" y=\"169.589511\"/>\n      </g>\n     </g>\n     <g id=\"text_18\">\n      <!-- 1050 -->\n      <g transform=\"translate(7.2 173.38873)scale(0.1 -0.1)\">\n       <use xlink:href=\"#DejaVuSans-49\"/>\n       <use x=\"63.623047\" xlink:href=\"#DejaVuSans-48\"/>\n       <use x=\"127.246094\" xlink:href=\"#DejaVuSans-53\"/>\n       <use x=\"190.869141\" xlink:href=\"#DejaVuSans-48\"/>\n      </g>\n     </g>\n    </g>\n    <g id=\"ytick_9\">\n     <g id=\"line2d_19\">\n      <g>\n       <use style=\"stroke:#000000;stroke-width:0.8;\" x=\"39.65\" xlink:href=\"#m4ece2d9539\" y=\"130.119553\"/>\n      </g>\n     </g>\n     <g id=\"text_19\">\n      <!-- 1200 -->\n      <defs>\n       <path d=\"M 19.1875 8.296875 \nL 53.609375 8.296875 \nL 53.609375 0 \nL 7.328125 0 \nL 7.328125 8.296875 \nQ 12.9375 14.109375 22.625 23.890625 \nQ 32.328125 33.6875 34.8125 36.53125 \nQ 39.546875 41.84375 41.421875 45.53125 \nQ 43.3125 49.21875 43.3125 52.78125 \nQ 43.3125 58.59375 39.234375 62.25 \nQ 35.15625 65.921875 28.609375 65.921875 \nQ 23.96875 65.921875 18.8125 64.3125 \nQ 13.671875 62.703125 7.8125 59.421875 \nL 7.8125 69.390625 \nQ 13.765625 71.78125 18.9375 73 \nQ 24.125 74.21875 28.421875 74.21875 \nQ 39.75 74.21875 46.484375 68.546875 \nQ 53.21875 62.890625 53.21875 53.421875 \nQ 53.21875 48.921875 51.53125 44.890625 \nQ 49.859375 40.875 45.40625 35.40625 \nQ 44.1875 33.984375 37.640625 27.21875 \nQ 31.109375 20.453125 19.1875 8.296875 \nz\n\" id=\"DejaVuSans-50\"/>\n      </defs>\n      <g transform=\"translate(7.2 133.918771)scale(0.1 -0.1)\">\n       <use xlink:href=\"#DejaVuSans-49\"/>\n       <use x=\"63.623047\" xlink:href=\"#DejaVuSans-50\"/>\n       <use x=\"127.246094\" xlink:href=\"#DejaVuSans-48\"/>\n       <use x=\"190.869141\" xlink:href=\"#DejaVuSans-48\"/>\n      </g>\n     </g>\n    </g>\n    <g id=\"ytick_10\">\n     <g id=\"line2d_20\">\n      <g>\n       <use style=\"stroke:#000000;stroke-width:0.8;\" x=\"39.65\" xlink:href=\"#m4ece2d9539\" y=\"90.649594\"/>\n      </g>\n     </g>\n     <g id=\"text_20\">\n      <!-- 1350 -->\n      <g transform=\"translate(7.2 94.448813)scale(0.1 -0.1)\">\n       <use xlink:href=\"#DejaVuSans-49\"/>\n       <use x=\"63.623047\" xlink:href=\"#DejaVuSans-51\"/>\n       <use x=\"127.246094\" xlink:href=\"#DejaVuSans-53\"/>\n       <use x=\"190.869141\" xlink:href=\"#DejaVuSans-48\"/>\n      </g>\n     </g>\n    </g>\n    <g id=\"ytick_11\">\n     <g id=\"line2d_21\">\n      <g>\n       <use style=\"stroke:#000000;stroke-width:0.8;\" x=\"39.65\" xlink:href=\"#m4ece2d9539\" y=\"51.179636\"/>\n      </g>\n     </g>\n     <g id=\"text_21\">\n      <!-- 1500 -->\n      <g transform=\"translate(7.2 54.978855)scale(0.1 -0.1)\">\n       <use xlink:href=\"#DejaVuSans-49\"/>\n       <use x=\"63.623047\" xlink:href=\"#DejaVuSans-53\"/>\n       <use x=\"127.246094\" xlink:href=\"#DejaVuSans-48\"/>\n       <use x=\"190.869141\" xlink:href=\"#DejaVuSans-48\"/>\n      </g>\n     </g>\n    </g>\n   </g>\n   <g id=\"patch_23\">\n    <path d=\"M 39.65 445.879219 \nL 39.65 10.999219 \n\" style=\"fill:none;stroke:#000000;stroke-linecap:square;stroke-linejoin:miter;stroke-width:0.8;\"/>\n   </g>\n   <g id=\"patch_24\">\n    <path d=\"M 800.559091 445.879219 \nL 800.559091 10.999219 \n\" style=\"fill:none;stroke:#000000;stroke-linecap:square;stroke-linejoin:miter;stroke-width:0.8;\"/>\n   </g>\n   <g id=\"patch_25\">\n    <path d=\"M 39.65 445.879219 \nL 800.559091 445.879219 \n\" style=\"fill:none;stroke:#000000;stroke-linecap:square;stroke-linejoin:miter;stroke-width:0.8;\"/>\n   </g>\n   <g id=\"patch_26\">\n    <path d=\"M 39.65 10.999219 \nL 800.559091 10.999219 \n\" style=\"fill:none;stroke:#000000;stroke-linecap:square;stroke-linejoin:miter;stroke-width:0.8;\"/>\n   </g>\n  </g>\n  <g id=\"axes_2\">\n   <g id=\"patch_27\">\n    <path d=\"M 952.740909 445.879219 \nL 1713.65 445.879219 \nL 1713.65 10.999219 \nL 952.740909 10.999219 \nz\n\" style=\"fill:#ffffff;\"/>\n   </g>\n   <g id=\"patch_28\">\n    <path clip-path=\"url(#p8411273ec1)\" d=\"M 987.327686 445.879219 \nL 1037.246745 445.879219 \nL 1037.246745 123.781285 \nL 987.327686 123.781285 \nz\n\" style=\"fill:#1f77b4;\"/>\n   </g>\n   <g id=\"patch_29\">\n    <path clip-path=\"url(#p8411273ec1)\" d=\"M 1058.640628 445.879219 \nL 1108.559687 445.879219 \nL 1108.559687 128.082296 \nL 1058.640628 128.082296 \nz\n\" style=\"fill:#1f77b4;\"/>\n   </g>\n   <g id=\"patch_30\">\n    <path clip-path=\"url(#p8411273ec1)\" d=\"M 1129.95357 445.879219 \nL 1179.872629 445.879219 \nL 1179.872629 101.081504 \nL 1129.95357 101.081504 \nz\n\" style=\"fill:#1f77b4;\"/>\n   </g>\n   <g id=\"patch_31\">\n    <path clip-path=\"url(#p8411273ec1)\" d=\"M 1201.266512 445.879219 \nL 1251.185571 445.879219 \nL 1251.185571 69.779702 \nL 1201.266512 69.779702 \nz\n\" style=\"fill:#1f77b4;\"/>\n   </g>\n   <g id=\"patch_32\">\n    <path clip-path=\"url(#p8411273ec1)\" d=\"M 1272.579454 445.879219 \nL 1322.498513 445.879219 \nL 1322.498513 159.145153 \nL 1272.579454 159.145153 \nz\n\" style=\"fill:#1f77b4;\"/>\n   </g>\n   <g id=\"patch_33\">\n    <path clip-path=\"url(#p8411273ec1)\" d=\"M 1343.892396 445.879219 \nL 1393.811455 445.879219 \nL 1393.811455 106.816186 \nL 1343.892396 106.816186 \nz\n\" style=\"fill:#1f77b4;\"/>\n   </g>\n   <g id=\"patch_34\">\n    <path clip-path=\"url(#p8411273ec1)\" d=\"M 1415.205338 445.879219 \nL 1465.124397 445.879219 \nL 1465.124397 133.816977 \nL 1415.205338 133.816977 \nz\n\" style=\"fill:#1f77b4;\"/>\n   </g>\n   <g id=\"patch_35\">\n    <path clip-path=\"url(#p8411273ec1)\" d=\"M 1486.51828 445.879219 \nL 1536.437339 445.879219 \nL 1536.437339 109.205636 \nL 1486.51828 109.205636 \nz\n\" style=\"fill:#1f77b4;\"/>\n   </g>\n   <g id=\"patch_36\">\n    <path clip-path=\"url(#p8411273ec1)\" d=\"M 1557.831222 445.879219 \nL 1607.750281 445.879219 \nL 1607.750281 86.744801 \nL 1557.831222 86.744801 \nz\n\" style=\"fill:#1f77b4;\"/>\n   </g>\n   <g id=\"patch_37\">\n    <path clip-path=\"url(#p8411273ec1)\" d=\"M 1629.144164 445.879219 \nL 1679.063223 445.879219 \nL 1679.063223 155.322032 \nL 1629.144164 155.322032 \nz\n\" style=\"fill:#1f77b4;\"/>\n   </g>\n   <g id=\"matplotlib.axis_3\">\n    <g id=\"xtick_11\">\n     <g id=\"line2d_22\">\n      <g>\n       <use style=\"stroke:#000000;stroke-width:0.8;\" x=\"1012.287216\" xlink:href=\"#m04726b7c24\" y=\"445.879219\"/>\n      </g>\n     </g>\n     <g id=\"text_22\">\n      <!-- Begin -->\n      <g transform=\"translate(998.048153 460.477656)scale(0.1 -0.1)\">\n       <use xlink:href=\"#DejaVuSans-66\"/>\n       <use x=\"68.603516\" xlink:href=\"#DejaVuSans-101\"/>\n       <use x=\"130.126953\" xlink:href=\"#DejaVuSans-103\"/>\n       <use x=\"193.603516\" xlink:href=\"#DejaVuSans-105\"/>\n       <use x=\"221.386719\" xlink:href=\"#DejaVuSans-110\"/>\n      </g>\n     </g>\n    </g>\n    <g id=\"xtick_12\">\n     <g id=\"line2d_23\">\n      <g>\n       <use style=\"stroke:#000000;stroke-width:0.8;\" x=\"1083.600158\" xlink:href=\"#m04726b7c24\" y=\"445.879219\"/>\n      </g>\n     </g>\n     <g id=\"text_23\">\n      <!-- Choose -->\n      <g transform=\"translate(1065.140001 460.477656)scale(0.1 -0.1)\">\n       <use xlink:href=\"#DejaVuSans-67\"/>\n       <use x=\"69.824219\" xlink:href=\"#DejaVuSans-104\"/>\n       <use x=\"133.203125\" xlink:href=\"#DejaVuSans-111\"/>\n       <use x=\"194.384766\" xlink:href=\"#DejaVuSans-111\"/>\n       <use x=\"255.566406\" xlink:href=\"#DejaVuSans-115\"/>\n       <use x=\"307.666016\" xlink:href=\"#DejaVuSans-101\"/>\n      </g>\n     </g>\n    </g>\n    <g id=\"xtick_13\">\n     <g id=\"line2d_24\">\n      <g>\n       <use style=\"stroke:#000000;stroke-width:0.8;\" x=\"1154.9131\" xlink:href=\"#m04726b7c24\" y=\"445.879219\"/>\n      </g>\n     </g>\n     <g id=\"text_24\">\n      <!-- Connection -->\n      <g transform=\"translate(1126.621693 460.477656)scale(0.1 -0.1)\">\n       <use xlink:href=\"#DejaVuSans-67\"/>\n       <use x=\"69.824219\" xlink:href=\"#DejaVuSans-111\"/>\n       <use x=\"131.005859\" xlink:href=\"#DejaVuSans-110\"/>\n       <use x=\"194.384766\" xlink:href=\"#DejaVuSans-110\"/>\n       <use x=\"257.763672\" xlink:href=\"#DejaVuSans-101\"/>\n       <use x=\"319.287109\" xlink:href=\"#DejaVuSans-99\"/>\n       <use x=\"374.267578\" xlink:href=\"#DejaVuSans-116\"/>\n       <use x=\"413.476562\" xlink:href=\"#DejaVuSans-105\"/>\n       <use x=\"441.259766\" xlink:href=\"#DejaVuSans-111\"/>\n       <use x=\"502.441406\" xlink:href=\"#DejaVuSans-110\"/>\n      </g>\n     </g>\n    </g>\n    <g id=\"xtick_14\">\n     <g id=\"line2d_25\">\n      <g>\n       <use style=\"stroke:#000000;stroke-width:0.8;\" x=\"1226.226042\" xlink:href=\"#m04726b7c24\" y=\"445.879219\"/>\n      </g>\n     </g>\n     <g id=\"text_25\">\n      <!-- Navigation -->\n      <g transform=\"translate(1199.257292 460.477656)scale(0.1 -0.1)\">\n       <use xlink:href=\"#DejaVuSans-78\"/>\n       <use x=\"74.804688\" xlink:href=\"#DejaVuSans-97\"/>\n       <use x=\"136.083984\" xlink:href=\"#DejaVuSans-118\"/>\n       <use x=\"195.263672\" xlink:href=\"#DejaVuSans-105\"/>\n       <use x=\"223.046875\" xlink:href=\"#DejaVuSans-103\"/>\n       <use x=\"286.523438\" xlink:href=\"#DejaVuSans-97\"/>\n       <use x=\"347.802734\" xlink:href=\"#DejaVuSans-116\"/>\n       <use x=\"387.011719\" xlink:href=\"#DejaVuSans-105\"/>\n       <use x=\"414.794922\" xlink:href=\"#DejaVuSans-111\"/>\n       <use x=\"475.976562\" xlink:href=\"#DejaVuSans-110\"/>\n      </g>\n     </g>\n    </g>\n    <g id=\"xtick_15\">\n     <g id=\"line2d_26\">\n      <g>\n       <use style=\"stroke:#000000;stroke-width:0.8;\" x=\"1297.538984\" xlink:href=\"#m04726b7c24\" y=\"445.879219\"/>\n      </g>\n     </g>\n     <g id=\"text_26\">\n      <!-- Next -->\n      <g transform=\"translate(1285.803046 460.477656)scale(0.1 -0.1)\">\n       <use xlink:href=\"#DejaVuSans-78\"/>\n       <use x=\"74.804688\" xlink:href=\"#DejaVuSans-101\"/>\n       <use x=\"136.3125\" xlink:href=\"#DejaVuSans-120\"/>\n       <use x=\"195.492188\" xlink:href=\"#DejaVuSans-116\"/>\n      </g>\n     </g>\n    </g>\n    <g id=\"xtick_16\">\n     <g id=\"line2d_27\">\n      <g>\n       <use style=\"stroke:#000000;stroke-width:0.8;\" x=\"1368.851926\" xlink:href=\"#m04726b7c24\" y=\"445.879219\"/>\n      </g>\n     </g>\n     <g id=\"text_27\">\n      <!-- Previous -->\n      <g transform=\"translate(1347.526144 460.477656)scale(0.1 -0.1)\">\n       <use xlink:href=\"#DejaVuSans-80\"/>\n       <use x=\"60.287109\" xlink:href=\"#DejaVuSans-114\"/>\n       <use x=\"101.369141\" xlink:href=\"#DejaVuSans-101\"/>\n       <use x=\"162.892578\" xlink:href=\"#DejaVuSans-118\"/>\n       <use x=\"222.072266\" xlink:href=\"#DejaVuSans-105\"/>\n       <use x=\"249.855469\" xlink:href=\"#DejaVuSans-111\"/>\n       <use x=\"311.037109\" xlink:href=\"#DejaVuSans-117\"/>\n       <use x=\"374.416016\" xlink:href=\"#DejaVuSans-115\"/>\n      </g>\n     </g>\n    </g>\n    <g id=\"xtick_17\">\n     <g id=\"line2d_28\">\n      <g>\n       <use style=\"stroke:#000000;stroke-width:0.8;\" x=\"1440.164868\" xlink:href=\"#m04726b7c24\" y=\"445.879219\"/>\n      </g>\n     </g>\n     <g id=\"text_28\">\n      <!-- Start -->\n      <g transform=\"translate(1427.950805 460.477656)scale(0.1 -0.1)\">\n       <use xlink:href=\"#DejaVuSans-83\"/>\n       <use x=\"63.476562\" xlink:href=\"#DejaVuSans-116\"/>\n       <use x=\"102.685547\" xlink:href=\"#DejaVuSans-97\"/>\n       <use x=\"163.964844\" xlink:href=\"#DejaVuSans-114\"/>\n       <use x=\"205.078125\" xlink:href=\"#DejaVuSans-116\"/>\n      </g>\n     </g>\n    </g>\n    <g id=\"xtick_18\">\n     <g id=\"line2d_29\">\n      <g>\n       <use style=\"stroke:#000000;stroke-width:0.8;\" x=\"1511.477809\" xlink:href=\"#m04726b7c24\" y=\"445.879219\"/>\n      </g>\n     </g>\n     <g id=\"text_29\">\n      <!-- Stop -->\n      <g transform=\"translate(1500.109841 460.477656)scale(0.1 -0.1)\">\n       <use xlink:href=\"#DejaVuSans-83\"/>\n       <use x=\"63.476562\" xlink:href=\"#DejaVuSans-116\"/>\n       <use x=\"102.685547\" xlink:href=\"#DejaVuSans-111\"/>\n       <use x=\"163.867188\" xlink:href=\"#DejaVuSans-112\"/>\n      </g>\n     </g>\n    </g>\n    <g id=\"xtick_19\">\n     <g id=\"line2d_30\">\n      <g>\n       <use style=\"stroke:#000000;stroke-width:0.8;\" x=\"1582.790751\" xlink:href=\"#m04726b7c24\" y=\"445.879219\"/>\n      </g>\n     </g>\n     <g id=\"text_30\">\n      <!-- Hello -->\n      <g transform=\"translate(1570.116533 460.477656)scale(0.1 -0.1)\">\n       <use xlink:href=\"#DejaVuSans-72\"/>\n       <use x=\"75.195312\" xlink:href=\"#DejaVuSans-101\"/>\n       <use x=\"136.71875\" xlink:href=\"#DejaVuSans-108\"/>\n       <use x=\"164.501953\" xlink:href=\"#DejaVuSans-108\"/>\n       <use x=\"192.285156\" xlink:href=\"#DejaVuSans-111\"/>\n      </g>\n     </g>\n    </g>\n    <g id=\"xtick_20\">\n     <g id=\"line2d_31\">\n      <g>\n       <use style=\"stroke:#000000;stroke-width:0.8;\" x=\"1654.103693\" xlink:href=\"#m04726b7c24\" y=\"445.879219\"/>\n      </g>\n     </g>\n     <g id=\"text_31\">\n      <!-- Web -->\n      <g transform=\"translate(1642.913068 460.477656)scale(0.1 -0.1)\">\n       <use xlink:href=\"#DejaVuSans-87\"/>\n       <use x=\"98.798828\" xlink:href=\"#DejaVuSans-101\"/>\n       <use x=\"160.322266\" xlink:href=\"#DejaVuSans-98\"/>\n      </g>\n     </g>\n    </g>\n   </g>\n   <g id=\"matplotlib.axis_4\">\n    <g id=\"ytick_12\">\n     <g id=\"line2d_32\">\n      <path clip-path=\"url(#p8411273ec1)\" d=\"M 952.740909 445.879219 \nL 1713.65 445.879219 \n\" style=\"fill:none;stroke:#b0b0b0;stroke-linecap:square;stroke-width:0.8;\"/>\n     </g>\n     <g id=\"line2d_33\">\n      <g>\n       <use style=\"stroke:#000000;stroke-width:0.8;\" x=\"952.740909\" xlink:href=\"#m4ece2d9539\" y=\"445.879219\"/>\n      </g>\n     </g>\n     <g id=\"text_32\">\n      <!-- 0 -->\n      <g transform=\"translate(939.378409 449.678437)scale(0.1 -0.1)\">\n       <use xlink:href=\"#DejaVuSans-48\"/>\n      </g>\n     </g>\n    </g>\n    <g id=\"ytick_13\">\n     <g id=\"line2d_34\">\n      <path clip-path=\"url(#p8411273ec1)\" d=\"M 952.740909 414.816362 \nL 1713.65 414.816362 \n\" style=\"fill:none;stroke:#b0b0b0;stroke-linecap:square;stroke-width:0.8;\"/>\n     </g>\n     <g id=\"line2d_35\">\n      <g>\n       <use style=\"stroke:#000000;stroke-width:0.8;\" x=\"952.740909\" xlink:href=\"#m4ece2d9539\" y=\"414.816362\"/>\n      </g>\n     </g>\n     <g id=\"text_33\">\n      <!-- 1 -->\n      <g transform=\"translate(939.378409 418.61558)scale(0.1 -0.1)\">\n       <use xlink:href=\"#DejaVuSans-49\"/>\n      </g>\n     </g>\n    </g>\n    <g id=\"ytick_14\">\n     <g id=\"line2d_36\">\n      <path clip-path=\"url(#p8411273ec1)\" d=\"M 952.740909 383.753504 \nL 1713.65 383.753504 \n\" style=\"fill:none;stroke:#b0b0b0;stroke-linecap:square;stroke-width:0.8;\"/>\n     </g>\n     <g id=\"line2d_37\">\n      <g>\n       <use style=\"stroke:#000000;stroke-width:0.8;\" x=\"952.740909\" xlink:href=\"#m4ece2d9539\" y=\"383.753504\"/>\n      </g>\n     </g>\n     <g id=\"text_34\">\n      <!-- 2 -->\n      <g transform=\"translate(939.378409 387.552723)scale(0.1 -0.1)\">\n       <use xlink:href=\"#DejaVuSans-50\"/>\n      </g>\n     </g>\n    </g>\n    <g id=\"ytick_15\">\n     <g id=\"line2d_38\">\n      <path clip-path=\"url(#p8411273ec1)\" d=\"M 952.740909 352.690647 \nL 1713.65 352.690647 \n\" style=\"fill:none;stroke:#b0b0b0;stroke-linecap:square;stroke-width:0.8;\"/>\n     </g>\n     <g id=\"line2d_39\">\n      <g>\n       <use style=\"stroke:#000000;stroke-width:0.8;\" x=\"952.740909\" xlink:href=\"#m4ece2d9539\" y=\"352.690647\"/>\n      </g>\n     </g>\n     <g id=\"text_35\">\n      <!-- 3 -->\n      <g transform=\"translate(939.378409 356.489866)scale(0.1 -0.1)\">\n       <use xlink:href=\"#DejaVuSans-51\"/>\n      </g>\n     </g>\n    </g>\n    <g id=\"ytick_16\">\n     <g id=\"line2d_40\">\n      <path clip-path=\"url(#p8411273ec1)\" d=\"M 952.740909 321.62779 \nL 1713.65 321.62779 \n\" style=\"fill:none;stroke:#b0b0b0;stroke-linecap:square;stroke-width:0.8;\"/>\n     </g>\n     <g id=\"line2d_41\">\n      <g>\n       <use style=\"stroke:#000000;stroke-width:0.8;\" x=\"952.740909\" xlink:href=\"#m4ece2d9539\" y=\"321.62779\"/>\n      </g>\n     </g>\n     <g id=\"text_36\">\n      <!-- 4 -->\n      <g transform=\"translate(939.378409 325.427009)scale(0.1 -0.1)\">\n       <use xlink:href=\"#DejaVuSans-52\"/>\n      </g>\n     </g>\n    </g>\n    <g id=\"ytick_17\">\n     <g id=\"line2d_42\">\n      <path clip-path=\"url(#p8411273ec1)\" d=\"M 952.740909 290.564933 \nL 1713.65 290.564933 \n\" style=\"fill:none;stroke:#b0b0b0;stroke-linecap:square;stroke-width:0.8;\"/>\n     </g>\n     <g id=\"line2d_43\">\n      <g>\n       <use style=\"stroke:#000000;stroke-width:0.8;\" x=\"952.740909\" xlink:href=\"#m4ece2d9539\" y=\"290.564933\"/>\n      </g>\n     </g>\n     <g id=\"text_37\">\n      <!-- 5 -->\n      <g transform=\"translate(939.378409 294.364152)scale(0.1 -0.1)\">\n       <use xlink:href=\"#DejaVuSans-53\"/>\n      </g>\n     </g>\n    </g>\n    <g id=\"ytick_18\">\n     <g id=\"line2d_44\">\n      <path clip-path=\"url(#p8411273ec1)\" d=\"M 952.740909 259.502076 \nL 1713.65 259.502076 \n\" style=\"fill:none;stroke:#b0b0b0;stroke-linecap:square;stroke-width:0.8;\"/>\n     </g>\n     <g id=\"line2d_45\">\n      <g>\n       <use style=\"stroke:#000000;stroke-width:0.8;\" x=\"952.740909\" xlink:href=\"#m4ece2d9539\" y=\"259.502076\"/>\n      </g>\n     </g>\n     <g id=\"text_38\">\n      <!-- 6 -->\n      <g transform=\"translate(939.378409 263.301295)scale(0.1 -0.1)\">\n       <use xlink:href=\"#DejaVuSans-54\"/>\n      </g>\n     </g>\n    </g>\n    <g id=\"ytick_19\">\n     <g id=\"line2d_46\">\n      <path clip-path=\"url(#p8411273ec1)\" d=\"M 952.740909 228.439219 \nL 1713.65 228.439219 \n\" style=\"fill:none;stroke:#b0b0b0;stroke-linecap:square;stroke-width:0.8;\"/>\n     </g>\n     <g id=\"line2d_47\">\n      <g>\n       <use style=\"stroke:#000000;stroke-width:0.8;\" x=\"952.740909\" xlink:href=\"#m4ece2d9539\" y=\"228.439219\"/>\n      </g>\n     </g>\n     <g id=\"text_39\">\n      <!-- 7 -->\n      <g transform=\"translate(939.378409 232.238437)scale(0.1 -0.1)\">\n       <use xlink:href=\"#DejaVuSans-55\"/>\n      </g>\n     </g>\n    </g>\n    <g id=\"ytick_20\">\n     <g id=\"line2d_48\">\n      <path clip-path=\"url(#p8411273ec1)\" d=\"M 952.740909 197.376362 \nL 1713.65 197.376362 \n\" style=\"fill:none;stroke:#b0b0b0;stroke-linecap:square;stroke-width:0.8;\"/>\n     </g>\n     <g id=\"line2d_49\">\n      <g>\n       <use style=\"stroke:#000000;stroke-width:0.8;\" x=\"952.740909\" xlink:href=\"#m4ece2d9539\" y=\"197.376362\"/>\n      </g>\n     </g>\n     <g id=\"text_40\">\n      <!-- 8 -->\n      <defs>\n       <path d=\"M 31.78125 34.625 \nQ 24.75 34.625 20.71875 30.859375 \nQ 16.703125 27.09375 16.703125 20.515625 \nQ 16.703125 13.921875 20.71875 10.15625 \nQ 24.75 6.390625 31.78125 6.390625 \nQ 38.8125 6.390625 42.859375 10.171875 \nQ 46.921875 13.96875 46.921875 20.515625 \nQ 46.921875 27.09375 42.890625 30.859375 \nQ 38.875 34.625 31.78125 34.625 \nz\nM 21.921875 38.8125 \nQ 15.578125 40.375 12.03125 44.71875 \nQ 8.5 49.078125 8.5 55.328125 \nQ 8.5 64.0625 14.71875 69.140625 \nQ 20.953125 74.21875 31.78125 74.21875 \nQ 42.671875 74.21875 48.875 69.140625 \nQ 55.078125 64.0625 55.078125 55.328125 \nQ 55.078125 49.078125 51.53125 44.71875 \nQ 48 40.375 41.703125 38.8125 \nQ 48.828125 37.15625 52.796875 32.3125 \nQ 56.78125 27.484375 56.78125 20.515625 \nQ 56.78125 9.90625 50.3125 4.234375 \nQ 43.84375 -1.421875 31.78125 -1.421875 \nQ 19.734375 -1.421875 13.25 4.234375 \nQ 6.78125 9.90625 6.78125 20.515625 \nQ 6.78125 27.484375 10.78125 32.3125 \nQ 14.796875 37.15625 21.921875 38.8125 \nz\nM 18.3125 54.390625 \nQ 18.3125 48.734375 21.84375 45.5625 \nQ 25.390625 42.390625 31.78125 42.390625 \nQ 38.140625 42.390625 41.71875 45.5625 \nQ 45.3125 48.734375 45.3125 54.390625 \nQ 45.3125 60.0625 41.71875 63.234375 \nQ 38.140625 66.40625 31.78125 66.40625 \nQ 25.390625 66.40625 21.84375 63.234375 \nQ 18.3125 60.0625 18.3125 54.390625 \nz\n\" id=\"DejaVuSans-56\"/>\n      </defs>\n      <g transform=\"translate(939.378409 201.17558)scale(0.1 -0.1)\">\n       <use xlink:href=\"#DejaVuSans-56\"/>\n      </g>\n     </g>\n    </g>\n    <g id=\"ytick_21\">\n     <g id=\"line2d_50\">\n      <path clip-path=\"url(#p8411273ec1)\" d=\"M 952.740909 166.313504 \nL 1713.65 166.313504 \n\" style=\"fill:none;stroke:#b0b0b0;stroke-linecap:square;stroke-width:0.8;\"/>\n     </g>\n     <g id=\"line2d_51\">\n      <g>\n       <use style=\"stroke:#000000;stroke-width:0.8;\" x=\"952.740909\" xlink:href=\"#m4ece2d9539\" y=\"166.313504\"/>\n      </g>\n     </g>\n     <g id=\"text_41\">\n      <!-- 9 -->\n      <g transform=\"translate(939.378409 170.112723)scale(0.1 -0.1)\">\n       <use xlink:href=\"#DejaVuSans-57\"/>\n      </g>\n     </g>\n    </g>\n    <g id=\"ytick_22\">\n     <g id=\"line2d_52\">\n      <path clip-path=\"url(#p8411273ec1)\" d=\"M 952.740909 135.250647 \nL 1713.65 135.250647 \n\" style=\"fill:none;stroke:#b0b0b0;stroke-linecap:square;stroke-width:0.8;\"/>\n     </g>\n     <g id=\"line2d_53\">\n      <g>\n       <use style=\"stroke:#000000;stroke-width:0.8;\" x=\"952.740909\" xlink:href=\"#m4ece2d9539\" y=\"135.250647\"/>\n      </g>\n     </g>\n     <g id=\"text_42\">\n      <!-- 10 -->\n      <g transform=\"translate(933.015909 139.049866)scale(0.1 -0.1)\">\n       <use xlink:href=\"#DejaVuSans-49\"/>\n       <use x=\"63.623047\" xlink:href=\"#DejaVuSans-48\"/>\n      </g>\n     </g>\n    </g>\n    <g id=\"ytick_23\">\n     <g id=\"line2d_54\">\n      <path clip-path=\"url(#p8411273ec1)\" d=\"M 952.740909 104.18779 \nL 1713.65 104.18779 \n\" style=\"fill:none;stroke:#b0b0b0;stroke-linecap:square;stroke-width:0.8;\"/>\n     </g>\n     <g id=\"line2d_55\">\n      <g>\n       <use style=\"stroke:#000000;stroke-width:0.8;\" x=\"952.740909\" xlink:href=\"#m4ece2d9539\" y=\"104.18779\"/>\n      </g>\n     </g>\n     <g id=\"text_43\">\n      <!-- 11 -->\n      <g transform=\"translate(933.015909 107.987009)scale(0.1 -0.1)\">\n       <use xlink:href=\"#DejaVuSans-49\"/>\n       <use x=\"63.623047\" xlink:href=\"#DejaVuSans-49\"/>\n      </g>\n     </g>\n    </g>\n    <g id=\"ytick_24\">\n     <g id=\"line2d_56\">\n      <path clip-path=\"url(#p8411273ec1)\" d=\"M 952.740909 73.124933 \nL 1713.65 73.124933 \n\" style=\"fill:none;stroke:#b0b0b0;stroke-linecap:square;stroke-width:0.8;\"/>\n     </g>\n     <g id=\"line2d_57\">\n      <g>\n       <use style=\"stroke:#000000;stroke-width:0.8;\" x=\"952.740909\" xlink:href=\"#m4ece2d9539\" y=\"73.124933\"/>\n      </g>\n     </g>\n     <g id=\"text_44\">\n      <!-- 12 -->\n      <g transform=\"translate(933.015909 76.924152)scale(0.1 -0.1)\">\n       <use xlink:href=\"#DejaVuSans-49\"/>\n       <use x=\"63.623047\" xlink:href=\"#DejaVuSans-50\"/>\n      </g>\n     </g>\n    </g>\n    <g id=\"ytick_25\">\n     <g id=\"line2d_58\">\n      <path clip-path=\"url(#p8411273ec1)\" d=\"M 952.740909 42.062076 \nL 1713.65 42.062076 \n\" style=\"fill:none;stroke:#b0b0b0;stroke-linecap:square;stroke-width:0.8;\"/>\n     </g>\n     <g id=\"line2d_59\">\n      <g>\n       <use style=\"stroke:#000000;stroke-width:0.8;\" x=\"952.740909\" xlink:href=\"#m4ece2d9539\" y=\"42.062076\"/>\n      </g>\n     </g>\n     <g id=\"text_45\">\n      <!-- 13 -->\n      <g transform=\"translate(933.015909 45.861295)scale(0.1 -0.1)\">\n       <use xlink:href=\"#DejaVuSans-49\"/>\n       <use x=\"63.623047\" xlink:href=\"#DejaVuSans-51\"/>\n      </g>\n     </g>\n    </g>\n    <g id=\"ytick_26\">\n     <g id=\"line2d_60\">\n      <path clip-path=\"url(#p8411273ec1)\" d=\"M 952.740909 10.999219 \nL 1713.65 10.999219 \n\" style=\"fill:none;stroke:#b0b0b0;stroke-linecap:square;stroke-width:0.8;\"/>\n     </g>\n     <g id=\"line2d_61\">\n      <g>\n       <use style=\"stroke:#000000;stroke-width:0.8;\" x=\"952.740909\" xlink:href=\"#m4ece2d9539\" y=\"10.999219\"/>\n      </g>\n     </g>\n     <g id=\"text_46\">\n      <!-- 14 -->\n      <g transform=\"translate(933.015909 14.798437)scale(0.1 -0.1)\">\n       <use xlink:href=\"#DejaVuSans-49\"/>\n       <use x=\"63.623047\" xlink:href=\"#DejaVuSans-52\"/>\n      </g>\n     </g>\n    </g>\n   </g>\n   <g id=\"patch_38\">\n    <path d=\"M 952.740909 445.879219 \nL 952.740909 10.999219 \n\" style=\"fill:none;stroke:#000000;stroke-linecap:square;stroke-linejoin:miter;stroke-width:0.8;\"/>\n   </g>\n   <g id=\"patch_39\">\n    <path d=\"M 1713.65 445.879219 \nL 1713.65 10.999219 \n\" style=\"fill:none;stroke:#000000;stroke-linecap:square;stroke-linejoin:miter;stroke-width:0.8;\"/>\n   </g>\n   <g id=\"patch_40\">\n    <path d=\"M 952.740909 445.879219 \nL 1713.65 445.879219 \n\" style=\"fill:none;stroke:#000000;stroke-linecap:square;stroke-linejoin:miter;stroke-width:0.8;\"/>\n   </g>\n   <g id=\"patch_41\">\n    <path d=\"M 952.740909 10.999219 \nL 1713.65 10.999219 \n\" style=\"fill:none;stroke:#000000;stroke-linecap:square;stroke-linejoin:miter;stroke-width:0.8;\"/>\n   </g>\n  </g>\n </g>\n <defs>\n  <clipPath id=\"peec686c988\">\n   <rect height=\"434.88\" width=\"760.909091\" x=\"39.65\" y=\"10.999219\"/>\n  </clipPath>\n  <clipPath id=\"p8411273ec1\">\n   <rect height=\"434.88\" width=\"760.909091\" x=\"952.740909\" y=\"10.999219\"/>\n  </clipPath>\n </defs>\n</svg>\n",
            "text/plain": "<Figure size 2160x576 with 2 Axes>"
          },
          "metadata": {
            "needs_background": "light"
          },
          "output_type": "display_data"
        }
      ],
      "source": [
        "# График слева - сколько всего фреймов в видосах у каждого класса + количество видосов. Изначально их по 130 у каждого класса\n",
        "# График справа - среднее число кадров в видео у каждого класса\n",
        "\n",
        "fig, (ax1, ax2) = plt.subplots(1, 2, figsize=(30,8))\n",
        "\n",
        "ax1.bar(list(video_names_in_class_dict.keys()), [list(list(video_names_in_class_dict.values())[f].values())[0] for f in range(len(classes))], 0.7)\n",
        "ax1.grid(axis = 'y')\n",
        "ax1.set_yticks(np.arange(0, max([list(list(video_names_in_class_dict.values())[f].values())[0] for f in range(len(classes))]) + 2, 150))\n",
        "\n",
        "ax1.bar(list(video_names_in_class_dict.keys()), [list(list(video_names_in_class_dict.values())[f].values())[1] for f in range(len(classes))], 0.7)\n",
        "ax1.grid(axis = 'y')\n",
        "#ax2.set_yticks(np.arange(0, max([list(list(video_names_in_class_dict.values())[f].values())[1] for f in range(len(classes))]) + 2, 150))\n",
        "\n",
        "ax2.bar(list(video_names_in_class_dict.keys()), [list(list(video_names_in_class_dict.values())[f].values())[4] for f in range(len(classes))], 0.7)\n",
        "ax2.grid(axis = 'y')\n",
        "ax2.set_yticks(np.arange(0, max([list(list(video_names_in_class_dict.values())[f].values())[4] for f in range(len(classes))]) + 2, 1))\n",
        "\n",
        "fig.show()"
      ]
    },
    {
      "cell_type": "code",
      "execution_count": null,
      "metadata": {
        "colab": {},
        "colab_type": "code",
        "id": "9B4mWFtw5vdq"
      },
      "outputs": [],
      "source": [
        "# import json\n",
        "# import google\n",
        "\n",
        "# with open('video_names_in_class.json', 'w') as jfile:\n",
        "#     json.dump(video_names_in_class, jfile)\n",
        "\n",
        "# google.colab.files.download('video_names_in_class.json')"
      ]
    },
    {
      "cell_type": "markdown",
      "execution_count": null,
      "metadata": {
        "colab_type": "text",
        "id": "ZGO1WZN4LsZ-"
      },
      "outputs": [],
      "source": [
        "## Delete videos either too short or too long"
      ]
    },
    {
      "cell_type": "markdown",
      "execution_count": null,
      "metadata": {
        "colab_type": "text",
        "id": "ubYd-5qXL3EN"
      },
      "outputs": [],
      "source": [
        "**Train**"
      ]
    },
    {
      "cell_type": "code",
      "execution_count": 24,
      "metadata": {},
      "outputs": [],
      "source": [
        "comp = {}\n",
        "for frame_num_uniq in sorted(set(frame_nums_uniq)):\n",
        "    comp[frame_num_uniq] = {}\n",
        "    comp[frame_num_uniq]['class'] = []\n",
        "    comp[frame_num_uniq]['person'] = []\n",
        "    comp[frame_num_uniq]['video_names'] = []\n",
        "    comp[frame_num_uniq]['videos_count'] = 0\n",
        "    for vid_name, frames_num in list(vids_and_frames.items()):\n",
        "        if frames_num == frame_num_uniq:\n",
        "            if vid_name.split('_')[0] not in comp[frame_num_uniq]['class']:\n",
        "                comp[frame_num_uniq]['class'].append(vid_name.split('_')[0])\n",
        "            if vid_name.split('_')[1] not in comp[frame_num_uniq]['person']:\n",
        "                comp[frame_num_uniq]['person'].append(vid_name.split('_')[1])\n",
        "            if vid_name not in comp[frame_num_uniq]['video_names']:\n",
        "                comp[frame_num_uniq]['video_names'].append(vid_name)\n",
        "                comp[frame_num_uniq]['videos_count'] += 1\n",
        "\n",
        "# get the most common number of frames\n",
        "maxer = 0\n",
        "maxer_key = 0\n",
        "for key in frames_distribution:\n",
        "    if frames_distribution[key] >= maxer:\n",
        "        maxer = frames_distribution[key]\n",
        "        maxer_key = key\n",
        "\n",
        "# videos either too short or too long (with num. of frames not in [7, 8, 9, 10, 11, 12, 13])\n",
        "# total to 233 vids\n",
        "abnormal_vids = []\n",
        "for key in comp:\n",
        "    for video_name in comp[key]['video_names']:\n",
        "        if int(key) not in range(int(maxer_key)-3, int(maxer_key)+4):\n",
        "            abnormal_vids.append(video_name)\n",
        "abnormal_vids = sorted(abnormal_vids)"
      ]
    },
    {
      "cell_type": "code",
      "execution_count": 25,
      "metadata": {},
      "outputs": [
        {
          "data": {
            "text/plain": "[7, 8, 9, 10, 11, 12, 13]"
          },
          "execution_count": 25,
          "metadata": {},
          "output_type": "execute_result"
        }
      ],
      "source": [
        "list(range(int(maxer_key)-3, int(maxer_key)+4))"
      ]
    },
    {
      "cell_type": "code",
      "execution_count": 26,
      "metadata": {},
      "outputs": [
        {
          "name": "stdout",
          "output_type": "stream",
          "text": "Begin Removed 375 ( 375 in this dir)\nChoose Removed 675 ( 300 in this dir)\nConnection Removed 1133 ( 458 in this dir)\nNavigation Removed 1931 ( 798 in this dir)\nNext Removed 2075 ( 144 in this dir)\nPrevious Removed 2434 ( 359 in this dir)\nStart Removed 2570 ( 136 in this dir)\nStop Removed 2911 ( 341 in this dir)\nHello Removed 3385 ( 474 in this dir)\nWeb Removed 3551 ( 166 in this dir)\n\nRemoved 257 videos\n"
        }
      ],
      "source": [
        "# remove not needed\n",
        "# debug note: the last print must return \"Removed 233 videos\" - the number of videos to remove\n",
        "\n",
        "counter = 0\n",
        "added = 0\n",
        "matched = []\n",
        "for classi in list(classes_dict.values()):\n",
        "    removed = 0\n",
        "    for abnormal_vid in abnormal_vids:\n",
        "        for vid in sorted(glob.glob('data/train/' + classi + '/*.jpg')):\n",
        "            if abnormal_vid == vid.split('/')[-1].split('.')[0].split('_color')[0]:\n",
        "                os.remove(vid)\n",
        "                #!rm $vid\n",
        "                matched.append(abnormal_vid)\n",
        "                counter += 1\n",
        "                removed += 1\n",
        "    print(classi, 'Removed', counter, '(' , removed, 'in this dir)')\n",
        "\n",
        "print()\n",
        "print('Removed', len(set(matched)), 'videos')"
      ]
    },
    {
      "cell_type": "code",
      "execution_count": null,
      "metadata": {
        "colab": {},
        "colab_type": "code",
        "id": "Hk13BEvCMqet"
      },
      "outputs": [],
      "source": [
        "# optionally, save the distribution as a json and visualize\n",
        "# https://codebeautify.org/jsonviewer\n",
        "\n",
        "# import json\n",
        "# from google.colab import files\n",
        "\n",
        "# with open('comp.json', 'w') as jfile:\n",
        "#     json.dump(comp, jfile)\n",
        "\n",
        "# files.download('comp.json')"
      ]
    },
    {
      "cell_type": "code",
      "execution_count": 34,
      "metadata": {},
      "outputs": [],
      "source": [
        "comp_val = {}\n",
        "for frame_num_uniq_val in sorted(set(frame_nums_uniq_val)):\n",
        "    comp_val[frame_num_uniq_val] = {}\n",
        "    comp_val[frame_num_uniq_val]['class'] = []\n",
        "    comp_val[frame_num_uniq_val]['person'] = []\n",
        "    comp_val[frame_num_uniq_val]['video_names'] = []\n",
        "    comp_val[frame_num_uniq_val]['videos_count'] = 0\n",
        "    for vid_name_val, frames_num_val in list(vids_and_frames_val.items()):\n",
        "        if frames_num_val == frame_num_uniq_val:\n",
        "            if vid_name_val.split('_')[0] not in comp_val[frame_num_uniq_val]['class']:\n",
        "                comp_val[frame_num_uniq_val]['class'].append(vid_name_val.split('_')[0])\n",
        "            if vid_name_val.split('_')[1] not in comp_val[frame_num_uniq_val]['person']:\n",
        "                comp_val[frame_num_uniq_val]['person'].append(vid_name_val.split('_')[1])\n",
        "            if vid_name_val not in comp_val[frame_num_uniq_val]['video_names']:\n",
        "                comp_val[frame_num_uniq_val]['video_names'].append(vid_name_val)\n",
        "                comp_val[frame_num_uniq_val]['videos_count'] += 1\n",
        "\n",
        "maxer = 0\n",
        "maxer_key = 0\n",
        "for key in frames_distribution_val:\n",
        "    if frames_distribution_val[key] >= maxer:\n",
        "        maxer = frames_distribution_val[key]\n",
        "        maxer_key = key\n",
        "\n",
        "# videos either too short or too long (with num. of frames not in [6, 7, 8, 9, 10])\n",
        "# total to 35 vids\n",
        "abnormal_vids = []\n",
        "for key in comp_val:\n",
        "    for video_name in comp_val[key]['video_names']:\n",
        "        if int(key) not in range(int(maxer_key)-1, int(maxer_key)+6):\n",
        "            abnormal_vids.append(video_name)\n",
        "abnormal_vids = sorted(abnormal_vids)"
      ]
    },
    {
      "cell_type": "code",
      "execution_count": 35,
      "metadata": {},
      "outputs": [
        {
          "data": {
            "text/plain": "[7, 8, 9, 10, 11, 12, 13]"
          },
          "execution_count": 35,
          "metadata": {},
          "output_type": "execute_result"
        }
      ],
      "source": [
        "list(range(int(maxer_key)-1, int(maxer_key)+6))"
      ]
    },
    {
      "cell_type": "code",
      "execution_count": 36,
      "metadata": {},
      "outputs": [
        {
          "name": "stdout",
          "output_type": "stream",
          "text": "Begin Removed 24 ( 24 in this dir)\nChoose Removed 24 ( 0 in this dir)\nConnection Removed 24 ( 0 in this dir)\nNavigation Removed 24 ( 0 in this dir)\nNext Removed 53 ( 29 in this dir)\nPrevious Removed 53 ( 0 in this dir)\nStart Removed 53 ( 0 in this dir)\nStop Removed 59 ( 6 in this dir)\nHello Removed 65 ( 6 in this dir)\nWeb Removed 104 ( 39 in this dir)\n\nRemoved 18 videos\n"
        }
      ],
      "source": [
        "# debug note: the past print must return \"Removed 35 videos\" - the number of videos to remove\n",
        "counter = 0\n",
        "added = 0\n",
        "matched = []\n",
        "for classi in list(classes_dict.values()):\n",
        "    removed = 0\n",
        "    for abnormal_vid in abnormal_vids:\n",
        "        for vid in sorted(glob.glob('data/validation/' + classi + '/*.jpg')):\n",
        "            if abnormal_vid == vid.split('/')[-1].split('.')[0].split('_color')[0]:\n",
        "                os.remove(vid)\n",
        "                matched.append(abnormal_vid)\n",
        "                counter += 1\n",
        "                removed += 1\n",
        "    print(classi, 'Removed', counter, '(' , removed, 'in this dir)')\n",
        "\n",
        "print()\n",
        "print('Removed', len(set(matched)), 'videos')"
      ]
    },
    {
      "cell_type": "code",
      "execution_count": null,
      "metadata": {
        "colab": {},
        "colab_type": "code",
        "id": "z-Cwx0A6P5Cc"
      },
      "outputs": [],
      "source": [
        "# optionally, save the distribution as a json and visualize\n",
        "# https://codebeautify.org/jsonviewer\n",
        "\n",
        "# import json\n",
        "# from google.colab import files\n",
        "\n",
        "# with open('comp_val.json', 'w') as jfile:\n",
        "#     json.dump(comp_val, jfile)\n",
        "\n",
        "# files.download('comp_val.json')"
      ]
    },
    {
      "cell_type": "markdown",
      "execution_count": null,
      "metadata": {
        "colab_type": "text",
        "id": "tnS97OtiWdHM"
      },
      "outputs": [],
      "source": [
        "## Check the distribution again"
      ]
    },
    {
      "cell_type": "markdown",
      "execution_count": null,
      "metadata": {
        "colab_type": "text",
        "id": "-IoNyVjBWdHR"
      },
      "outputs": [],
      "source": [
        "**Train**"
      ]
    },
    {
      "cell_type": "code",
      "execution_count": 37,
      "metadata": {},
      "outputs": [],
      "source": [
        "all_images = [] # 8699 vs 12109\n",
        "video_names = [] # 8699 vs 12109\n",
        "frame_nums = [] # 8699 vs 12109\n",
        "video_names_uniq = [] # 867 vs 1100\n",
        "frame_nums_uniq = [] # 867 vs 1100\n",
        "vids_and_frames = {} # 867 vs 1100\n",
        "frames_distribution = {} # 7 vs 18"
      ]
    },
    {
      "cell_type": "code",
      "execution_count": 38,
      "metadata": {},
      "outputs": [],
      "source": [
        "for classi in classes_dict.values():\n",
        "    for i in sorted(glob.glob('data/train/' + classi + '/*.jpg')):\n",
        "        all_images.append(i)\n",
        "        \n",
        "for img in all_images:\n",
        "    img_name = img.split('/')[-1].split('.')[0]\n",
        "    video_name = img_name[:9]\n",
        "    video_names.append(video_name)\n",
        "    frame_num = img_name[-3:]\n",
        "    frame_nums.append(frame_num)\n",
        "    \n",
        "video_names_uniq = list(sorted(set(video_names)))\n",
        "\n",
        "for i in range(len(video_names)):\n",
        "    if i < len(video_names)-1:\n",
        "        if video_names[i] == video_names[i+1]:\n",
        "            pass\n",
        "        else:\n",
        "            frame_nums_uniq.append(frame_nums[i])\n",
        "    else:\n",
        "        frame_nums_uniq.append(frame_nums[-1])\n",
        "        \n",
        "for i in range(len(video_names_uniq)):\n",
        "    vids_and_frames[video_names_uniq[i]] = frame_nums_uniq[i]\n",
        "    \n",
        "for frame_num_uniq in sorted(set(frame_nums_uniq)):\n",
        "    count_d = 0\n",
        "    for vid_name, frames_num in list(vids_and_frames.items()):\n",
        "        if frames_num == frame_num_uniq:\n",
        "            count_d += 1\n",
        "            frames_distribution[frame_num_uniq] = count_d"
      ]
    },
    {
      "cell_type": "markdown",
      "execution_count": null,
      "metadata": {
        "colab_type": "text",
        "id": "JVUWOj6-WdHa"
      },
      "outputs": [],
      "source": [
        "**Val**"
      ]
    },
    {
      "cell_type": "code",
      "execution_count": 39,
      "metadata": {},
      "outputs": [],
      "source": [
        "all_images_val = [] # 1364 vs 1746\n",
        "video_names_val = [] # 1364 vs 1746\n",
        "frame_nums_val = [] # 1364 vs 1746\n",
        "video_names_uniq_val = [] # 165 vs 200\n",
        "frame_nums_uniq_val = [] # 165 vs 200\n",
        "vids_and_frames_val = {} # 165 vs 200\n",
        "frames_distribution_val = {} # 5 vs 9"
      ]
    },
    {
      "cell_type": "code",
      "execution_count": 40,
      "metadata": {},
      "outputs": [],
      "source": [
        "for classi in classes_dict.values():\n",
        "    for i in sorted(glob.glob('data/validation/' + classi + '/*.jpg')):\n",
        "        all_images_val.append(i)\n",
        "        \n",
        "for img in all_images_val:\n",
        "    img_name = img.split('/')[-1].split('.')[0]\n",
        "    video_name = img_name[:9]\n",
        "    video_names_val.append(video_name)\n",
        "    frame_num = img_name[-3:]\n",
        "    frame_nums_val.append(frame_num)\n",
        "    \n",
        "video_names_uniq_val = list(sorted(set(video_names_val)))\n",
        "\n",
        "for i in range(len(video_names_val)):\n",
        "    if i < len(video_names_val)-1:\n",
        "        if video_names_val[i] == video_names_val[i+1]:\n",
        "            pass\n",
        "        else:\n",
        "            frame_nums_uniq_val.append(frame_nums_val[i])\n",
        "    else:\n",
        "        frame_nums_uniq_val.append(frame_nums_val[-1])\n",
        "        \n",
        "for i in range(len(frame_nums_uniq_val)):\n",
        "        vids_and_frames_val[video_names_uniq_val[i]] = frame_nums_uniq_val[i]\n",
        "        \n",
        "for frame_num_uniq_val in sorted(set(frame_nums_uniq_val)):\n",
        "    count_d = 0\n",
        "    for vid_name_val, frames_num_val in list(vids_and_frames_val.items()):\n",
        "        if frames_num_val == frame_num_uniq_val:\n",
        "            count_d += 1\n",
        "            frames_distribution_val[frame_num_uniq_val] = count_d"
      ]
    },
    {
      "cell_type": "markdown",
      "execution_count": null,
      "metadata": {
        "colab_type": "text",
        "id": "DiUpwWRmWdHj"
      },
      "outputs": [],
      "source": [
        "**Plot distribution**"
      ]
    },
    {
      "cell_type": "code",
      "execution_count": 41,
      "metadata": {},
      "outputs": [
        {
          "name": "stdout",
          "output_type": "stream",
          "text": "Train max frames: 13\nTrain min frames: 7\nTrain mean frames: 9.776605944391179\n\nVal max frames: 13\nVal min frames: 7\nVal mean frames: 9.021978021978022\n"
        }
      ],
      "source": [
        "print('Train max frames:', int(max(vids_and_frames.values())))\n",
        "print('Train min frames:', int(min(vids_and_frames.values())))\n",
        "print('Train mean frames:', (np.array(list(vids_and_frames.values())).astype(np.float).mean()), end = '\\n\\n')\n",
        "\n",
        "print('Val max frames:', int(max(vids_and_frames_val.values())))\n",
        "print('Val min frames:', int(min(vids_and_frames_val.values())))\n",
        "print('Val mean frames:', (np.array(list(vids_and_frames_val.values())).astype(np.float).mean()))"
      ]
    },
    {
      "cell_type": "code",
      "execution_count": 42,
      "metadata": {},
      "outputs": [
        {
          "data": {
            "image/png": "[encoded data removed]",
            "image/svg+xml": "<?xml version=\"1.0\" encoding=\"utf-8\" standalone=\"no\"?>\n<!DOCTYPE svg PUBLIC \"-//W3C//DTD SVG 1.1//EN\"\n  \"http://www.w3.org/Graphics/SVG/1.1/DTD/svg11.dtd\">\n<!-- Created with matplotlib (https://matplotlib.org/) -->\n<svg height=\"465.958125pt\" version=\"1.1\" viewBox=\"0 0 1714.4875 465.958125\" width=\"1714.4875pt\" xmlns=\"http://www.w3.org/2000/svg\" xmlns:xlink=\"http://www.w3.org/1999/xlink\">\n <defs>\n  <style type=\"text/css\">\n*{stroke-linecap:butt;stroke-linejoin:round;}\n  </style>\n </defs>\n <g id=\"figure_1\">\n  <g id=\"patch_1\">\n   <path d=\"M 0 465.958125 \nL 1714.4875 465.958125 \nL 1714.4875 0 \nL 0 0 \nz\n\" style=\"fill:none;\"/>\n  </g>\n  <g id=\"axes_1\">\n   <g id=\"patch_2\">\n    <path d=\"M 33.2875 442.08 \nL 794.196591 442.08 \nL 794.196591 7.2 \nL 33.2875 7.2 \nz\n\" style=\"fill:#ffffff;\"/>\n   </g>\n   <g id=\"patch_3\">\n    <path clip-path=\"url(#pb035e35204)\" d=\"M 67.874277 442.08 \nL 140.145154 442.08 \nL 140.145154 205.126154 \nL 67.874277 205.126154 \nz\n\" style=\"fill:#1f77b4;\"/>\n   </g>\n   <g id=\"patch_4\">\n    <path clip-path=\"url(#pb035e35204)\" d=\"M 171.118387 442.08 \nL 243.389264 442.08 \nL 243.389264 127.469011 \nL 171.118387 127.469011 \nz\n\" style=\"fill:#1f77b4;\"/>\n   </g>\n   <g id=\"patch_5\">\n    <path clip-path=\"url(#pb035e35204)\" d=\"M 274.362497 442.08 \nL 346.633374 442.08 \nL 346.633374 29.89978 \nL 274.362497 29.89978 \nz\n\" style=\"fill:#1f77b4;\"/>\n   </g>\n   <g id=\"patch_6\">\n    <path clip-path=\"url(#pb035e35204)\" d=\"M 377.606607 442.08 \nL 449.877484 442.08 \nL 449.877484 27.908571 \nL 377.606607 27.908571 \nz\n\" style=\"fill:#1f77b4;\"/>\n   </g>\n   <g id=\"patch_7\">\n    <path clip-path=\"url(#pb035e35204)\" d=\"M 480.850717 442.08 \nL 553.121594 442.08 \nL 553.121594 153.354725 \nL 480.850717 153.354725 \nz\n\" style=\"fill:#1f77b4;\"/>\n   </g>\n   <g id=\"patch_8\">\n    <path clip-path=\"url(#pb035e35204)\" d=\"M 584.094827 442.08 \nL 656.365704 442.08 \nL 656.365704 211.09978 \nL 584.094827 211.09978 \nz\n\" style=\"fill:#1f77b4;\"/>\n   </g>\n   <g id=\"patch_9\">\n    <path clip-path=\"url(#pb035e35204)\" d=\"M 687.338937 442.08 \nL 759.609814 442.08 \nL 759.609814 262.871209 \nL 687.338937 262.871209 \nz\n\" style=\"fill:#1f77b4;\"/>\n   </g>\n   <g id=\"matplotlib.axis_1\">\n    <g id=\"xtick_1\">\n     <g id=\"line2d_1\">\n      <defs>\n       <path d=\"M 0 0 \nL 0 3.5 \n\" id=\"m787b4868ea\" style=\"stroke:#000000;stroke-width:0.8;\"/>\n      </defs>\n      <g>\n       <use style=\"stroke:#000000;stroke-width:0.8;\" x=\"104.009715\" xlink:href=\"#m787b4868ea\" y=\"442.08\"/>\n      </g>\n     </g>\n     <g id=\"text_1\">\n      <!-- 007 -->\n      <defs>\n       <path d=\"M 31.78125 66.40625 \nQ 24.171875 66.40625 20.328125 58.90625 \nQ 16.5 51.421875 16.5 36.375 \nQ 16.5 21.390625 20.328125 13.890625 \nQ 24.171875 6.390625 31.78125 6.390625 \nQ 39.453125 6.390625 43.28125 13.890625 \nQ 47.125 21.390625 47.125 36.375 \nQ 47.125 51.421875 43.28125 58.90625 \nQ 39.453125 66.40625 31.78125 66.40625 \nz\nM 31.78125 74.21875 \nQ 44.046875 74.21875 50.515625 64.515625 \nQ 56.984375 54.828125 56.984375 36.375 \nQ 56.984375 17.96875 50.515625 8.265625 \nQ 44.046875 -1.421875 31.78125 -1.421875 \nQ 19.53125 -1.421875 13.0625 8.265625 \nQ 6.59375 17.96875 6.59375 36.375 \nQ 6.59375 54.828125 13.0625 64.515625 \nQ 19.53125 74.21875 31.78125 74.21875 \nz\n\" id=\"DejaVuSans-48\"/>\n       <path d=\"M 8.203125 72.90625 \nL 55.078125 72.90625 \nL 55.078125 68.703125 \nL 28.609375 0 \nL 18.3125 0 \nL 43.21875 64.59375 \nL 8.203125 64.59375 \nz\n\" id=\"DejaVuSans-55\"/>\n      </defs>\n      <g transform=\"translate(94.465965 456.678437)scale(0.1 -0.1)\">\n       <use xlink:href=\"#DejaVuSans-48\"/>\n       <use x=\"63.623047\" xlink:href=\"#DejaVuSans-48\"/>\n       <use x=\"127.246094\" xlink:href=\"#DejaVuSans-55\"/>\n      </g>\n     </g>\n    </g>\n    <g id=\"xtick_2\">\n     <g id=\"line2d_2\">\n      <g>\n       <use style=\"stroke:#000000;stroke-width:0.8;\" x=\"207.253825\" xlink:href=\"#m787b4868ea\" y=\"442.08\"/>\n      </g>\n     </g>\n     <g id=\"text_2\">\n      <!-- 008 -->\n      <defs>\n       <path d=\"M 31.78125 34.625 \nQ 24.75 34.625 20.71875 30.859375 \nQ 16.703125 27.09375 16.703125 20.515625 \nQ 16.703125 13.921875 20.71875 10.15625 \nQ 24.75 6.390625 31.78125 6.390625 \nQ 38.8125 6.390625 42.859375 10.171875 \nQ 46.921875 13.96875 46.921875 20.515625 \nQ 46.921875 27.09375 42.890625 30.859375 \nQ 38.875 34.625 31.78125 34.625 \nz\nM 21.921875 38.8125 \nQ 15.578125 40.375 12.03125 44.71875 \nQ 8.5 49.078125 8.5 55.328125 \nQ 8.5 64.0625 14.71875 69.140625 \nQ 20.953125 74.21875 31.78125 74.21875 \nQ 42.671875 74.21875 48.875 69.140625 \nQ 55.078125 64.0625 55.078125 55.328125 \nQ 55.078125 49.078125 51.53125 44.71875 \nQ 48 40.375 41.703125 38.8125 \nQ 48.828125 37.15625 52.796875 32.3125 \nQ 56.78125 27.484375 56.78125 20.515625 \nQ 56.78125 9.90625 50.3125 4.234375 \nQ 43.84375 -1.421875 31.78125 -1.421875 \nQ 19.734375 -1.421875 13.25 4.234375 \nQ 6.78125 9.90625 6.78125 20.515625 \nQ 6.78125 27.484375 10.78125 32.3125 \nQ 14.796875 37.15625 21.921875 38.8125 \nz\nM 18.3125 54.390625 \nQ 18.3125 48.734375 21.84375 45.5625 \nQ 25.390625 42.390625 31.78125 42.390625 \nQ 38.140625 42.390625 41.71875 45.5625 \nQ 45.3125 48.734375 45.3125 54.390625 \nQ 45.3125 60.0625 41.71875 63.234375 \nQ 38.140625 66.40625 31.78125 66.40625 \nQ 25.390625 66.40625 21.84375 63.234375 \nQ 18.3125 60.0625 18.3125 54.390625 \nz\n\" id=\"DejaVuSans-56\"/>\n      </defs>\n      <g transform=\"translate(197.710075 456.678437)scale(0.1 -0.1)\">\n       <use xlink:href=\"#DejaVuSans-48\"/>\n       <use x=\"63.623047\" xlink:href=\"#DejaVuSans-48\"/>\n       <use x=\"127.246094\" xlink:href=\"#DejaVuSans-56\"/>\n      </g>\n     </g>\n    </g>\n    <g id=\"xtick_3\">\n     <g id=\"line2d_3\">\n      <g>\n       <use style=\"stroke:#000000;stroke-width:0.8;\" x=\"310.497935\" xlink:href=\"#m787b4868ea\" y=\"442.08\"/>\n      </g>\n     </g>\n     <g id=\"text_3\">\n      <!-- 009 -->\n      <defs>\n       <path d=\"M 10.984375 1.515625 \nL 10.984375 10.5 \nQ 14.703125 8.734375 18.5 7.8125 \nQ 22.3125 6.890625 25.984375 6.890625 \nQ 35.75 6.890625 40.890625 13.453125 \nQ 46.046875 20.015625 46.78125 33.40625 \nQ 43.953125 29.203125 39.59375 26.953125 \nQ 35.25 24.703125 29.984375 24.703125 \nQ 19.046875 24.703125 12.671875 31.3125 \nQ 6.296875 37.9375 6.296875 49.421875 \nQ 6.296875 60.640625 12.9375 67.421875 \nQ 19.578125 74.21875 30.609375 74.21875 \nQ 43.265625 74.21875 49.921875 64.515625 \nQ 56.59375 54.828125 56.59375 36.375 \nQ 56.59375 19.140625 48.40625 8.859375 \nQ 40.234375 -1.421875 26.421875 -1.421875 \nQ 22.703125 -1.421875 18.890625 -0.6875 \nQ 15.09375 0.046875 10.984375 1.515625 \nz\nM 30.609375 32.421875 \nQ 37.25 32.421875 41.125 36.953125 \nQ 45.015625 41.5 45.015625 49.421875 \nQ 45.015625 57.28125 41.125 61.84375 \nQ 37.25 66.40625 30.609375 66.40625 \nQ 23.96875 66.40625 20.09375 61.84375 \nQ 16.21875 57.28125 16.21875 49.421875 \nQ 16.21875 41.5 20.09375 36.953125 \nQ 23.96875 32.421875 30.609375 32.421875 \nz\n\" id=\"DejaVuSans-57\"/>\n      </defs>\n      <g transform=\"translate(300.954185 456.678437)scale(0.1 -0.1)\">\n       <use xlink:href=\"#DejaVuSans-48\"/>\n       <use x=\"63.623047\" xlink:href=\"#DejaVuSans-48\"/>\n       <use x=\"127.246094\" xlink:href=\"#DejaVuSans-57\"/>\n      </g>\n     </g>\n    </g>\n    <g id=\"xtick_4\">\n     <g id=\"line2d_4\">\n      <g>\n       <use style=\"stroke:#000000;stroke-width:0.8;\" x=\"413.742045\" xlink:href=\"#m787b4868ea\" y=\"442.08\"/>\n      </g>\n     </g>\n     <g id=\"text_4\">\n      <!-- 010 -->\n      <defs>\n       <path d=\"M 12.40625 8.296875 \nL 28.515625 8.296875 \nL 28.515625 63.921875 \nL 10.984375 60.40625 \nL 10.984375 69.390625 \nL 28.421875 72.90625 \nL 38.28125 72.90625 \nL 38.28125 8.296875 \nL 54.390625 8.296875 \nL 54.390625 0 \nL 12.40625 0 \nz\n\" id=\"DejaVuSans-49\"/>\n      </defs>\n      <g transform=\"translate(404.198295 456.678437)scale(0.1 -0.1)\">\n       <use xlink:href=\"#DejaVuSans-48\"/>\n       <use x=\"63.623047\" xlink:href=\"#DejaVuSans-49\"/>\n       <use x=\"127.246094\" xlink:href=\"#DejaVuSans-48\"/>\n      </g>\n     </g>\n    </g>\n    <g id=\"xtick_5\">\n     <g id=\"line2d_5\">\n      <g>\n       <use style=\"stroke:#000000;stroke-width:0.8;\" x=\"516.986155\" xlink:href=\"#m787b4868ea\" y=\"442.08\"/>\n      </g>\n     </g>\n     <g id=\"text_5\">\n      <!-- 011 -->\n      <g transform=\"translate(507.442405 456.678437)scale(0.1 -0.1)\">\n       <use xlink:href=\"#DejaVuSans-48\"/>\n       <use x=\"63.623047\" xlink:href=\"#DejaVuSans-49\"/>\n       <use x=\"127.246094\" xlink:href=\"#DejaVuSans-49\"/>\n      </g>\n     </g>\n    </g>\n    <g id=\"xtick_6\">\n     <g id=\"line2d_6\">\n      <g>\n       <use style=\"stroke:#000000;stroke-width:0.8;\" x=\"620.230266\" xlink:href=\"#m787b4868ea\" y=\"442.08\"/>\n      </g>\n     </g>\n     <g id=\"text_6\">\n      <!-- 012 -->\n      <defs>\n       <path d=\"M 19.1875 8.296875 \nL 53.609375 8.296875 \nL 53.609375 0 \nL 7.328125 0 \nL 7.328125 8.296875 \nQ 12.9375 14.109375 22.625 23.890625 \nQ 32.328125 33.6875 34.8125 36.53125 \nQ 39.546875 41.84375 41.421875 45.53125 \nQ 43.3125 49.21875 43.3125 52.78125 \nQ 43.3125 58.59375 39.234375 62.25 \nQ 35.15625 65.921875 28.609375 65.921875 \nQ 23.96875 65.921875 18.8125 64.3125 \nQ 13.671875 62.703125 7.8125 59.421875 \nL 7.8125 69.390625 \nQ 13.765625 71.78125 18.9375 73 \nQ 24.125 74.21875 28.421875 74.21875 \nQ 39.75 74.21875 46.484375 68.546875 \nQ 53.21875 62.890625 53.21875 53.421875 \nQ 53.21875 48.921875 51.53125 44.890625 \nQ 49.859375 40.875 45.40625 35.40625 \nQ 44.1875 33.984375 37.640625 27.21875 \nQ 31.109375 20.453125 19.1875 8.296875 \nz\n\" id=\"DejaVuSans-50\"/>\n      </defs>\n      <g transform=\"translate(610.686516 456.678437)scale(0.1 -0.1)\">\n       <use xlink:href=\"#DejaVuSans-48\"/>\n       <use x=\"63.623047\" xlink:href=\"#DejaVuSans-49\"/>\n       <use x=\"127.246094\" xlink:href=\"#DejaVuSans-50\"/>\n      </g>\n     </g>\n    </g>\n    <g id=\"xtick_7\">\n     <g id=\"line2d_7\">\n      <g>\n       <use style=\"stroke:#000000;stroke-width:0.8;\" x=\"723.474376\" xlink:href=\"#m787b4868ea\" y=\"442.08\"/>\n      </g>\n     </g>\n     <g id=\"text_7\">\n      <!-- 013 -->\n      <defs>\n       <path d=\"M 40.578125 39.3125 \nQ 47.65625 37.796875 51.625 33 \nQ 55.609375 28.21875 55.609375 21.1875 \nQ 55.609375 10.40625 48.1875 4.484375 \nQ 40.765625 -1.421875 27.09375 -1.421875 \nQ 22.515625 -1.421875 17.65625 -0.515625 \nQ 12.796875 0.390625 7.625 2.203125 \nL 7.625 11.71875 \nQ 11.71875 9.328125 16.59375 8.109375 \nQ 21.484375 6.890625 26.8125 6.890625 \nQ 36.078125 6.890625 40.9375 10.546875 \nQ 45.796875 14.203125 45.796875 21.1875 \nQ 45.796875 27.640625 41.28125 31.265625 \nQ 36.765625 34.90625 28.71875 34.90625 \nL 20.21875 34.90625 \nL 20.21875 43.015625 \nL 29.109375 43.015625 \nQ 36.375 43.015625 40.234375 45.921875 \nQ 44.09375 48.828125 44.09375 54.296875 \nQ 44.09375 59.90625 40.109375 62.90625 \nQ 36.140625 65.921875 28.71875 65.921875 \nQ 24.65625 65.921875 20.015625 65.03125 \nQ 15.375 64.15625 9.8125 62.3125 \nL 9.8125 71.09375 \nQ 15.4375 72.65625 20.34375 73.4375 \nQ 25.25 74.21875 29.59375 74.21875 \nQ 40.828125 74.21875 47.359375 69.109375 \nQ 53.90625 64.015625 53.90625 55.328125 \nQ 53.90625 49.265625 50.4375 45.09375 \nQ 46.96875 40.921875 40.578125 39.3125 \nz\n\" id=\"DejaVuSans-51\"/>\n      </defs>\n      <g transform=\"translate(713.930626 456.678437)scale(0.1 -0.1)\">\n       <use xlink:href=\"#DejaVuSans-48\"/>\n       <use x=\"63.623047\" xlink:href=\"#DejaVuSans-49\"/>\n       <use x=\"127.246094\" xlink:href=\"#DejaVuSans-51\"/>\n      </g>\n     </g>\n    </g>\n   </g>\n   <g id=\"matplotlib.axis_2\">\n    <g id=\"ytick_1\">\n     <g id=\"line2d_8\">\n      <path clip-path=\"url(#pb035e35204)\" d=\"M 33.2875 442.08 \nL 794.196591 442.08 \n\" style=\"fill:none;stroke:#b0b0b0;stroke-linecap:square;stroke-width:0.8;\"/>\n     </g>\n     <g id=\"line2d_9\">\n      <defs>\n       <path d=\"M 0 0 \nL -3.5 0 \n\" id=\"ma8026adc22\" style=\"stroke:#000000;stroke-width:0.8;\"/>\n      </defs>\n      <g>\n       <use style=\"stroke:#000000;stroke-width:0.8;\" x=\"33.2875\" xlink:href=\"#ma8026adc22\" y=\"442.08\"/>\n      </g>\n     </g>\n     <g id=\"text_8\">\n      <!-- 0 -->\n      <g transform=\"translate(19.925 445.879219)scale(0.1 -0.1)\">\n       <use xlink:href=\"#DejaVuSans-48\"/>\n      </g>\n     </g>\n    </g>\n    <g id=\"ytick_2\">\n     <g id=\"line2d_10\">\n      <path clip-path=\"url(#pb035e35204)\" d=\"M 33.2875 422.167912 \nL 794.196591 422.167912 \n\" style=\"fill:none;stroke:#b0b0b0;stroke-linecap:square;stroke-width:0.8;\"/>\n     </g>\n     <g id=\"line2d_11\">\n      <g>\n       <use style=\"stroke:#000000;stroke-width:0.8;\" x=\"33.2875\" xlink:href=\"#ma8026adc22\" y=\"422.167912\"/>\n      </g>\n     </g>\n     <g id=\"text_9\">\n      <!-- 10 -->\n      <g transform=\"translate(13.5625 425.967131)scale(0.1 -0.1)\">\n       <use xlink:href=\"#DejaVuSans-49\"/>\n       <use x=\"63.623047\" xlink:href=\"#DejaVuSans-48\"/>\n      </g>\n     </g>\n    </g>\n    <g id=\"ytick_3\">\n     <g id=\"line2d_12\">\n      <path clip-path=\"url(#pb035e35204)\" d=\"M 33.2875 402.255824 \nL 794.196591 402.255824 \n\" style=\"fill:none;stroke:#b0b0b0;stroke-linecap:square;stroke-width:0.8;\"/>\n     </g>\n     <g id=\"line2d_13\">\n      <g>\n       <use style=\"stroke:#000000;stroke-width:0.8;\" x=\"33.2875\" xlink:href=\"#ma8026adc22\" y=\"402.255824\"/>\n      </g>\n     </g>\n     <g id=\"text_10\">\n      <!-- 20 -->\n      <g transform=\"translate(13.5625 406.055043)scale(0.1 -0.1)\">\n       <use xlink:href=\"#DejaVuSans-50\"/>\n       <use x=\"63.623047\" xlink:href=\"#DejaVuSans-48\"/>\n      </g>\n     </g>\n    </g>\n    <g id=\"ytick_4\">\n     <g id=\"line2d_14\">\n      <path clip-path=\"url(#pb035e35204)\" d=\"M 33.2875 382.343736 \nL 794.196591 382.343736 \n\" style=\"fill:none;stroke:#b0b0b0;stroke-linecap:square;stroke-width:0.8;\"/>\n     </g>\n     <g id=\"line2d_15\">\n      <g>\n       <use style=\"stroke:#000000;stroke-width:0.8;\" x=\"33.2875\" xlink:href=\"#ma8026adc22\" y=\"382.343736\"/>\n      </g>\n     </g>\n     <g id=\"text_11\">\n      <!-- 30 -->\n      <g transform=\"translate(13.5625 386.142955)scale(0.1 -0.1)\">\n       <use xlink:href=\"#DejaVuSans-51\"/>\n       <use x=\"63.623047\" xlink:href=\"#DejaVuSans-48\"/>\n      </g>\n     </g>\n    </g>\n    <g id=\"ytick_5\">\n     <g id=\"line2d_16\">\n      <path clip-path=\"url(#pb035e35204)\" d=\"M 33.2875 362.431648 \nL 794.196591 362.431648 \n\" style=\"fill:none;stroke:#b0b0b0;stroke-linecap:square;stroke-width:0.8;\"/>\n     </g>\n     <g id=\"line2d_17\">\n      <g>\n       <use style=\"stroke:#000000;stroke-width:0.8;\" x=\"33.2875\" xlink:href=\"#ma8026adc22\" y=\"362.431648\"/>\n      </g>\n     </g>\n     <g id=\"text_12\">\n      <!-- 40 -->\n      <defs>\n       <path d=\"M 37.796875 64.3125 \nL 12.890625 25.390625 \nL 37.796875 25.390625 \nz\nM 35.203125 72.90625 \nL 47.609375 72.90625 \nL 47.609375 25.390625 \nL 58.015625 25.390625 \nL 58.015625 17.1875 \nL 47.609375 17.1875 \nL 47.609375 0 \nL 37.796875 0 \nL 37.796875 17.1875 \nL 4.890625 17.1875 \nL 4.890625 26.703125 \nz\n\" id=\"DejaVuSans-52\"/>\n      </defs>\n      <g transform=\"translate(13.5625 366.230867)scale(0.1 -0.1)\">\n       <use xlink:href=\"#DejaVuSans-52\"/>\n       <use x=\"63.623047\" xlink:href=\"#DejaVuSans-48\"/>\n      </g>\n     </g>\n    </g>\n    <g id=\"ytick_6\">\n     <g id=\"line2d_18\">\n      <path clip-path=\"url(#pb035e35204)\" d=\"M 33.2875 342.51956 \nL 794.196591 342.51956 \n\" style=\"fill:none;stroke:#b0b0b0;stroke-linecap:square;stroke-width:0.8;\"/>\n     </g>\n     <g id=\"line2d_19\">\n      <g>\n       <use style=\"stroke:#000000;stroke-width:0.8;\" x=\"33.2875\" xlink:href=\"#ma8026adc22\" y=\"342.51956\"/>\n      </g>\n     </g>\n     <g id=\"text_13\">\n      <!-- 50 -->\n      <defs>\n       <path d=\"M 10.796875 72.90625 \nL 49.515625 72.90625 \nL 49.515625 64.59375 \nL 19.828125 64.59375 \nL 19.828125 46.734375 \nQ 21.96875 47.46875 24.109375 47.828125 \nQ 26.265625 48.1875 28.421875 48.1875 \nQ 40.625 48.1875 47.75 41.5 \nQ 54.890625 34.8125 54.890625 23.390625 \nQ 54.890625 11.625 47.5625 5.09375 \nQ 40.234375 -1.421875 26.90625 -1.421875 \nQ 22.3125 -1.421875 17.546875 -0.640625 \nQ 12.796875 0.140625 7.71875 1.703125 \nL 7.71875 11.625 \nQ 12.109375 9.234375 16.796875 8.0625 \nQ 21.484375 6.890625 26.703125 6.890625 \nQ 35.15625 6.890625 40.078125 11.328125 \nQ 45.015625 15.765625 45.015625 23.390625 \nQ 45.015625 31 40.078125 35.4375 \nQ 35.15625 39.890625 26.703125 39.890625 \nQ 22.75 39.890625 18.8125 39.015625 \nQ 14.890625 38.140625 10.796875 36.28125 \nz\n\" id=\"DejaVuSans-53\"/>\n      </defs>\n      <g transform=\"translate(13.5625 346.318779)scale(0.1 -0.1)\">\n       <use xlink:href=\"#DejaVuSans-53\"/>\n       <use x=\"63.623047\" xlink:href=\"#DejaVuSans-48\"/>\n      </g>\n     </g>\n    </g>\n    <g id=\"ytick_7\">\n     <g id=\"line2d_20\">\n      <path clip-path=\"url(#pb035e35204)\" d=\"M 33.2875 322.607473 \nL 794.196591 322.607473 \n\" style=\"fill:none;stroke:#b0b0b0;stroke-linecap:square;stroke-width:0.8;\"/>\n     </g>\n     <g id=\"line2d_21\">\n      <g>\n       <use style=\"stroke:#000000;stroke-width:0.8;\" x=\"33.2875\" xlink:href=\"#ma8026adc22\" y=\"322.607473\"/>\n      </g>\n     </g>\n     <g id=\"text_14\">\n      <!-- 60 -->\n      <defs>\n       <path d=\"M 33.015625 40.375 \nQ 26.375 40.375 22.484375 35.828125 \nQ 18.609375 31.296875 18.609375 23.390625 \nQ 18.609375 15.53125 22.484375 10.953125 \nQ 26.375 6.390625 33.015625 6.390625 \nQ 39.65625 6.390625 43.53125 10.953125 \nQ 47.40625 15.53125 47.40625 23.390625 \nQ 47.40625 31.296875 43.53125 35.828125 \nQ 39.65625 40.375 33.015625 40.375 \nz\nM 52.59375 71.296875 \nL 52.59375 62.3125 \nQ 48.875 64.0625 45.09375 64.984375 \nQ 41.3125 65.921875 37.59375 65.921875 \nQ 27.828125 65.921875 22.671875 59.328125 \nQ 17.53125 52.734375 16.796875 39.40625 \nQ 19.671875 43.65625 24.015625 45.921875 \nQ 28.375 48.1875 33.59375 48.1875 \nQ 44.578125 48.1875 50.953125 41.515625 \nQ 57.328125 34.859375 57.328125 23.390625 \nQ 57.328125 12.15625 50.6875 5.359375 \nQ 44.046875 -1.421875 33.015625 -1.421875 \nQ 20.359375 -1.421875 13.671875 8.265625 \nQ 6.984375 17.96875 6.984375 36.375 \nQ 6.984375 53.65625 15.1875 63.9375 \nQ 23.390625 74.21875 37.203125 74.21875 \nQ 40.921875 74.21875 44.703125 73.484375 \nQ 48.484375 72.75 52.59375 71.296875 \nz\n\" id=\"DejaVuSans-54\"/>\n      </defs>\n      <g transform=\"translate(13.5625 326.406691)scale(0.1 -0.1)\">\n       <use xlink:href=\"#DejaVuSans-54\"/>\n       <use x=\"63.623047\" xlink:href=\"#DejaVuSans-48\"/>\n      </g>\n     </g>\n    </g>\n    <g id=\"ytick_8\">\n     <g id=\"line2d_22\">\n      <path clip-path=\"url(#pb035e35204)\" d=\"M 33.2875 302.695385 \nL 794.196591 302.695385 \n\" style=\"fill:none;stroke:#b0b0b0;stroke-linecap:square;stroke-width:0.8;\"/>\n     </g>\n     <g id=\"line2d_23\">\n      <g>\n       <use style=\"stroke:#000000;stroke-width:0.8;\" x=\"33.2875\" xlink:href=\"#ma8026adc22\" y=\"302.695385\"/>\n      </g>\n     </g>\n     <g id=\"text_15\">\n      <!-- 70 -->\n      <g transform=\"translate(13.5625 306.494603)scale(0.1 -0.1)\">\n       <use xlink:href=\"#DejaVuSans-55\"/>\n       <use x=\"63.623047\" xlink:href=\"#DejaVuSans-48\"/>\n      </g>\n     </g>\n    </g>\n    <g id=\"ytick_9\">\n     <g id=\"line2d_24\">\n      <path clip-path=\"url(#pb035e35204)\" d=\"M 33.2875 282.783297 \nL 794.196591 282.783297 \n\" style=\"fill:none;stroke:#b0b0b0;stroke-linecap:square;stroke-width:0.8;\"/>\n     </g>\n     <g id=\"line2d_25\">\n      <g>\n       <use style=\"stroke:#000000;stroke-width:0.8;\" x=\"33.2875\" xlink:href=\"#ma8026adc22\" y=\"282.783297\"/>\n      </g>\n     </g>\n     <g id=\"text_16\">\n      <!-- 80 -->\n      <g transform=\"translate(13.5625 286.582515)scale(0.1 -0.1)\">\n       <use xlink:href=\"#DejaVuSans-56\"/>\n       <use x=\"63.623047\" xlink:href=\"#DejaVuSans-48\"/>\n      </g>\n     </g>\n    </g>\n    <g id=\"ytick_10\">\n     <g id=\"line2d_26\">\n      <path clip-path=\"url(#pb035e35204)\" d=\"M 33.2875 262.871209 \nL 794.196591 262.871209 \n\" style=\"fill:none;stroke:#b0b0b0;stroke-linecap:square;stroke-width:0.8;\"/>\n     </g>\n     <g id=\"line2d_27\">\n      <g>\n       <use style=\"stroke:#000000;stroke-width:0.8;\" x=\"33.2875\" xlink:href=\"#ma8026adc22\" y=\"262.871209\"/>\n      </g>\n     </g>\n     <g id=\"text_17\">\n      <!-- 90 -->\n      <g transform=\"translate(13.5625 266.670428)scale(0.1 -0.1)\">\n       <use xlink:href=\"#DejaVuSans-57\"/>\n       <use x=\"63.623047\" xlink:href=\"#DejaVuSans-48\"/>\n      </g>\n     </g>\n    </g>\n    <g id=\"ytick_11\">\n     <g id=\"line2d_28\">\n      <path clip-path=\"url(#pb035e35204)\" d=\"M 33.2875 242.959121 \nL 794.196591 242.959121 \n\" style=\"fill:none;stroke:#b0b0b0;stroke-linecap:square;stroke-width:0.8;\"/>\n     </g>\n     <g id=\"line2d_29\">\n      <g>\n       <use style=\"stroke:#000000;stroke-width:0.8;\" x=\"33.2875\" xlink:href=\"#ma8026adc22\" y=\"242.959121\"/>\n      </g>\n     </g>\n     <g id=\"text_18\">\n      <!-- 100 -->\n      <g transform=\"translate(7.2 246.75834)scale(0.1 -0.1)\">\n       <use xlink:href=\"#DejaVuSans-49\"/>\n       <use x=\"63.623047\" xlink:href=\"#DejaVuSans-48\"/>\n       <use x=\"127.246094\" xlink:href=\"#DejaVuSans-48\"/>\n      </g>\n     </g>\n    </g>\n    <g id=\"ytick_12\">\n     <g id=\"line2d_30\">\n      <path clip-path=\"url(#pb035e35204)\" d=\"M 33.2875 223.047033 \nL 794.196591 223.047033 \n\" style=\"fill:none;stroke:#b0b0b0;stroke-linecap:square;stroke-width:0.8;\"/>\n     </g>\n     <g id=\"line2d_31\">\n      <g>\n       <use style=\"stroke:#000000;stroke-width:0.8;\" x=\"33.2875\" xlink:href=\"#ma8026adc22\" y=\"223.047033\"/>\n      </g>\n     </g>\n     <g id=\"text_19\">\n      <!-- 110 -->\n      <g transform=\"translate(7.2 226.846252)scale(0.1 -0.1)\">\n       <use xlink:href=\"#DejaVuSans-49\"/>\n       <use x=\"63.623047\" xlink:href=\"#DejaVuSans-49\"/>\n       <use x=\"127.246094\" xlink:href=\"#DejaVuSans-48\"/>\n      </g>\n     </g>\n    </g>\n    <g id=\"ytick_13\">\n     <g id=\"line2d_32\">\n      <path clip-path=\"url(#pb035e35204)\" d=\"M 33.2875 203.134945 \nL 794.196591 203.134945 \n\" style=\"fill:none;stroke:#b0b0b0;stroke-linecap:square;stroke-width:0.8;\"/>\n     </g>\n     <g id=\"line2d_33\">\n      <g>\n       <use style=\"stroke:#000000;stroke-width:0.8;\" x=\"33.2875\" xlink:href=\"#ma8026adc22\" y=\"203.134945\"/>\n      </g>\n     </g>\n     <g id=\"text_20\">\n      <!-- 120 -->\n      <g transform=\"translate(7.2 206.934164)scale(0.1 -0.1)\">\n       <use xlink:href=\"#DejaVuSans-49\"/>\n       <use x=\"63.623047\" xlink:href=\"#DejaVuSans-50\"/>\n       <use x=\"127.246094\" xlink:href=\"#DejaVuSans-48\"/>\n      </g>\n     </g>\n    </g>\n    <g id=\"ytick_14\">\n     <g id=\"line2d_34\">\n      <path clip-path=\"url(#pb035e35204)\" d=\"M 33.2875 183.222857 \nL 794.196591 183.222857 \n\" style=\"fill:none;stroke:#b0b0b0;stroke-linecap:square;stroke-width:0.8;\"/>\n     </g>\n     <g id=\"line2d_35\">\n      <g>\n       <use style=\"stroke:#000000;stroke-width:0.8;\" x=\"33.2875\" xlink:href=\"#ma8026adc22\" y=\"183.222857\"/>\n      </g>\n     </g>\n     <g id=\"text_21\">\n      <!-- 130 -->\n      <g transform=\"translate(7.2 187.022076)scale(0.1 -0.1)\">\n       <use xlink:href=\"#DejaVuSans-49\"/>\n       <use x=\"63.623047\" xlink:href=\"#DejaVuSans-51\"/>\n       <use x=\"127.246094\" xlink:href=\"#DejaVuSans-48\"/>\n      </g>\n     </g>\n    </g>\n    <g id=\"ytick_15\">\n     <g id=\"line2d_36\">\n      <path clip-path=\"url(#pb035e35204)\" d=\"M 33.2875 163.310769 \nL 794.196591 163.310769 \n\" style=\"fill:none;stroke:#b0b0b0;stroke-linecap:square;stroke-width:0.8;\"/>\n     </g>\n     <g id=\"line2d_37\">\n      <g>\n       <use style=\"stroke:#000000;stroke-width:0.8;\" x=\"33.2875\" xlink:href=\"#ma8026adc22\" y=\"163.310769\"/>\n      </g>\n     </g>\n     <g id=\"text_22\">\n      <!-- 140 -->\n      <g transform=\"translate(7.2 167.109988)scale(0.1 -0.1)\">\n       <use xlink:href=\"#DejaVuSans-49\"/>\n       <use x=\"63.623047\" xlink:href=\"#DejaVuSans-52\"/>\n       <use x=\"127.246094\" xlink:href=\"#DejaVuSans-48\"/>\n      </g>\n     </g>\n    </g>\n    <g id=\"ytick_16\">\n     <g id=\"line2d_38\">\n      <path clip-path=\"url(#pb035e35204)\" d=\"M 33.2875 143.398681 \nL 794.196591 143.398681 \n\" style=\"fill:none;stroke:#b0b0b0;stroke-linecap:square;stroke-width:0.8;\"/>\n     </g>\n     <g id=\"line2d_39\">\n      <g>\n       <use style=\"stroke:#000000;stroke-width:0.8;\" x=\"33.2875\" xlink:href=\"#ma8026adc22\" y=\"143.398681\"/>\n      </g>\n     </g>\n     <g id=\"text_23\">\n      <!-- 150 -->\n      <g transform=\"translate(7.2 147.1979)scale(0.1 -0.1)\">\n       <use xlink:href=\"#DejaVuSans-49\"/>\n       <use x=\"63.623047\" xlink:href=\"#DejaVuSans-53\"/>\n       <use x=\"127.246094\" xlink:href=\"#DejaVuSans-48\"/>\n      </g>\n     </g>\n    </g>\n    <g id=\"ytick_17\">\n     <g id=\"line2d_40\">\n      <path clip-path=\"url(#pb035e35204)\" d=\"M 33.2875 123.486593 \nL 794.196591 123.486593 \n\" style=\"fill:none;stroke:#b0b0b0;stroke-linecap:square;stroke-width:0.8;\"/>\n     </g>\n     <g id=\"line2d_41\">\n      <g>\n       <use style=\"stroke:#000000;stroke-width:0.8;\" x=\"33.2875\" xlink:href=\"#ma8026adc22\" y=\"123.486593\"/>\n      </g>\n     </g>\n     <g id=\"text_24\">\n      <!-- 160 -->\n      <g transform=\"translate(7.2 127.285812)scale(0.1 -0.1)\">\n       <use xlink:href=\"#DejaVuSans-49\"/>\n       <use x=\"63.623047\" xlink:href=\"#DejaVuSans-54\"/>\n       <use x=\"127.246094\" xlink:href=\"#DejaVuSans-48\"/>\n      </g>\n     </g>\n    </g>\n    <g id=\"ytick_18\">\n     <g id=\"line2d_42\">\n      <path clip-path=\"url(#pb035e35204)\" d=\"M 33.2875 103.574505 \nL 794.196591 103.574505 \n\" style=\"fill:none;stroke:#b0b0b0;stroke-linecap:square;stroke-width:0.8;\"/>\n     </g>\n     <g id=\"line2d_43\">\n      <g>\n       <use style=\"stroke:#000000;stroke-width:0.8;\" x=\"33.2875\" xlink:href=\"#ma8026adc22\" y=\"103.574505\"/>\n      </g>\n     </g>\n     <g id=\"text_25\">\n      <!-- 170 -->\n      <g transform=\"translate(7.2 107.373724)scale(0.1 -0.1)\">\n       <use xlink:href=\"#DejaVuSans-49\"/>\n       <use x=\"63.623047\" xlink:href=\"#DejaVuSans-55\"/>\n       <use x=\"127.246094\" xlink:href=\"#DejaVuSans-48\"/>\n      </g>\n     </g>\n    </g>\n    <g id=\"ytick_19\">\n     <g id=\"line2d_44\">\n      <path clip-path=\"url(#pb035e35204)\" d=\"M 33.2875 83.662418 \nL 794.196591 83.662418 \n\" style=\"fill:none;stroke:#b0b0b0;stroke-linecap:square;stroke-width:0.8;\"/>\n     </g>\n     <g id=\"line2d_45\">\n      <g>\n       <use style=\"stroke:#000000;stroke-width:0.8;\" x=\"33.2875\" xlink:href=\"#ma8026adc22\" y=\"83.662418\"/>\n      </g>\n     </g>\n     <g id=\"text_26\">\n      <!-- 180 -->\n      <g transform=\"translate(7.2 87.461636)scale(0.1 -0.1)\">\n       <use xlink:href=\"#DejaVuSans-49\"/>\n       <use x=\"63.623047\" xlink:href=\"#DejaVuSans-56\"/>\n       <use x=\"127.246094\" xlink:href=\"#DejaVuSans-48\"/>\n      </g>\n     </g>\n    </g>\n    <g id=\"ytick_20\">\n     <g id=\"line2d_46\">\n      <path clip-path=\"url(#pb035e35204)\" d=\"M 33.2875 63.75033 \nL 794.196591 63.75033 \n\" style=\"fill:none;stroke:#b0b0b0;stroke-linecap:square;stroke-width:0.8;\"/>\n     </g>\n     <g id=\"line2d_47\">\n      <g>\n       <use style=\"stroke:#000000;stroke-width:0.8;\" x=\"33.2875\" xlink:href=\"#ma8026adc22\" y=\"63.75033\"/>\n      </g>\n     </g>\n     <g id=\"text_27\">\n      <!-- 190 -->\n      <g transform=\"translate(7.2 67.549548)scale(0.1 -0.1)\">\n       <use xlink:href=\"#DejaVuSans-49\"/>\n       <use x=\"63.623047\" xlink:href=\"#DejaVuSans-57\"/>\n       <use x=\"127.246094\" xlink:href=\"#DejaVuSans-48\"/>\n      </g>\n     </g>\n    </g>\n    <g id=\"ytick_21\">\n     <g id=\"line2d_48\">\n      <path clip-path=\"url(#pb035e35204)\" d=\"M 33.2875 43.838242 \nL 794.196591 43.838242 \n\" style=\"fill:none;stroke:#b0b0b0;stroke-linecap:square;stroke-width:0.8;\"/>\n     </g>\n     <g id=\"line2d_49\">\n      <g>\n       <use style=\"stroke:#000000;stroke-width:0.8;\" x=\"33.2875\" xlink:href=\"#ma8026adc22\" y=\"43.838242\"/>\n      </g>\n     </g>\n     <g id=\"text_28\">\n      <!-- 200 -->\n      <g transform=\"translate(7.2 47.637461)scale(0.1 -0.1)\">\n       <use xlink:href=\"#DejaVuSans-50\"/>\n       <use x=\"63.623047\" xlink:href=\"#DejaVuSans-48\"/>\n       <use x=\"127.246094\" xlink:href=\"#DejaVuSans-48\"/>\n      </g>\n     </g>\n    </g>\n   </g>\n   <g id=\"patch_10\">\n    <path d=\"M 33.2875 442.08 \nL 33.2875 7.2 \n\" style=\"fill:none;stroke:#000000;stroke-linecap:square;stroke-linejoin:miter;stroke-width:0.8;\"/>\n   </g>\n   <g id=\"patch_11\">\n    <path d=\"M 794.196591 442.08 \nL 794.196591 7.2 \n\" style=\"fill:none;stroke:#000000;stroke-linecap:square;stroke-linejoin:miter;stroke-width:0.8;\"/>\n   </g>\n   <g id=\"patch_12\">\n    <path d=\"M 33.2875 442.08 \nL 794.196591 442.08 \n\" style=\"fill:none;stroke:#000000;stroke-linecap:square;stroke-linejoin:miter;stroke-width:0.8;\"/>\n   </g>\n   <g id=\"patch_13\">\n    <path d=\"M 33.2875 7.2 \nL 794.196591 7.2 \n\" style=\"fill:none;stroke:#000000;stroke-linecap:square;stroke-linejoin:miter;stroke-width:0.8;\"/>\n   </g>\n  </g>\n  <g id=\"axes_2\">\n   <g id=\"patch_14\">\n    <path d=\"M 946.378409 442.08 \nL 1707.2875 442.08 \nL 1707.2875 7.2 \nL 946.378409 7.2 \nz\n\" style=\"fill:#ffffff;\"/>\n   </g>\n   <g id=\"patch_15\">\n    <path clip-path=\"url(#p2576a37fd7)\" d=\"M 980.965186 442.08 \nL 1053.236063 442.08 \nL 1053.236063 193.577143 \nL 980.965186 193.577143 \nz\n\" style=\"fill:#1f77b4;\"/>\n   </g>\n   <g id=\"patch_16\">\n    <path clip-path=\"url(#p2576a37fd7)\" d=\"M 1084.209296 442.08 \nL 1156.480173 442.08 \nL 1156.480173 27.908571 \nL 1084.209296 27.908571 \nz\n\" style=\"fill:#1f77b4;\"/>\n   </g>\n   <g id=\"patch_17\">\n    <path clip-path=\"url(#p2576a37fd7)\" d=\"M 1187.453406 442.08 \nL 1259.724283 442.08 \nL 1259.724283 110.742857 \nL 1187.453406 110.742857 \nz\n\" style=\"fill:#1f77b4;\"/>\n   </g>\n   <g id=\"patch_18\">\n    <path clip-path=\"url(#p2576a37fd7)\" d=\"M 1290.697516 442.08 \nL 1362.968393 442.08 \nL 1362.968393 185.293714 \nL 1290.697516 185.293714 \nz\n\" style=\"fill:#1f77b4;\"/>\n   </g>\n   <g id=\"patch_19\">\n    <path clip-path=\"url(#p2576a37fd7)\" d=\"M 1393.941626 442.08 \nL 1466.212503 442.08 \nL 1466.212503 309.545143 \nL 1393.941626 309.545143 \nz\n\" style=\"fill:#1f77b4;\"/>\n   </g>\n   <g id=\"patch_20\">\n    <path clip-path=\"url(#p2576a37fd7)\" d=\"M 1497.185736 442.08 \nL 1569.456613 442.08 \nL 1569.456613 367.529143 \nL 1497.185736 367.529143 \nz\n\" style=\"fill:#1f77b4;\"/>\n   </g>\n   <g id=\"patch_21\">\n    <path clip-path=\"url(#p2576a37fd7)\" d=\"M 1600.429846 442.08 \nL 1672.700723 442.08 \nL 1672.700723 392.379429 \nL 1600.429846 392.379429 \nz\n\" style=\"fill:#1f77b4;\"/>\n   </g>\n   <g id=\"matplotlib.axis_3\">\n    <g id=\"xtick_8\">\n     <g id=\"line2d_50\">\n      <g>\n       <use style=\"stroke:#000000;stroke-width:0.8;\" x=\"1017.100624\" xlink:href=\"#m787b4868ea\" y=\"442.08\"/>\n      </g>\n     </g>\n     <g id=\"text_29\">\n      <!-- 007 -->\n      <g transform=\"translate(1007.556874 456.678437)scale(0.1 -0.1)\">\n       <use xlink:href=\"#DejaVuSans-48\"/>\n       <use x=\"63.623047\" xlink:href=\"#DejaVuSans-48\"/>\n       <use x=\"127.246094\" xlink:href=\"#DejaVuSans-55\"/>\n      </g>\n     </g>\n    </g>\n    <g id=\"xtick_9\">\n     <g id=\"line2d_51\">\n      <g>\n       <use style=\"stroke:#000000;stroke-width:0.8;\" x=\"1120.344734\" xlink:href=\"#m787b4868ea\" y=\"442.08\"/>\n      </g>\n     </g>\n     <g id=\"text_30\">\n      <!-- 008 -->\n      <g transform=\"translate(1110.800984 456.678437)scale(0.1 -0.1)\">\n       <use xlink:href=\"#DejaVuSans-48\"/>\n       <use x=\"63.623047\" xlink:href=\"#DejaVuSans-48\"/>\n       <use x=\"127.246094\" xlink:href=\"#DejaVuSans-56\"/>\n      </g>\n     </g>\n    </g>\n    <g id=\"xtick_10\">\n     <g id=\"line2d_52\">\n      <g>\n       <use style=\"stroke:#000000;stroke-width:0.8;\" x=\"1223.588845\" xlink:href=\"#m787b4868ea\" y=\"442.08\"/>\n      </g>\n     </g>\n     <g id=\"text_31\">\n      <!-- 009 -->\n      <g transform=\"translate(1214.045095 456.678437)scale(0.1 -0.1)\">\n       <use xlink:href=\"#DejaVuSans-48\"/>\n       <use x=\"63.623047\" xlink:href=\"#DejaVuSans-48\"/>\n       <use x=\"127.246094\" xlink:href=\"#DejaVuSans-57\"/>\n      </g>\n     </g>\n    </g>\n    <g id=\"xtick_11\">\n     <g id=\"line2d_53\">\n      <g>\n       <use style=\"stroke:#000000;stroke-width:0.8;\" x=\"1326.832955\" xlink:href=\"#m787b4868ea\" y=\"442.08\"/>\n      </g>\n     </g>\n     <g id=\"text_32\">\n      <!-- 010 -->\n      <g transform=\"translate(1317.289205 456.678437)scale(0.1 -0.1)\">\n       <use xlink:href=\"#DejaVuSans-48\"/>\n       <use x=\"63.623047\" xlink:href=\"#DejaVuSans-49\"/>\n       <use x=\"127.246094\" xlink:href=\"#DejaVuSans-48\"/>\n      </g>\n     </g>\n    </g>\n    <g id=\"xtick_12\">\n     <g id=\"line2d_54\">\n      <g>\n       <use style=\"stroke:#000000;stroke-width:0.8;\" x=\"1430.077065\" xlink:href=\"#m787b4868ea\" y=\"442.08\"/>\n      </g>\n     </g>\n     <g id=\"text_33\">\n      <!-- 011 -->\n      <g transform=\"translate(1420.533315 456.678437)scale(0.1 -0.1)\">\n       <use xlink:href=\"#DejaVuSans-48\"/>\n       <use x=\"63.623047\" xlink:href=\"#DejaVuSans-49\"/>\n       <use x=\"127.246094\" xlink:href=\"#DejaVuSans-49\"/>\n      </g>\n     </g>\n    </g>\n    <g id=\"xtick_13\">\n     <g id=\"line2d_55\">\n      <g>\n       <use style=\"stroke:#000000;stroke-width:0.8;\" x=\"1533.321175\" xlink:href=\"#m787b4868ea\" y=\"442.08\"/>\n      </g>\n     </g>\n     <g id=\"text_34\">\n      <!-- 012 -->\n      <g transform=\"translate(1523.777425 456.678437)scale(0.1 -0.1)\">\n       <use xlink:href=\"#DejaVuSans-48\"/>\n       <use x=\"63.623047\" xlink:href=\"#DejaVuSans-49\"/>\n       <use x=\"127.246094\" xlink:href=\"#DejaVuSans-50\"/>\n      </g>\n     </g>\n    </g>\n    <g id=\"xtick_14\">\n     <g id=\"line2d_56\">\n      <g>\n       <use style=\"stroke:#000000;stroke-width:0.8;\" x=\"1636.565285\" xlink:href=\"#m787b4868ea\" y=\"442.08\"/>\n      </g>\n     </g>\n     <g id=\"text_35\">\n      <!-- 013 -->\n      <g transform=\"translate(1627.021535 456.678437)scale(0.1 -0.1)\">\n       <use xlink:href=\"#DejaVuSans-48\"/>\n       <use x=\"63.623047\" xlink:href=\"#DejaVuSans-49\"/>\n       <use x=\"127.246094\" xlink:href=\"#DejaVuSans-51\"/>\n      </g>\n     </g>\n    </g>\n   </g>\n   <g id=\"matplotlib.axis_4\">\n    <g id=\"ytick_22\">\n     <g id=\"line2d_57\">\n      <path clip-path=\"url(#p2576a37fd7)\" d=\"M 946.378409 442.08 \nL 1707.2875 442.08 \n\" style=\"fill:none;stroke:#b0b0b0;stroke-linecap:square;stroke-width:0.8;\"/>\n     </g>\n     <g id=\"line2d_58\">\n      <g>\n       <use style=\"stroke:#000000;stroke-width:0.8;\" x=\"946.378409\" xlink:href=\"#ma8026adc22\" y=\"442.08\"/>\n      </g>\n     </g>\n     <g id=\"text_36\">\n      <!-- 0 -->\n      <g transform=\"translate(933.015909 445.879219)scale(0.1 -0.1)\">\n       <use xlink:href=\"#DejaVuSans-48\"/>\n      </g>\n     </g>\n    </g>\n    <g id=\"ytick_23\">\n     <g id=\"line2d_59\">\n      <path clip-path=\"url(#p2576a37fd7)\" d=\"M 946.378409 359.245714 \nL 1707.2875 359.245714 \n\" style=\"fill:none;stroke:#b0b0b0;stroke-linecap:square;stroke-width:0.8;\"/>\n     </g>\n     <g id=\"line2d_60\">\n      <g>\n       <use style=\"stroke:#000000;stroke-width:0.8;\" x=\"946.378409\" xlink:href=\"#ma8026adc22\" y=\"359.245714\"/>\n      </g>\n     </g>\n     <g id=\"text_37\">\n      <!-- 10 -->\n      <g transform=\"translate(926.653409 363.044933)scale(0.1 -0.1)\">\n       <use xlink:href=\"#DejaVuSans-49\"/>\n       <use x=\"63.623047\" xlink:href=\"#DejaVuSans-48\"/>\n      </g>\n     </g>\n    </g>\n    <g id=\"ytick_24\">\n     <g id=\"line2d_61\">\n      <path clip-path=\"url(#p2576a37fd7)\" d=\"M 946.378409 276.411429 \nL 1707.2875 276.411429 \n\" style=\"fill:none;stroke:#b0b0b0;stroke-linecap:square;stroke-width:0.8;\"/>\n     </g>\n     <g id=\"line2d_62\">\n      <g>\n       <use style=\"stroke:#000000;stroke-width:0.8;\" x=\"946.378409\" xlink:href=\"#ma8026adc22\" y=\"276.411429\"/>\n      </g>\n     </g>\n     <g id=\"text_38\">\n      <!-- 20 -->\n      <g transform=\"translate(926.653409 280.210647)scale(0.1 -0.1)\">\n       <use xlink:href=\"#DejaVuSans-50\"/>\n       <use x=\"63.623047\" xlink:href=\"#DejaVuSans-48\"/>\n      </g>\n     </g>\n    </g>\n    <g id=\"ytick_25\">\n     <g id=\"line2d_63\">\n      <path clip-path=\"url(#p2576a37fd7)\" d=\"M 946.378409 193.577143 \nL 1707.2875 193.577143 \n\" style=\"fill:none;stroke:#b0b0b0;stroke-linecap:square;stroke-width:0.8;\"/>\n     </g>\n     <g id=\"line2d_64\">\n      <g>\n       <use style=\"stroke:#000000;stroke-width:0.8;\" x=\"946.378409\" xlink:href=\"#ma8026adc22\" y=\"193.577143\"/>\n      </g>\n     </g>\n     <g id=\"text_39\">\n      <!-- 30 -->\n      <g transform=\"translate(926.653409 197.376362)scale(0.1 -0.1)\">\n       <use xlink:href=\"#DejaVuSans-51\"/>\n       <use x=\"63.623047\" xlink:href=\"#DejaVuSans-48\"/>\n      </g>\n     </g>\n    </g>\n    <g id=\"ytick_26\">\n     <g id=\"line2d_65\">\n      <path clip-path=\"url(#p2576a37fd7)\" d=\"M 946.378409 110.742857 \nL 1707.2875 110.742857 \n\" style=\"fill:none;stroke:#b0b0b0;stroke-linecap:square;stroke-width:0.8;\"/>\n     </g>\n     <g id=\"line2d_66\">\n      <g>\n       <use style=\"stroke:#000000;stroke-width:0.8;\" x=\"946.378409\" xlink:href=\"#ma8026adc22\" y=\"110.742857\"/>\n      </g>\n     </g>\n     <g id=\"text_40\">\n      <!-- 40 -->\n      <g transform=\"translate(926.653409 114.542076)scale(0.1 -0.1)\">\n       <use xlink:href=\"#DejaVuSans-52\"/>\n       <use x=\"63.623047\" xlink:href=\"#DejaVuSans-48\"/>\n      </g>\n     </g>\n    </g>\n    <g id=\"ytick_27\">\n     <g id=\"line2d_67\">\n      <path clip-path=\"url(#p2576a37fd7)\" d=\"M 946.378409 27.908571 \nL 1707.2875 27.908571 \n\" style=\"fill:none;stroke:#b0b0b0;stroke-linecap:square;stroke-width:0.8;\"/>\n     </g>\n     <g id=\"line2d_68\">\n      <g>\n       <use style=\"stroke:#000000;stroke-width:0.8;\" x=\"946.378409\" xlink:href=\"#ma8026adc22\" y=\"27.908571\"/>\n      </g>\n     </g>\n     <g id=\"text_41\">\n      <!-- 50 -->\n      <g transform=\"translate(926.653409 31.70779)scale(0.1 -0.1)\">\n       <use xlink:href=\"#DejaVuSans-53\"/>\n       <use x=\"63.623047\" xlink:href=\"#DejaVuSans-48\"/>\n      </g>\n     </g>\n    </g>\n   </g>\n   <g id=\"patch_22\">\n    <path d=\"M 946.378409 442.08 \nL 946.378409 7.2 \n\" style=\"fill:none;stroke:#000000;stroke-linecap:square;stroke-linejoin:miter;stroke-width:0.8;\"/>\n   </g>\n   <g id=\"patch_23\">\n    <path d=\"M 1707.2875 442.08 \nL 1707.2875 7.2 \n\" style=\"fill:none;stroke:#000000;stroke-linecap:square;stroke-linejoin:miter;stroke-width:0.8;\"/>\n   </g>\n   <g id=\"patch_24\">\n    <path d=\"M 946.378409 442.08 \nL 1707.2875 442.08 \n\" style=\"fill:none;stroke:#000000;stroke-linecap:square;stroke-linejoin:miter;stroke-width:0.8;\"/>\n   </g>\n   <g id=\"patch_25\">\n    <path d=\"M 946.378409 7.2 \nL 1707.2875 7.2 \n\" style=\"fill:none;stroke:#000000;stroke-linecap:square;stroke-linejoin:miter;stroke-width:0.8;\"/>\n   </g>\n  </g>\n </g>\n <defs>\n  <clipPath id=\"pb035e35204\">\n   <rect height=\"434.88\" width=\"760.909091\" x=\"33.2875\" y=\"7.2\"/>\n  </clipPath>\n  <clipPath id=\"p2576a37fd7\">\n   <rect height=\"434.88\" width=\"760.909091\" x=\"946.378409\" y=\"7.2\"/>\n  </clipPath>\n </defs>\n</svg>\n",
            "text/plain": "<Figure size 2160x576 with 2 Axes>"
          },
          "metadata": {
            "needs_background": "light"
          },
          "output_type": "display_data"
        }
      ],
      "source": [
        "fig, (ax1, ax2) = plt.subplots(1, 2, figsize=(30,8))\n",
        "\n",
        "ax1.bar(list(frames_distribution.keys()), [int(f) for f in frames_distribution.values()], 0.7)\n",
        "ax1.grid(axis = 'y')\n",
        "ax1.set_yticks(np.arange(0, max(frames_distribution.values())+2, 10))\n",
        "\n",
        "ax2.bar(list(frames_distribution_val.keys()), [int(f) for f in frames_distribution_val.values()], 0.7)\n",
        "ax2.grid(axis = 'y')\n",
        "ax2.set_yticks(np.arange(0, max(frames_distribution_val.values())+2, 10)) \n",
        "\n",
        "fig.show()"
      ]
    },
    {
      "cell_type": "markdown",
      "execution_count": null,
      "metadata": {
        "colab_type": "text",
        "id": "Qsj6Mh0KB0UV"
      },
      "outputs": [],
      "source": [
        "**Stats across classes**"
      ]
    },
    {
      "cell_type": "code",
      "execution_count": 43,
      "metadata": {},
      "outputs": [],
      "source": [
        "video_names_in_class_dict = {}\n",
        "idx = 0\n",
        "\n",
        "for classi in classes_dict.values():\n",
        "    video_names_in_class_dict[classi] = {}\n",
        "    video_names_in_class_dict[classi]['num of frames'] = 0\n",
        "    video_names_in_class_dict[classi]['num of vids'] = 0\n",
        "    video_names_in_class_dict[classi]['vids'] = []\n",
        "    video_names_in_class_dict[classi]['frames per vid'] = []\n",
        "    video_names_in_class_dict[classi]['mean frames per vid'] = 0\n",
        "\n",
        "    all_images_in_class = []\n",
        "    video_names = []\n",
        "    video_names_uniq_in_class = []\n",
        "    frame_nums_in_class = []\n",
        "    frame_nums_uniq_in_class = []\n",
        "    vids_and_frames_in_class = {}\n",
        "\n",
        "    counter = 0\n",
        "\n",
        "    for i in sorted(glob.glob('data/train/' + classi + '/*.jpg')):\n",
        "        all_images_in_class.append(i)\n",
        "        counter += 1\n",
        "\n",
        "    video_names_in_class_dict[classi]['num of frames'] = counter\n",
        "\n",
        "    for img in all_images_in_class:\n",
        "        img_name = img.split('/')[-1].split('.')[0]\n",
        "        video_name = img_name[:9]\n",
        "        video_names.append(video_name)\n",
        "        frame_num = img_name[-3:]\n",
        "        frame_nums_in_class.append(frame_num)\n",
        "\n",
        "    video_names_uniq_in_class = list(sorted(set(video_names)))\n",
        "\n",
        "    video_names_in_class_dict[classi]['vids'] = video_names_uniq_in_class\n",
        "    video_names_in_class_dict[classi]['num of vids'] = len(video_names_uniq_in_class)\n",
        "\n",
        "    for i in range(len(video_names)):\n",
        "        if i < len(video_names)-1:\n",
        "            if video_names[i] == video_names[i+1]:\n",
        "                pass\n",
        "            else:\n",
        "                frame_nums_uniq_in_class.append(frame_nums_in_class[i])\n",
        "        else:\n",
        "            frame_nums_uniq_in_class.append(frame_nums_in_class[-1])\n",
        "\n",
        "    for i in range(len(video_names_uniq_in_class)):\n",
        "        vids_and_frames_in_class[video_names_uniq_in_class[i]] = frame_nums_uniq_in_class[i]\n",
        "\n",
        "    video_names_in_class_dict[classi]['frames per vid'] = list(vids_and_frames_in_class.values())\n",
        "    video_names_in_class_dict[classi]['mean frames per vid'] = np.array(list(list(video_names_in_class_dict.values())[idx].values())[3]).astype(np.float).mean()\n",
        "\n",
        "    idx += 1"
      ]
    },
    {
      "cell_type": "code",
      "execution_count": 44,
      "metadata": {},
      "outputs": [
        {
          "data": {
            "text/plain": "[101, 106, 97, 80, 116, 106, 121, 106, 99, 111]"
          },
          "execution_count": 44,
          "metadata": {},
          "output_type": "execute_result"
        }
      ],
      "source": [
        "[list(list(video_names_in_class_dict.values())[f].values())[1] for f in range(len(classes))]"
      ]
    },
    {
      "cell_type": "code",
      "execution_count": 45,
      "metadata": {},
      "outputs": [
        {
          "data": {
            "image/png": "[encoded data removed]",
            "image/svg+xml": "<?xml version=\"1.0\" encoding=\"utf-8\" standalone=\"no\"?>\n<!DOCTYPE svg PUBLIC \"-//W3C//DTD SVG 1.1//EN\"\n  \"http://www.w3.org/Graphics/SVG/1.1/DTD/svg11.dtd\">\n<!-- Created with matplotlib (https://matplotlib.org/) -->\n<svg height=\"469.757344pt\" version=\"1.1\" viewBox=\"0 0 1720.85 469.757344\" width=\"1720.85pt\" xmlns=\"http://www.w3.org/2000/svg\" xmlns:xlink=\"http://www.w3.org/1999/xlink\">\n <defs>\n  <style type=\"text/css\">\n*{stroke-linecap:butt;stroke-linejoin:round;}\n  </style>\n </defs>\n <g id=\"figure_1\">\n  <g id=\"patch_1\">\n   <path d=\"M 0 469.757344 \nL 1720.85 469.757344 \nL 1720.85 0 \nL 0 0 \nz\n\" style=\"fill:none;\"/>\n  </g>\n  <g id=\"axes_1\">\n   <g id=\"patch_2\">\n    <path d=\"M 39.65 445.879219 \nL 800.559091 445.879219 \nL 800.559091 10.999219 \nL 39.65 10.999219 \nz\n\" style=\"fill:#ffffff;\"/>\n   </g>\n   <g id=\"patch_3\">\n    <path clip-path=\"url(#paeba729b83)\" d=\"M 74.236777 445.879219 \nL 124.155836 445.879219 \nL 124.155836 101.444347 \nL 74.236777 101.444347 \nz\n\" style=\"fill:#1f77b4;\"/>\n   </g>\n   <g id=\"patch_4\">\n    <path clip-path=\"url(#paeba729b83)\" d=\"M 145.549719 445.879219 \nL 195.468778 445.879219 \nL 195.468778 81.266765 \nL 145.549719 81.266765 \nz\n\" style=\"fill:#1f77b4;\"/>\n   </g>\n   <g id=\"patch_5\">\n    <path clip-path=\"url(#paeba729b83)\" d=\"M 216.862661 445.879219 \nL 266.78172 445.879219 \nL 266.78172 97.196435 \nL 216.862661 97.196435 \nz\n\" style=\"fill:#1f77b4;\"/>\n   </g>\n   <g id=\"patch_6\">\n    <path clip-path=\"url(#paeba729b83)\" d=\"M 288.175603 445.879219 \nL 338.094662 445.879219 \nL 338.094662 171.180904 \nL 288.175603 171.180904 \nz\n\" style=\"fill:#1f77b4;\"/>\n   </g>\n   <g id=\"patch_7\">\n    <path clip-path=\"url(#paeba729b83)\" d=\"M 359.488545 445.879219 \nL 409.407604 445.879219 \nL 409.407604 72.062955 \nL 359.488545 72.062955 \nz\n\" style=\"fill:#1f77b4;\"/>\n   </g>\n   <g id=\"patch_8\">\n    <path clip-path=\"url(#paeba729b83)\" d=\"M 430.801487 445.879219 \nL 480.720546 445.879219 \nL 480.720546 70.646984 \nL 430.801487 70.646984 \nz\n\" style=\"fill:#1f77b4;\"/>\n   </g>\n   <g id=\"patch_9\">\n    <path clip-path=\"url(#paeba729b83)\" d=\"M 502.114429 445.879219 \nL 552.033488 445.879219 \nL 552.033488 31.70779 \nL 502.114429 31.70779 \nz\n\" style=\"fill:#1f77b4;\"/>\n   </g>\n   <g id=\"patch_10\">\n    <path clip-path=\"url(#paeba729b83)\" d=\"M 573.427371 445.879219 \nL 623.34643 445.879219 \nL 623.34643 67.815043 \nL 573.427371 67.815043 \nz\n\" style=\"fill:#1f77b4;\"/>\n   </g>\n   <g id=\"patch_11\">\n    <path clip-path=\"url(#paeba729b83)\" d=\"M 644.740313 445.879219 \nL 694.659372 445.879219 \nL 694.659372 81.620757 \nL 644.740313 81.620757 \nz\n\" style=\"fill:#1f77b4;\"/>\n   </g>\n   <g id=\"patch_12\">\n    <path clip-path=\"url(#paeba729b83)\" d=\"M 716.053255 445.879219 \nL 765.972314 445.879219 \nL 765.972314 74.186911 \nL 716.053255 74.186911 \nz\n\" style=\"fill:#1f77b4;\"/>\n   </g>\n   <g id=\"patch_13\">\n    <path clip-path=\"url(#paeba729b83)\" d=\"M 74.236777 445.879219 \nL 124.155836 445.879219 \nL 124.155836 410.125959 \nL 74.236777 410.125959 \nz\n\" style=\"fill:#ff7f0e;\"/>\n   </g>\n   <g id=\"patch_14\">\n    <path clip-path=\"url(#paeba729b83)\" d=\"M 145.549719 445.879219 \nL 195.468778 445.879219 \nL 195.468778 408.355995 \nL 145.549719 408.355995 \nz\n\" style=\"fill:#ff7f0e;\"/>\n   </g>\n   <g id=\"patch_15\">\n    <path clip-path=\"url(#paeba729b83)\" d=\"M 216.862661 445.879219 \nL 266.78172 445.879219 \nL 266.78172 411.541929 \nL 216.862661 411.541929 \nz\n\" style=\"fill:#ff7f0e;\"/>\n   </g>\n   <g id=\"patch_16\">\n    <path clip-path=\"url(#paeba729b83)\" d=\"M 288.175603 445.879219 \nL 338.094662 445.879219 \nL 338.094662 417.559805 \nL 288.175603 417.559805 \nz\n\" style=\"fill:#ff7f0e;\"/>\n   </g>\n   <g id=\"patch_17\">\n    <path clip-path=\"url(#paeba729b83)\" d=\"M 359.488545 445.879219 \nL 409.407604 445.879219 \nL 409.407604 404.816069 \nL 359.488545 404.816069 \nz\n\" style=\"fill:#ff7f0e;\"/>\n   </g>\n   <g id=\"patch_18\">\n    <path clip-path=\"url(#paeba729b83)\" d=\"M 430.801487 445.879219 \nL 480.720546 445.879219 \nL 480.720546 408.355995 \nL 430.801487 408.355995 \nz\n\" style=\"fill:#ff7f0e;\"/>\n   </g>\n   <g id=\"patch_19\">\n    <path clip-path=\"url(#paeba729b83)\" d=\"M 502.114429 445.879219 \nL 552.033488 445.879219 \nL 552.033488 403.046105 \nL 502.114429 403.046105 \nz\n\" style=\"fill:#ff7f0e;\"/>\n   </g>\n   <g id=\"patch_20\">\n    <path clip-path=\"url(#paeba729b83)\" d=\"M 573.427371 445.879219 \nL 623.34643 445.879219 \nL 623.34643 408.355995 \nL 573.427371 408.355995 \nz\n\" style=\"fill:#ff7f0e;\"/>\n   </g>\n   <g id=\"patch_21\">\n    <path clip-path=\"url(#paeba729b83)\" d=\"M 644.740313 445.879219 \nL 694.659372 445.879219 \nL 694.659372 410.833944 \nL 644.740313 410.833944 \nz\n\" style=\"fill:#ff7f0e;\"/>\n   </g>\n   <g id=\"patch_22\">\n    <path clip-path=\"url(#paeba729b83)\" d=\"M 716.053255 445.879219 \nL 765.972314 445.879219 \nL 765.972314 406.586032 \nL 716.053255 406.586032 \nz\n\" style=\"fill:#ff7f0e;\"/>\n   </g>\n   <g id=\"matplotlib.axis_1\">\n    <g id=\"xtick_1\">\n     <g id=\"line2d_1\">\n      <defs>\n       <path d=\"M 0 0 \nL 0 3.5 \n\" id=\"md968c967a5\" style=\"stroke:#000000;stroke-width:0.8;\"/>\n      </defs>\n      <g>\n       <use style=\"stroke:#000000;stroke-width:0.8;\" x=\"99.196307\" xlink:href=\"#md968c967a5\" y=\"445.879219\"/>\n      </g>\n     </g>\n     <g id=\"text_1\">\n      <!-- Begin -->\n      <defs>\n       <path d=\"M 19.671875 34.8125 \nL 19.671875 8.109375 \nL 35.5 8.109375 \nQ 43.453125 8.109375 47.28125 11.40625 \nQ 51.125 14.703125 51.125 21.484375 \nQ 51.125 28.328125 47.28125 31.5625 \nQ 43.453125 34.8125 35.5 34.8125 \nz\nM 19.671875 64.796875 \nL 19.671875 42.828125 \nL 34.28125 42.828125 \nQ 41.5 42.828125 45.03125 45.53125 \nQ 48.578125 48.25 48.578125 53.8125 \nQ 48.578125 59.328125 45.03125 62.0625 \nQ 41.5 64.796875 34.28125 64.796875 \nz\nM 9.8125 72.90625 \nL 35.015625 72.90625 \nQ 46.296875 72.90625 52.390625 68.21875 \nQ 58.5 63.53125 58.5 54.890625 \nQ 58.5 48.1875 55.375 44.234375 \nQ 52.25 40.28125 46.1875 39.3125 \nQ 53.46875 37.75 57.5 32.78125 \nQ 61.53125 27.828125 61.53125 20.40625 \nQ 61.53125 10.640625 54.890625 5.3125 \nQ 48.25 0 35.984375 0 \nL 9.8125 0 \nz\n\" id=\"DejaVuSans-66\"/>\n       <path d=\"M 56.203125 29.59375 \nL 56.203125 25.203125 \nL 14.890625 25.203125 \nQ 15.484375 15.921875 20.484375 11.0625 \nQ 25.484375 6.203125 34.421875 6.203125 \nQ 39.59375 6.203125 44.453125 7.46875 \nQ 49.3125 8.734375 54.109375 11.28125 \nL 54.109375 2.78125 \nQ 49.265625 0.734375 44.1875 -0.34375 \nQ 39.109375 -1.421875 33.890625 -1.421875 \nQ 20.796875 -1.421875 13.15625 6.1875 \nQ 5.515625 13.8125 5.515625 26.8125 \nQ 5.515625 40.234375 12.765625 48.109375 \nQ 20.015625 56 32.328125 56 \nQ 43.359375 56 49.78125 48.890625 \nQ 56.203125 41.796875 56.203125 29.59375 \nz\nM 47.21875 32.234375 \nQ 47.125 39.59375 43.09375 43.984375 \nQ 39.0625 48.390625 32.421875 48.390625 \nQ 24.90625 48.390625 20.390625 44.140625 \nQ 15.875 39.890625 15.1875 32.171875 \nz\n\" id=\"DejaVuSans-101\"/>\n       <path d=\"M 45.40625 27.984375 \nQ 45.40625 37.75 41.375 43.109375 \nQ 37.359375 48.484375 30.078125 48.484375 \nQ 22.859375 48.484375 18.828125 43.109375 \nQ 14.796875 37.75 14.796875 27.984375 \nQ 14.796875 18.265625 18.828125 12.890625 \nQ 22.859375 7.515625 30.078125 7.515625 \nQ 37.359375 7.515625 41.375 12.890625 \nQ 45.40625 18.265625 45.40625 27.984375 \nz\nM 54.390625 6.78125 \nQ 54.390625 -7.171875 48.1875 -13.984375 \nQ 42 -20.796875 29.203125 -20.796875 \nQ 24.46875 -20.796875 20.265625 -20.09375 \nQ 16.0625 -19.390625 12.109375 -17.921875 \nL 12.109375 -9.1875 \nQ 16.0625 -11.328125 19.921875 -12.34375 \nQ 23.78125 -13.375 27.78125 -13.375 \nQ 36.625 -13.375 41.015625 -8.765625 \nQ 45.40625 -4.15625 45.40625 5.171875 \nL 45.40625 9.625 \nQ 42.625 4.78125 38.28125 2.390625 \nQ 33.9375 0 27.875 0 \nQ 17.828125 0 11.671875 7.65625 \nQ 5.515625 15.328125 5.515625 27.984375 \nQ 5.515625 40.671875 11.671875 48.328125 \nQ 17.828125 56 27.875 56 \nQ 33.9375 56 38.28125 53.609375 \nQ 42.625 51.21875 45.40625 46.390625 \nL 45.40625 54.6875 \nL 54.390625 54.6875 \nz\n\" id=\"DejaVuSans-103\"/>\n       <path d=\"M 9.421875 54.6875 \nL 18.40625 54.6875 \nL 18.40625 0 \nL 9.421875 0 \nz\nM 9.421875 75.984375 \nL 18.40625 75.984375 \nL 18.40625 64.59375 \nL 9.421875 64.59375 \nz\n\" id=\"DejaVuSans-105\"/>\n       <path d=\"M 54.890625 33.015625 \nL 54.890625 0 \nL 45.90625 0 \nL 45.90625 32.71875 \nQ 45.90625 40.484375 42.875 44.328125 \nQ 39.84375 48.1875 33.796875 48.1875 \nQ 26.515625 48.1875 22.3125 43.546875 \nQ 18.109375 38.921875 18.109375 30.90625 \nL 18.109375 0 \nL 9.078125 0 \nL 9.078125 54.6875 \nL 18.109375 54.6875 \nL 18.109375 46.1875 \nQ 21.34375 51.125 25.703125 53.5625 \nQ 30.078125 56 35.796875 56 \nQ 45.21875 56 50.046875 50.171875 \nQ 54.890625 44.34375 54.890625 33.015625 \nz\n\" id=\"DejaVuSans-110\"/>\n      </defs>\n      <g transform=\"translate(84.957244 460.477656)scale(0.1 -0.1)\">\n       <use xlink:href=\"#DejaVuSans-66\"/>\n       <use x=\"68.603516\" xlink:href=\"#DejaVuSans-101\"/>\n       <use x=\"130.126953\" xlink:href=\"#DejaVuSans-103\"/>\n       <use x=\"193.603516\" xlink:href=\"#DejaVuSans-105\"/>\n       <use x=\"221.386719\" xlink:href=\"#DejaVuSans-110\"/>\n      </g>\n     </g>\n    </g>\n    <g id=\"xtick_2\">\n     <g id=\"line2d_2\">\n      <g>\n       <use style=\"stroke:#000000;stroke-width:0.8;\" x=\"170.509249\" xlink:href=\"#md968c967a5\" y=\"445.879219\"/>\n      </g>\n     </g>\n     <g id=\"text_2\">\n      <!-- Choose -->\n      <defs>\n       <path d=\"M 64.40625 67.28125 \nL 64.40625 56.890625 \nQ 59.421875 61.53125 53.78125 63.8125 \nQ 48.140625 66.109375 41.796875 66.109375 \nQ 29.296875 66.109375 22.65625 58.46875 \nQ 16.015625 50.828125 16.015625 36.375 \nQ 16.015625 21.96875 22.65625 14.328125 \nQ 29.296875 6.6875 41.796875 6.6875 \nQ 48.140625 6.6875 53.78125 8.984375 \nQ 59.421875 11.28125 64.40625 15.921875 \nL 64.40625 5.609375 \nQ 59.234375 2.09375 53.4375 0.328125 \nQ 47.65625 -1.421875 41.21875 -1.421875 \nQ 24.65625 -1.421875 15.125 8.703125 \nQ 5.609375 18.84375 5.609375 36.375 \nQ 5.609375 53.953125 15.125 64.078125 \nQ 24.65625 74.21875 41.21875 74.21875 \nQ 47.75 74.21875 53.53125 72.484375 \nQ 59.328125 70.75 64.40625 67.28125 \nz\n\" id=\"DejaVuSans-67\"/>\n       <path d=\"M 54.890625 33.015625 \nL 54.890625 0 \nL 45.90625 0 \nL 45.90625 32.71875 \nQ 45.90625 40.484375 42.875 44.328125 \nQ 39.84375 48.1875 33.796875 48.1875 \nQ 26.515625 48.1875 22.3125 43.546875 \nQ 18.109375 38.921875 18.109375 30.90625 \nL 18.109375 0 \nL 9.078125 0 \nL 9.078125 75.984375 \nL 18.109375 75.984375 \nL 18.109375 46.1875 \nQ 21.34375 51.125 25.703125 53.5625 \nQ 30.078125 56 35.796875 56 \nQ 45.21875 56 50.046875 50.171875 \nQ 54.890625 44.34375 54.890625 33.015625 \nz\n\" id=\"DejaVuSans-104\"/>\n       <path d=\"M 30.609375 48.390625 \nQ 23.390625 48.390625 19.1875 42.75 \nQ 14.984375 37.109375 14.984375 27.296875 \nQ 14.984375 17.484375 19.15625 11.84375 \nQ 23.34375 6.203125 30.609375 6.203125 \nQ 37.796875 6.203125 41.984375 11.859375 \nQ 46.1875 17.53125 46.1875 27.296875 \nQ 46.1875 37.015625 41.984375 42.703125 \nQ 37.796875 48.390625 30.609375 48.390625 \nz\nM 30.609375 56 \nQ 42.328125 56 49.015625 48.375 \nQ 55.71875 40.765625 55.71875 27.296875 \nQ 55.71875 13.875 49.015625 6.21875 \nQ 42.328125 -1.421875 30.609375 -1.421875 \nQ 18.84375 -1.421875 12.171875 6.21875 \nQ 5.515625 13.875 5.515625 27.296875 \nQ 5.515625 40.765625 12.171875 48.375 \nQ 18.84375 56 30.609375 56 \nz\n\" id=\"DejaVuSans-111\"/>\n       <path d=\"M 44.28125 53.078125 \nL 44.28125 44.578125 \nQ 40.484375 46.53125 36.375 47.5 \nQ 32.28125 48.484375 27.875 48.484375 \nQ 21.1875 48.484375 17.84375 46.4375 \nQ 14.5 44.390625 14.5 40.28125 \nQ 14.5 37.15625 16.890625 35.375 \nQ 19.28125 33.59375 26.515625 31.984375 \nL 29.59375 31.296875 \nQ 39.15625 29.25 43.1875 25.515625 \nQ 47.21875 21.78125 47.21875 15.09375 \nQ 47.21875 7.46875 41.1875 3.015625 \nQ 35.15625 -1.421875 24.609375 -1.421875 \nQ 20.21875 -1.421875 15.453125 -0.5625 \nQ 10.6875 0.296875 5.421875 2 \nL 5.421875 11.28125 \nQ 10.40625 8.6875 15.234375 7.390625 \nQ 20.0625 6.109375 24.8125 6.109375 \nQ 31.15625 6.109375 34.5625 8.28125 \nQ 37.984375 10.453125 37.984375 14.40625 \nQ 37.984375 18.0625 35.515625 20.015625 \nQ 33.0625 21.96875 24.703125 23.78125 \nL 21.578125 24.515625 \nQ 13.234375 26.265625 9.515625 29.90625 \nQ 5.8125 33.546875 5.8125 39.890625 \nQ 5.8125 47.609375 11.28125 51.796875 \nQ 16.75 56 26.8125 56 \nQ 31.78125 56 36.171875 55.265625 \nQ 40.578125 54.546875 44.28125 53.078125 \nz\n\" id=\"DejaVuSans-115\"/>\n      </defs>\n      <g transform=\"translate(152.049092 460.477656)scale(0.1 -0.1)\">\n       <use xlink:href=\"#DejaVuSans-67\"/>\n       <use x=\"69.824219\" xlink:href=\"#DejaVuSans-104\"/>\n       <use x=\"133.203125\" xlink:href=\"#DejaVuSans-111\"/>\n       <use x=\"194.384766\" xlink:href=\"#DejaVuSans-111\"/>\n       <use x=\"255.566406\" xlink:href=\"#DejaVuSans-115\"/>\n       <use x=\"307.666016\" xlink:href=\"#DejaVuSans-101\"/>\n      </g>\n     </g>\n    </g>\n    <g id=\"xtick_3\">\n     <g id=\"line2d_3\">\n      <g>\n       <use style=\"stroke:#000000;stroke-width:0.8;\" x=\"241.822191\" xlink:href=\"#md968c967a5\" y=\"445.879219\"/>\n      </g>\n     </g>\n     <g id=\"text_3\">\n      <!-- Connection -->\n      <defs>\n       <path d=\"M 48.78125 52.59375 \nL 48.78125 44.1875 \nQ 44.96875 46.296875 41.140625 47.34375 \nQ 37.3125 48.390625 33.40625 48.390625 \nQ 24.65625 48.390625 19.8125 42.84375 \nQ 14.984375 37.3125 14.984375 27.296875 \nQ 14.984375 17.28125 19.8125 11.734375 \nQ 24.65625 6.203125 33.40625 6.203125 \nQ 37.3125 6.203125 41.140625 7.25 \nQ 44.96875 8.296875 48.78125 10.40625 \nL 48.78125 2.09375 \nQ 45.015625 0.34375 40.984375 -0.53125 \nQ 36.96875 -1.421875 32.421875 -1.421875 \nQ 20.0625 -1.421875 12.78125 6.34375 \nQ 5.515625 14.109375 5.515625 27.296875 \nQ 5.515625 40.671875 12.859375 48.328125 \nQ 20.21875 56 33.015625 56 \nQ 37.15625 56 41.109375 55.140625 \nQ 45.0625 54.296875 48.78125 52.59375 \nz\n\" id=\"DejaVuSans-99\"/>\n       <path d=\"M 18.3125 70.21875 \nL 18.3125 54.6875 \nL 36.8125 54.6875 \nL 36.8125 47.703125 \nL 18.3125 47.703125 \nL 18.3125 18.015625 \nQ 18.3125 11.328125 20.140625 9.421875 \nQ 21.96875 7.515625 27.59375 7.515625 \nL 36.8125 7.515625 \nL 36.8125 0 \nL 27.59375 0 \nQ 17.1875 0 13.234375 3.875 \nQ 9.28125 7.765625 9.28125 18.015625 \nL 9.28125 47.703125 \nL 2.6875 47.703125 \nL 2.6875 54.6875 \nL 9.28125 54.6875 \nL 9.28125 70.21875 \nz\n\" id=\"DejaVuSans-116\"/>\n      </defs>\n      <g transform=\"translate(213.530784 460.477656)scale(0.1 -0.1)\">\n       <use xlink:href=\"#DejaVuSans-67\"/>\n       <use x=\"69.824219\" xlink:href=\"#DejaVuSans-111\"/>\n       <use x=\"131.005859\" xlink:href=\"#DejaVuSans-110\"/>\n       <use x=\"194.384766\" xlink:href=\"#DejaVuSans-110\"/>\n       <use x=\"257.763672\" xlink:href=\"#DejaVuSans-101\"/>\n       <use x=\"319.287109\" xlink:href=\"#DejaVuSans-99\"/>\n       <use x=\"374.267578\" xlink:href=\"#DejaVuSans-116\"/>\n       <use x=\"413.476562\" xlink:href=\"#DejaVuSans-105\"/>\n       <use x=\"441.259766\" xlink:href=\"#DejaVuSans-111\"/>\n       <use x=\"502.441406\" xlink:href=\"#DejaVuSans-110\"/>\n      </g>\n     </g>\n    </g>\n    <g id=\"xtick_4\">\n     <g id=\"line2d_4\">\n      <g>\n       <use style=\"stroke:#000000;stroke-width:0.8;\" x=\"313.135132\" xlink:href=\"#md968c967a5\" y=\"445.879219\"/>\n      </g>\n     </g>\n     <g id=\"text_4\">\n      <!-- Navigation -->\n      <defs>\n       <path d=\"M 9.8125 72.90625 \nL 23.09375 72.90625 \nL 55.421875 11.921875 \nL 55.421875 72.90625 \nL 64.984375 72.90625 \nL 64.984375 0 \nL 51.703125 0 \nL 19.390625 60.984375 \nL 19.390625 0 \nL 9.8125 0 \nz\n\" id=\"DejaVuSans-78\"/>\n       <path d=\"M 34.28125 27.484375 \nQ 23.390625 27.484375 19.1875 25 \nQ 14.984375 22.515625 14.984375 16.5 \nQ 14.984375 11.71875 18.140625 8.90625 \nQ 21.296875 6.109375 26.703125 6.109375 \nQ 34.1875 6.109375 38.703125 11.40625 \nQ 43.21875 16.703125 43.21875 25.484375 \nL 43.21875 27.484375 \nz\nM 52.203125 31.203125 \nL 52.203125 0 \nL 43.21875 0 \nL 43.21875 8.296875 \nQ 40.140625 3.328125 35.546875 0.953125 \nQ 30.953125 -1.421875 24.3125 -1.421875 \nQ 15.921875 -1.421875 10.953125 3.296875 \nQ 6 8.015625 6 15.921875 \nQ 6 25.140625 12.171875 29.828125 \nQ 18.359375 34.515625 30.609375 34.515625 \nL 43.21875 34.515625 \nL 43.21875 35.40625 \nQ 43.21875 41.609375 39.140625 45 \nQ 35.0625 48.390625 27.6875 48.390625 \nQ 23 48.390625 18.546875 47.265625 \nQ 14.109375 46.140625 10.015625 43.890625 \nL 10.015625 52.203125 \nQ 14.9375 54.109375 19.578125 55.046875 \nQ 24.21875 56 28.609375 56 \nQ 40.484375 56 46.34375 49.84375 \nQ 52.203125 43.703125 52.203125 31.203125 \nz\n\" id=\"DejaVuSans-97\"/>\n       <path d=\"M 2.984375 54.6875 \nL 12.5 54.6875 \nL 29.59375 8.796875 \nL 46.6875 54.6875 \nL 56.203125 54.6875 \nL 35.6875 0 \nL 23.484375 0 \nz\n\" id=\"DejaVuSans-118\"/>\n      </defs>\n      <g transform=\"translate(286.166382 460.477656)scale(0.1 -0.1)\">\n       <use xlink:href=\"#DejaVuSans-78\"/>\n       <use x=\"74.804688\" xlink:href=\"#DejaVuSans-97\"/>\n       <use x=\"136.083984\" xlink:href=\"#DejaVuSans-118\"/>\n       <use x=\"195.263672\" xlink:href=\"#DejaVuSans-105\"/>\n       <use x=\"223.046875\" xlink:href=\"#DejaVuSans-103\"/>\n       <use x=\"286.523438\" xlink:href=\"#DejaVuSans-97\"/>\n       <use x=\"347.802734\" xlink:href=\"#DejaVuSans-116\"/>\n       <use x=\"387.011719\" xlink:href=\"#DejaVuSans-105\"/>\n       <use x=\"414.794922\" xlink:href=\"#DejaVuSans-111\"/>\n       <use x=\"475.976562\" xlink:href=\"#DejaVuSans-110\"/>\n      </g>\n     </g>\n    </g>\n    <g id=\"xtick_5\">\n     <g id=\"line2d_5\">\n      <g>\n       <use style=\"stroke:#000000;stroke-width:0.8;\" x=\"384.448074\" xlink:href=\"#md968c967a5\" y=\"445.879219\"/>\n      </g>\n     </g>\n     <g id=\"text_5\">\n      <!-- Next -->\n      <defs>\n       <path d=\"M 54.890625 54.6875 \nL 35.109375 28.078125 \nL 55.90625 0 \nL 45.3125 0 \nL 29.390625 21.484375 \nL 13.484375 0 \nL 2.875 0 \nL 24.125 28.609375 \nL 4.6875 54.6875 \nL 15.28125 54.6875 \nL 29.78125 35.203125 \nL 44.28125 54.6875 \nz\n\" id=\"DejaVuSans-120\"/>\n      </defs>\n      <g transform=\"translate(372.712137 460.477656)scale(0.1 -0.1)\">\n       <use xlink:href=\"#DejaVuSans-78\"/>\n       <use x=\"74.804688\" xlink:href=\"#DejaVuSans-101\"/>\n       <use x=\"136.3125\" xlink:href=\"#DejaVuSans-120\"/>\n       <use x=\"195.492188\" xlink:href=\"#DejaVuSans-116\"/>\n      </g>\n     </g>\n    </g>\n    <g id=\"xtick_6\">\n     <g id=\"line2d_6\">\n      <g>\n       <use style=\"stroke:#000000;stroke-width:0.8;\" x=\"455.761016\" xlink:href=\"#md968c967a5\" y=\"445.879219\"/>\n      </g>\n     </g>\n     <g id=\"text_6\">\n      <!-- Previous -->\n      <defs>\n       <path d=\"M 19.671875 64.796875 \nL 19.671875 37.40625 \nL 32.078125 37.40625 \nQ 38.96875 37.40625 42.71875 40.96875 \nQ 46.484375 44.53125 46.484375 51.125 \nQ 46.484375 57.671875 42.71875 61.234375 \nQ 38.96875 64.796875 32.078125 64.796875 \nz\nM 9.8125 72.90625 \nL 32.078125 72.90625 \nQ 44.34375 72.90625 50.609375 67.359375 \nQ 56.890625 61.8125 56.890625 51.125 \nQ 56.890625 40.328125 50.609375 34.8125 \nQ 44.34375 29.296875 32.078125 29.296875 \nL 19.671875 29.296875 \nL 19.671875 0 \nL 9.8125 0 \nz\n\" id=\"DejaVuSans-80\"/>\n       <path d=\"M 41.109375 46.296875 \nQ 39.59375 47.171875 37.8125 47.578125 \nQ 36.03125 48 33.890625 48 \nQ 26.265625 48 22.1875 43.046875 \nQ 18.109375 38.09375 18.109375 28.8125 \nL 18.109375 0 \nL 9.078125 0 \nL 9.078125 54.6875 \nL 18.109375 54.6875 \nL 18.109375 46.1875 \nQ 20.953125 51.171875 25.484375 53.578125 \nQ 30.03125 56 36.53125 56 \nQ 37.453125 56 38.578125 55.875 \nQ 39.703125 55.765625 41.0625 55.515625 \nz\n\" id=\"DejaVuSans-114\"/>\n       <path d=\"M 8.5 21.578125 \nL 8.5 54.6875 \nL 17.484375 54.6875 \nL 17.484375 21.921875 \nQ 17.484375 14.15625 20.5 10.265625 \nQ 23.53125 6.390625 29.59375 6.390625 \nQ 36.859375 6.390625 41.078125 11.03125 \nQ 45.3125 15.671875 45.3125 23.6875 \nL 45.3125 54.6875 \nL 54.296875 54.6875 \nL 54.296875 0 \nL 45.3125 0 \nL 45.3125 8.40625 \nQ 42.046875 3.421875 37.71875 1 \nQ 33.40625 -1.421875 27.6875 -1.421875 \nQ 18.265625 -1.421875 13.375 4.4375 \nQ 8.5 10.296875 8.5 21.578125 \nz\nM 31.109375 56 \nz\n\" id=\"DejaVuSans-117\"/>\n      </defs>\n      <g transform=\"translate(434.435235 460.477656)scale(0.1 -0.1)\">\n       <use xlink:href=\"#DejaVuSans-80\"/>\n       <use x=\"60.287109\" xlink:href=\"#DejaVuSans-114\"/>\n       <use x=\"101.369141\" xlink:href=\"#DejaVuSans-101\"/>\n       <use x=\"162.892578\" xlink:href=\"#DejaVuSans-118\"/>\n       <use x=\"222.072266\" xlink:href=\"#DejaVuSans-105\"/>\n       <use x=\"249.855469\" xlink:href=\"#DejaVuSans-111\"/>\n       <use x=\"311.037109\" xlink:href=\"#DejaVuSans-117\"/>\n       <use x=\"374.416016\" xlink:href=\"#DejaVuSans-115\"/>\n      </g>\n     </g>\n    </g>\n    <g id=\"xtick_7\">\n     <g id=\"line2d_7\">\n      <g>\n       <use style=\"stroke:#000000;stroke-width:0.8;\" x=\"527.073958\" xlink:href=\"#md968c967a5\" y=\"445.879219\"/>\n      </g>\n     </g>\n     <g id=\"text_7\">\n      <!-- Start -->\n      <defs>\n       <path d=\"M 53.515625 70.515625 \nL 53.515625 60.890625 \nQ 47.90625 63.578125 42.921875 64.890625 \nQ 37.9375 66.21875 33.296875 66.21875 \nQ 25.25 66.21875 20.875 63.09375 \nQ 16.5 59.96875 16.5 54.203125 \nQ 16.5 49.359375 19.40625 46.890625 \nQ 22.3125 44.4375 30.421875 42.921875 \nL 36.375 41.703125 \nQ 47.40625 39.59375 52.65625 34.296875 \nQ 57.90625 29 57.90625 20.125 \nQ 57.90625 9.515625 50.796875 4.046875 \nQ 43.703125 -1.421875 29.984375 -1.421875 \nQ 24.8125 -1.421875 18.96875 -0.25 \nQ 13.140625 0.921875 6.890625 3.21875 \nL 6.890625 13.375 \nQ 12.890625 10.015625 18.65625 8.296875 \nQ 24.421875 6.59375 29.984375 6.59375 \nQ 38.421875 6.59375 43.015625 9.90625 \nQ 47.609375 13.234375 47.609375 19.390625 \nQ 47.609375 24.75 44.3125 27.78125 \nQ 41.015625 30.8125 33.5 32.328125 \nL 27.484375 33.5 \nQ 16.453125 35.6875 11.515625 40.375 \nQ 6.59375 45.0625 6.59375 53.421875 \nQ 6.59375 63.09375 13.40625 68.65625 \nQ 20.21875 74.21875 32.171875 74.21875 \nQ 37.3125 74.21875 42.625 73.28125 \nQ 47.953125 72.359375 53.515625 70.515625 \nz\n\" id=\"DejaVuSans-83\"/>\n      </defs>\n      <g transform=\"translate(514.859896 460.477656)scale(0.1 -0.1)\">\n       <use xlink:href=\"#DejaVuSans-83\"/>\n       <use x=\"63.476562\" xlink:href=\"#DejaVuSans-116\"/>\n       <use x=\"102.685547\" xlink:href=\"#DejaVuSans-97\"/>\n       <use x=\"163.964844\" xlink:href=\"#DejaVuSans-114\"/>\n       <use x=\"205.078125\" xlink:href=\"#DejaVuSans-116\"/>\n      </g>\n     </g>\n    </g>\n    <g id=\"xtick_8\">\n     <g id=\"line2d_8\">\n      <g>\n       <use style=\"stroke:#000000;stroke-width:0.8;\" x=\"598.3869\" xlink:href=\"#md968c967a5\" y=\"445.879219\"/>\n      </g>\n     </g>\n     <g id=\"text_8\">\n      <!-- Stop -->\n      <defs>\n       <path d=\"M 18.109375 8.203125 \nL 18.109375 -20.796875 \nL 9.078125 -20.796875 \nL 9.078125 54.6875 \nL 18.109375 54.6875 \nL 18.109375 46.390625 \nQ 20.953125 51.265625 25.265625 53.625 \nQ 29.59375 56 35.59375 56 \nQ 45.5625 56 51.78125 48.09375 \nQ 58.015625 40.1875 58.015625 27.296875 \nQ 58.015625 14.40625 51.78125 6.484375 \nQ 45.5625 -1.421875 35.59375 -1.421875 \nQ 29.59375 -1.421875 25.265625 0.953125 \nQ 20.953125 3.328125 18.109375 8.203125 \nz\nM 48.6875 27.296875 \nQ 48.6875 37.203125 44.609375 42.84375 \nQ 40.53125 48.484375 33.40625 48.484375 \nQ 26.265625 48.484375 22.1875 42.84375 \nQ 18.109375 37.203125 18.109375 27.296875 \nQ 18.109375 17.390625 22.1875 11.75 \nQ 26.265625 6.109375 33.40625 6.109375 \nQ 40.53125 6.109375 44.609375 11.75 \nQ 48.6875 17.390625 48.6875 27.296875 \nz\n\" id=\"DejaVuSans-112\"/>\n      </defs>\n      <g transform=\"translate(587.018932 460.477656)scale(0.1 -0.1)\">\n       <use xlink:href=\"#DejaVuSans-83\"/>\n       <use x=\"63.476562\" xlink:href=\"#DejaVuSans-116\"/>\n       <use x=\"102.685547\" xlink:href=\"#DejaVuSans-111\"/>\n       <use x=\"163.867188\" xlink:href=\"#DejaVuSans-112\"/>\n      </g>\n     </g>\n    </g>\n    <g id=\"xtick_9\">\n     <g id=\"line2d_9\">\n      <g>\n       <use style=\"stroke:#000000;stroke-width:0.8;\" x=\"669.699842\" xlink:href=\"#md968c967a5\" y=\"445.879219\"/>\n      </g>\n     </g>\n     <g id=\"text_9\">\n      <!-- Hello -->\n      <defs>\n       <path d=\"M 9.8125 72.90625 \nL 19.671875 72.90625 \nL 19.671875 43.015625 \nL 55.515625 43.015625 \nL 55.515625 72.90625 \nL 65.375 72.90625 \nL 65.375 0 \nL 55.515625 0 \nL 55.515625 34.71875 \nL 19.671875 34.71875 \nL 19.671875 0 \nL 9.8125 0 \nz\n\" id=\"DejaVuSans-72\"/>\n       <path d=\"M 9.421875 75.984375 \nL 18.40625 75.984375 \nL 18.40625 0 \nL 9.421875 0 \nz\n\" id=\"DejaVuSans-108\"/>\n      </defs>\n      <g transform=\"translate(657.025624 460.477656)scale(0.1 -0.1)\">\n       <use xlink:href=\"#DejaVuSans-72\"/>\n       <use x=\"75.195312\" xlink:href=\"#DejaVuSans-101\"/>\n       <use x=\"136.71875\" xlink:href=\"#DejaVuSans-108\"/>\n       <use x=\"164.501953\" xlink:href=\"#DejaVuSans-108\"/>\n       <use x=\"192.285156\" xlink:href=\"#DejaVuSans-111\"/>\n      </g>\n     </g>\n    </g>\n    <g id=\"xtick_10\">\n     <g id=\"line2d_10\">\n      <g>\n       <use style=\"stroke:#000000;stroke-width:0.8;\" x=\"741.012784\" xlink:href=\"#md968c967a5\" y=\"445.879219\"/>\n      </g>\n     </g>\n     <g id=\"text_10\">\n      <!-- Web -->\n      <defs>\n       <path d=\"M 3.328125 72.90625 \nL 13.28125 72.90625 \nL 28.609375 11.28125 \nL 43.890625 72.90625 \nL 54.984375 72.90625 \nL 70.3125 11.28125 \nL 85.59375 72.90625 \nL 95.609375 72.90625 \nL 77.296875 0 \nL 64.890625 0 \nL 49.515625 63.28125 \nL 33.984375 0 \nL 21.578125 0 \nz\n\" id=\"DejaVuSans-87\"/>\n       <path d=\"M 48.6875 27.296875 \nQ 48.6875 37.203125 44.609375 42.84375 \nQ 40.53125 48.484375 33.40625 48.484375 \nQ 26.265625 48.484375 22.1875 42.84375 \nQ 18.109375 37.203125 18.109375 27.296875 \nQ 18.109375 17.390625 22.1875 11.75 \nQ 26.265625 6.109375 33.40625 6.109375 \nQ 40.53125 6.109375 44.609375 11.75 \nQ 48.6875 17.390625 48.6875 27.296875 \nz\nM 18.109375 46.390625 \nQ 20.953125 51.265625 25.265625 53.625 \nQ 29.59375 56 35.59375 56 \nQ 45.5625 56 51.78125 48.09375 \nQ 58.015625 40.1875 58.015625 27.296875 \nQ 58.015625 14.40625 51.78125 6.484375 \nQ 45.5625 -1.421875 35.59375 -1.421875 \nQ 29.59375 -1.421875 25.265625 0.953125 \nQ 20.953125 3.328125 18.109375 8.203125 \nL 18.109375 0 \nL 9.078125 0 \nL 9.078125 75.984375 \nL 18.109375 75.984375 \nz\n\" id=\"DejaVuSans-98\"/>\n      </defs>\n      <g transform=\"translate(729.822159 460.477656)scale(0.1 -0.1)\">\n       <use xlink:href=\"#DejaVuSans-87\"/>\n       <use x=\"98.798828\" xlink:href=\"#DejaVuSans-101\"/>\n       <use x=\"160.322266\" xlink:href=\"#DejaVuSans-98\"/>\n      </g>\n     </g>\n    </g>\n   </g>\n   <g id=\"matplotlib.axis_2\">\n    <g id=\"ytick_1\">\n     <g id=\"line2d_11\">\n      <defs>\n       <path d=\"M 0 0 \nL -3.5 0 \n\" id=\"mc0ee317c0e\" style=\"stroke:#000000;stroke-width:0.8;\"/>\n      </defs>\n      <g>\n       <use style=\"stroke:#000000;stroke-width:0.8;\" x=\"39.65\" xlink:href=\"#mc0ee317c0e\" y=\"445.879219\"/>\n      </g>\n     </g>\n     <g id=\"text_11\">\n      <!-- 0 -->\n      <defs>\n       <path d=\"M 31.78125 66.40625 \nQ 24.171875 66.40625 20.328125 58.90625 \nQ 16.5 51.421875 16.5 36.375 \nQ 16.5 21.390625 20.328125 13.890625 \nQ 24.171875 6.390625 31.78125 6.390625 \nQ 39.453125 6.390625 43.28125 13.890625 \nQ 47.125 21.390625 47.125 36.375 \nQ 47.125 51.421875 43.28125 58.90625 \nQ 39.453125 66.40625 31.78125 66.40625 \nz\nM 31.78125 74.21875 \nQ 44.046875 74.21875 50.515625 64.515625 \nQ 56.984375 54.828125 56.984375 36.375 \nQ 56.984375 17.96875 50.515625 8.265625 \nQ 44.046875 -1.421875 31.78125 -1.421875 \nQ 19.53125 -1.421875 13.0625 8.265625 \nQ 6.59375 17.96875 6.59375 36.375 \nQ 6.59375 54.828125 13.0625 64.515625 \nQ 19.53125 74.21875 31.78125 74.21875 \nz\n\" id=\"DejaVuSans-48\"/>\n      </defs>\n      <g transform=\"translate(26.2875 449.678437)scale(0.1 -0.1)\">\n       <use xlink:href=\"#DejaVuSans-48\"/>\n      </g>\n     </g>\n    </g>\n    <g id=\"ytick_2\">\n     <g id=\"line2d_12\">\n      <g>\n       <use style=\"stroke:#000000;stroke-width:0.8;\" x=\"39.65\" xlink:href=\"#mc0ee317c0e\" y=\"392.780318\"/>\n      </g>\n     </g>\n     <g id=\"text_12\">\n      <!-- 150 -->\n      <defs>\n       <path d=\"M 12.40625 8.296875 \nL 28.515625 8.296875 \nL 28.515625 63.921875 \nL 10.984375 60.40625 \nL 10.984375 69.390625 \nL 28.421875 72.90625 \nL 38.28125 72.90625 \nL 38.28125 8.296875 \nL 54.390625 8.296875 \nL 54.390625 0 \nL 12.40625 0 \nz\n\" id=\"DejaVuSans-49\"/>\n       <path d=\"M 10.796875 72.90625 \nL 49.515625 72.90625 \nL 49.515625 64.59375 \nL 19.828125 64.59375 \nL 19.828125 46.734375 \nQ 21.96875 47.46875 24.109375 47.828125 \nQ 26.265625 48.1875 28.421875 48.1875 \nQ 40.625 48.1875 47.75 41.5 \nQ 54.890625 34.8125 54.890625 23.390625 \nQ 54.890625 11.625 47.5625 5.09375 \nQ 40.234375 -1.421875 26.90625 -1.421875 \nQ 22.3125 -1.421875 17.546875 -0.640625 \nQ 12.796875 0.140625 7.71875 1.703125 \nL 7.71875 11.625 \nQ 12.109375 9.234375 16.796875 8.0625 \nQ 21.484375 6.890625 26.703125 6.890625 \nQ 35.15625 6.890625 40.078125 11.328125 \nQ 45.015625 15.765625 45.015625 23.390625 \nQ 45.015625 31 40.078125 35.4375 \nQ 35.15625 39.890625 26.703125 39.890625 \nQ 22.75 39.890625 18.8125 39.015625 \nQ 14.890625 38.140625 10.796875 36.28125 \nz\n\" id=\"DejaVuSans-53\"/>\n      </defs>\n      <g transform=\"translate(13.5625 396.579536)scale(0.1 -0.1)\">\n       <use xlink:href=\"#DejaVuSans-49\"/>\n       <use x=\"63.623047\" xlink:href=\"#DejaVuSans-53\"/>\n       <use x=\"127.246094\" xlink:href=\"#DejaVuSans-48\"/>\n      </g>\n     </g>\n    </g>\n    <g id=\"ytick_3\">\n     <g id=\"line2d_13\">\n      <g>\n       <use style=\"stroke:#000000;stroke-width:0.8;\" x=\"39.65\" xlink:href=\"#mc0ee317c0e\" y=\"339.681417\"/>\n      </g>\n     </g>\n     <g id=\"text_13\">\n      <!-- 300 -->\n      <defs>\n       <path d=\"M 40.578125 39.3125 \nQ 47.65625 37.796875 51.625 33 \nQ 55.609375 28.21875 55.609375 21.1875 \nQ 55.609375 10.40625 48.1875 4.484375 \nQ 40.765625 -1.421875 27.09375 -1.421875 \nQ 22.515625 -1.421875 17.65625 -0.515625 \nQ 12.796875 0.390625 7.625 2.203125 \nL 7.625 11.71875 \nQ 11.71875 9.328125 16.59375 8.109375 \nQ 21.484375 6.890625 26.8125 6.890625 \nQ 36.078125 6.890625 40.9375 10.546875 \nQ 45.796875 14.203125 45.796875 21.1875 \nQ 45.796875 27.640625 41.28125 31.265625 \nQ 36.765625 34.90625 28.71875 34.90625 \nL 20.21875 34.90625 \nL 20.21875 43.015625 \nL 29.109375 43.015625 \nQ 36.375 43.015625 40.234375 45.921875 \nQ 44.09375 48.828125 44.09375 54.296875 \nQ 44.09375 59.90625 40.109375 62.90625 \nQ 36.140625 65.921875 28.71875 65.921875 \nQ 24.65625 65.921875 20.015625 65.03125 \nQ 15.375 64.15625 9.8125 62.3125 \nL 9.8125 71.09375 \nQ 15.4375 72.65625 20.34375 73.4375 \nQ 25.25 74.21875 29.59375 74.21875 \nQ 40.828125 74.21875 47.359375 69.109375 \nQ 53.90625 64.015625 53.90625 55.328125 \nQ 53.90625 49.265625 50.4375 45.09375 \nQ 46.96875 40.921875 40.578125 39.3125 \nz\n\" id=\"DejaVuSans-51\"/>\n      </defs>\n      <g transform=\"translate(13.5625 343.480635)scale(0.1 -0.1)\">\n       <use xlink:href=\"#DejaVuSans-51\"/>\n       <use x=\"63.623047\" xlink:href=\"#DejaVuSans-48\"/>\n       <use x=\"127.246094\" xlink:href=\"#DejaVuSans-48\"/>\n      </g>\n     </g>\n    </g>\n    <g id=\"ytick_4\">\n     <g id=\"line2d_14\">\n      <g>\n       <use style=\"stroke:#000000;stroke-width:0.8;\" x=\"39.65\" xlink:href=\"#mc0ee317c0e\" y=\"286.582515\"/>\n      </g>\n     </g>\n     <g id=\"text_14\">\n      <!-- 450 -->\n      <defs>\n       <path d=\"M 37.796875 64.3125 \nL 12.890625 25.390625 \nL 37.796875 25.390625 \nz\nM 35.203125 72.90625 \nL 47.609375 72.90625 \nL 47.609375 25.390625 \nL 58.015625 25.390625 \nL 58.015625 17.1875 \nL 47.609375 17.1875 \nL 47.609375 0 \nL 37.796875 0 \nL 37.796875 17.1875 \nL 4.890625 17.1875 \nL 4.890625 26.703125 \nz\n\" id=\"DejaVuSans-52\"/>\n      </defs>\n      <g transform=\"translate(13.5625 290.381734)scale(0.1 -0.1)\">\n       <use xlink:href=\"#DejaVuSans-52\"/>\n       <use x=\"63.623047\" xlink:href=\"#DejaVuSans-53\"/>\n       <use x=\"127.246094\" xlink:href=\"#DejaVuSans-48\"/>\n      </g>\n     </g>\n    </g>\n    <g id=\"ytick_5\">\n     <g id=\"line2d_15\">\n      <g>\n       <use style=\"stroke:#000000;stroke-width:0.8;\" x=\"39.65\" xlink:href=\"#mc0ee317c0e\" y=\"233.483614\"/>\n      </g>\n     </g>\n     <g id=\"text_15\">\n      <!-- 600 -->\n      <defs>\n       <path d=\"M 33.015625 40.375 \nQ 26.375 40.375 22.484375 35.828125 \nQ 18.609375 31.296875 18.609375 23.390625 \nQ 18.609375 15.53125 22.484375 10.953125 \nQ 26.375 6.390625 33.015625 6.390625 \nQ 39.65625 6.390625 43.53125 10.953125 \nQ 47.40625 15.53125 47.40625 23.390625 \nQ 47.40625 31.296875 43.53125 35.828125 \nQ 39.65625 40.375 33.015625 40.375 \nz\nM 52.59375 71.296875 \nL 52.59375 62.3125 \nQ 48.875 64.0625 45.09375 64.984375 \nQ 41.3125 65.921875 37.59375 65.921875 \nQ 27.828125 65.921875 22.671875 59.328125 \nQ 17.53125 52.734375 16.796875 39.40625 \nQ 19.671875 43.65625 24.015625 45.921875 \nQ 28.375 48.1875 33.59375 48.1875 \nQ 44.578125 48.1875 50.953125 41.515625 \nQ 57.328125 34.859375 57.328125 23.390625 \nQ 57.328125 12.15625 50.6875 5.359375 \nQ 44.046875 -1.421875 33.015625 -1.421875 \nQ 20.359375 -1.421875 13.671875 8.265625 \nQ 6.984375 17.96875 6.984375 36.375 \nQ 6.984375 53.65625 15.1875 63.9375 \nQ 23.390625 74.21875 37.203125 74.21875 \nQ 40.921875 74.21875 44.703125 73.484375 \nQ 48.484375 72.75 52.59375 71.296875 \nz\n\" id=\"DejaVuSans-54\"/>\n      </defs>\n      <g transform=\"translate(13.5625 237.282833)scale(0.1 -0.1)\">\n       <use xlink:href=\"#DejaVuSans-54\"/>\n       <use x=\"63.623047\" xlink:href=\"#DejaVuSans-48\"/>\n       <use x=\"127.246094\" xlink:href=\"#DejaVuSans-48\"/>\n      </g>\n     </g>\n    </g>\n    <g id=\"ytick_6\">\n     <g id=\"line2d_16\">\n      <g>\n       <use style=\"stroke:#000000;stroke-width:0.8;\" x=\"39.65\" xlink:href=\"#mc0ee317c0e\" y=\"180.384713\"/>\n      </g>\n     </g>\n     <g id=\"text_16\">\n      <!-- 750 -->\n      <defs>\n       <path d=\"M 8.203125 72.90625 \nL 55.078125 72.90625 \nL 55.078125 68.703125 \nL 28.609375 0 \nL 18.3125 0 \nL 43.21875 64.59375 \nL 8.203125 64.59375 \nz\n\" id=\"DejaVuSans-55\"/>\n      </defs>\n      <g transform=\"translate(13.5625 184.183932)scale(0.1 -0.1)\">\n       <use xlink:href=\"#DejaVuSans-55\"/>\n       <use x=\"63.623047\" xlink:href=\"#DejaVuSans-53\"/>\n       <use x=\"127.246094\" xlink:href=\"#DejaVuSans-48\"/>\n      </g>\n     </g>\n    </g>\n    <g id=\"ytick_7\">\n     <g id=\"line2d_17\">\n      <g>\n       <use style=\"stroke:#000000;stroke-width:0.8;\" x=\"39.65\" xlink:href=\"#mc0ee317c0e\" y=\"127.285812\"/>\n      </g>\n     </g>\n     <g id=\"text_17\">\n      <!-- 900 -->\n      <defs>\n       <path d=\"M 10.984375 1.515625 \nL 10.984375 10.5 \nQ 14.703125 8.734375 18.5 7.8125 \nQ 22.3125 6.890625 25.984375 6.890625 \nQ 35.75 6.890625 40.890625 13.453125 \nQ 46.046875 20.015625 46.78125 33.40625 \nQ 43.953125 29.203125 39.59375 26.953125 \nQ 35.25 24.703125 29.984375 24.703125 \nQ 19.046875 24.703125 12.671875 31.3125 \nQ 6.296875 37.9375 6.296875 49.421875 \nQ 6.296875 60.640625 12.9375 67.421875 \nQ 19.578125 74.21875 30.609375 74.21875 \nQ 43.265625 74.21875 49.921875 64.515625 \nQ 56.59375 54.828125 56.59375 36.375 \nQ 56.59375 19.140625 48.40625 8.859375 \nQ 40.234375 -1.421875 26.421875 -1.421875 \nQ 22.703125 -1.421875 18.890625 -0.6875 \nQ 15.09375 0.046875 10.984375 1.515625 \nz\nM 30.609375 32.421875 \nQ 37.25 32.421875 41.125 36.953125 \nQ 45.015625 41.5 45.015625 49.421875 \nQ 45.015625 57.28125 41.125 61.84375 \nQ 37.25 66.40625 30.609375 66.40625 \nQ 23.96875 66.40625 20.09375 61.84375 \nQ 16.21875 57.28125 16.21875 49.421875 \nQ 16.21875 41.5 20.09375 36.953125 \nQ 23.96875 32.421875 30.609375 32.421875 \nz\n\" id=\"DejaVuSans-57\"/>\n      </defs>\n      <g transform=\"translate(13.5625 131.085031)scale(0.1 -0.1)\">\n       <use xlink:href=\"#DejaVuSans-57\"/>\n       <use x=\"63.623047\" xlink:href=\"#DejaVuSans-48\"/>\n       <use x=\"127.246094\" xlink:href=\"#DejaVuSans-48\"/>\n      </g>\n     </g>\n    </g>\n    <g id=\"ytick_8\">\n     <g id=\"line2d_18\">\n      <g>\n       <use style=\"stroke:#000000;stroke-width:0.8;\" x=\"39.65\" xlink:href=\"#mc0ee317c0e\" y=\"74.186911\"/>\n      </g>\n     </g>\n     <g id=\"text_18\">\n      <!-- 1050 -->\n      <g transform=\"translate(7.2 77.98613)scale(0.1 -0.1)\">\n       <use xlink:href=\"#DejaVuSans-49\"/>\n       <use x=\"63.623047\" xlink:href=\"#DejaVuSans-48\"/>\n       <use x=\"127.246094\" xlink:href=\"#DejaVuSans-53\"/>\n       <use x=\"190.869141\" xlink:href=\"#DejaVuSans-48\"/>\n      </g>\n     </g>\n    </g>\n   </g>\n   <g id=\"patch_23\">\n    <path d=\"M 39.65 445.879219 \nL 39.65 10.999219 \n\" style=\"fill:none;stroke:#000000;stroke-linecap:square;stroke-linejoin:miter;stroke-width:0.8;\"/>\n   </g>\n   <g id=\"patch_24\">\n    <path d=\"M 800.559091 445.879219 \nL 800.559091 10.999219 \n\" style=\"fill:none;stroke:#000000;stroke-linecap:square;stroke-linejoin:miter;stroke-width:0.8;\"/>\n   </g>\n   <g id=\"patch_25\">\n    <path d=\"M 39.65 445.879219 \nL 800.559091 445.879219 \n\" style=\"fill:none;stroke:#000000;stroke-linecap:square;stroke-linejoin:miter;stroke-width:0.8;\"/>\n   </g>\n   <g id=\"patch_26\">\n    <path d=\"M 39.65 10.999219 \nL 800.559091 10.999219 \n\" style=\"fill:none;stroke:#000000;stroke-linecap:square;stroke-linejoin:miter;stroke-width:0.8;\"/>\n   </g>\n  </g>\n  <g id=\"axes_2\">\n   <g id=\"patch_27\">\n    <path d=\"M 952.740909 445.879219 \nL 1713.65 445.879219 \nL 1713.65 10.999219 \nL 952.740909 10.999219 \nz\n\" style=\"fill:#ffffff;\"/>\n   </g>\n   <g id=\"patch_28\">\n    <path clip-path=\"url(#pf42d1a8fba)\" d=\"M 987.327686 445.879219 \nL 1037.246745 445.879219 \nL 1037.246745 96.755258 \nL 987.327686 96.755258 \nz\n\" style=\"fill:#1f77b4;\"/>\n   </g>\n   <g id=\"patch_29\">\n    <path clip-path=\"url(#pf42d1a8fba)\" d=\"M 1058.640628 445.879219 \nL 1108.559687 445.879219 \nL 1108.559687 93.735823 \nL 1058.640628 93.735823 \nz\n\" style=\"fill:#1f77b4;\"/>\n   </g>\n   <g id=\"patch_30\">\n    <path clip-path=\"url(#pf42d1a8fba)\" d=\"M 1129.95357 445.879219 \nL 1179.872629 445.879219 \nL 1179.872629 77.875095 \nL 1129.95357 77.875095 \nz\n\" style=\"fill:#1f77b4;\"/>\n   </g>\n   <g id=\"patch_31\">\n    <path clip-path=\"url(#pf42d1a8fba)\" d=\"M 1201.266512 445.879219 \nL 1251.185571 445.879219 \nL 1251.185571 94.351219 \nL 1201.266512 94.351219 \nz\n\" style=\"fill:#1f77b4;\"/>\n   </g>\n   <g id=\"patch_32\">\n    <path clip-path=\"url(#pf42d1a8fba)\" d=\"M 1272.579454 445.879219 \nL 1322.498513 445.879219 \nL 1322.498513 115.970253 \nL 1272.579454 115.970253 \nz\n\" style=\"fill:#1f77b4;\"/>\n   </g>\n   <g id=\"patch_33\">\n    <path clip-path=\"url(#pf42d1a8fba)\" d=\"M 1343.892396 445.879219 \nL 1393.811455 445.879219 \nL 1393.811455 83.479219 \nL 1343.892396 83.479219 \nz\n\" style=\"fill:#1f77b4;\"/>\n   </g>\n   <g id=\"patch_34\">\n    <path clip-path=\"url(#pf42d1a8fba)\" d=\"M 1415.205338 445.879219 \nL 1465.124397 445.879219 \nL 1465.124397 95.459384 \nL 1415.205338 95.459384 \nz\n\" style=\"fill:#1f77b4;\"/>\n   </g>\n   <g id=\"patch_35\">\n    <path clip-path=\"url(#pf42d1a8fba)\" d=\"M 1486.51828 445.879219 \nL 1536.437339 445.879219 \nL 1536.437339 80.744124 \nL 1486.51828 80.744124 \nz\n\" style=\"fill:#1f77b4;\"/>\n   </g>\n   <g id=\"patch_36\">\n    <path clip-path=\"url(#pf42d1a8fba)\" d=\"M 1557.831222 445.879219 \nL 1607.750281 445.879219 \nL 1607.750281 69.202855 \nL 1557.831222 69.202855 \nz\n\" style=\"fill:#1f77b4;\"/>\n   </g>\n   <g id=\"patch_37\">\n    <path clip-path=\"url(#pf42d1a8fba)\" d=\"M 1629.144164 445.879219 \nL 1679.063223 445.879219 \nL 1679.063223 103.068408 \nL 1629.144164 103.068408 \nz\n\" style=\"fill:#1f77b4;\"/>\n   </g>\n   <g id=\"matplotlib.axis_3\">\n    <g id=\"xtick_11\">\n     <g id=\"line2d_19\">\n      <g>\n       <use style=\"stroke:#000000;stroke-width:0.8;\" x=\"1012.287216\" xlink:href=\"#md968c967a5\" y=\"445.879219\"/>\n      </g>\n     </g>\n     <g id=\"text_19\">\n      <!-- Begin -->\n      <g transform=\"translate(998.048153 460.477656)scale(0.1 -0.1)\">\n       <use xlink:href=\"#DejaVuSans-66\"/>\n       <use x=\"68.603516\" xlink:href=\"#DejaVuSans-101\"/>\n       <use x=\"130.126953\" xlink:href=\"#DejaVuSans-103\"/>\n       <use x=\"193.603516\" xlink:href=\"#DejaVuSans-105\"/>\n       <use x=\"221.386719\" xlink:href=\"#DejaVuSans-110\"/>\n      </g>\n     </g>\n    </g>\n    <g id=\"xtick_12\">\n     <g id=\"line2d_20\">\n      <g>\n       <use style=\"stroke:#000000;stroke-width:0.8;\" x=\"1083.600158\" xlink:href=\"#md968c967a5\" y=\"445.879219\"/>\n      </g>\n     </g>\n     <g id=\"text_20\">\n      <!-- Choose -->\n      <g transform=\"translate(1065.140001 460.477656)scale(0.1 -0.1)\">\n       <use xlink:href=\"#DejaVuSans-67\"/>\n       <use x=\"69.824219\" xlink:href=\"#DejaVuSans-104\"/>\n       <use x=\"133.203125\" xlink:href=\"#DejaVuSans-111\"/>\n       <use x=\"194.384766\" xlink:href=\"#DejaVuSans-111\"/>\n       <use x=\"255.566406\" xlink:href=\"#DejaVuSans-115\"/>\n       <use x=\"307.666016\" xlink:href=\"#DejaVuSans-101\"/>\n      </g>\n     </g>\n    </g>\n    <g id=\"xtick_13\">\n     <g id=\"line2d_21\">\n      <g>\n       <use style=\"stroke:#000000;stroke-width:0.8;\" x=\"1154.9131\" xlink:href=\"#md968c967a5\" y=\"445.879219\"/>\n      </g>\n     </g>\n     <g id=\"text_21\">\n      <!-- Connection -->\n      <g transform=\"translate(1126.621693 460.477656)scale(0.1 -0.1)\">\n       <use xlink:href=\"#DejaVuSans-67\"/>\n       <use x=\"69.824219\" xlink:href=\"#DejaVuSans-111\"/>\n       <use x=\"131.005859\" xlink:href=\"#DejaVuSans-110\"/>\n       <use x=\"194.384766\" xlink:href=\"#DejaVuSans-110\"/>\n       <use x=\"257.763672\" xlink:href=\"#DejaVuSans-101\"/>\n       <use x=\"319.287109\" xlink:href=\"#DejaVuSans-99\"/>\n       <use x=\"374.267578\" xlink:href=\"#DejaVuSans-116\"/>\n       <use x=\"413.476562\" xlink:href=\"#DejaVuSans-105\"/>\n       <use x=\"441.259766\" xlink:href=\"#DejaVuSans-111\"/>\n       <use x=\"502.441406\" xlink:href=\"#DejaVuSans-110\"/>\n      </g>\n     </g>\n    </g>\n    <g id=\"xtick_14\">\n     <g id=\"line2d_22\">\n      <g>\n       <use style=\"stroke:#000000;stroke-width:0.8;\" x=\"1226.226042\" xlink:href=\"#md968c967a5\" y=\"445.879219\"/>\n      </g>\n     </g>\n     <g id=\"text_22\">\n      <!-- Navigation -->\n      <g transform=\"translate(1199.257292 460.477656)scale(0.1 -0.1)\">\n       <use xlink:href=\"#DejaVuSans-78\"/>\n       <use x=\"74.804688\" xlink:href=\"#DejaVuSans-97\"/>\n       <use x=\"136.083984\" xlink:href=\"#DejaVuSans-118\"/>\n       <use x=\"195.263672\" xlink:href=\"#DejaVuSans-105\"/>\n       <use x=\"223.046875\" xlink:href=\"#DejaVuSans-103\"/>\n       <use x=\"286.523438\" xlink:href=\"#DejaVuSans-97\"/>\n       <use x=\"347.802734\" xlink:href=\"#DejaVuSans-116\"/>\n       <use x=\"387.011719\" xlink:href=\"#DejaVuSans-105\"/>\n       <use x=\"414.794922\" xlink:href=\"#DejaVuSans-111\"/>\n       <use x=\"475.976562\" xlink:href=\"#DejaVuSans-110\"/>\n      </g>\n     </g>\n    </g>\n    <g id=\"xtick_15\">\n     <g id=\"line2d_23\">\n      <g>\n       <use style=\"stroke:#000000;stroke-width:0.8;\" x=\"1297.538984\" xlink:href=\"#md968c967a5\" y=\"445.879219\"/>\n      </g>\n     </g>\n     <g id=\"text_23\">\n      <!-- Next -->\n      <g transform=\"translate(1285.803046 460.477656)scale(0.1 -0.1)\">\n       <use xlink:href=\"#DejaVuSans-78\"/>\n       <use x=\"74.804688\" xlink:href=\"#DejaVuSans-101\"/>\n       <use x=\"136.3125\" xlink:href=\"#DejaVuSans-120\"/>\n       <use x=\"195.492188\" xlink:href=\"#DejaVuSans-116\"/>\n      </g>\n     </g>\n    </g>\n    <g id=\"xtick_16\">\n     <g id=\"line2d_24\">\n      <g>\n       <use style=\"stroke:#000000;stroke-width:0.8;\" x=\"1368.851926\" xlink:href=\"#md968c967a5\" y=\"445.879219\"/>\n      </g>\n     </g>\n     <g id=\"text_24\">\n      <!-- Previous -->\n      <g transform=\"translate(1347.526144 460.477656)scale(0.1 -0.1)\">\n       <use xlink:href=\"#DejaVuSans-80\"/>\n       <use x=\"60.287109\" xlink:href=\"#DejaVuSans-114\"/>\n       <use x=\"101.369141\" xlink:href=\"#DejaVuSans-101\"/>\n       <use x=\"162.892578\" xlink:href=\"#DejaVuSans-118\"/>\n       <use x=\"222.072266\" xlink:href=\"#DejaVuSans-105\"/>\n       <use x=\"249.855469\" xlink:href=\"#DejaVuSans-111\"/>\n       <use x=\"311.037109\" xlink:href=\"#DejaVuSans-117\"/>\n       <use x=\"374.416016\" xlink:href=\"#DejaVuSans-115\"/>\n      </g>\n     </g>\n    </g>\n    <g id=\"xtick_17\">\n     <g id=\"line2d_25\">\n      <g>\n       <use style=\"stroke:#000000;stroke-width:0.8;\" x=\"1440.164868\" xlink:href=\"#md968c967a5\" y=\"445.879219\"/>\n      </g>\n     </g>\n     <g id=\"text_25\">\n      <!-- Start -->\n      <g transform=\"translate(1427.950805 460.477656)scale(0.1 -0.1)\">\n       <use xlink:href=\"#DejaVuSans-83\"/>\n       <use x=\"63.476562\" xlink:href=\"#DejaVuSans-116\"/>\n       <use x=\"102.685547\" xlink:href=\"#DejaVuSans-97\"/>\n       <use x=\"163.964844\" xlink:href=\"#DejaVuSans-114\"/>\n       <use x=\"205.078125\" xlink:href=\"#DejaVuSans-116\"/>\n      </g>\n     </g>\n    </g>\n    <g id=\"xtick_18\">\n     <g id=\"line2d_26\">\n      <g>\n       <use style=\"stroke:#000000;stroke-width:0.8;\" x=\"1511.477809\" xlink:href=\"#md968c967a5\" y=\"445.879219\"/>\n      </g>\n     </g>\n     <g id=\"text_26\">\n      <!-- Stop -->\n      <g transform=\"translate(1500.109841 460.477656)scale(0.1 -0.1)\">\n       <use xlink:href=\"#DejaVuSans-83\"/>\n       <use x=\"63.476562\" xlink:href=\"#DejaVuSans-116\"/>\n       <use x=\"102.685547\" xlink:href=\"#DejaVuSans-111\"/>\n       <use x=\"163.867188\" xlink:href=\"#DejaVuSans-112\"/>\n      </g>\n     </g>\n    </g>\n    <g id=\"xtick_19\">\n     <g id=\"line2d_27\">\n      <g>\n       <use style=\"stroke:#000000;stroke-width:0.8;\" x=\"1582.790751\" xlink:href=\"#md968c967a5\" y=\"445.879219\"/>\n      </g>\n     </g>\n     <g id=\"text_27\">\n      <!-- Hello -->\n      <g transform=\"translate(1570.116533 460.477656)scale(0.1 -0.1)\">\n       <use xlink:href=\"#DejaVuSans-72\"/>\n       <use x=\"75.195312\" xlink:href=\"#DejaVuSans-101\"/>\n       <use x=\"136.71875\" xlink:href=\"#DejaVuSans-108\"/>\n       <use x=\"164.501953\" xlink:href=\"#DejaVuSans-108\"/>\n       <use x=\"192.285156\" xlink:href=\"#DejaVuSans-111\"/>\n      </g>\n     </g>\n    </g>\n    <g id=\"xtick_20\">\n     <g id=\"line2d_28\">\n      <g>\n       <use style=\"stroke:#000000;stroke-width:0.8;\" x=\"1654.103693\" xlink:href=\"#md968c967a5\" y=\"445.879219\"/>\n      </g>\n     </g>\n     <g id=\"text_28\">\n      <!-- Web -->\n      <g transform=\"translate(1642.913068 460.477656)scale(0.1 -0.1)\">\n       <use xlink:href=\"#DejaVuSans-87\"/>\n       <use x=\"98.798828\" xlink:href=\"#DejaVuSans-101\"/>\n       <use x=\"160.322266\" xlink:href=\"#DejaVuSans-98\"/>\n      </g>\n     </g>\n    </g>\n   </g>\n   <g id=\"matplotlib.axis_4\">\n    <g id=\"ytick_9\">\n     <g id=\"line2d_29\">\n      <path clip-path=\"url(#pf42d1a8fba)\" d=\"M 952.740909 445.879219 \nL 1713.65 445.879219 \n\" style=\"fill:none;stroke:#b0b0b0;stroke-linecap:square;stroke-width:0.8;\"/>\n     </g>\n     <g id=\"line2d_30\">\n      <g>\n       <use style=\"stroke:#000000;stroke-width:0.8;\" x=\"952.740909\" xlink:href=\"#mc0ee317c0e\" y=\"445.879219\"/>\n      </g>\n     </g>\n     <g id=\"text_29\">\n      <!-- 0 -->\n      <g transform=\"translate(939.378409 449.678437)scale(0.1 -0.1)\">\n       <use xlink:href=\"#DejaVuSans-48\"/>\n      </g>\n     </g>\n    </g>\n    <g id=\"ytick_10\">\n     <g id=\"line2d_31\">\n      <path clip-path=\"url(#pf42d1a8fba)\" d=\"M 952.740909 409.639219 \nL 1713.65 409.639219 \n\" style=\"fill:none;stroke:#b0b0b0;stroke-linecap:square;stroke-width:0.8;\"/>\n     </g>\n     <g id=\"line2d_32\">\n      <g>\n       <use style=\"stroke:#000000;stroke-width:0.8;\" x=\"952.740909\" xlink:href=\"#mc0ee317c0e\" y=\"409.639219\"/>\n      </g>\n     </g>\n     <g id=\"text_30\">\n      <!-- 1 -->\n      <g transform=\"translate(939.378409 413.438437)scale(0.1 -0.1)\">\n       <use xlink:href=\"#DejaVuSans-49\"/>\n      </g>\n     </g>\n    </g>\n    <g id=\"ytick_11\">\n     <g id=\"line2d_33\">\n      <path clip-path=\"url(#pf42d1a8fba)\" d=\"M 952.740909 373.399219 \nL 1713.65 373.399219 \n\" style=\"fill:none;stroke:#b0b0b0;stroke-linecap:square;stroke-width:0.8;\"/>\n     </g>\n     <g id=\"line2d_34\">\n      <g>\n       <use style=\"stroke:#000000;stroke-width:0.8;\" x=\"952.740909\" xlink:href=\"#mc0ee317c0e\" y=\"373.399219\"/>\n      </g>\n     </g>\n     <g id=\"text_31\">\n      <!-- 2 -->\n      <defs>\n       <path d=\"M 19.1875 8.296875 \nL 53.609375 8.296875 \nL 53.609375 0 \nL 7.328125 0 \nL 7.328125 8.296875 \nQ 12.9375 14.109375 22.625 23.890625 \nQ 32.328125 33.6875 34.8125 36.53125 \nQ 39.546875 41.84375 41.421875 45.53125 \nQ 43.3125 49.21875 43.3125 52.78125 \nQ 43.3125 58.59375 39.234375 62.25 \nQ 35.15625 65.921875 28.609375 65.921875 \nQ 23.96875 65.921875 18.8125 64.3125 \nQ 13.671875 62.703125 7.8125 59.421875 \nL 7.8125 69.390625 \nQ 13.765625 71.78125 18.9375 73 \nQ 24.125 74.21875 28.421875 74.21875 \nQ 39.75 74.21875 46.484375 68.546875 \nQ 53.21875 62.890625 53.21875 53.421875 \nQ 53.21875 48.921875 51.53125 44.890625 \nQ 49.859375 40.875 45.40625 35.40625 \nQ 44.1875 33.984375 37.640625 27.21875 \nQ 31.109375 20.453125 19.1875 8.296875 \nz\n\" id=\"DejaVuSans-50\"/>\n      </defs>\n      <g transform=\"translate(939.378409 377.198437)scale(0.1 -0.1)\">\n       <use xlink:href=\"#DejaVuSans-50\"/>\n      </g>\n     </g>\n    </g>\n    <g id=\"ytick_12\">\n     <g id=\"line2d_35\">\n      <path clip-path=\"url(#pf42d1a8fba)\" d=\"M 952.740909 337.159219 \nL 1713.65 337.159219 \n\" style=\"fill:none;stroke:#b0b0b0;stroke-linecap:square;stroke-width:0.8;\"/>\n     </g>\n     <g id=\"line2d_36\">\n      <g>\n       <use style=\"stroke:#000000;stroke-width:0.8;\" x=\"952.740909\" xlink:href=\"#mc0ee317c0e\" y=\"337.159219\"/>\n      </g>\n     </g>\n     <g id=\"text_32\">\n      <!-- 3 -->\n      <g transform=\"translate(939.378409 340.958437)scale(0.1 -0.1)\">\n       <use xlink:href=\"#DejaVuSans-51\"/>\n      </g>\n     </g>\n    </g>\n    <g id=\"ytick_13\">\n     <g id=\"line2d_37\">\n      <path clip-path=\"url(#pf42d1a8fba)\" d=\"M 952.740909 300.919219 \nL 1713.65 300.919219 \n\" style=\"fill:none;stroke:#b0b0b0;stroke-linecap:square;stroke-width:0.8;\"/>\n     </g>\n     <g id=\"line2d_38\">\n      <g>\n       <use style=\"stroke:#000000;stroke-width:0.8;\" x=\"952.740909\" xlink:href=\"#mc0ee317c0e\" y=\"300.919219\"/>\n      </g>\n     </g>\n     <g id=\"text_33\">\n      <!-- 4 -->\n      <g transform=\"translate(939.378409 304.718437)scale(0.1 -0.1)\">\n       <use xlink:href=\"#DejaVuSans-52\"/>\n      </g>\n     </g>\n    </g>\n    <g id=\"ytick_14\">\n     <g id=\"line2d_39\">\n      <path clip-path=\"url(#pf42d1a8fba)\" d=\"M 952.740909 264.679219 \nL 1713.65 264.679219 \n\" style=\"fill:none;stroke:#b0b0b0;stroke-linecap:square;stroke-width:0.8;\"/>\n     </g>\n     <g id=\"line2d_40\">\n      <g>\n       <use style=\"stroke:#000000;stroke-width:0.8;\" x=\"952.740909\" xlink:href=\"#mc0ee317c0e\" y=\"264.679219\"/>\n      </g>\n     </g>\n     <g id=\"text_34\">\n      <!-- 5 -->\n      <g transform=\"translate(939.378409 268.478437)scale(0.1 -0.1)\">\n       <use xlink:href=\"#DejaVuSans-53\"/>\n      </g>\n     </g>\n    </g>\n    <g id=\"ytick_15\">\n     <g id=\"line2d_41\">\n      <path clip-path=\"url(#pf42d1a8fba)\" d=\"M 952.740909 228.439219 \nL 1713.65 228.439219 \n\" style=\"fill:none;stroke:#b0b0b0;stroke-linecap:square;stroke-width:0.8;\"/>\n     </g>\n     <g id=\"line2d_42\">\n      <g>\n       <use style=\"stroke:#000000;stroke-width:0.8;\" x=\"952.740909\" xlink:href=\"#mc0ee317c0e\" y=\"228.439219\"/>\n      </g>\n     </g>\n     <g id=\"text_35\">\n      <!-- 6 -->\n      <g transform=\"translate(939.378409 232.238437)scale(0.1 -0.1)\">\n       <use xlink:href=\"#DejaVuSans-54\"/>\n      </g>\n     </g>\n    </g>\n    <g id=\"ytick_16\">\n     <g id=\"line2d_43\">\n      <path clip-path=\"url(#pf42d1a8fba)\" d=\"M 952.740909 192.199219 \nL 1713.65 192.199219 \n\" style=\"fill:none;stroke:#b0b0b0;stroke-linecap:square;stroke-width:0.8;\"/>\n     </g>\n     <g id=\"line2d_44\">\n      <g>\n       <use style=\"stroke:#000000;stroke-width:0.8;\" x=\"952.740909\" xlink:href=\"#mc0ee317c0e\" y=\"192.199219\"/>\n      </g>\n     </g>\n     <g id=\"text_36\">\n      <!-- 7 -->\n      <g transform=\"translate(939.378409 195.998437)scale(0.1 -0.1)\">\n       <use xlink:href=\"#DejaVuSans-55\"/>\n      </g>\n     </g>\n    </g>\n    <g id=\"ytick_17\">\n     <g id=\"line2d_45\">\n      <path clip-path=\"url(#pf42d1a8fba)\" d=\"M 952.740909 155.959219 \nL 1713.65 155.959219 \n\" style=\"fill:none;stroke:#b0b0b0;stroke-linecap:square;stroke-width:0.8;\"/>\n     </g>\n     <g id=\"line2d_46\">\n      <g>\n       <use style=\"stroke:#000000;stroke-width:0.8;\" x=\"952.740909\" xlink:href=\"#mc0ee317c0e\" y=\"155.959219\"/>\n      </g>\n     </g>\n     <g id=\"text_37\">\n      <!-- 8 -->\n      <defs>\n       <path d=\"M 31.78125 34.625 \nQ 24.75 34.625 20.71875 30.859375 \nQ 16.703125 27.09375 16.703125 20.515625 \nQ 16.703125 13.921875 20.71875 10.15625 \nQ 24.75 6.390625 31.78125 6.390625 \nQ 38.8125 6.390625 42.859375 10.171875 \nQ 46.921875 13.96875 46.921875 20.515625 \nQ 46.921875 27.09375 42.890625 30.859375 \nQ 38.875 34.625 31.78125 34.625 \nz\nM 21.921875 38.8125 \nQ 15.578125 40.375 12.03125 44.71875 \nQ 8.5 49.078125 8.5 55.328125 \nQ 8.5 64.0625 14.71875 69.140625 \nQ 20.953125 74.21875 31.78125 74.21875 \nQ 42.671875 74.21875 48.875 69.140625 \nQ 55.078125 64.0625 55.078125 55.328125 \nQ 55.078125 49.078125 51.53125 44.71875 \nQ 48 40.375 41.703125 38.8125 \nQ 48.828125 37.15625 52.796875 32.3125 \nQ 56.78125 27.484375 56.78125 20.515625 \nQ 56.78125 9.90625 50.3125 4.234375 \nQ 43.84375 -1.421875 31.78125 -1.421875 \nQ 19.734375 -1.421875 13.25 4.234375 \nQ 6.78125 9.90625 6.78125 20.515625 \nQ 6.78125 27.484375 10.78125 32.3125 \nQ 14.796875 37.15625 21.921875 38.8125 \nz\nM 18.3125 54.390625 \nQ 18.3125 48.734375 21.84375 45.5625 \nQ 25.390625 42.390625 31.78125 42.390625 \nQ 38.140625 42.390625 41.71875 45.5625 \nQ 45.3125 48.734375 45.3125 54.390625 \nQ 45.3125 60.0625 41.71875 63.234375 \nQ 38.140625 66.40625 31.78125 66.40625 \nQ 25.390625 66.40625 21.84375 63.234375 \nQ 18.3125 60.0625 18.3125 54.390625 \nz\n\" id=\"DejaVuSans-56\"/>\n      </defs>\n      <g transform=\"translate(939.378409 159.758437)scale(0.1 -0.1)\">\n       <use xlink:href=\"#DejaVuSans-56\"/>\n      </g>\n     </g>\n    </g>\n    <g id=\"ytick_18\">\n     <g id=\"line2d_47\">\n      <path clip-path=\"url(#pf42d1a8fba)\" d=\"M 952.740909 119.719219 \nL 1713.65 119.719219 \n\" style=\"fill:none;stroke:#b0b0b0;stroke-linecap:square;stroke-width:0.8;\"/>\n     </g>\n     <g id=\"line2d_48\">\n      <g>\n       <use style=\"stroke:#000000;stroke-width:0.8;\" x=\"952.740909\" xlink:href=\"#mc0ee317c0e\" y=\"119.719219\"/>\n      </g>\n     </g>\n     <g id=\"text_38\">\n      <!-- 9 -->\n      <g transform=\"translate(939.378409 123.518437)scale(0.1 -0.1)\">\n       <use xlink:href=\"#DejaVuSans-57\"/>\n      </g>\n     </g>\n    </g>\n    <g id=\"ytick_19\">\n     <g id=\"line2d_49\">\n      <path clip-path=\"url(#pf42d1a8fba)\" d=\"M 952.740909 83.479219 \nL 1713.65 83.479219 \n\" style=\"fill:none;stroke:#b0b0b0;stroke-linecap:square;stroke-width:0.8;\"/>\n     </g>\n     <g id=\"line2d_50\">\n      <g>\n       <use style=\"stroke:#000000;stroke-width:0.8;\" x=\"952.740909\" xlink:href=\"#mc0ee317c0e\" y=\"83.479219\"/>\n      </g>\n     </g>\n     <g id=\"text_39\">\n      <!-- 10 -->\n      <g transform=\"translate(933.015909 87.278437)scale(0.1 -0.1)\">\n       <use xlink:href=\"#DejaVuSans-49\"/>\n       <use x=\"63.623047\" xlink:href=\"#DejaVuSans-48\"/>\n      </g>\n     </g>\n    </g>\n    <g id=\"ytick_20\">\n     <g id=\"line2d_51\">\n      <path clip-path=\"url(#pf42d1a8fba)\" d=\"M 952.740909 47.239219 \nL 1713.65 47.239219 \n\" style=\"fill:none;stroke:#b0b0b0;stroke-linecap:square;stroke-width:0.8;\"/>\n     </g>\n     <g id=\"line2d_52\">\n      <g>\n       <use style=\"stroke:#000000;stroke-width:0.8;\" x=\"952.740909\" xlink:href=\"#mc0ee317c0e\" y=\"47.239219\"/>\n      </g>\n     </g>\n     <g id=\"text_40\">\n      <!-- 11 -->\n      <g transform=\"translate(933.015909 51.038437)scale(0.1 -0.1)\">\n       <use xlink:href=\"#DejaVuSans-49\"/>\n       <use x=\"63.623047\" xlink:href=\"#DejaVuSans-49\"/>\n      </g>\n     </g>\n    </g>\n    <g id=\"ytick_21\">\n     <g id=\"line2d_53\">\n      <path clip-path=\"url(#pf42d1a8fba)\" d=\"M 952.740909 10.999219 \nL 1713.65 10.999219 \n\" style=\"fill:none;stroke:#b0b0b0;stroke-linecap:square;stroke-width:0.8;\"/>\n     </g>\n     <g id=\"line2d_54\">\n      <g>\n       <use style=\"stroke:#000000;stroke-width:0.8;\" x=\"952.740909\" xlink:href=\"#mc0ee317c0e\" y=\"10.999219\"/>\n      </g>\n     </g>\n     <g id=\"text_41\">\n      <!-- 12 -->\n      <g transform=\"translate(933.015909 14.798437)scale(0.1 -0.1)\">\n       <use xlink:href=\"#DejaVuSans-49\"/>\n       <use x=\"63.623047\" xlink:href=\"#DejaVuSans-50\"/>\n      </g>\n     </g>\n    </g>\n   </g>\n   <g id=\"patch_38\">\n    <path d=\"M 952.740909 445.879219 \nL 952.740909 10.999219 \n\" style=\"fill:none;stroke:#000000;stroke-linecap:square;stroke-linejoin:miter;stroke-width:0.8;\"/>\n   </g>\n   <g id=\"patch_39\">\n    <path d=\"M 1713.65 445.879219 \nL 1713.65 10.999219 \n\" style=\"fill:none;stroke:#000000;stroke-linecap:square;stroke-linejoin:miter;stroke-width:0.8;\"/>\n   </g>\n   <g id=\"patch_40\">\n    <path d=\"M 952.740909 445.879219 \nL 1713.65 445.879219 \n\" style=\"fill:none;stroke:#000000;stroke-linecap:square;stroke-linejoin:miter;stroke-width:0.8;\"/>\n   </g>\n   <g id=\"patch_41\">\n    <path d=\"M 952.740909 10.999219 \nL 1713.65 10.999219 \n\" style=\"fill:none;stroke:#000000;stroke-linecap:square;stroke-linejoin:miter;stroke-width:0.8;\"/>\n   </g>\n  </g>\n </g>\n <defs>\n  <clipPath id=\"paeba729b83\">\n   <rect height=\"434.88\" width=\"760.909091\" x=\"39.65\" y=\"10.999219\"/>\n  </clipPath>\n  <clipPath id=\"pf42d1a8fba\">\n   <rect height=\"434.88\" width=\"760.909091\" x=\"952.740909\" y=\"10.999219\"/>\n  </clipPath>\n </defs>\n</svg>\n",
            "text/plain": "<Figure size 2160x576 with 2 Axes>"
          },
          "metadata": {
            "needs_background": "light"
          },
          "output_type": "display_data"
        }
      ],
      "source": [
        "# Видим просадку у класса Navigation - было 130 видео, стало 80. Число кадров соотевтстенно тоже упало.\n",
        "\n",
        "fig, (ax1, ax2) = plt.subplots(1, 2, figsize=(30,8))\n",
        "\n",
        "ax1.bar(list(video_names_in_class_dict.keys()), [list(list(video_names_in_class_dict.values())[f].values())[0] for f in range(len(classes))], 0.7)\n",
        "ax1.grid(axis = 'y')\n",
        "ax1.set_yticks(np.arange(0, max([list(list(video_names_in_class_dict.values())[f].values())[0] for f in range(len(classes))]) + 2, 150))\n",
        "\n",
        "ax1.bar(list(video_names_in_class_dict.keys()), [list(list(video_names_in_class_dict.values())[f].values())[1] for f in range(len(classes))], 0.7)\n",
        "ax1.grid(axis = 'y')\n",
        "#ax2.set_yticks(np.arange(0, max([list(list(video_names_in_class_dict.values())[f].values())[1] for f in range(len(classes))]) + 2, 150))\n",
        "\n",
        "ax2.bar(list(video_names_in_class_dict.keys()), [list(list(video_names_in_class_dict.values())[f].values())[4] for f in range(len(classes))], 0.7)\n",
        "ax2.grid(axis = 'y')\n",
        "ax2.set_yticks(np.arange(0, max([list(list(video_names_in_class_dict.values())[f].values())[4] for f in range(len(classes))]) + 2, 1))\n",
        "\n",
        "fig.show()"
      ]
    },
    {
      "cell_type": "markdown",
      "execution_count": null,
      "metadata": {
        "colab_type": "text",
        "id": "vgsim5KYZ8WA"
      },
      "outputs": [],
      "source": [
        "## Perform padding"
      ]
    },
    {
      "cell_type": "code",
      "execution_count": 46,
      "metadata": {},
      "outputs": [
        {
          "name": "stdout",
          "output_type": "stream",
          "text": "(70, 140, 3)\n"
        }
      ],
      "source": [
        "# make sure that padding's shape equals to (w x h x c) of the train images\n",
        "\n",
        "print(img_black.shape)"
      ]
    },
    {
      "cell_type": "code",
      "execution_count": 47,
      "metadata": {},
      "outputs": [
        {
          "name": "stdout",
          "output_type": "stream",
          "text": "13\n13\n"
        }
      ],
      "source": [
        "target_frame_num = int(max(vids_and_frames.values())) #13\n",
        "target_frame_num_val = int(max(vids_and_frames_val.values())) # 10\n",
        "print(target_frame_num)\n",
        "print(target_frame_num_val)"
      ]
    },
    {
      "cell_type": "code",
      "execution_count": 48,
      "metadata": {},
      "outputs": [],
      "source": [
        "# pad train\n",
        "\n",
        "for classi in classes_dict.keys():\n",
        "    for vid in vids_and_frames.keys():\n",
        "        if classi == vid.split('_')[0]:\n",
        "            if int(vids_and_frames[vid]) < target_frame_num:\n",
        "                for i in range(1, (target_frame_num - int(vids_and_frames[vid]) + 1)):\n",
        "                    cv2.imwrite('data/train/' + classes_dict[classi] + '/' + vid + '_' + 'color' + '_' + str(int(vids_and_frames[vid]) + i).zfill(3) + '.jpg', img_black)"
      ]
    },
    {
      "cell_type": "code",
      "execution_count": 49,
      "metadata": {},
      "outputs": [],
      "source": [
        "# pad val\n",
        "# has to be padded to 13 ... not 10\n",
        "\n",
        "for classi in classes_dict.keys():\n",
        "    for vid in vids_and_frames_val.keys():\n",
        "        if classi == vid.split('_')[0]:\n",
        "            if int(vids_and_frames_val[vid]) < target_frame_num:\n",
        "                for i in range(1, (target_frame_num - int(vids_and_frames_val[vid]) + 1)):\n",
        "                    cv2.imwrite('data/validation/' + classes_dict[classi] + '/' + vid + '_' + 'color' + '_' + str(int(vids_and_frames_val[vid]) + i).zfill(3) + '.jpg', img_black)"
      ]
    },
    {
      "cell_type": "markdown",
      "execution_count": null,
      "metadata": {
        "colab_type": "text",
        "id": "9ODHlUJzbKnc"
      },
      "outputs": [],
      "source": [
        "## Check the distribution the last time to be sure"
      ]
    },
    {
      "cell_type": "markdown",
      "execution_count": null,
      "metadata": {
        "colab_type": "text",
        "id": "xtWQZGFYbKnf"
      },
      "outputs": [],
      "source": [
        "**Train**"
      ]
    },
    {
      "cell_type": "code",
      "execution_count": 50,
      "metadata": {},
      "outputs": [],
      "source": [
        "all_images = [] # 11271 vs 8699 vs 12109\n",
        "video_names = [] # 11271 vs 8699 vs 12109\n",
        "frame_nums = [] # 11271 vs 8699 vs 12109\n",
        "video_names_uniq = [] # 867 vs 867 vs 1100\n",
        "frame_nums_uniq = [] # 867 vs 867 vs 1100\n",
        "vids_and_frames = {} # 867 vs 867 vs 1100\n",
        "frames_distribution = {} # 1 vs 7 vs 18"
      ]
    },
    {
      "cell_type": "code",
      "execution_count": 51,
      "metadata": {},
      "outputs": [],
      "source": [
        "for classi in classes_dict.values():\n",
        "    for i in sorted(glob.glob('data/train/' + classi + '/*.jpg')):\n",
        "        all_images.append(i)\n",
        "        \n",
        "for img in all_images:\n",
        "    img_name = img.split('/')[-1].split('.')[0]\n",
        "    video_name = img_name[:9]\n",
        "    video_names.append(video_name)\n",
        "    frame_num = img_name[-3:]\n",
        "    frame_nums.append(frame_num)\n",
        "    \n",
        "video_names_uniq = list(sorted(set(video_names)))\n",
        "\n",
        "for i in range(len(video_names)):\n",
        "    if i < len(video_names)-1:\n",
        "        if video_names[i] == video_names[i+1]:\n",
        "            pass\n",
        "        else:\n",
        "            frame_nums_uniq.append(frame_nums[i])\n",
        "    else:\n",
        "        frame_nums_uniq.append(frame_nums[-1])\n",
        "        \n",
        "for i in range(len(video_names_uniq)):\n",
        "    vids_and_frames[video_names_uniq[i]] = frame_nums_uniq[i]\n",
        "    \n",
        "for frame_num_uniq in sorted(set(frame_nums_uniq)):\n",
        "    count_d = 0\n",
        "    for vid_name, frames_num in list(vids_and_frames.items()):\n",
        "        if frames_num == frame_num_uniq:\n",
        "            count_d += 1\n",
        "            frames_distribution[frame_num_uniq] = count_d"
      ]
    },
    {
      "cell_type": "markdown",
      "execution_count": null,
      "metadata": {
        "colab_type": "text",
        "id": "CMhtEhT_bKns"
      },
      "outputs": [],
      "source": [
        "**Val**"
      ]
    },
    {
      "cell_type": "code",
      "execution_count": 52,
      "metadata": {},
      "outputs": [],
      "source": [
        "all_images_val = [] # 1650 vs 1364 vs 1746\n",
        "video_names_val = [] # 1650 vs 1364 vs 1746\n",
        "frame_nums_val = [] # 1650 vs 1364 vs 1746\n",
        "video_names_uniq_val = [] # 165 vs 165 vs 200\n",
        "frame_nums_uniq_val = [] # 165 vs 165 vs 200\n",
        "vids_and_frames_val = {} # 165 vs 165 vs 200\n",
        "frames_distribution_val = {} # 1 vs 5 vs 9"
      ]
    },
    {
      "cell_type": "code",
      "execution_count": 53,
      "metadata": {},
      "outputs": [],
      "source": [
        "for classi in classes_dict.values():\n",
        "    for i in sorted(glob.glob('data/validation/' + classi + '/*.jpg')):\n",
        "        all_images_val.append(i)\n",
        "        \n",
        "for img in all_images_val:\n",
        "    img_name = img.split('/')[-1].split('.')[0]\n",
        "    video_name = img_name[:9]\n",
        "    video_names_val.append(video_name)\n",
        "    frame_num = img_name[-3:]\n",
        "    frame_nums_val.append(frame_num)\n",
        "    \n",
        "video_names_uniq_val = list(sorted(set(video_names_val)))\n",
        "\n",
        "for i in range(len(video_names_val)):\n",
        "    if i < len(video_names_val)-1:\n",
        "        if video_names_val[i] == video_names_val[i+1]:\n",
        "            pass\n",
        "        else:\n",
        "            frame_nums_uniq_val.append(frame_nums_val[i])\n",
        "    else:\n",
        "        frame_nums_uniq_val.append(frame_nums_val[-1])\n",
        "        \n",
        "for i in range(len(frame_nums_uniq_val)):\n",
        "        vids_and_frames_val[video_names_uniq_val[i]] = frame_nums_uniq_val[i]\n",
        "        \n",
        "for frame_num_uniq_val in sorted(set(frame_nums_uniq_val)):\n",
        "    count_d = 0\n",
        "    for vid_name_val, frames_num_val in list(vids_and_frames_val.items()):\n",
        "        if frames_num_val == frame_num_uniq_val:\n",
        "            count_d += 1\n",
        "            frames_distribution_val[frame_num_uniq_val] = count_d"
      ]
    },
    {
      "cell_type": "code",
      "execution_count": 54,
      "metadata": {},
      "outputs": [
        {
          "name": "stdout",
          "output_type": "stream",
          "text": "Train max frames: 13\nTrain min frames: 13\nTrain mean frames: 13.0\n\nVal max frames: 13\nVal min frames: 13\nVal mean frames: 13.0\n"
        }
      ],
      "source": [
        "# Now all the videos are of 13 frames\n",
        "\n",
        "print('Train max frames:', int(max(vids_and_frames.values())))\n",
        "print('Train min frames:', int(min(vids_and_frames.values())))\n",
        "print('Train mean frames:', (np.array(list(vids_and_frames.values())).astype(np.float).mean()), end = '\\n\\n')\n",
        "\n",
        "print('Val max frames:', int(max(vids_and_frames_val.values())))\n",
        "print('Val min frames:', int(min(vids_and_frames_val.values())))\n",
        "print('Val mean frames:', (np.array(list(vids_and_frames_val.values())).astype(np.float).mean()))"
      ]
    },
    {
      "cell_type": "markdown",
      "execution_count": null,
      "metadata": {
        "colab_type": "text",
        "id": "kdG0RgmccPSd"
      },
      "outputs": [],
      "source": [
        "## Perform augmentations"
      ]
    },
    {
      "cell_type": "code",
      "execution_count": null,
      "metadata": {
        "colab": {},
        "colab_type": "code",
        "id": "c7aq-WY1bFbV"
      },
      "outputs": [],
      "source": [
        "# Вспомогательная функция для удобного переименования видео.\n",
        "\n",
        "# def get_idx(classi):\n",
        "#     start_idx = (len('data/train/') + len(classi)+1)\n",
        "#     return start_idx"
      ]
    },
    {
      "cell_type": "code",
      "execution_count": null,
      "metadata": {
        "colab": {},
        "colab_type": "code",
        "id": "dzOnJELIbFdW"
      },
      "outputs": [],
      "source": [
        "# # Оставил только горизонтальный поворот и шум.\n",
        "\n",
        "# for classi in classes:\n",
        "#     files = [file for file in sorted(glob.glob(os.path.join('data/train/' + classi + '/*.jpg')))]\n",
        "#     files_clean = [file_clean for file_clean in sorted(files)\n",
        "#                 if 'vert_flip' not in file_clean\n",
        "#                 and 'hor_flip' not in file_clean\n",
        "#                 and 'rot_45' not in file_clean\n",
        "#                 and 'rot_315' not in file_clean\n",
        "#                 and 'rot_135' not in file_clean\n",
        "#                 and 'rot_225' not in file_clean\n",
        "#                 and 'rot_90' not in file_clean\n",
        "#                 and 'rot_270' not in file_clean\n",
        "#                 and 'rand_contr' not in file_clean\n",
        "#                 and 'noised' not in file_clean]\n",
        "#     files_rem = [file_rem for file_rem in sorted(files)\n",
        "#                 if 'vert_flip' in file_rem\n",
        "#                 or 'hor_flip' in file_rem\n",
        "#                 or 'rot_45' in file_rem\n",
        "#                 or 'rot_315' in file_rem\n",
        "#                 or 'rot_135' in file_rem\n",
        "#                 or 'rot_225' in file_rem\n",
        "#                 or 'rot_90' in file_rem\n",
        "#                 or 'rot_270' in file_rem\n",
        "#                 or 'rand_contr' in file_rem\n",
        "#                 or 'noised' in file_rem]\n",
        "#     for file_to_rem in files_rem: os.remove(file_to_rem)\n",
        "#     files = [file for file in sorted(glob.glob(os.path.join('data/train/' + classi + '/*.jpg')))]\n",
        "#     print(classi, 'dir: removed', len(files_rem), 'files.', len(files), 'to be augmented')\n",
        "\n",
        "#     for file_to_hor_flip in files_clean:\n",
        "#         img = cv2.imread(file_to_hor_flip, 1)\n",
        "#         img = transforms.HorizontalFlip().apply(img)\n",
        "#         file_to_write = file_to_hor_flip[:get_idx(classi)] + '[hor_flip]' + file_to_hor_flip[get_idx(classi):]\n",
        "#         cv2.imwrite(file_to_write, img)\n",
        "#     files = [file for file in sorted(glob.glob(os.path.join('data/train/' + classi + '/*.jpg')))]\n",
        "#     files_hor_flipped = [file_hor_flipped for file_hor_flipped in sorted(files) if 'hor_flip' in file_hor_flipped]\n",
        "#     print('Horizontally flipped', len(files_hor_flipped), 'files.', len(files), 'in the directory')\n",
        "    \n",
        "#     for file_to_vert_flip in files_clean:\n",
        "#         img = cv2.imread(file_to_vert_flip, 1)\n",
        "#         img = transforms.VerticalFlip().apply(img)\n",
        "#         file_to_write = file_to_vert_flip[:get_idx(classi)] + '[vert_flip]' + file_to_vert_flip[get_idx(classi):]\n",
        "#         cv2.imwrite(file_to_write, img)\n",
        "#     files = [file for file in sorted(glob.glob(os.path.join('data/train/' + classi + '/*.jpg')))]\n",
        "#     files_vert_flipped = [file_vert_flipped for file_vert_flipped in sorted(files) if 'vert_flip' in file_vert_flipped]\n",
        "#     print('Vertically flipped', len(files_vert_flipped), 'files.', len(files), 'in the directory')\n",
        "    \n",
        "#     files_not_rand_contred = [file_not_rand_contred for file_not_rand_contred in sorted(files) if 'rand_contr' not in file_not_rand_contred]\n",
        "#     for file_to_noise in files_not_rand_contred:\n",
        "#         if '[hor_flip]' in file_to_noise:\n",
        "#             img = cv2.imread(file_to_noise, 1)\n",
        "#             gauss = np.random.uniform(0, 64, img.size)\n",
        "#             gauss = gauss.reshape(img.shape[0],img.shape[1],img.shape[2]).astype('uint8')\n",
        "#             img = cv2.add(img,gauss)\n",
        "#             file_to_write = file_to_noise[:get_idx(classi)] + '[noised]' + file_to_noise[get_idx(classi):]\n",
        "#             cv2.imwrite(file_to_write, img)\n",
        "#         elif '[vert_flip]' in file_to_noise:\n",
        "#             img = cv2.imread(file_to_noise, 1)\n",
        "#             gauss = np.random.uniform(0, 64, img.size)\n",
        "#             gauss = gauss.reshape(img.shape[0],img.shape[1],img.shape[2]).astype('uint8')\n",
        "#             img = cv2.add(img,gauss)\n",
        "#             file_to_write = file_to_noise[:get_idx(classi)] + '[noised]' + file_to_noise[get_idx(classi):]\n",
        "#             cv2.imwrite(file_to_write, img)\n",
        "#         else:\n",
        "#             img = cv2.imread(file_to_noise, 1)\n",
        "#             gauss = np.random.uniform(0, 64, img.size)\n",
        "#             gauss = gauss.reshape(img.shape[0],img.shape[1],img.shape[2]).astype('uint8')\n",
        "#             img = cv2.add(img,gauss)\n",
        "#             file_to_write = file_to_noise[:get_idx(classi)] + '[noised]' + file_to_noise[get_idx(classi):]\n",
        "#             cv2.imwrite(file_to_write, img)\n",
        "#     files = [file for file in sorted(glob.glob(os.path.join('data/train/' + classi + '/*.jpg')))]\n",
        "#     files_noised = [file_noised for file_noised in sorted(files) if 'noised' in file_noised]\n",
        "#     print('Noised', len(files_noised), 'files.', len(files), 'in the directory')\n",
        "\n",
        "#     files_not_noised = [file_not_noised for file_not_noised in sorted(files) if 'noised' not in file_not_noised ]    \n",
        "#     for file_to_rand_contr in files_not_noised:\n",
        "#         if '[hor_flip]' in file_to_rand_contr:\n",
        "#             img = cv2.imread(file_to_rand_contr, 1)\n",
        "#             img = transforms.RandomContrast().apply(img)\n",
        "#             file_to_write = file_to_rand_contr[:get_idx(classi)] + '[rand_contr]' + file_to_rand_contr[get_idx(classi):]\n",
        "#             cv2.imwrite(file_to_write, img)\n",
        "#         elif '[vert_flip]' in file_to_rand_contr:\n",
        "#             img = cv2.imread(file_to_rand_contr, 1)\n",
        "#             img = transforms.RandomContrast().apply(img)\n",
        "#             file_to_write = file_to_rand_contr[:get_idx(classi)] + '[rand_contr]' + file_to_rand_contr[get_idx(classi):]\n",
        "#             cv2.imwrite(file_to_write, img)\n",
        "#         else:\n",
        "#             img = cv2.imread(file_to_rand_contr, 1)\n",
        "#             img = transforms.RandomContrast().apply(img)\n",
        "#             file_to_write = file_to_rand_contr[:get_idx(classi)] + '[rand_contr]' + file_to_rand_contr[get_idx(classi):]\n",
        "#             cv2.imwrite(file_to_write, img)\n",
        "#     files = [file for file in sorted(glob.glob(os.path.join('data/train/' + classi + '/*.jpg')))]\n",
        "#     files_rand_contred = [file_rand_contred for file_rand_contred in sorted(files) if 'rand_contr' in file_rand_contred]\n",
        "#     print('Random contrasted', len(files_rand_contred), 'files.', len(files), 'in the directory')\n",
        "    \n",
        "    \n",
        "#     print()"
      ]
    },
    {
      "cell_type": "markdown",
      "execution_count": null,
      "metadata": {
        "colab_type": "text",
        "id": "5Gy0vLERf_VM"
      },
      "outputs": [],
      "source": [
        "## Save frames to csv. Compress to zip archives"
      ]
    },
    {
      "cell_type": "code",
      "execution_count": 55,
      "metadata": {},
      "outputs": [],
      "source": [
        "train_image = []\n",
        "train_class = []\n",
        "\n",
        "for class_id in range(len(classes)):\n",
        "    images = sorted(glob.glob('data/train/' + classes[class_id] + '/*.jpg'))\n",
        "    for i in range(len(images)):\n",
        "        if ('noised' in images[i] or 'rand_contr' in images[i]\n",
        "        or 'vert_flip' in images[i] or 'hor_flip' in images[i]):\n",
        "            train_image.append(images[i].split('/')[3])\n",
        "            train_class.append(classes_dict[images[i].split('/')[3].split(']')[-1][:2]])\n",
        "        else:\n",
        "            train_image.append(images[i].split('/')[3])\n",
        "            train_class.append(classes_dict[images[i].split('/')[3].split('_')[0]])\n",
        "        \n",
        "train_data = pd.DataFrame()\n",
        "train_data['image'] = train_image\n",
        "train_data['class'] = train_class\n",
        "\n",
        "train_data.to_csv('data/train_new.csv',header=True, index=False)\n",
        "\n",
        "\n",
        "val_image = []\n",
        "val_class = []\n",
        "\n",
        "for class_id in range(len(classes)):\n",
        "    images = sorted(glob.glob('data/validation/' + classes[class_id] + '/*.jpg'))\n",
        "    for i in range(len(images)):\n",
        "        val_image.append(images[i].split('/')[3])\n",
        "        val_class.append(classes_dict[images[i].split('/')[3].split('_')[0]])\n",
        "val_data = pd.DataFrame()\n",
        "val_data['image'] = val_image\n",
        "val_data['class'] = val_class\n",
        "\n",
        "val_data.to_csv('data/val_new.csv',header=True, index=False)"
      ]
    },
    {
      "cell_type": "code",
      "execution_count": 56,
      "metadata": {},
      "outputs": [],
      "source": [
        "train = pd.read_csv('data/train_new.csv')\n",
        "val = pd.read_csv('data/val_new.csv')\n",
        "\n",
        "y_tr = train['class']\n",
        "y_tr_dummy = pd.get_dummies(y_tr)\n",
        "\n",
        "y_val = val['class']\n",
        "y_val_dummy = pd.get_dummies(y_val)"
      ]
    },
    {
      "cell_type": "code",
      "execution_count": 57,
      "metadata": {},
      "outputs": [
        {
          "data": {
            "text/html": "<div>\n<style scoped>\n    .dataframe tbody tr th:only-of-type {\n        vertical-align: middle;\n    }\n\n    .dataframe tbody tr th {\n        vertical-align: top;\n    }\n\n    .dataframe thead th {\n        text-align: right;\n    }\n</style>\n<table border=\"1\" class=\"dataframe\">\n  <thead>\n    <tr style=\"text-align: right;\">\n      <th></th>\n      <th>image</th>\n      <th>class</th>\n    </tr>\n  </thead>\n  <tbody>\n    <tr>\n      <th>0</th>\n      <td>01_F01_01_color_001.jpg</td>\n      <td>Begin</td>\n    </tr>\n    <tr>\n      <th>1</th>\n      <td>01_F01_01_color_002.jpg</td>\n      <td>Begin</td>\n    </tr>\n    <tr>\n      <th>2</th>\n      <td>01_F01_01_color_003.jpg</td>\n      <td>Begin</td>\n    </tr>\n    <tr>\n      <th>3</th>\n      <td>01_F01_01_color_004.jpg</td>\n      <td>Begin</td>\n    </tr>\n    <tr>\n      <th>4</th>\n      <td>01_F01_01_color_005.jpg</td>\n      <td>Begin</td>\n    </tr>\n  </tbody>\n</table>\n</div>",
            "text/plain": "                     image  class\n0  01_F01_01_color_001.jpg  Begin\n1  01_F01_01_color_002.jpg  Begin\n2  01_F01_01_color_003.jpg  Begin\n3  01_F01_01_color_004.jpg  Begin\n4  01_F01_01_color_005.jpg  Begin"
          },
          "execution_count": 57,
          "metadata": {},
          "output_type": "execute_result"
        }
      ],
      "source": [
        "train.head()"
      ]
    },
    {
      "cell_type": "code",
      "execution_count": 58,
      "metadata": {},
      "outputs": [
        {
          "data": {
            "text/html": "<div>\n<style scoped>\n    .dataframe tbody tr th:only-of-type {\n        vertical-align: middle;\n    }\n\n    .dataframe tbody tr th {\n        vertical-align: top;\n    }\n\n    .dataframe thead th {\n        text-align: right;\n    }\n</style>\n<table border=\"1\" class=\"dataframe\">\n  <thead>\n    <tr style=\"text-align: right;\">\n      <th></th>\n      <th>image</th>\n      <th>class</th>\n    </tr>\n  </thead>\n  <tbody>\n    <tr>\n      <th>13554</th>\n      <td>10_M08_10_color_009.jpg</td>\n      <td>Web</td>\n    </tr>\n    <tr>\n      <th>13555</th>\n      <td>10_M08_10_color_010.jpg</td>\n      <td>Web</td>\n    </tr>\n    <tr>\n      <th>13556</th>\n      <td>10_M08_10_color_011.jpg</td>\n      <td>Web</td>\n    </tr>\n    <tr>\n      <th>13557</th>\n      <td>10_M08_10_color_012.jpg</td>\n      <td>Web</td>\n    </tr>\n    <tr>\n      <th>13558</th>\n      <td>10_M08_10_color_013.jpg</td>\n      <td>Web</td>\n    </tr>\n  </tbody>\n</table>\n</div>",
            "text/plain": "                         image class\n13554  10_M08_10_color_009.jpg   Web\n13555  10_M08_10_color_010.jpg   Web\n13556  10_M08_10_color_011.jpg   Web\n13557  10_M08_10_color_012.jpg   Web\n13558  10_M08_10_color_013.jpg   Web"
          },
          "execution_count": 58,
          "metadata": {},
          "output_type": "execute_result"
        }
      ],
      "source": [
        "train.tail()"
      ]
    },
    {
      "cell_type": "code",
      "execution_count": 59,
      "metadata": {},
      "outputs": [
        {
          "data": {
            "text/html": "<div>\n<style scoped>\n    .dataframe tbody tr th:only-of-type {\n        vertical-align: middle;\n    }\n\n    .dataframe tbody tr th {\n        vertical-align: top;\n    }\n\n    .dataframe thead th {\n        text-align: right;\n    }\n</style>\n<table border=\"1\" class=\"dataframe\">\n  <thead>\n    <tr style=\"text-align: right;\">\n      <th></th>\n      <th>image</th>\n      <th>class</th>\n    </tr>\n  </thead>\n  <tbody>\n    <tr>\n      <th>0</th>\n      <td>01_F10_01_color_001.jpg</td>\n      <td>Begin</td>\n    </tr>\n    <tr>\n      <th>1</th>\n      <td>01_F10_01_color_002.jpg</td>\n      <td>Begin</td>\n    </tr>\n    <tr>\n      <th>2</th>\n      <td>01_F10_01_color_003.jpg</td>\n      <td>Begin</td>\n    </tr>\n    <tr>\n      <th>3</th>\n      <td>01_F10_01_color_004.jpg</td>\n      <td>Begin</td>\n    </tr>\n    <tr>\n      <th>4</th>\n      <td>01_F10_01_color_005.jpg</td>\n      <td>Begin</td>\n    </tr>\n  </tbody>\n</table>\n</div>",
            "text/plain": "                     image  class\n0  01_F10_01_color_001.jpg  Begin\n1  01_F10_01_color_002.jpg  Begin\n2  01_F10_01_color_003.jpg  Begin\n3  01_F10_01_color_004.jpg  Begin\n4  01_F10_01_color_005.jpg  Begin"
          },
          "execution_count": 59,
          "metadata": {},
          "output_type": "execute_result"
        }
      ],
      "source": [
        "val.head()"
      ]
    },
    {
      "cell_type": "code",
      "execution_count": 60,
      "metadata": {},
      "outputs": [
        {
          "data": {
            "text/html": "<div>\n<style scoped>\n    .dataframe tbody tr th:only-of-type {\n        vertical-align: middle;\n    }\n\n    .dataframe tbody tr th {\n        vertical-align: top;\n    }\n\n    .dataframe thead th {\n        text-align: right;\n    }\n</style>\n<table border=\"1\" class=\"dataframe\">\n  <thead>\n    <tr style=\"text-align: right;\">\n      <th></th>\n      <th>image</th>\n      <th>class</th>\n    </tr>\n  </thead>\n  <tbody>\n    <tr>\n      <th>2361</th>\n      <td>10_M07_10_color_009.jpg</td>\n      <td>Web</td>\n    </tr>\n    <tr>\n      <th>2362</th>\n      <td>10_M07_10_color_010.jpg</td>\n      <td>Web</td>\n    </tr>\n    <tr>\n      <th>2363</th>\n      <td>10_M07_10_color_011.jpg</td>\n      <td>Web</td>\n    </tr>\n    <tr>\n      <th>2364</th>\n      <td>10_M07_10_color_012.jpg</td>\n      <td>Web</td>\n    </tr>\n    <tr>\n      <th>2365</th>\n      <td>10_M07_10_color_013.jpg</td>\n      <td>Web</td>\n    </tr>\n  </tbody>\n</table>\n</div>",
            "text/plain": "                        image class\n2361  10_M07_10_color_009.jpg   Web\n2362  10_M07_10_color_010.jpg   Web\n2363  10_M07_10_color_011.jpg   Web\n2364  10_M07_10_color_012.jpg   Web\n2365  10_M07_10_color_013.jpg   Web"
          },
          "execution_count": 60,
          "metadata": {},
          "output_type": "execute_result"
        }
      ],
      "source": [
        "val.tail()"
      ]
    },
    {
      "cell_type": "code",
      "execution_count": 61,
      "metadata": {},
      "outputs": [
        {
          "name": "stdout",
          "output_type": "stream",
          "text": "13559\n2366\n"
        }
      ],
      "source": [
        "# 101439 train images\n",
        "# 1650 val images\n",
        "\n",
        "print(len(train))\n",
        "print(len(val))"
      ]
    },
    {
      "cell_type": "code",
      "execution_count": 62,
      "metadata": {},
      "outputs": [],
      "source": [
        "# # export as zip\n",
        "# from google.colab import files\n",
        "\n",
        "# !7z a -t7z train_data.zip /content/data/train -o/content\n",
        "# !7z a -t7z val_data.zip /content/data/validation -o/content"
      ]
    },
    {
      "cell_type": "code",
      "execution_count": 63,
      "metadata": {},
      "outputs": [],
      "source": [
        "# files.download('val_data.zip')"
      ]
    },
    {
      "cell_type": "code",
      "execution_count": 64,
      "metadata": {},
      "outputs": [],
      "source": [
        "# files.download('train_data.zip')"
      ]
    },
    {
      "cell_type": "markdown",
      "execution_count": null,
      "metadata": {
        "colab_type": "text",
        "id": "PuHXXf4Hlo5P"
      },
      "outputs": [],
      "source": [
        "## Prepare data generator"
      ]
    },
    {
      "cell_type": "code",
      "execution_count": null,
      "metadata": {
        "colab": {
          "base_uri": "https://localhost:8080/",
          "height": 765
        },
        "colab_type": "code",
        "id": "UiU5TrD9T_t8",
        "outputId": "aa0354a1-e057-45a6-941a-4c1ded4794cb"
      },
      "outputs": [],
      "source": [
        "import gdown\n",
        "\n",
        "gdown.download('https://drive.google.com/uc?id=1k4_wqMaAApry4gkHHyyad1oH3ZXyDf2j&export=download', 'data.7z', quiet=True)\n",
        "gdown.download('https://drive.google.com/uc?id=1f91UumDMYm0oeVeP9xF-UijP6VrMSdc_&export=download', 'shape_predictor_68.7z', quiet=True)\n",
        "\n",
        "!7z x 'data.7z' -odata\n",
        "!7z x 'shape_predictor_68.7z'"
      ]
    },
    {
      "cell_type": "code",
      "execution_count": null,
      "metadata": {
        "colab": {},
        "colab_type": "code",
        "id": "OBVnWXQEIVLr"
      },
      "outputs": [],
      "source": [
        "import tensorflow as tf"
      ]
    },
    {
      "cell_type": "code",
      "execution_count": null,
      "metadata": {
        "colab": {},
        "colab_type": "code",
        "id": "czmPPYBkIVL6"
      },
      "outputs": [],
      "source": [
        "config = tf.compat.v1.ConfigProto()\n",
        "config.gpu_options.allow_growth = True\n",
        "session = tf.compat.v1.InteractiveSession(config=config)"
      ]
    },
    {
      "cell_type": "code",
      "execution_count": null,
      "metadata": {
        "colab": {
          "base_uri": "https://localhost:8080/",
          "height": 34
        },
        "colab_type": "code",
        "id": "smjBR_mOIVMJ",
        "outputId": "32ee4567-e5c6-4f31-8836-5e931934f8a4"
      },
      "outputs": [],
      "source": [
        "import keras\n",
        "from keras.models import Sequential\n",
        "from keras.applications.vgg16 import VGG16, preprocess_input\n",
        "from keras.applications.mobilenet import MobileNet, preprocess_input\n",
        "from keras.applications.inception_v3 import InceptionV3, preprocess_input\n",
        "from keras.applications.resnet50 import ResNet50, preprocess_input\n",
        "from keras.applications.xception import Xception, preprocess_input\n",
        "from keras.applications.mobilenet_v2 import MobileNetV2, preprocess_input\n",
        "from keras.utils import np_utils\n",
        "from keras.preprocessing import image, sequence\n",
        "from keras.callbacks import ModelCheckpoint\n",
        "\n",
        "\n",
        "# from keras.preprocessing.image import ImageDataGenerator\n",
        "from keras import optimizers\n",
        "from keras.layers import *\n",
        "from keras.regularizers import *\n",
        "from keras.constraints import *"
      ]
    },
    {
      "cell_type": "code",
      "execution_count": null,
      "metadata": {
        "colab": {
          "base_uri": "https://localhost:8080/",
          "height": 221
        },
        "colab_type": "code",
        "id": "doffNfOmIVMX",
        "outputId": "c2a89ba0-5c6c-45fb-b472-776e13e19f27"
      },
      "outputs": [],
      "source": [
        "try:\n",
        "    os.remove('keras_video_datagen.py')\n",
        "    os.remove('keras_video_datagen ')\n",
        "    print('removed')\n",
        "except:\n",
        "    print('file is not there')\n",
        "\n",
        "import math\n",
        "import numpy as np\n",
        "from keras.models import Model\n",
        "!wget https://gist.githubusercontent.com/swish-ds/8ea52a935fab8c0b4ff142a762995902/raw/9ad7291c8938bd876cecbe874f12c22ff06a368b/keras_video_datagen.py\n",
        "from keras_video_datagen import ImageDataGenerator"
      ]
    },
    {
      "cell_type": "code",
      "execution_count": null,
      "metadata": {
        "colab": {
          "base_uri": "https://localhost:8080/",
          "height": 51
        },
        "colab_type": "code",
        "id": "BiuhhtRpIVMk",
        "outputId": "27ab53f2-230c-437c-a978-08ecf9ba3e47"
      },
      "outputs": [],
      "source": [
        "# datagen = ImageDataGenerator(horizontal_flip=True,\n",
        "#                              vertical_flip=True, \n",
        "#                              height_shift_range=0.1, \n",
        "#                              width_shift_range=0.1, \n",
        "#                              zoom_range=0.1)\n",
        "\n",
        "datagen = ImageDataGenerator()\n",
        "\n",
        "train_data = datagen.flow_from_directory('data/train', \n",
        "                                         target_size=(70, 140), \n",
        "                                         batch_size=5, \n",
        "                                         frames_per_step=10, \n",
        "                                         shuffle=False, \n",
        "                                         color_mode='rgb')\n",
        "\n",
        "val_data = datagen.flow_from_directory('data/validation', \n",
        "                                       target_size=(70, 140), \n",
        "                                       batch_size=5, \n",
        "                                       frames_per_step=10, \n",
        "                                       shuffle=False, \n",
        "                                       color_mode='rgb')"
      ]
    },
    {
      "cell_type": "code",
      "execution_count": null,
      "metadata": {
        "colab": {
          "base_uri": "https://localhost:8080/",
          "height": 34
        },
        "colab_type": "code",
        "id": "KnTaXhlTIVM1",
        "outputId": "887c9a73-5afc-4280-a421-081743c47dc9"
      },
      "outputs": [],
      "source": [
        "import matplotlib.pyplot as plt\n",
        "from PIL import Image\n",
        "\n",
        "def show_img(img, figsize=(1, 1)):\n",
        "    fig, ax = plt.subplots(figsize=figsize)\n",
        "    ax.grid(False)\n",
        "    ax.set_yticklabels([])\n",
        "    ax.set_xticklabels([])\n",
        "    ax.imshow(img)\n",
        "    plt.imshow(img)\n",
        "\n",
        "plt.gray()"
      ]
    },
    {
      "cell_type": "code",
      "execution_count": null,
      "metadata": {
        "colab": {},
        "colab_type": "code",
        "id": "zHVyfBm0Rx4G"
      },
      "outputs": [],
      "source": [
        "x, y = train_data.next()\n",
        "\n",
        "for img in x[0]:\n",
        "    # show_img(np.squeeze(img))\n",
        "    img = Image.fromarray(img, 'RGB')\n",
        "    img.show()"
      ]
    },
    {
      "cell_type": "code",
      "execution_count": null,
      "metadata": {
        "colab": {
          "base_uri": "https://localhost:8080/",
          "height": 51
        },
        "colab_type": "code",
        "id": "CAJGdMz3IVND",
        "outputId": "9ec7d6f9-1cf5-44ba-dcad-f577d0aae5d3"
      },
      "outputs": [],
      "source": [
        "print(math.ceil(6920/(5*10)))\n",
        "print(math.ceil((1510/(5*10))))"
      ]
    },
    {
      "cell_type": "markdown",
      "execution_count": null,
      "metadata": {
        "colab_type": "text",
        "id": "yNdmLVBLnO18"
      },
      "outputs": [],
      "source": [
        "## MobileNetV2 + LSTM"
      ]
    },
    {
      "cell_type": "code",
      "execution_count": null,
      "metadata": {
        "colab": {},
        "colab_type": "code",
        "id": "3GAdOKIiIVNY"
      },
      "outputs": [],
      "source": [
        "# video = keras.layers.Input(shape=(13, 70, 140, 3))\n",
        "\n",
        "# cnn_base = keras.applications.MobileNetV2(input_shape=(70, 140, 3), include_top=False)\n",
        "# cnn_out = keras.layers.GlobalAveragePooling2D()(cnn_base.output)\n",
        "\n",
        "# cnn = Model(input=cnn_base.input, output=cnn_out)\n",
        "# encoded_frames = keras.layers.TimeDistributed(cnn)(video)\n",
        "\n",
        "# encoded_sequence = keras.layers.LSTM(26)(encoded_frames)\n",
        "# outputs = keras.layers.Bidirectional(Dense(10, activation=\"softmax\"))(encoded_sequence)\n",
        "\n",
        "# mn_lstm = Model([video], outputs)"
      ]
    },
    {
      "cell_type": "code",
      "execution_count": null,
      "metadata": {
        "colab": {},
        "colab_type": "code",
        "id": "BKo7m_uwIVNo"
      },
      "outputs": [],
      "source": [
        "# adam2 = keras.optimizers.Adam(lr=0.0001)\n",
        "# save_weights = keras.callbacks.ModelCheckpoint('mn_lstm.hdf5', save_best_only=True, monitor='val_accuracy', mode='max')\n",
        "# mn_lstm.compile(loss='categorical_crossentropy',optimizer=adam2,metrics=['accuracy'])\n",
        "# mn_lstm.summary()"
      ]
    },
    {
      "cell_type": "code",
      "execution_count": null,
      "metadata": {
        "colab": {},
        "colab_type": "code",
        "id": "odJl8B7yIVN1"
      },
      "outputs": [],
      "source": [
        "# history = mn_lstm.fit_generator(train_data, epochs=50, steps_per_epoch=4172, \n",
        "#                               validation_data=val_data, validation_steps=127, shuffle=True)"
      ]
    },
    {
      "cell_type": "markdown",
      "execution_count": null,
      "metadata": {
        "colab_type": "text",
        "id": "QHDvWIR8Duok"
      },
      "outputs": [],
      "source": [
        "## LipNet"
      ]
    },
    {
      "cell_type": "code",
      "execution_count": null,
      "metadata": {
        "colab": {},
        "colab_type": "code",
        "id": "Q9KY7oBIIVOH"
      },
      "outputs": [],
      "source": [
        "model_small = keras.models.Sequential()\n",
        "\n",
        "model_small.add(ZeroPadding3D(padding=(1, 2, 2), input_shape=(10, 70, 140, 3)))\n",
        "model_small.add(Conv3D(32, (3, 5, 5), strides=(1, 2, 2), use_bias=False))\n",
        "model_small.add(BatchNormalization(momentum=0.99))\n",
        "model_small.add(Activation('relu'))\n",
        "model_small.add(MaxPooling3D(pool_size=(1, 2, 2), strides=(1, 2, 2)))\n",
        "\n",
        "model_small.add(ZeroPadding3D(padding=(1, 2, 2)))\n",
        "model_small.add(Conv3D(64, (3, 5, 5), strides=(1, 1, 1), use_bias=False))\n",
        "model_small.add(BatchNormalization(momentum=0.99))\n",
        "model_small.add(Activation('relu'))\n",
        "model_small.add(MaxPooling3D(pool_size=(1, 2, 2), strides=(1, 2, 2)))\n",
        "\n",
        "model_small.add(ZeroPadding3D(padding=(1, 1, 1)))\n",
        "model_small.add(Conv3D(96, (3, 3, 3), strides=(1, 2, 2), use_bias=False))\n",
        "model_small.add(BatchNormalization(momentum=0.99))\n",
        "model_small.add(Activation('relu'))\n",
        "model_small.add(MaxPooling3D(pool_size=(1, 2, 2), strides=(1, 2, 2)))\n",
        "\n",
        "model_small.add(TimeDistributed(Flatten()))\n",
        "\n",
        "model_small.add(Bidirectional(GRU(50, activation='tanh')))\n",
        "\n",
        "model_small.add(Dense(10, activation='softmax'))"
      ]
    },
    {
      "cell_type": "code",
      "execution_count": null,
      "metadata": {
        "colab": {},
        "colab_type": "code",
        "id": "qJuP247dIVOW"
      },
      "outputs": [],
      "source": [
        "adam = keras.optimizers.Adam(lr=0.001)\n",
        "sgd = optimizers.SGD(lr=1e-6, momentum=0.99, nesterov=True)\n",
        "save_weights = keras.callbacks.ModelCheckpoint('model_small.hdf5', save_best_only=True, monitor='val_loss', mode='min')\n",
        "model_small.compile(loss='kullback_leibler_divergence', optimizer=sgd, metrics=['accuracy'])\n",
        "# model_small.summary()"
      ]
    },
    {
      "cell_type": "code",
      "execution_count": null,
      "metadata": {
        "colab": {
          "base_uri": "https://localhost:8080/",
          "height": 34
        },
        "colab_type": "code",
        "id": "vhcdxPfdIVOw",
        "outputId": "e8974581-da44-409f-eb80-186dbeeb1f8a"
      },
      "outputs": [],
      "source": [
        "import os\n",
        "try:\n",
        "    os.remove('model_small.hdf5')\n",
        "    print('file removed')\n",
        "except:\n",
        "    print('file is not there')"
      ]
    },
    {
      "cell_type": "code",
      "execution_count": null,
      "metadata": {
        "colab": {
          "base_uri": "https://localhost:8080/",
          "height": 1000
        },
        "colab_type": "code",
        "id": "ImcpPUrDIVPA",
        "outputId": "f1bbd371-85ec-44c1-e2be-0d41e3cfca05"
      },
      "outputs": [],
      "source": [
        "history = model_small.fit_generator(train_data, epochs=100, steps_per_epoch=139, \n",
        "                                    validation_data=val_data, validation_steps=31, callbacks=[save_weights], shuffle=False)"
      ]
    },
    {
      "cell_type": "code",
      "execution_count": null,
      "metadata": {
        "colab": {},
        "colab_type": "code",
        "id": "SnPLmidRoi3B"
      },
      "outputs": [],
      "source": [
        "# from google.colab import files\n",
        "# files.download('model_small.hdf5')"
      ]
    },
    {
      "cell_type": "markdown",
      "execution_count": null,
      "metadata": {
        "colab_type": "text",
        "id": "uumHCDh8QI2B"
      },
      "outputs": [],
      "source": [
        "## Plot results"
      ]
    },
    {
      "cell_type": "code",
      "execution_count": null,
      "metadata": {
        "colab": {
          "base_uri": "https://localhost:8080/",
          "height": 497
        },
        "colab_type": "code",
        "id": "YwjAhHs8QUhh",
        "outputId": "7bfcf956-58e5-444b-9fa0-4bcc18ff06ef"
      },
      "outputs": [],
      "source": [
        "import matplotlib.pyplot as plt\n",
        "import seaborn as sn\n",
        "import pandas as pd\n",
        "import matplotlib.pyplot as plt\n",
        "from sklearn.metrics import classification_report, confusion_matrix, plot_confusion_matrix\n",
        "\n",
        "fig, (ax1, ax2) = plt.subplots(1, 2, figsize=(18,7))\n",
        "\n",
        "fig.set_facecolor(\"black\")\n",
        "fig.suptitle((\n",
        "    'SGD(lr=1e-6, momentum=0.99, nesterov=True)\\n\\\n",
        "    loss: 0.4203 - acc: 0.9942 - val_loss: 2.2343 - val_acc: 0.1987'), fontsize=16, color='white', backgroundcolor='black')\n",
        "\n",
        "ax1.plot(history.history['acc'])\n",
        "ax1.plot(history.history['val_acc'])\n",
        "ax1.set_xticks(np.arange(0, len(history.history['acc']) + 10, 10))\n",
        "ax1.set_yticks(np.arange(0, 1.1, 0.1))\n",
        "ax1.tick_params(axis='both', colors='white')\n",
        "\n",
        "ax1.set_ylabel('Acuracy')\n",
        "ax1.set_xlabel('Epochs')\n",
        "ax1.yaxis.label.set_color('white')\n",
        "ax1.yaxis.label.set_fontsize(14)\n",
        "ax1.xaxis.label.set_color('white')\n",
        "ax1.xaxis.label.set_fontsize(14)\n",
        "\n",
        "ax1.grid(axis = 'both')\n",
        "ax1.legend(['train', 'test'], loc='upper left')\n",
        "\n",
        "ax2.plot(history.history['loss'])\n",
        "ax2.plot(history.history['val_loss'])\n",
        "ax2.set_xticks(np.arange(0, len(history.history['loss']) + 10, 10))\n",
        "ax2.set_yticks(np.arange(0, max(history.history['loss']) + 0.5, 0.3))\n",
        "ax2.tick_params(axis='both', colors='white')\n",
        "\n",
        "ax2.set_ylabel('Loss')\n",
        "ax2.set_xlabel('Epochs')\n",
        "ax2.yaxis.label.set_color('white')\n",
        "ax2.yaxis.label.set_fontsize(14)\n",
        "ax2.xaxis.label.set_color('white')\n",
        "ax2.xaxis.label.set_fontsize(14)\n",
        "\n",
        "ax2.grid(axis = 'both')\n",
        "ax2.legend(['train', 'test'], loc='upper left')\n",
        "\n",
        "fig.show()"
      ]
    },
    {
      "cell_type": "code",
      "execution_count": null,
      "metadata": {
        "colab": {
          "base_uri": "https://localhost:8080/",
          "height": 34
        },
        "colab_type": "code",
        "id": "RHERcshmgbj-",
        "outputId": "74165e86-5d56-4d27-feb5-83defc85ecc9"
      },
      "outputs": [],
      "source": [
        "val_data2 = datagen.flow_from_directory('data/validation', \n",
        "                                       target_size=(70, 140), \n",
        "                                       batch_size=1, \n",
        "                                       frames_per_step=10, \n",
        "                                       shuffle=False, \n",
        "                                       color_mode='rgb')\n",
        "\n",
        "val_classes = []\n",
        "\n",
        "for i in list(range(0, int(len(val_data2.classes)), 10)):\n",
        "    val_classes.append(int(np.mean(np.array(val_data2.classes[i:i+10]))))"
      ]
    },
    {
      "cell_type": "code",
      "execution_count": null,
      "metadata": {
        "colab": {},
        "colab_type": "code",
        "id": "a4dNvGkukv-8"
      },
      "outputs": [],
      "source": [
        "Y_pred = model_small.predict_generator(val_data2, 151)\n",
        "y_pred = np.rint(np.argmax(Y_pred, axis=1))"
      ]
    },
    {
      "cell_type": "code",
      "execution_count": null,
      "metadata": {
        "colab": {
          "base_uri": "https://localhost:8080/",
          "height": 587
        },
        "colab_type": "code",
        "id": "5d5SfT3Z89q2",
        "outputId": "209bbc71-ad2d-4f69-ac8e-52f1ab3f756a"
      },
      "outputs": [],
      "source": [
        "target_names = 'Begin, Choose, Connection, Navigation, Next, Previous, Start, Stop, Hello, Web'\n",
        "target_names = target_names.split(', ')\n",
        "\n",
        "fig, ax1 = plt.subplots(1, 1, figsize=(10, 8))\n",
        "\n",
        "array = confusion_matrix(val_classes, y_pred)\n",
        "\n",
        "df_cm = pd.DataFrame(array, index = [i for i in target_names],\n",
        "                  columns = [i for i in target_names])\n",
        "\n",
        "ax1 = sn.heatmap(df_cm, annot=True)\n",
        "fig.set_facecolor(\"#F6F6F6\")\n",
        "fig.suptitle((\n",
        "    'SGD(lr=1e-6, momentum=0.99, nesterov=True)\\n\\\n",
        "    loss: 0.4203 - acc: 0.9942 - val_loss: 2.2343 - val_acc: 0.1987'), fontsize=16, color='Black')\n",
        "fig.show()"
      ]
    },
    {
      "cell_type": "code",
      "execution_count": null,
      "metadata": {
        "colab": {
          "base_uri": "https://localhost:8080/",
          "height": 360
        },
        "colab_type": "code",
        "id": "Aczn_J5lrehh",
        "outputId": "e1a652d9-718e-4388-c930-9ae962f06a37"
      },
      "outputs": [],
      "source": [
        "print(classification_report(val_classes, y_pred, target_names=target_names))"
      ]
    },
    {
      "cell_type": "code",
      "execution_count": null,
      "metadata": {
        "colab": {},
        "colab_type": "code",
        "id": "WRpnLS_y1uEr"
      },
      "outputs": [],
      "source": [
        ""
      ]
    }
  ]
}